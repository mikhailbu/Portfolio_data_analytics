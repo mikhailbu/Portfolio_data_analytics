{
 "cells": [
  {
   "cell_type": "markdown",
   "id": "fe80d256",
   "metadata": {
    "deletable": false,
    "editable": false,
    "id": "c81daeeb"
   },
   "source": [
    "# Исследование надежности заемщиков\n"
   ]
  },
  {
   "cell_type": "markdown",
   "id": "71db3c57",
   "metadata": {
    "deletable": false,
    "editable": false,
    "id": "827c20bf"
   },
   "source": [
    "Во второй части проекта вы выполните шаги 3 и 4. Их вручную проверит ревьюер.\n",
    "Чтобы вам не пришлось писать код заново для шагов 1 и 2, мы добавили авторские решения в ячейки с кодом. \n",
    "\n"
   ]
  },
  {
   "cell_type": "markdown",
   "id": "1a2f2cf1",
   "metadata": {
    "deletable": false,
    "editable": false,
    "id": "744d7639"
   },
   "source": [
    "## Откройте таблицу и изучите общую информацию о данных"
   ]
  },
  {
   "cell_type": "markdown",
   "id": "eb38927b",
   "metadata": {
    "deletable": false,
    "editable": false,
    "id": "e7a14c31"
   },
   "source": [
    "**Задание 1. Импортируйте библиотеку pandas. Считайте данные из csv-файла в датафрейм и сохраните в переменную `data`. Путь к файлу:**\n",
    "\n",
    "`/datasets/data.csv`"
   ]
  },
  {
   "cell_type": "code",
   "execution_count": 75,
   "id": "640e5cde",
   "metadata": {
    "deletable": false,
    "id": "7bcf75c9"
   },
   "outputs": [],
   "source": [
    "import pandas as pd\n",
    "\n",
    "try:\n",
    "    data = pd.read_csv('/datasets/data.csv')\n",
    "except:\n",
    "    data = pd.read_csv('https://code.s3.yandex.net/datasets/data.csv')"
   ]
  },
  {
   "cell_type": "markdown",
   "id": "34932daf",
   "metadata": {
    "deletable": false,
    "editable": false,
    "id": "b8038fe3"
   },
   "source": [
    "**Задание 2. Выведите первые 20 строчек датафрейма `data` на экран.**"
   ]
  },
  {
   "cell_type": "code",
   "execution_count": 76,
   "id": "7655471c",
   "metadata": {
    "deletable": false,
    "id": "2a7cab99",
    "outputId": "1a8f3ef2-d323-4ec2-ddf7-89670b5944c4"
   },
   "outputs": [
    {
     "data": {
      "text/html": [
       "<div>\n",
       "<style scoped>\n",
       "    .dataframe tbody tr th:only-of-type {\n",
       "        vertical-align: middle;\n",
       "    }\n",
       "\n",
       "    .dataframe tbody tr th {\n",
       "        vertical-align: top;\n",
       "    }\n",
       "\n",
       "    .dataframe thead th {\n",
       "        text-align: right;\n",
       "    }\n",
       "</style>\n",
       "<table border=\"1\" class=\"dataframe\">\n",
       "  <thead>\n",
       "    <tr style=\"text-align: right;\">\n",
       "      <th></th>\n",
       "      <th>children</th>\n",
       "      <th>days_employed</th>\n",
       "      <th>dob_years</th>\n",
       "      <th>education</th>\n",
       "      <th>education_id</th>\n",
       "      <th>family_status</th>\n",
       "      <th>family_status_id</th>\n",
       "      <th>gender</th>\n",
       "      <th>income_type</th>\n",
       "      <th>debt</th>\n",
       "      <th>total_income</th>\n",
       "      <th>purpose</th>\n",
       "    </tr>\n",
       "  </thead>\n",
       "  <tbody>\n",
       "    <tr>\n",
       "      <th>0</th>\n",
       "      <td>1</td>\n",
       "      <td>-8437.673028</td>\n",
       "      <td>42</td>\n",
       "      <td>высшее</td>\n",
       "      <td>0</td>\n",
       "      <td>женат / замужем</td>\n",
       "      <td>0</td>\n",
       "      <td>F</td>\n",
       "      <td>сотрудник</td>\n",
       "      <td>0</td>\n",
       "      <td>253875.639453</td>\n",
       "      <td>покупка жилья</td>\n",
       "    </tr>\n",
       "    <tr>\n",
       "      <th>1</th>\n",
       "      <td>1</td>\n",
       "      <td>-4024.803754</td>\n",
       "      <td>36</td>\n",
       "      <td>среднее</td>\n",
       "      <td>1</td>\n",
       "      <td>женат / замужем</td>\n",
       "      <td>0</td>\n",
       "      <td>F</td>\n",
       "      <td>сотрудник</td>\n",
       "      <td>0</td>\n",
       "      <td>112080.014102</td>\n",
       "      <td>приобретение автомобиля</td>\n",
       "    </tr>\n",
       "    <tr>\n",
       "      <th>2</th>\n",
       "      <td>0</td>\n",
       "      <td>-5623.422610</td>\n",
       "      <td>33</td>\n",
       "      <td>Среднее</td>\n",
       "      <td>1</td>\n",
       "      <td>женат / замужем</td>\n",
       "      <td>0</td>\n",
       "      <td>M</td>\n",
       "      <td>сотрудник</td>\n",
       "      <td>0</td>\n",
       "      <td>145885.952297</td>\n",
       "      <td>покупка жилья</td>\n",
       "    </tr>\n",
       "    <tr>\n",
       "      <th>3</th>\n",
       "      <td>3</td>\n",
       "      <td>-4124.747207</td>\n",
       "      <td>32</td>\n",
       "      <td>среднее</td>\n",
       "      <td>1</td>\n",
       "      <td>женат / замужем</td>\n",
       "      <td>0</td>\n",
       "      <td>M</td>\n",
       "      <td>сотрудник</td>\n",
       "      <td>0</td>\n",
       "      <td>267628.550329</td>\n",
       "      <td>дополнительное образование</td>\n",
       "    </tr>\n",
       "    <tr>\n",
       "      <th>4</th>\n",
       "      <td>0</td>\n",
       "      <td>340266.072047</td>\n",
       "      <td>53</td>\n",
       "      <td>среднее</td>\n",
       "      <td>1</td>\n",
       "      <td>гражданский брак</td>\n",
       "      <td>1</td>\n",
       "      <td>F</td>\n",
       "      <td>пенсионер</td>\n",
       "      <td>0</td>\n",
       "      <td>158616.077870</td>\n",
       "      <td>сыграть свадьбу</td>\n",
       "    </tr>\n",
       "    <tr>\n",
       "      <th>5</th>\n",
       "      <td>0</td>\n",
       "      <td>-926.185831</td>\n",
       "      <td>27</td>\n",
       "      <td>высшее</td>\n",
       "      <td>0</td>\n",
       "      <td>гражданский брак</td>\n",
       "      <td>1</td>\n",
       "      <td>M</td>\n",
       "      <td>компаньон</td>\n",
       "      <td>0</td>\n",
       "      <td>255763.565419</td>\n",
       "      <td>покупка жилья</td>\n",
       "    </tr>\n",
       "    <tr>\n",
       "      <th>6</th>\n",
       "      <td>0</td>\n",
       "      <td>-2879.202052</td>\n",
       "      <td>43</td>\n",
       "      <td>высшее</td>\n",
       "      <td>0</td>\n",
       "      <td>женат / замужем</td>\n",
       "      <td>0</td>\n",
       "      <td>F</td>\n",
       "      <td>компаньон</td>\n",
       "      <td>0</td>\n",
       "      <td>240525.971920</td>\n",
       "      <td>операции с жильем</td>\n",
       "    </tr>\n",
       "    <tr>\n",
       "      <th>7</th>\n",
       "      <td>0</td>\n",
       "      <td>-152.779569</td>\n",
       "      <td>50</td>\n",
       "      <td>СРЕДНЕЕ</td>\n",
       "      <td>1</td>\n",
       "      <td>женат / замужем</td>\n",
       "      <td>0</td>\n",
       "      <td>M</td>\n",
       "      <td>сотрудник</td>\n",
       "      <td>0</td>\n",
       "      <td>135823.934197</td>\n",
       "      <td>образование</td>\n",
       "    </tr>\n",
       "    <tr>\n",
       "      <th>8</th>\n",
       "      <td>2</td>\n",
       "      <td>-6929.865299</td>\n",
       "      <td>35</td>\n",
       "      <td>ВЫСШЕЕ</td>\n",
       "      <td>0</td>\n",
       "      <td>гражданский брак</td>\n",
       "      <td>1</td>\n",
       "      <td>F</td>\n",
       "      <td>сотрудник</td>\n",
       "      <td>0</td>\n",
       "      <td>95856.832424</td>\n",
       "      <td>на проведение свадьбы</td>\n",
       "    </tr>\n",
       "    <tr>\n",
       "      <th>9</th>\n",
       "      <td>0</td>\n",
       "      <td>-2188.756445</td>\n",
       "      <td>41</td>\n",
       "      <td>среднее</td>\n",
       "      <td>1</td>\n",
       "      <td>женат / замужем</td>\n",
       "      <td>0</td>\n",
       "      <td>M</td>\n",
       "      <td>сотрудник</td>\n",
       "      <td>0</td>\n",
       "      <td>144425.938277</td>\n",
       "      <td>покупка жилья для семьи</td>\n",
       "    </tr>\n",
       "    <tr>\n",
       "      <th>10</th>\n",
       "      <td>2</td>\n",
       "      <td>-4171.483647</td>\n",
       "      <td>36</td>\n",
       "      <td>высшее</td>\n",
       "      <td>0</td>\n",
       "      <td>женат / замужем</td>\n",
       "      <td>0</td>\n",
       "      <td>M</td>\n",
       "      <td>компаньон</td>\n",
       "      <td>0</td>\n",
       "      <td>113943.491460</td>\n",
       "      <td>покупка недвижимости</td>\n",
       "    </tr>\n",
       "    <tr>\n",
       "      <th>11</th>\n",
       "      <td>0</td>\n",
       "      <td>-792.701887</td>\n",
       "      <td>40</td>\n",
       "      <td>среднее</td>\n",
       "      <td>1</td>\n",
       "      <td>женат / замужем</td>\n",
       "      <td>0</td>\n",
       "      <td>F</td>\n",
       "      <td>сотрудник</td>\n",
       "      <td>0</td>\n",
       "      <td>77069.234271</td>\n",
       "      <td>покупка коммерческой недвижимости</td>\n",
       "    </tr>\n",
       "    <tr>\n",
       "      <th>12</th>\n",
       "      <td>0</td>\n",
       "      <td>NaN</td>\n",
       "      <td>65</td>\n",
       "      <td>среднее</td>\n",
       "      <td>1</td>\n",
       "      <td>гражданский брак</td>\n",
       "      <td>1</td>\n",
       "      <td>M</td>\n",
       "      <td>пенсионер</td>\n",
       "      <td>0</td>\n",
       "      <td>NaN</td>\n",
       "      <td>сыграть свадьбу</td>\n",
       "    </tr>\n",
       "    <tr>\n",
       "      <th>13</th>\n",
       "      <td>0</td>\n",
       "      <td>-1846.641941</td>\n",
       "      <td>54</td>\n",
       "      <td>неоконченное высшее</td>\n",
       "      <td>2</td>\n",
       "      <td>женат / замужем</td>\n",
       "      <td>0</td>\n",
       "      <td>F</td>\n",
       "      <td>сотрудник</td>\n",
       "      <td>0</td>\n",
       "      <td>130458.228857</td>\n",
       "      <td>приобретение автомобиля</td>\n",
       "    </tr>\n",
       "    <tr>\n",
       "      <th>14</th>\n",
       "      <td>0</td>\n",
       "      <td>-1844.956182</td>\n",
       "      <td>56</td>\n",
       "      <td>высшее</td>\n",
       "      <td>0</td>\n",
       "      <td>гражданский брак</td>\n",
       "      <td>1</td>\n",
       "      <td>F</td>\n",
       "      <td>компаньон</td>\n",
       "      <td>1</td>\n",
       "      <td>165127.911772</td>\n",
       "      <td>покупка жилой недвижимости</td>\n",
       "    </tr>\n",
       "    <tr>\n",
       "      <th>15</th>\n",
       "      <td>1</td>\n",
       "      <td>-972.364419</td>\n",
       "      <td>26</td>\n",
       "      <td>среднее</td>\n",
       "      <td>1</td>\n",
       "      <td>женат / замужем</td>\n",
       "      <td>0</td>\n",
       "      <td>F</td>\n",
       "      <td>сотрудник</td>\n",
       "      <td>0</td>\n",
       "      <td>116820.904450</td>\n",
       "      <td>строительство собственной недвижимости</td>\n",
       "    </tr>\n",
       "    <tr>\n",
       "      <th>16</th>\n",
       "      <td>0</td>\n",
       "      <td>-1719.934226</td>\n",
       "      <td>35</td>\n",
       "      <td>среднее</td>\n",
       "      <td>1</td>\n",
       "      <td>женат / замужем</td>\n",
       "      <td>0</td>\n",
       "      <td>F</td>\n",
       "      <td>сотрудник</td>\n",
       "      <td>0</td>\n",
       "      <td>289202.704229</td>\n",
       "      <td>недвижимость</td>\n",
       "    </tr>\n",
       "    <tr>\n",
       "      <th>17</th>\n",
       "      <td>0</td>\n",
       "      <td>-2369.999720</td>\n",
       "      <td>33</td>\n",
       "      <td>высшее</td>\n",
       "      <td>0</td>\n",
       "      <td>гражданский брак</td>\n",
       "      <td>1</td>\n",
       "      <td>M</td>\n",
       "      <td>сотрудник</td>\n",
       "      <td>0</td>\n",
       "      <td>90410.586745</td>\n",
       "      <td>строительство недвижимости</td>\n",
       "    </tr>\n",
       "    <tr>\n",
       "      <th>18</th>\n",
       "      <td>0</td>\n",
       "      <td>400281.136913</td>\n",
       "      <td>53</td>\n",
       "      <td>среднее</td>\n",
       "      <td>1</td>\n",
       "      <td>вдовец / вдова</td>\n",
       "      <td>2</td>\n",
       "      <td>F</td>\n",
       "      <td>пенсионер</td>\n",
       "      <td>0</td>\n",
       "      <td>56823.777243</td>\n",
       "      <td>на покупку подержанного автомобиля</td>\n",
       "    </tr>\n",
       "    <tr>\n",
       "      <th>19</th>\n",
       "      <td>0</td>\n",
       "      <td>-10038.818549</td>\n",
       "      <td>48</td>\n",
       "      <td>СРЕДНЕЕ</td>\n",
       "      <td>1</td>\n",
       "      <td>в разводе</td>\n",
       "      <td>3</td>\n",
       "      <td>F</td>\n",
       "      <td>сотрудник</td>\n",
       "      <td>0</td>\n",
       "      <td>242831.107982</td>\n",
       "      <td>на покупку своего автомобиля</td>\n",
       "    </tr>\n",
       "  </tbody>\n",
       "</table>\n",
       "</div>"
      ],
      "text/plain": [
       "    children  days_employed  dob_years            education  education_id  \\\n",
       "0          1   -8437.673028         42               высшее             0   \n",
       "1          1   -4024.803754         36              среднее             1   \n",
       "2          0   -5623.422610         33              Среднее             1   \n",
       "3          3   -4124.747207         32              среднее             1   \n",
       "4          0  340266.072047         53              среднее             1   \n",
       "5          0    -926.185831         27               высшее             0   \n",
       "6          0   -2879.202052         43               высшее             0   \n",
       "7          0    -152.779569         50              СРЕДНЕЕ             1   \n",
       "8          2   -6929.865299         35               ВЫСШЕЕ             0   \n",
       "9          0   -2188.756445         41              среднее             1   \n",
       "10         2   -4171.483647         36               высшее             0   \n",
       "11         0    -792.701887         40              среднее             1   \n",
       "12         0            NaN         65              среднее             1   \n",
       "13         0   -1846.641941         54  неоконченное высшее             2   \n",
       "14         0   -1844.956182         56               высшее             0   \n",
       "15         1    -972.364419         26              среднее             1   \n",
       "16         0   -1719.934226         35              среднее             1   \n",
       "17         0   -2369.999720         33               высшее             0   \n",
       "18         0  400281.136913         53              среднее             1   \n",
       "19         0  -10038.818549         48              СРЕДНЕЕ             1   \n",
       "\n",
       "       family_status  family_status_id gender income_type  debt  \\\n",
       "0    женат / замужем                 0      F   сотрудник     0   \n",
       "1    женат / замужем                 0      F   сотрудник     0   \n",
       "2    женат / замужем                 0      M   сотрудник     0   \n",
       "3    женат / замужем                 0      M   сотрудник     0   \n",
       "4   гражданский брак                 1      F   пенсионер     0   \n",
       "5   гражданский брак                 1      M   компаньон     0   \n",
       "6    женат / замужем                 0      F   компаньон     0   \n",
       "7    женат / замужем                 0      M   сотрудник     0   \n",
       "8   гражданский брак                 1      F   сотрудник     0   \n",
       "9    женат / замужем                 0      M   сотрудник     0   \n",
       "10   женат / замужем                 0      M   компаньон     0   \n",
       "11   женат / замужем                 0      F   сотрудник     0   \n",
       "12  гражданский брак                 1      M   пенсионер     0   \n",
       "13   женат / замужем                 0      F   сотрудник     0   \n",
       "14  гражданский брак                 1      F   компаньон     1   \n",
       "15   женат / замужем                 0      F   сотрудник     0   \n",
       "16   женат / замужем                 0      F   сотрудник     0   \n",
       "17  гражданский брак                 1      M   сотрудник     0   \n",
       "18    вдовец / вдова                 2      F   пенсионер     0   \n",
       "19         в разводе                 3      F   сотрудник     0   \n",
       "\n",
       "     total_income                                 purpose  \n",
       "0   253875.639453                           покупка жилья  \n",
       "1   112080.014102                 приобретение автомобиля  \n",
       "2   145885.952297                           покупка жилья  \n",
       "3   267628.550329              дополнительное образование  \n",
       "4   158616.077870                         сыграть свадьбу  \n",
       "5   255763.565419                           покупка жилья  \n",
       "6   240525.971920                       операции с жильем  \n",
       "7   135823.934197                             образование  \n",
       "8    95856.832424                   на проведение свадьбы  \n",
       "9   144425.938277                 покупка жилья для семьи  \n",
       "10  113943.491460                    покупка недвижимости  \n",
       "11   77069.234271       покупка коммерческой недвижимости  \n",
       "12            NaN                         сыграть свадьбу  \n",
       "13  130458.228857                 приобретение автомобиля  \n",
       "14  165127.911772              покупка жилой недвижимости  \n",
       "15  116820.904450  строительство собственной недвижимости  \n",
       "16  289202.704229                            недвижимость  \n",
       "17   90410.586745              строительство недвижимости  \n",
       "18   56823.777243      на покупку подержанного автомобиля  \n",
       "19  242831.107982            на покупку своего автомобиля  "
      ]
     },
     "execution_count": 76,
     "metadata": {},
     "output_type": "execute_result"
    }
   ],
   "source": [
    "data.head(20)"
   ]
  },
  {
   "cell_type": "markdown",
   "id": "f3ae1b8d",
   "metadata": {
    "deletable": false,
    "editable": false,
    "id": "1c12e233"
   },
   "source": [
    "**Задание 3. Выведите основную информацию о датафрейме с помощью метода `info()`.**"
   ]
  },
  {
   "cell_type": "code",
   "execution_count": 77,
   "id": "384f9212",
   "metadata": {
    "deletable": false,
    "id": "2b757bca",
    "outputId": "15376089-8dad-46c9-b520-c05248d43158"
   },
   "outputs": [
    {
     "name": "stdout",
     "output_type": "stream",
     "text": [
      "<class 'pandas.core.frame.DataFrame'>\n",
      "RangeIndex: 21525 entries, 0 to 21524\n",
      "Data columns (total 12 columns):\n",
      " #   Column            Non-Null Count  Dtype  \n",
      "---  ------            --------------  -----  \n",
      " 0   children          21525 non-null  int64  \n",
      " 1   days_employed     19351 non-null  float64\n",
      " 2   dob_years         21525 non-null  int64  \n",
      " 3   education         21525 non-null  object \n",
      " 4   education_id      21525 non-null  int64  \n",
      " 5   family_status     21525 non-null  object \n",
      " 6   family_status_id  21525 non-null  int64  \n",
      " 7   gender            21525 non-null  object \n",
      " 8   income_type       21525 non-null  object \n",
      " 9   debt              21525 non-null  int64  \n",
      " 10  total_income      19351 non-null  float64\n",
      " 11  purpose           21525 non-null  object \n",
      "dtypes: float64(2), int64(5), object(5)\n",
      "memory usage: 2.0+ MB\n"
     ]
    }
   ],
   "source": [
    "data.info()"
   ]
  },
  {
   "cell_type": "markdown",
   "id": "47bf3de6",
   "metadata": {
    "deletable": false,
    "editable": false,
    "id": "333ec665"
   },
   "source": [
    "## Предобработка данных"
   ]
  },
  {
   "cell_type": "markdown",
   "id": "5ea2952d",
   "metadata": {
    "deletable": false,
    "editable": false,
    "id": "02d92d53"
   },
   "source": [
    "### Удаление пропусков"
   ]
  },
  {
   "cell_type": "markdown",
   "id": "ec1ce4e4",
   "metadata": {
    "deletable": false,
    "editable": false,
    "id": "cd84967c"
   },
   "source": [
    "**Задание 4. Выведите количество пропущенных значений для каждого столбца. Используйте комбинацию двух методов.**"
   ]
  },
  {
   "cell_type": "code",
   "execution_count": 78,
   "id": "09c55fb1",
   "metadata": {
    "deletable": false,
    "id": "7f9b2309",
    "outputId": "81f4d817-781c-465c-ed15-91ce4446810d"
   },
   "outputs": [
    {
     "data": {
      "text/plain": [
       "children               0\n",
       "days_employed       2174\n",
       "dob_years              0\n",
       "education              0\n",
       "education_id           0\n",
       "family_status          0\n",
       "family_status_id       0\n",
       "gender                 0\n",
       "income_type            0\n",
       "debt                   0\n",
       "total_income        2174\n",
       "purpose                0\n",
       "dtype: int64"
      ]
     },
     "execution_count": 78,
     "metadata": {},
     "output_type": "execute_result"
    }
   ],
   "source": [
    "data.isna().sum()"
   ]
  },
  {
   "cell_type": "markdown",
   "id": "14e4cf18",
   "metadata": {
    "deletable": false,
    "editable": false,
    "id": "db86e27b"
   },
   "source": [
    "**Задание 5. В двух столбцах есть пропущенные значения. Один из них — `days_employed`. Пропуски в этом столбце вы обработаете на следующем этапе. Другой столбец с пропущенными значениями — `total_income` — хранит данные о доходах. На сумму дохода сильнее всего влияет тип занятости, поэтому заполнить пропуски в этом столбце нужно медианным значением по каждому типу из столбца `income_type`. Например, у человека с типом занятости `сотрудник` пропуск в столбце `total_income` должен быть заполнен медианным доходом среди всех записей с тем же типом.**"
   ]
  },
  {
   "cell_type": "code",
   "execution_count": 79,
   "id": "3989e018",
   "metadata": {
    "deletable": false,
    "id": "42006a93"
   },
   "outputs": [],
   "source": [
    "for t in data['income_type'].unique():\n",
    "    data.loc[(data['income_type'] == t) & (data['total_income'].isna()), 'total_income'] = \\\n",
    "    data.loc[(data['income_type'] == t), 'total_income'].median()"
   ]
  },
  {
   "cell_type": "markdown",
   "id": "9fd81ea5",
   "metadata": {
    "deletable": false,
    "editable": false,
    "id": "89da5ece"
   },
   "source": [
    "### Обработка аномальных значений"
   ]
  },
  {
   "cell_type": "markdown",
   "id": "c9320878",
   "metadata": {
    "deletable": false,
    "editable": false,
    "id": "57964554"
   },
   "source": [
    "**Задание 6. В данных могут встречаться артефакты (аномалии) — значения, которые не отражают действительность и появились по какой-то ошибке. таким артефактом будет отрицательное количество дней трудового стажа в столбце `days_employed`. Для реальных данных это нормально. Обработайте значения в этом столбце: замените все отрицательные значения положительными с помощью метода `abs()`.**"
   ]
  },
  {
   "cell_type": "code",
   "execution_count": 80,
   "id": "dfb9db36",
   "metadata": {
    "deletable": false,
    "id": "f6f055bf"
   },
   "outputs": [],
   "source": [
    "data['days_employed'] = data['days_employed'].abs()"
   ]
  },
  {
   "cell_type": "markdown",
   "id": "51b9a9db",
   "metadata": {
    "deletable": false,
    "editable": false,
    "id": "6107dd2f"
   },
   "source": [
    "**Задание 7. Для каждого типа занятости выведите медианное значение трудового стажа `days_employed` в днях.**"
   ]
  },
  {
   "cell_type": "code",
   "execution_count": 81,
   "id": "209da688",
   "metadata": {
    "deletable": false,
    "id": "85a5faf6",
    "outputId": "801ef80e-522b-4668-f34e-565af7432bcf"
   },
   "outputs": [
    {
     "data": {
      "text/plain": [
       "income_type\n",
       "безработный        366413.652744\n",
       "в декрете            3296.759962\n",
       "госслужащий          2689.368353\n",
       "компаньон            1547.382223\n",
       "пенсионер          365213.306266\n",
       "предприниматель       520.848083\n",
       "сотрудник            1574.202821\n",
       "студент               578.751554\n",
       "Name: days_employed, dtype: float64"
      ]
     },
     "execution_count": 81,
     "metadata": {},
     "output_type": "execute_result"
    }
   ],
   "source": [
    "data.groupby('income_type')['days_employed'].agg('median')"
   ]
  },
  {
   "cell_type": "markdown",
   "id": "9703ac1a",
   "metadata": {
    "deletable": false,
    "editable": false,
    "id": "38d1a030"
   },
   "source": [
    "У двух типов (безработные и пенсионеры) получатся аномально большие значения. Исправить такие значения сложно, поэтому оставьте их как есть. Тем более этот столбец не понадобится вам для исследования."
   ]
  },
  {
   "cell_type": "markdown",
   "id": "05d7ecd8",
   "metadata": {
    "deletable": false,
    "editable": false,
    "id": "d8a9f147"
   },
   "source": [
    "**Задание 8. Выведите перечень уникальных значений столбца `children`.**"
   ]
  },
  {
   "cell_type": "code",
   "execution_count": 82,
   "id": "21cf9d82",
   "metadata": {
    "deletable": false,
    "id": "ef5056eb",
    "outputId": "6975b15c-7f95-4697-d16d-a0c79b657b03"
   },
   "outputs": [
    {
     "data": {
      "text/plain": [
       "array([ 1,  0,  3,  2, -1,  4, 20,  5])"
      ]
     },
     "execution_count": 82,
     "metadata": {},
     "output_type": "execute_result"
    }
   ],
   "source": [
    "data['children'].unique()"
   ]
  },
  {
   "cell_type": "markdown",
   "id": "9a345cd3",
   "metadata": {
    "deletable": false,
    "editable": false,
    "id": "40b9ebf2"
   },
   "source": [
    "**Задание 9. В столбце `children` есть два аномальных значения. Удалите строки, в которых встречаются такие аномальные значения из датафрейма `data`.**"
   ]
  },
  {
   "cell_type": "code",
   "execution_count": 83,
   "id": "0895dd70",
   "metadata": {
    "deletable": false,
    "id": "3ff9801d"
   },
   "outputs": [],
   "source": [
    "data = data[(data['children'] != -1) & (data['children'] != 20)]"
   ]
  },
  {
   "cell_type": "markdown",
   "id": "0703c2d6",
   "metadata": {
    "deletable": false,
    "editable": false,
    "id": "bbc4d0ce"
   },
   "source": [
    "**Задание 10. Ещё раз выведите перечень уникальных значений столбца `children`, чтобы убедиться, что артефакты удалены.**"
   ]
  },
  {
   "cell_type": "code",
   "execution_count": 84,
   "id": "a71ccaf7",
   "metadata": {
    "deletable": false,
    "id": "ad4fa8b7",
    "outputId": "b2097101-d49d-44d9-901b-32a65c9463d1"
   },
   "outputs": [
    {
     "data": {
      "text/plain": [
       "array([1, 0, 3, 2, 4, 5])"
      ]
     },
     "execution_count": 84,
     "metadata": {},
     "output_type": "execute_result"
    }
   ],
   "source": [
    "data['children'].unique()"
   ]
  },
  {
   "cell_type": "markdown",
   "id": "95dfce48",
   "metadata": {
    "deletable": false,
    "editable": false,
    "id": "75440b63"
   },
   "source": [
    "### Удаление пропусков (продолжение)"
   ]
  },
  {
   "cell_type": "markdown",
   "id": "dc334516",
   "metadata": {
    "deletable": false,
    "editable": false,
    "id": "f4ea573f"
   },
   "source": [
    "**Задание 11. Заполните пропуски в столбце `days_employed` медианными значениями по каждого типа занятости `income_type`.**"
   ]
  },
  {
   "cell_type": "code",
   "execution_count": 85,
   "id": "d841ec64",
   "metadata": {
    "deletable": false,
    "id": "af6b1a7e"
   },
   "outputs": [],
   "source": [
    "for t in data['income_type'].unique():\n",
    "    data.loc[(data['income_type'] == t) & (data['days_employed'].isna()), 'days_employed'] = \\\n",
    "    data.loc[(data['income_type'] == t), 'days_employed'].median()"
   ]
  },
  {
   "cell_type": "markdown",
   "id": "428fa47f",
   "metadata": {
    "deletable": false,
    "editable": false,
    "id": "2753f40d"
   },
   "source": [
    "**Задание 12. Убедитесь, что все пропуски заполнены. Проверьте себя и ещё раз выведите количество пропущенных значений для каждого столбца с помощью двух методов.**"
   ]
  },
  {
   "cell_type": "code",
   "execution_count": 86,
   "id": "172a7735",
   "metadata": {
    "deletable": false,
    "id": "55f78bc2",
    "outputId": "8da1e4e1-358e-4e87-98c9-f261bce0a7b2"
   },
   "outputs": [
    {
     "data": {
      "text/plain": [
       "children            0\n",
       "days_employed       0\n",
       "dob_years           0\n",
       "education           0\n",
       "education_id        0\n",
       "family_status       0\n",
       "family_status_id    0\n",
       "gender              0\n",
       "income_type         0\n",
       "debt                0\n",
       "total_income        0\n",
       "purpose             0\n",
       "dtype: int64"
      ]
     },
     "execution_count": 86,
     "metadata": {},
     "output_type": "execute_result"
    }
   ],
   "source": [
    "data.isna().sum()"
   ]
  },
  {
   "cell_type": "markdown",
   "id": "d93b0acc",
   "metadata": {
    "deletable": false,
    "editable": false,
    "id": "ddc81e43"
   },
   "source": [
    "### Изменение типов данных"
   ]
  },
  {
   "cell_type": "markdown",
   "id": "039d4c42",
   "metadata": {
    "deletable": false,
    "editable": false,
    "id": "42d19d24"
   },
   "source": [
    "**Задание 13. Замените вещественный тип данных в столбце `total_income` на целочисленный с помощью метода `astype()`.**"
   ]
  },
  {
   "cell_type": "code",
   "execution_count": 87,
   "id": "5c0a809f",
   "metadata": {
    "deletable": false,
    "id": "920b65ad"
   },
   "outputs": [],
   "source": [
    "data['total_income'] = data['total_income'].astype(int)"
   ]
  },
  {
   "cell_type": "markdown",
   "id": "ae6122c5",
   "metadata": {
    "deletable": false,
    "editable": false,
    "id": "80c420ba"
   },
   "source": [
    "### Обработка дубликатов"
   ]
  },
  {
   "cell_type": "markdown",
   "id": "facc3929",
   "metadata": {
    "deletable": false,
    "editable": false
   },
   "source": [
    "**Задание 14. Обработайте неявные дубликаты в столбце `education`. В этом столбце есть одни и те же значения, но записанные по-разному: с использованием заглавных и строчных букв. Приведите их к нижнему регистру. Проверьте остальные столбцы.**"
   ]
  },
  {
   "cell_type": "code",
   "execution_count": 88,
   "id": "987bac6a",
   "metadata": {
    "deletable": false
   },
   "outputs": [],
   "source": [
    "data['education'] = data['education'].str.lower()"
   ]
  },
  {
   "cell_type": "markdown",
   "id": "acae4056",
   "metadata": {
    "deletable": false,
    "editable": false,
    "id": "dc587695"
   },
   "source": [
    "**Задание 15. Выведите на экран количество строк-дубликатов в данных. Если такие строки присутствуют, удалите их.**"
   ]
  },
  {
   "cell_type": "code",
   "execution_count": 89,
   "id": "e520b803",
   "metadata": {
    "deletable": false,
    "id": "3ee445e4",
    "outputId": "9684deba-1934-42d1-99e1-cda61740f822"
   },
   "outputs": [
    {
     "data": {
      "text/plain": [
       "71"
      ]
     },
     "execution_count": 89,
     "metadata": {},
     "output_type": "execute_result"
    }
   ],
   "source": [
    "data.duplicated().sum()"
   ]
  },
  {
   "cell_type": "code",
   "execution_count": 90,
   "id": "e381019b",
   "metadata": {
    "deletable": false,
    "id": "8575fe05"
   },
   "outputs": [],
   "source": [
    "data = data.drop_duplicates()"
   ]
  },
  {
   "cell_type": "markdown",
   "id": "03c916fc",
   "metadata": {
    "deletable": false,
    "editable": false,
    "id": "9904cf55"
   },
   "source": [
    "### Категоризация данных"
   ]
  },
  {
   "cell_type": "markdown",
   "id": "a9ac16d8",
   "metadata": {
    "deletable": false,
    "editable": false,
    "id": "72fcc8a2"
   },
   "source": [
    "**Задание 16. На основании диапазонов, указанных ниже, создайте в датафрейме `data` столбец `total_income_category` с категориями:**\n",
    "\n",
    "- 0–30000 — `'E'`;\n",
    "- 30001–50000 — `'D'`;\n",
    "- 50001–200000 — `'C'`;\n",
    "- 200001–1000000 — `'B'`;\n",
    "- 1000001 и выше — `'A'`.\n",
    "\n",
    "\n",
    "**Например, кредитополучателю с доходом 25000 нужно назначить категорию `'E'`, а клиенту, получающему 235000, — `'B'`. Используйте собственную функцию с именем `categorize_income()` и метод `apply()`.**"
   ]
  },
  {
   "cell_type": "code",
   "execution_count": 91,
   "id": "a3df3e70",
   "metadata": {
    "deletable": false,
    "id": "e1771346"
   },
   "outputs": [],
   "source": [
    "def categorize_income(income):\n",
    "    try:\n",
    "        if 0 <= income <= 30000:\n",
    "            return 'E'\n",
    "        elif 30001 <= income <= 50000:\n",
    "            return 'D'\n",
    "        elif 50001 <= income <= 200000:\n",
    "            return 'C'\n",
    "        elif 200001 <= income <= 1000000:\n",
    "            return 'B'\n",
    "        elif income >= 1000001:\n",
    "            return 'A'\n",
    "    except:\n",
    "        pass"
   ]
  },
  {
   "cell_type": "code",
   "execution_count": 92,
   "id": "49fa2f22",
   "metadata": {
    "deletable": false,
    "id": "d5f3586d"
   },
   "outputs": [],
   "source": [
    "data['total_income_category'] = data['total_income'].apply(categorize_income)"
   ]
  },
  {
   "cell_type": "markdown",
   "id": "a861d362",
   "metadata": {
    "deletable": false,
    "editable": false,
    "id": "dde49b5c"
   },
   "source": [
    "**Задание 17. Выведите на экран перечень уникальных целей взятия кредита из столбца `purpose`.**"
   ]
  },
  {
   "cell_type": "code",
   "execution_count": 93,
   "id": "dac361ee",
   "metadata": {
    "deletable": false,
    "id": "f67ce9b3",
    "outputId": "673c12d9-7d7e-4ae0-9812-c622c89dd244"
   },
   "outputs": [
    {
     "data": {
      "text/plain": [
       "array(['покупка жилья', 'приобретение автомобиля',\n",
       "       'дополнительное образование', 'сыграть свадьбу',\n",
       "       'операции с жильем', 'образование', 'на проведение свадьбы',\n",
       "       'покупка жилья для семьи', 'покупка недвижимости',\n",
       "       'покупка коммерческой недвижимости', 'покупка жилой недвижимости',\n",
       "       'строительство собственной недвижимости', 'недвижимость',\n",
       "       'строительство недвижимости', 'на покупку подержанного автомобиля',\n",
       "       'на покупку своего автомобиля',\n",
       "       'операции с коммерческой недвижимостью',\n",
       "       'строительство жилой недвижимости', 'жилье',\n",
       "       'операции со своей недвижимостью', 'автомобили',\n",
       "       'заняться образованием', 'сделка с подержанным автомобилем',\n",
       "       'получение образования', 'автомобиль', 'свадьба',\n",
       "       'получение дополнительного образования', 'покупка своего жилья',\n",
       "       'операции с недвижимостью', 'получение высшего образования',\n",
       "       'свой автомобиль', 'сделка с автомобилем',\n",
       "       'профильное образование', 'высшее образование',\n",
       "       'покупка жилья для сдачи', 'на покупку автомобиля', 'ремонт жилью',\n",
       "       'заняться высшим образованием'], dtype=object)"
      ]
     },
     "execution_count": 93,
     "metadata": {},
     "output_type": "execute_result"
    }
   ],
   "source": [
    "data['purpose'].unique()"
   ]
  },
  {
   "cell_type": "markdown",
   "id": "db58042f",
   "metadata": {
    "deletable": false,
    "editable": false,
    "id": "85d0aef0"
   },
   "source": [
    "**Задание 18. Создайте функцию, которая на основании данных из столбца `purpose` сформирует новый столбец `purpose_category`, в который войдут следующие категории:**\n",
    "\n",
    "- `'операции с автомобилем'`,\n",
    "- `'операции с недвижимостью'`,\n",
    "- `'проведение свадьбы'`,\n",
    "- `'получение образования'`.\n",
    "\n",
    "**Например, если в столбце `purpose` находится подстрока `'на покупку автомобиля'`, то в столбце `purpose_category` должна появиться строка `'операции с автомобилем'`.**\n",
    "\n",
    "**Используйте собственную функцию с именем `categorize_purpose()` и метод `apply()`. Изучите данные в столбце `purpose` и определите, какие подстроки помогут вам правильно определить категорию.**"
   ]
  },
  {
   "cell_type": "code",
   "execution_count": 94,
   "id": "862b5bd2",
   "metadata": {
    "deletable": false,
    "id": "e149fab4"
   },
   "outputs": [],
   "source": [
    "def categorize_purpose(row):\n",
    "    try:\n",
    "        if 'автом' in row:\n",
    "            return 'операции с автомобилем'\n",
    "        elif 'жил' in row or 'недвиж' in row:\n",
    "            return 'операции с недвижимостью'\n",
    "        elif 'свад' in row:\n",
    "            return 'проведение свадьбы'\n",
    "        elif 'образов' in row:\n",
    "            return 'получение образования'\n",
    "    except:\n",
    "        return 'нет категории'"
   ]
  },
  {
   "cell_type": "code",
   "execution_count": 95,
   "id": "0cc329b5",
   "metadata": {
    "deletable": false,
    "id": "bf36e69b"
   },
   "outputs": [],
   "source": [
    "data['purpose_category'] = data['purpose'].apply(categorize_purpose)"
   ]
  },
  {
   "cell_type": "markdown",
   "id": "91e62e06",
   "metadata": {
    "deletable": false,
    "editable": false,
    "id": "09b242bf"
   },
   "source": [
    "### Шаг 3. Исследуйте данные и ответьте на вопросы"
   ]
  },
  {
   "cell_type": "markdown",
   "id": "03554f2e",
   "metadata": {
    "deletable": false,
    "editable": false,
    "id": "c5d66278"
   },
   "source": [
    "#### 3.1 Есть ли зависимость между количеством детей и возвратом кредита в срок?"
   ]
  },
  {
   "cell_type": "code",
   "execution_count": 96,
   "id": "9bf49762",
   "metadata": {
    "deletable": false,
    "id": "2cacfc4a"
   },
   "outputs": [],
   "source": [
    "children_debt = data.groupby('children').agg({'debt':['count','sum', 'mean']})#группируем данные по столбцу \"дети\" \n",
    "#и добавляем метод agg и указываем, что будем применять функции count() и sum() к столбцу \"задолженность\""
   ]
  },
  {
   "cell_type": "code",
   "execution_count": 97,
   "id": "9c137b4d",
   "metadata": {},
   "outputs": [
    {
     "data": {
      "text/html": [
       "<div>\n",
       "<style scoped>\n",
       "    .dataframe tbody tr th:only-of-type {\n",
       "        vertical-align: middle;\n",
       "    }\n",
       "\n",
       "    .dataframe tbody tr th {\n",
       "        vertical-align: top;\n",
       "    }\n",
       "\n",
       "    .dataframe thead tr th {\n",
       "        text-align: left;\n",
       "    }\n",
       "\n",
       "    .dataframe thead tr:last-of-type th {\n",
       "        text-align: right;\n",
       "    }\n",
       "</style>\n",
       "<table border=\"1\" class=\"dataframe\">\n",
       "  <thead>\n",
       "    <tr>\n",
       "      <th></th>\n",
       "      <th colspan=\"3\" halign=\"left\">debt</th>\n",
       "    </tr>\n",
       "    <tr>\n",
       "      <th></th>\n",
       "      <th>всего заемщиков</th>\n",
       "      <th>кол-во должников</th>\n",
       "      <th>доля должников</th>\n",
       "    </tr>\n",
       "    <tr>\n",
       "      <th>children</th>\n",
       "      <th></th>\n",
       "      <th></th>\n",
       "      <th></th>\n",
       "    </tr>\n",
       "  </thead>\n",
       "  <tbody>\n",
       "    <tr>\n",
       "      <th>0</th>\n",
       "      <td>14091</td>\n",
       "      <td>1063</td>\n",
       "      <td>0.075438</td>\n",
       "    </tr>\n",
       "    <tr>\n",
       "      <th>1</th>\n",
       "      <td>4808</td>\n",
       "      <td>444</td>\n",
       "      <td>0.092346</td>\n",
       "    </tr>\n",
       "    <tr>\n",
       "      <th>2</th>\n",
       "      <td>2052</td>\n",
       "      <td>194</td>\n",
       "      <td>0.094542</td>\n",
       "    </tr>\n",
       "    <tr>\n",
       "      <th>3</th>\n",
       "      <td>330</td>\n",
       "      <td>27</td>\n",
       "      <td>0.081818</td>\n",
       "    </tr>\n",
       "    <tr>\n",
       "      <th>4</th>\n",
       "      <td>41</td>\n",
       "      <td>4</td>\n",
       "      <td>0.097561</td>\n",
       "    </tr>\n",
       "    <tr>\n",
       "      <th>5</th>\n",
       "      <td>9</td>\n",
       "      <td>0</td>\n",
       "      <td>0.000000</td>\n",
       "    </tr>\n",
       "  </tbody>\n",
       "</table>\n",
       "</div>"
      ],
      "text/plain": [
       "                    debt                                \n",
       "         всего заемщиков кол-во должников доля должников\n",
       "children                                                \n",
       "0                  14091             1063       0.075438\n",
       "1                   4808              444       0.092346\n",
       "2                   2052              194       0.094542\n",
       "3                    330               27       0.081818\n",
       "4                     41                4       0.097561\n",
       "5                      9                0       0.000000"
      ]
     },
     "execution_count": 97,
     "metadata": {},
     "output_type": "execute_result"
    }
   ],
   "source": [
    "children_debt.rename(columns={'count':'всего заемщиков', 'sum': 'кол-во должников', 'mean': 'доля должников'})#итого получилась новая таблица,\n",
    "#в которой количество детей, \n",
    "#количество взятых кредитов и количество невернутых в срок кредитов"
   ]
  },
  {
   "cell_type": "markdown",
   "id": "f468f7d5",
   "metadata": {
    "deletable": false,
    "id": "3a6b99ec"
   },
   "source": [
    "**Вывод:** исходя из данных, мы видим, что клиенты банка у которых 5 детей возаращали кредит вовремя. Каждый 9 человек имеющий 1,2,4 детей не вернул кредит в срок. Люди, у которых по 3 ребенка не возвращают кредит немного реже, каждый 8 человек. Также, мы видим, что есть 7% должников среди тех кто не имеет детей. Чаще всего прибегают к использованию кредита люди не имеющие детей (согласно исходной таблице). Отдельно хотелось бы отметить, что клиенты несбалансированны по группам и для более точного анализа, стоит делить на категории клиенты имеющие детей/клиенты не имеющие детей. Таким образом, мы могли бы немного уравновесить количество заемщиков и на основе новых групп сделать более точные рассчеты."
   ]
  },
  {
   "cell_type": "markdown",
   "id": "e29ab5b0",
   "metadata": {
    "deletable": false,
    "editable": false,
    "id": "97be82ca"
   },
   "source": [
    "#### 3.2 Есть ли зависимость между семейным положением и возвратом кредита в срок?"
   ]
  },
  {
   "cell_type": "code",
   "execution_count": 98,
   "id": "c5c697ed",
   "metadata": {
    "deletable": false,
    "id": "dc3f7ee8"
   },
   "outputs": [],
   "source": [
    "family_status_debt = data.groupby('family_status').agg({'debt':['count','sum','mean']})"
   ]
  },
  {
   "cell_type": "code",
   "execution_count": 99,
   "id": "5b549e71",
   "metadata": {},
   "outputs": [
    {
     "data": {
      "text/html": [
       "<div>\n",
       "<style scoped>\n",
       "    .dataframe tbody tr th:only-of-type {\n",
       "        vertical-align: middle;\n",
       "    }\n",
       "\n",
       "    .dataframe tbody tr th {\n",
       "        vertical-align: top;\n",
       "    }\n",
       "\n",
       "    .dataframe thead tr th {\n",
       "        text-align: left;\n",
       "    }\n",
       "\n",
       "    .dataframe thead tr:last-of-type th {\n",
       "        text-align: right;\n",
       "    }\n",
       "</style>\n",
       "<table border=\"1\" class=\"dataframe\">\n",
       "  <thead>\n",
       "    <tr>\n",
       "      <th></th>\n",
       "      <th colspan=\"3\" halign=\"left\">debt</th>\n",
       "    </tr>\n",
       "    <tr>\n",
       "      <th></th>\n",
       "      <th>всего заемщиков</th>\n",
       "      <th>кол-во должников</th>\n",
       "      <th>доля должников</th>\n",
       "    </tr>\n",
       "    <tr>\n",
       "      <th>family_status</th>\n",
       "      <th></th>\n",
       "      <th></th>\n",
       "      <th></th>\n",
       "    </tr>\n",
       "  </thead>\n",
       "  <tbody>\n",
       "    <tr>\n",
       "      <th>Не женат / не замужем</th>\n",
       "      <td>2796</td>\n",
       "      <td>273</td>\n",
       "      <td>0.097639</td>\n",
       "    </tr>\n",
       "    <tr>\n",
       "      <th>в разводе</th>\n",
       "      <td>1189</td>\n",
       "      <td>84</td>\n",
       "      <td>0.070648</td>\n",
       "    </tr>\n",
       "    <tr>\n",
       "      <th>вдовец / вдова</th>\n",
       "      <td>951</td>\n",
       "      <td>63</td>\n",
       "      <td>0.066246</td>\n",
       "    </tr>\n",
       "    <tr>\n",
       "      <th>гражданский брак</th>\n",
       "      <td>4134</td>\n",
       "      <td>385</td>\n",
       "      <td>0.093130</td>\n",
       "    </tr>\n",
       "    <tr>\n",
       "      <th>женат / замужем</th>\n",
       "      <td>12261</td>\n",
       "      <td>927</td>\n",
       "      <td>0.075606</td>\n",
       "    </tr>\n",
       "  </tbody>\n",
       "</table>\n",
       "</div>"
      ],
      "text/plain": [
       "                                 debt                                \n",
       "                      всего заемщиков кол-во должников доля должников\n",
       "family_status                                                        \n",
       "Не женат / не замужем            2796              273       0.097639\n",
       "в разводе                        1189               84       0.070648\n",
       "вдовец / вдова                    951               63       0.066246\n",
       "гражданский брак                 4134              385       0.093130\n",
       "женат / замужем                 12261              927       0.075606"
      ]
     },
     "execution_count": 99,
     "metadata": {},
     "output_type": "execute_result"
    }
   ],
   "source": [
    "family_status_debt.rename(columns={'count':'всего заемщиков', 'sum': 'кол-во должников', 'mean': 'доля должников'})"
   ]
  },
  {
   "cell_type": "markdown",
   "id": "08c07f21",
   "metadata": {
    "deletable": false,
    "id": "1cef7837"
   },
   "source": [
    "**Вывод:** исходя из данных, можем сделать вывод, что люди у которых семейное положение \"вдовец/вдова\" чаще остальных возвращают кредиты в срок. Всего 6.66% просрочек. Люди, которые были в официальных отношениях, а теперь по-одиночке имеют меньше просрочек по кредиту (7.06%), по сравнение с людьми которые на данный момент находятся в официальных отношениях (7.56%). Больше всего должников среди категорий людей находящихся в гражданском браке (9.31%) и незамужних/неженатых (9.76%). Из числа заемщиков этох категорий, каждый 9 не возвращает кредит в срок. следует заметить, что женатые/замужние люди обращаются за кредитом в разы чаще."
   ]
  },
  {
   "cell_type": "markdown",
   "id": "574f5393",
   "metadata": {
    "deletable": false,
    "editable": false,
    "id": "1e8b2fca"
   },
   "source": [
    "#### 3.3 Есть ли зависимость между уровнем дохода и возвратом кредита в срок?"
   ]
  },
  {
   "cell_type": "code",
   "execution_count": 100,
   "id": "929e7a77",
   "metadata": {
    "deletable": false,
    "id": "cd7e3720"
   },
   "outputs": [],
   "source": [
    "income_category_debt = data.groupby('total_income_category').agg({'debt':['count','sum','mean']})# Ваш код будет здесь. Вы можете создавать новые ячейки."
   ]
  },
  {
   "cell_type": "code",
   "execution_count": 101,
   "id": "b076db88",
   "metadata": {},
   "outputs": [
    {
     "data": {
      "text/html": [
       "<div>\n",
       "<style scoped>\n",
       "    .dataframe tbody tr th:only-of-type {\n",
       "        vertical-align: middle;\n",
       "    }\n",
       "\n",
       "    .dataframe tbody tr th {\n",
       "        vertical-align: top;\n",
       "    }\n",
       "\n",
       "    .dataframe thead tr th {\n",
       "        text-align: left;\n",
       "    }\n",
       "\n",
       "    .dataframe thead tr:last-of-type th {\n",
       "        text-align: right;\n",
       "    }\n",
       "</style>\n",
       "<table border=\"1\" class=\"dataframe\">\n",
       "  <thead>\n",
       "    <tr>\n",
       "      <th></th>\n",
       "      <th colspan=\"3\" halign=\"left\">debt</th>\n",
       "    </tr>\n",
       "    <tr>\n",
       "      <th></th>\n",
       "      <th>всего заемщиков</th>\n",
       "      <th>кол-во должников</th>\n",
       "      <th>доля должников</th>\n",
       "    </tr>\n",
       "    <tr>\n",
       "      <th>total_income_category</th>\n",
       "      <th></th>\n",
       "      <th></th>\n",
       "      <th></th>\n",
       "    </tr>\n",
       "  </thead>\n",
       "  <tbody>\n",
       "    <tr>\n",
       "      <th>A</th>\n",
       "      <td>25</td>\n",
       "      <td>2</td>\n",
       "      <td>0.080000</td>\n",
       "    </tr>\n",
       "    <tr>\n",
       "      <th>B</th>\n",
       "      <td>5014</td>\n",
       "      <td>354</td>\n",
       "      <td>0.070602</td>\n",
       "    </tr>\n",
       "    <tr>\n",
       "      <th>C</th>\n",
       "      <td>15921</td>\n",
       "      <td>1353</td>\n",
       "      <td>0.084982</td>\n",
       "    </tr>\n",
       "    <tr>\n",
       "      <th>D</th>\n",
       "      <td>349</td>\n",
       "      <td>21</td>\n",
       "      <td>0.060172</td>\n",
       "    </tr>\n",
       "    <tr>\n",
       "      <th>E</th>\n",
       "      <td>22</td>\n",
       "      <td>2</td>\n",
       "      <td>0.090909</td>\n",
       "    </tr>\n",
       "  </tbody>\n",
       "</table>\n",
       "</div>"
      ],
      "text/plain": [
       "                                 debt                                \n",
       "                      всего заемщиков кол-во должников доля должников\n",
       "total_income_category                                                \n",
       "A                                  25                2       0.080000\n",
       "B                                5014              354       0.070602\n",
       "C                               15921             1353       0.084982\n",
       "D                                 349               21       0.060172\n",
       "E                                  22                2       0.090909"
      ]
     },
     "execution_count": 101,
     "metadata": {},
     "output_type": "execute_result"
    }
   ],
   "source": [
    "income_category_debt.rename(columns={'count':'всего заемщиков', 'sum': 'кол-во должников', 'mean': 'доля должников'})"
   ]
  },
  {
   "cell_type": "markdown",
   "id": "6202604e",
   "metadata": {
    "deletable": false,
    "id": "e8593def"
   },
   "source": [
    "**Вывод:** на основании имеющихся данных мы можем сделать вывод только о двух категориях людей со средним доходом и с доходом выше среднего. Операясь на таблицу, отметим, что заемщики со средним доходом берут кредит чаще всех остальных, но 8.49% кредитов не возвращаются в срок. среди заемщиков чей доход выше вреднего, количество займов меньше в 3 раза, но и показатели возврата лучше. 93% займов возвращаются в срок. В категориях клиентов с самым низким и самым высоким доходом всего по 2 должника, но и количество взятых кркдитов варьируется от 22 до 25. Эти данные не позваляют нам сделать верные воводы о возвращаемости кредита и определить зависимость."
   ]
  },
  {
   "cell_type": "markdown",
   "id": "c82becd9",
   "metadata": {
    "deletable": false,
    "editable": false,
    "id": "99ecbd1f"
   },
   "source": [
    "#### 3.4 Как разные цели кредита влияют на его возврат в срок?"
   ]
  },
  {
   "cell_type": "code",
   "execution_count": 102,
   "id": "23f9c355",
   "metadata": {
    "deletable": false,
    "id": "2b687290"
   },
   "outputs": [],
   "source": [
    "purpose_debt = data.groupby('purpose_category').agg({'debt':['count','sum','mean']})# Ваш код будет здесь. Вы можете создавать новые ячейки."
   ]
  },
  {
   "cell_type": "code",
   "execution_count": 103,
   "id": "64b35398",
   "metadata": {},
   "outputs": [
    {
     "data": {
      "text/html": [
       "<div>\n",
       "<style scoped>\n",
       "    .dataframe tbody tr th:only-of-type {\n",
       "        vertical-align: middle;\n",
       "    }\n",
       "\n",
       "    .dataframe tbody tr th {\n",
       "        vertical-align: top;\n",
       "    }\n",
       "\n",
       "    .dataframe thead tr th {\n",
       "        text-align: left;\n",
       "    }\n",
       "\n",
       "    .dataframe thead tr:last-of-type th {\n",
       "        text-align: right;\n",
       "    }\n",
       "</style>\n",
       "<table border=\"1\" class=\"dataframe\">\n",
       "  <thead>\n",
       "    <tr>\n",
       "      <th></th>\n",
       "      <th colspan=\"3\" halign=\"left\">debt</th>\n",
       "    </tr>\n",
       "    <tr>\n",
       "      <th></th>\n",
       "      <th>всего заемщиков</th>\n",
       "      <th>кол-во должников</th>\n",
       "      <th>доля должников</th>\n",
       "    </tr>\n",
       "    <tr>\n",
       "      <th>purpose_category</th>\n",
       "      <th></th>\n",
       "      <th></th>\n",
       "      <th></th>\n",
       "    </tr>\n",
       "  </thead>\n",
       "  <tbody>\n",
       "    <tr>\n",
       "      <th>операции с автомобилем</th>\n",
       "      <td>4279</td>\n",
       "      <td>400</td>\n",
       "      <td>0.093480</td>\n",
       "    </tr>\n",
       "    <tr>\n",
       "      <th>операции с недвижимостью</th>\n",
       "      <td>10751</td>\n",
       "      <td>780</td>\n",
       "      <td>0.072551</td>\n",
       "    </tr>\n",
       "    <tr>\n",
       "      <th>получение образования</th>\n",
       "      <td>3988</td>\n",
       "      <td>369</td>\n",
       "      <td>0.092528</td>\n",
       "    </tr>\n",
       "    <tr>\n",
       "      <th>проведение свадьбы</th>\n",
       "      <td>2313</td>\n",
       "      <td>183</td>\n",
       "      <td>0.079118</td>\n",
       "    </tr>\n",
       "  </tbody>\n",
       "</table>\n",
       "</div>"
      ],
      "text/plain": [
       "                                    debt                                \n",
       "                         всего заемщиков кол-во должников доля должников\n",
       "purpose_category                                                        \n",
       "операции с автомобилем              4279              400       0.093480\n",
       "операции с недвижимостью           10751              780       0.072551\n",
       "получение образования               3988              369       0.092528\n",
       "проведение свадьбы                  2313              183       0.079118"
      ]
     },
     "execution_count": 103,
     "metadata": {},
     "output_type": "execute_result"
    }
   ],
   "source": [
    "purpose_debt.rename(columns={'count':'всего заемщиков', 'sum': 'кол-во должников', 'mean': 'доля должников'})"
   ]
  },
  {
   "cell_type": "markdown",
   "id": "3b833f09",
   "metadata": {
    "deletable": false,
    "id": "b4bb2ce6"
   },
   "source": [
    "**Вывод:** кредит берется на различные цели,но чаще всего берется на операции с недвижимостью. В этой категории оказалось меньше всего просрочек(7,25%). А вот кредит на проведение свадьбы берется реже других, хоть и процент просрочки в этой категории тоже не высокий (7,91%). С кредитами для операций с автомобилем (9,34%) и для получения образования (9,25%) ситуации похожи. Каждый 9 не возвращает кредит в срок. "
   ]
  },
  {
   "cell_type": "markdown",
   "id": "08a6f668",
   "metadata": {
    "deletable": false,
    "editable": false,
    "id": "09c3ac4c"
   },
   "source": [
    "#### 3.5 Приведите возможные причины появления пропусков в исходных данных."
   ]
  },
  {
   "cell_type": "markdown",
   "id": "85041857",
   "metadata": {
    "deletable": false,
    "id": "9da2ceda"
   },
   "source": [
    "*Ответ:* причинами, приводящими к появлению пропусков, являются: невозможность их получения или обработки, искажение или сокрытие информации; всевозможные поломки технического оборудования; природные явления; экономические причины и т.д. в результате на вход программ анализа собранных данных поступают неполные сведения."
   ]
  },
  {
   "cell_type": "markdown",
   "id": "22e4b947",
   "metadata": {
    "deletable": false,
    "editable": false,
    "id": "7b0487d6"
   },
   "source": [
    "#### 3.6 Объясните, почему заполнить пропуски медианным значением — лучшее решение для количественных переменных."
   ]
  },
  {
   "cell_type": "markdown",
   "id": "bcbc38c5",
   "metadata": {
    "deletable": false,
    "id": "7ecf2b8e"
   },
   "source": [
    "*Ответ:* потому что на медиану не влияют случайные и экстремальные значения, выбросы. Медиана показывает середину ваших данных. Медиана считается как значение, расположенное по середине ряда отсортированных значений. "
   ]
  },
  {
   "cell_type": "markdown",
   "id": "9165b0ba",
   "metadata": {
    "deletable": false,
    "editable": false,
    "id": "6db5255a"
   },
   "source": [
    "### Шаг 4: общий вывод."
   ]
  },
  {
   "cell_type": "markdown",
   "id": "de55a4b6",
   "metadata": {
    "deletable": false,
    "id": "bad65432"
   },
   "source": [
    "Благодаря исследованию данных стало ясно, что люди берут кредиты на разные цели, чаще всего для операций с недвижимостью. Кредиты в этой категории чаще всего возвращают в срок. А вот с возвратами кредитов на операции с автомобилем и получения образования дела обстоят немного хуже. \n",
    "Чаще остальных кредит берут заемщики без детей, но они не являются самой надежной категорией возврата в срок.\n",
    "Что касается семейного положения, то люди находящиеся в разводе и/или овдовевшие берут кредит реже остальные, но и реже допускают просрочки. Чаще всех берут кредиты женатые люди. А вот нарушают сроки возврата кредита чаще других - холостые. Люди со средним уровнем доходу берут кредит гораздо чаще остальных, но каждый 8-9 кредит не возвращается в срок. Самая \"надежная\" категория по уровню дохода, это люди, зарабатывающие в интервале от 30000р до 50000р. В 94% случаев кредиты были возвращены в срок. Люди с высоким и низким уровнем дохода берут кредит гораздо реже остальных, в таком случае, из-за недостаточного количества данных мы не можем выявить точную зависимость.\n",
    "\n",
    "Это обработка, согласно условию заданиия. На мой взгляд, для более точных выводов, следуют провести более точный анализ, учитывая и другие показатели из таблицы, узнать взаимосвязь, включать в выборку группировку по нескольким категориям сразу, чтобы лучше понять по данным портрет самое надежной группы заемщиков. "
   ]
  },
  {
   "cell_type": "code",
   "execution_count": null,
   "id": "f5cdcc49",
   "metadata": {},
   "outputs": [],
   "source": []
  }
 ],
 "metadata": {
  "ExecuteTimeLog": [
   {
    "duration": 47,
    "start_time": "2022-11-27T19:12:57.653Z"
   },
   {
    "duration": 6,
    "start_time": "2022-11-27T19:13:29.704Z"
   },
   {
    "duration": 8,
    "start_time": "2022-11-27T19:13:44.825Z"
   },
   {
    "duration": 4,
    "start_time": "2022-11-27T19:26:22.330Z"
   },
   {
    "duration": 7,
    "start_time": "2022-11-27T19:45:50.621Z"
   },
   {
    "duration": 8,
    "start_time": "2022-11-27T19:58:42.677Z"
   },
   {
    "duration": 6,
    "start_time": "2022-11-27T19:58:58.412Z"
   },
   {
    "duration": 666,
    "start_time": "2022-11-27T19:59:04.880Z"
   },
   {
    "duration": 24,
    "start_time": "2022-11-27T19:59:07.948Z"
   },
   {
    "duration": 15,
    "start_time": "2022-11-27T19:59:13.838Z"
   },
   {
    "duration": 9,
    "start_time": "2022-11-27T19:59:16.796Z"
   },
   {
    "duration": 36,
    "start_time": "2022-11-27T19:59:18.306Z"
   },
   {
    "duration": 5,
    "start_time": "2022-11-27T19:59:19.964Z"
   },
   {
    "duration": 8,
    "start_time": "2022-11-27T19:59:21.132Z"
   },
   {
    "duration": 5,
    "start_time": "2022-11-27T19:59:22.618Z"
   },
   {
    "duration": 8,
    "start_time": "2022-11-27T19:59:23.604Z"
   },
   {
    "duration": 5,
    "start_time": "2022-11-27T19:59:24.572Z"
   },
   {
    "duration": 33,
    "start_time": "2022-11-27T19:59:25.838Z"
   },
   {
    "duration": 9,
    "start_time": "2022-11-27T19:59:26.752Z"
   },
   {
    "duration": 4,
    "start_time": "2022-11-27T19:59:28.142Z"
   },
   {
    "duration": 12,
    "start_time": "2022-11-27T19:59:29.448Z"
   },
   {
    "duration": 20,
    "start_time": "2022-11-27T19:59:30.454Z"
   },
   {
    "duration": 17,
    "start_time": "2022-11-27T19:59:30.977Z"
   },
   {
    "duration": 4,
    "start_time": "2022-11-27T19:59:34.898Z"
   },
   {
    "duration": 12,
    "start_time": "2022-11-27T19:59:35.456Z"
   },
   {
    "duration": 6,
    "start_time": "2022-11-27T19:59:37.099Z"
   },
   {
    "duration": 5,
    "start_time": "2022-11-27T19:59:38.424Z"
   },
   {
    "duration": 13,
    "start_time": "2022-11-27T19:59:38.817Z"
   },
   {
    "duration": 29,
    "start_time": "2022-11-27T19:59:40.280Z"
   },
   {
    "duration": 14,
    "start_time": "2022-11-27T20:06:47.671Z"
   },
   {
    "duration": 7,
    "start_time": "2022-11-27T20:07:21.435Z"
   },
   {
    "duration": 7,
    "start_time": "2022-11-27T20:07:38.532Z"
   },
   {
    "duration": 10,
    "start_time": "2022-11-27T20:08:34.773Z"
   },
   {
    "duration": 816,
    "start_time": "2022-11-27T20:10:19.717Z"
   },
   {
    "duration": 5,
    "start_time": "2022-11-27T20:10:34.778Z"
   },
   {
    "duration": 6,
    "start_time": "2022-11-27T20:10:51.941Z"
   },
   {
    "duration": 714,
    "start_time": "2022-11-29T12:56:50.518Z"
   },
   {
    "duration": 23,
    "start_time": "2022-11-29T12:56:51.233Z"
   },
   {
    "duration": 14,
    "start_time": "2022-11-29T12:56:51.258Z"
   },
   {
    "duration": 9,
    "start_time": "2022-11-29T12:56:51.274Z"
   },
   {
    "duration": 35,
    "start_time": "2022-11-29T12:56:51.285Z"
   },
   {
    "duration": 4,
    "start_time": "2022-11-29T12:56:51.322Z"
   },
   {
    "duration": 11,
    "start_time": "2022-11-29T12:56:51.328Z"
   },
   {
    "duration": 4,
    "start_time": "2022-11-29T12:56:51.341Z"
   },
   {
    "duration": 9,
    "start_time": "2022-11-29T12:56:51.346Z"
   },
   {
    "duration": 4,
    "start_time": "2022-11-29T12:56:51.359Z"
   },
   {
    "duration": 63,
    "start_time": "2022-11-29T12:56:51.365Z"
   },
   {
    "duration": 9,
    "start_time": "2022-11-29T12:56:51.429Z"
   },
   {
    "duration": 3,
    "start_time": "2022-11-29T12:56:51.440Z"
   },
   {
    "duration": 13,
    "start_time": "2022-11-29T12:56:51.444Z"
   },
   {
    "duration": 19,
    "start_time": "2022-11-29T12:56:51.458Z"
   },
   {
    "duration": 18,
    "start_time": "2022-11-29T12:56:51.497Z"
   },
   {
    "duration": 3,
    "start_time": "2022-11-29T12:56:51.516Z"
   },
   {
    "duration": 13,
    "start_time": "2022-11-29T12:56:51.521Z"
   },
   {
    "duration": 6,
    "start_time": "2022-11-29T12:56:51.535Z"
   },
   {
    "duration": 4,
    "start_time": "2022-11-29T12:56:51.542Z"
   },
   {
    "duration": 15,
    "start_time": "2022-11-29T12:56:51.548Z"
   },
   {
    "duration": 9,
    "start_time": "2022-11-29T12:56:51.565Z"
   },
   {
    "duration": 8,
    "start_time": "2022-11-29T12:56:51.597Z"
   },
   {
    "duration": 6,
    "start_time": "2022-11-29T12:56:51.606Z"
   },
   {
    "duration": 13,
    "start_time": "2022-11-29T12:56:51.613Z"
   },
   {
    "duration": 14,
    "start_time": "2022-11-29T12:56:51.627Z"
   },
   {
    "duration": 6,
    "start_time": "2022-11-29T12:56:51.642Z"
   },
   {
    "duration": 5,
    "start_time": "2022-11-29T12:56:51.650Z"
   },
   {
    "duration": 4,
    "start_time": "2022-11-29T13:09:58.678Z"
   },
   {
    "duration": 5,
    "start_time": "2022-11-29T13:10:00.018Z"
   },
   {
    "duration": 6,
    "start_time": "2022-11-29T14:08:51.291Z"
   },
   {
    "duration": 75,
    "start_time": "2022-11-29T14:10:40.035Z"
   },
   {
    "duration": 16,
    "start_time": "2022-11-29T14:10:40.112Z"
   },
   {
    "duration": 38,
    "start_time": "2022-11-29T14:10:40.130Z"
   },
   {
    "duration": 19,
    "start_time": "2022-11-29T14:10:40.170Z"
   },
   {
    "duration": 59,
    "start_time": "2022-11-29T14:10:40.190Z"
   },
   {
    "duration": 8,
    "start_time": "2022-11-29T14:10:40.251Z"
   },
   {
    "duration": 20,
    "start_time": "2022-11-29T14:10:40.261Z"
   },
   {
    "duration": 15,
    "start_time": "2022-11-29T14:10:40.283Z"
   },
   {
    "duration": 15,
    "start_time": "2022-11-29T14:10:40.300Z"
   },
   {
    "duration": 16,
    "start_time": "2022-11-29T14:10:40.318Z"
   },
   {
    "duration": 42,
    "start_time": "2022-11-29T14:10:40.336Z"
   },
   {
    "duration": 9,
    "start_time": "2022-11-29T14:10:40.379Z"
   },
   {
    "duration": 7,
    "start_time": "2022-11-29T14:10:40.389Z"
   },
   {
    "duration": 12,
    "start_time": "2022-11-29T14:10:40.398Z"
   },
   {
    "duration": 18,
    "start_time": "2022-11-29T14:10:40.412Z"
   },
   {
    "duration": 19,
    "start_time": "2022-11-29T14:10:40.432Z"
   },
   {
    "duration": 4,
    "start_time": "2022-11-29T14:10:40.453Z"
   },
   {
    "duration": 37,
    "start_time": "2022-11-29T14:10:40.459Z"
   },
   {
    "duration": 6,
    "start_time": "2022-11-29T14:10:40.499Z"
   },
   {
    "duration": 8,
    "start_time": "2022-11-29T14:10:40.507Z"
   },
   {
    "duration": 14,
    "start_time": "2022-11-29T14:10:40.517Z"
   },
   {
    "duration": 10,
    "start_time": "2022-11-29T14:10:40.532Z"
   },
   {
    "duration": 4,
    "start_time": "2022-11-29T14:10:40.543Z"
   },
   {
    "duration": 17,
    "start_time": "2022-11-29T14:10:40.549Z"
   },
   {
    "duration": 7,
    "start_time": "2022-11-29T14:10:40.568Z"
   },
   {
    "duration": 10,
    "start_time": "2022-11-29T14:10:40.577Z"
   },
   {
    "duration": 8,
    "start_time": "2022-11-29T14:10:40.589Z"
   },
   {
    "duration": 6,
    "start_time": "2022-11-29T14:10:40.600Z"
   },
   {
    "duration": 5,
    "start_time": "2022-11-29T14:10:40.608Z"
   },
   {
    "duration": 10,
    "start_time": "2022-11-29T14:10:40.614Z"
   },
   {
    "duration": 7,
    "start_time": "2022-11-29T14:10:40.625Z"
   },
   {
    "duration": 9,
    "start_time": "2022-11-29T14:10:40.633Z"
   },
   {
    "duration": 74,
    "start_time": "2022-11-29T14:11:24.562Z"
   },
   {
    "duration": 15,
    "start_time": "2022-11-29T14:11:24.638Z"
   },
   {
    "duration": 17,
    "start_time": "2022-11-29T14:11:24.655Z"
   },
   {
    "duration": 11,
    "start_time": "2022-11-29T14:11:24.696Z"
   },
   {
    "duration": 33,
    "start_time": "2022-11-29T14:11:24.709Z"
   },
   {
    "duration": 4,
    "start_time": "2022-11-29T14:11:24.744Z"
   },
   {
    "duration": 12,
    "start_time": "2022-11-29T14:11:24.750Z"
   },
   {
    "duration": 34,
    "start_time": "2022-11-29T14:11:24.764Z"
   },
   {
    "duration": 20,
    "start_time": "2022-11-29T14:11:24.799Z"
   },
   {
    "duration": 11,
    "start_time": "2022-11-29T14:11:24.823Z"
   },
   {
    "duration": 43,
    "start_time": "2022-11-29T14:11:24.835Z"
   },
   {
    "duration": 11,
    "start_time": "2022-11-29T14:11:24.880Z"
   },
   {
    "duration": 11,
    "start_time": "2022-11-29T14:11:24.897Z"
   },
   {
    "duration": 31,
    "start_time": "2022-11-29T14:11:24.910Z"
   },
   {
    "duration": 48,
    "start_time": "2022-11-29T14:11:24.943Z"
   },
   {
    "duration": 17,
    "start_time": "2022-11-29T14:11:24.993Z"
   },
   {
    "duration": 14,
    "start_time": "2022-11-29T14:11:25.012Z"
   },
   {
    "duration": 40,
    "start_time": "2022-11-29T14:11:25.028Z"
   },
   {
    "duration": 45,
    "start_time": "2022-11-29T14:11:25.069Z"
   },
   {
    "duration": 25,
    "start_time": "2022-11-29T14:11:25.115Z"
   },
   {
    "duration": 12,
    "start_time": "2022-11-29T14:11:25.142Z"
   },
   {
    "duration": 8,
    "start_time": "2022-11-29T14:11:25.156Z"
   },
   {
    "duration": 3,
    "start_time": "2022-11-29T14:11:25.166Z"
   },
   {
    "duration": 22,
    "start_time": "2022-11-29T14:11:25.171Z"
   },
   {
    "duration": 10,
    "start_time": "2022-11-29T14:11:25.195Z"
   },
   {
    "duration": 6,
    "start_time": "2022-11-29T14:11:25.207Z"
   },
   {
    "duration": 14,
    "start_time": "2022-11-29T14:11:25.215Z"
   },
   {
    "duration": 6,
    "start_time": "2022-11-29T14:11:25.232Z"
   },
   {
    "duration": 7,
    "start_time": "2022-11-29T14:11:25.240Z"
   },
   {
    "duration": 7,
    "start_time": "2022-11-29T14:11:25.249Z"
   },
   {
    "duration": 7,
    "start_time": "2022-11-29T14:11:25.257Z"
   },
   {
    "duration": 6,
    "start_time": "2022-11-29T14:11:25.265Z"
   },
   {
    "duration": 9,
    "start_time": "2022-11-29T14:11:25.272Z"
   },
   {
    "duration": 87,
    "start_time": "2022-11-29T14:19:22.747Z"
   },
   {
    "duration": 24,
    "start_time": "2022-11-29T14:19:22.837Z"
   },
   {
    "duration": 45,
    "start_time": "2022-11-29T14:19:22.863Z"
   },
   {
    "duration": 10,
    "start_time": "2022-11-29T14:19:22.911Z"
   },
   {
    "duration": 35,
    "start_time": "2022-11-29T14:19:22.923Z"
   },
   {
    "duration": 4,
    "start_time": "2022-11-29T14:19:22.960Z"
   },
   {
    "duration": 33,
    "start_time": "2022-11-29T14:19:22.965Z"
   },
   {
    "duration": 5,
    "start_time": "2022-11-29T14:19:23.000Z"
   },
   {
    "duration": 9,
    "start_time": "2022-11-29T14:19:23.007Z"
   },
   {
    "duration": 6,
    "start_time": "2022-11-29T14:19:23.019Z"
   },
   {
    "duration": 37,
    "start_time": "2022-11-29T14:19:23.026Z"
   },
   {
    "duration": 38,
    "start_time": "2022-11-29T14:19:23.065Z"
   },
   {
    "duration": 4,
    "start_time": "2022-11-29T14:19:23.105Z"
   },
   {
    "duration": 13,
    "start_time": "2022-11-29T14:19:23.111Z"
   },
   {
    "duration": 24,
    "start_time": "2022-11-29T14:19:23.126Z"
   },
   {
    "duration": 20,
    "start_time": "2022-11-29T14:19:23.152Z"
   },
   {
    "duration": 4,
    "start_time": "2022-11-29T14:19:23.195Z"
   },
   {
    "duration": 17,
    "start_time": "2022-11-29T14:19:23.201Z"
   },
   {
    "duration": 11,
    "start_time": "2022-11-29T14:19:23.220Z"
   },
   {
    "duration": 4,
    "start_time": "2022-11-29T14:19:23.232Z"
   },
   {
    "duration": 13,
    "start_time": "2022-11-29T14:19:23.237Z"
   },
   {
    "duration": 10,
    "start_time": "2022-11-29T14:19:23.251Z"
   },
   {
    "duration": 51,
    "start_time": "2022-11-29T14:19:23.263Z"
   },
   {
    "duration": 0,
    "start_time": "2022-11-29T14:19:23.316Z"
   },
   {
    "duration": 0,
    "start_time": "2022-11-29T14:19:23.318Z"
   },
   {
    "duration": 0,
    "start_time": "2022-11-29T14:19:23.319Z"
   },
   {
    "duration": 0,
    "start_time": "2022-11-29T14:19:23.320Z"
   },
   {
    "duration": 0,
    "start_time": "2022-11-29T14:19:23.322Z"
   },
   {
    "duration": 0,
    "start_time": "2022-11-29T14:19:23.323Z"
   },
   {
    "duration": 0,
    "start_time": "2022-11-29T14:19:23.324Z"
   },
   {
    "duration": 0,
    "start_time": "2022-11-29T14:19:23.326Z"
   },
   {
    "duration": 0,
    "start_time": "2022-11-29T14:19:23.327Z"
   },
   {
    "duration": 0,
    "start_time": "2022-11-29T14:19:23.328Z"
   },
   {
    "duration": 11,
    "start_time": "2022-11-29T14:19:37.314Z"
   },
   {
    "duration": 76,
    "start_time": "2022-11-29T14:20:23.876Z"
   },
   {
    "duration": 17,
    "start_time": "2022-11-29T14:20:23.954Z"
   },
   {
    "duration": 36,
    "start_time": "2022-11-29T14:20:23.972Z"
   },
   {
    "duration": 9,
    "start_time": "2022-11-29T14:20:24.010Z"
   },
   {
    "duration": 35,
    "start_time": "2022-11-29T14:20:24.021Z"
   },
   {
    "duration": 4,
    "start_time": "2022-11-29T14:20:24.058Z"
   },
   {
    "duration": 33,
    "start_time": "2022-11-29T14:20:24.063Z"
   },
   {
    "duration": 5,
    "start_time": "2022-11-29T14:20:24.098Z"
   },
   {
    "duration": 9,
    "start_time": "2022-11-29T14:20:24.105Z"
   },
   {
    "duration": 5,
    "start_time": "2022-11-29T14:20:24.116Z"
   },
   {
    "duration": 34,
    "start_time": "2022-11-29T14:20:24.123Z"
   },
   {
    "duration": 9,
    "start_time": "2022-11-29T14:20:24.159Z"
   },
   {
    "duration": 4,
    "start_time": "2022-11-29T14:20:24.197Z"
   },
   {
    "duration": 14,
    "start_time": "2022-11-29T14:20:24.203Z"
   },
   {
    "duration": 22,
    "start_time": "2022-11-29T14:20:24.219Z"
   },
   {
    "duration": 19,
    "start_time": "2022-11-29T14:20:24.243Z"
   },
   {
    "duration": 4,
    "start_time": "2022-11-29T14:20:24.263Z"
   },
   {
    "duration": 13,
    "start_time": "2022-11-29T14:20:24.295Z"
   },
   {
    "duration": 12,
    "start_time": "2022-11-29T14:20:24.310Z"
   },
   {
    "duration": 5,
    "start_time": "2022-11-29T14:20:24.323Z"
   },
   {
    "duration": 17,
    "start_time": "2022-11-29T14:20:24.329Z"
   },
   {
    "duration": 10,
    "start_time": "2022-11-29T14:20:24.347Z"
   },
   {
    "duration": 20,
    "start_time": "2022-11-29T14:20:24.359Z"
   },
   {
    "duration": 23,
    "start_time": "2022-11-29T14:20:24.381Z"
   },
   {
    "duration": 7,
    "start_time": "2022-11-29T14:20:24.406Z"
   },
   {
    "duration": 14,
    "start_time": "2022-11-29T14:20:24.414Z"
   },
   {
    "duration": 11,
    "start_time": "2022-11-29T14:20:24.430Z"
   },
   {
    "duration": 7,
    "start_time": "2022-11-29T14:20:24.444Z"
   },
   {
    "duration": 9,
    "start_time": "2022-11-29T14:20:24.452Z"
   },
   {
    "duration": 14,
    "start_time": "2022-11-29T14:20:24.463Z"
   },
   {
    "duration": 6,
    "start_time": "2022-11-29T14:20:24.479Z"
   },
   {
    "duration": 7,
    "start_time": "2022-11-29T14:20:24.486Z"
   },
   {
    "duration": 10,
    "start_time": "2022-11-29T14:21:41.155Z"
   },
   {
    "duration": 74,
    "start_time": "2022-11-29T14:22:56.853Z"
   },
   {
    "duration": 15,
    "start_time": "2022-11-29T14:22:56.929Z"
   },
   {
    "duration": 21,
    "start_time": "2022-11-29T14:22:56.946Z"
   },
   {
    "duration": 29,
    "start_time": "2022-11-29T14:22:56.969Z"
   },
   {
    "duration": 35,
    "start_time": "2022-11-29T14:22:56.999Z"
   },
   {
    "duration": 3,
    "start_time": "2022-11-29T14:22:57.036Z"
   },
   {
    "duration": 13,
    "start_time": "2022-11-29T14:22:57.040Z"
   },
   {
    "duration": 13,
    "start_time": "2022-11-29T14:22:57.055Z"
   },
   {
    "duration": 8,
    "start_time": "2022-11-29T14:22:57.069Z"
   },
   {
    "duration": 4,
    "start_time": "2022-11-29T14:22:57.098Z"
   },
   {
    "duration": 37,
    "start_time": "2022-11-29T14:22:57.104Z"
   },
   {
    "duration": 9,
    "start_time": "2022-11-29T14:22:57.143Z"
   },
   {
    "duration": 4,
    "start_time": "2022-11-29T14:22:57.154Z"
   },
   {
    "duration": 38,
    "start_time": "2022-11-29T14:22:57.159Z"
   },
   {
    "duration": 19,
    "start_time": "2022-11-29T14:22:57.198Z"
   },
   {
    "duration": 17,
    "start_time": "2022-11-29T14:22:57.219Z"
   },
   {
    "duration": 4,
    "start_time": "2022-11-29T14:22:57.238Z"
   },
   {
    "duration": 13,
    "start_time": "2022-11-29T14:22:57.244Z"
   },
   {
    "duration": 6,
    "start_time": "2022-11-29T14:22:57.259Z"
   },
   {
    "duration": 32,
    "start_time": "2022-11-29T14:22:57.266Z"
   },
   {
    "duration": 12,
    "start_time": "2022-11-29T14:22:57.300Z"
   },
   {
    "duration": 10,
    "start_time": "2022-11-29T14:22:57.314Z"
   },
   {
    "duration": 14,
    "start_time": "2022-11-29T14:22:57.326Z"
   },
   {
    "duration": 11,
    "start_time": "2022-11-29T14:22:57.342Z"
   },
   {
    "duration": 6,
    "start_time": "2022-11-29T14:22:57.354Z"
   },
   {
    "duration": 7,
    "start_time": "2022-11-29T14:22:57.362Z"
   },
   {
    "duration": 8,
    "start_time": "2022-11-29T14:22:57.397Z"
   },
   {
    "duration": 10,
    "start_time": "2022-11-29T14:22:57.409Z"
   },
   {
    "duration": 10,
    "start_time": "2022-11-29T14:22:57.420Z"
   },
   {
    "duration": 6,
    "start_time": "2022-11-29T14:22:57.432Z"
   },
   {
    "duration": 14,
    "start_time": "2022-11-29T14:22:57.440Z"
   },
   {
    "duration": 12,
    "start_time": "2022-11-29T14:22:57.455Z"
   },
   {
    "duration": 8,
    "start_time": "2022-11-29T14:22:57.469Z"
   },
   {
    "duration": 74,
    "start_time": "2022-11-29T14:23:26.457Z"
   },
   {
    "duration": 16,
    "start_time": "2022-11-29T14:23:26.533Z"
   },
   {
    "duration": 19,
    "start_time": "2022-11-29T14:23:26.551Z"
   },
   {
    "duration": 33,
    "start_time": "2022-11-29T14:23:26.572Z"
   },
   {
    "duration": 34,
    "start_time": "2022-11-29T14:23:26.606Z"
   },
   {
    "duration": 3,
    "start_time": "2022-11-29T14:23:26.642Z"
   },
   {
    "duration": 11,
    "start_time": "2022-11-29T14:23:26.647Z"
   },
   {
    "duration": 6,
    "start_time": "2022-11-29T14:23:26.660Z"
   },
   {
    "duration": 33,
    "start_time": "2022-11-29T14:23:26.667Z"
   },
   {
    "duration": 5,
    "start_time": "2022-11-29T14:23:26.704Z"
   },
   {
    "duration": 35,
    "start_time": "2022-11-29T14:23:26.711Z"
   },
   {
    "duration": 10,
    "start_time": "2022-11-29T14:23:26.748Z"
   },
   {
    "duration": 5,
    "start_time": "2022-11-29T14:23:26.760Z"
   },
   {
    "duration": 17,
    "start_time": "2022-11-29T14:23:26.796Z"
   },
   {
    "duration": 28,
    "start_time": "2022-11-29T14:23:26.814Z"
   },
   {
    "duration": 19,
    "start_time": "2022-11-29T14:23:26.844Z"
   },
   {
    "duration": 4,
    "start_time": "2022-11-29T14:23:26.865Z"
   },
   {
    "duration": 30,
    "start_time": "2022-11-29T14:23:26.871Z"
   },
   {
    "duration": 6,
    "start_time": "2022-11-29T14:23:26.903Z"
   },
   {
    "duration": 6,
    "start_time": "2022-11-29T14:23:26.911Z"
   },
   {
    "duration": 11,
    "start_time": "2022-11-29T14:23:26.919Z"
   },
   {
    "duration": 12,
    "start_time": "2022-11-29T14:23:26.932Z"
   },
   {
    "duration": 11,
    "start_time": "2022-11-29T14:23:26.945Z"
   },
   {
    "duration": 11,
    "start_time": "2022-11-29T14:23:26.958Z"
   },
   {
    "duration": 28,
    "start_time": "2022-11-29T14:23:26.971Z"
   },
   {
    "duration": 12,
    "start_time": "2022-11-29T14:23:27.001Z"
   },
   {
    "duration": 10,
    "start_time": "2022-11-29T14:23:27.015Z"
   },
   {
    "duration": 10,
    "start_time": "2022-11-29T14:23:27.028Z"
   },
   {
    "duration": 11,
    "start_time": "2022-11-29T14:23:27.040Z"
   },
   {
    "duration": 6,
    "start_time": "2022-11-29T14:23:27.053Z"
   },
   {
    "duration": 10,
    "start_time": "2022-11-29T14:23:27.061Z"
   },
   {
    "duration": 25,
    "start_time": "2022-11-29T14:23:27.072Z"
   },
   {
    "duration": 11,
    "start_time": "2022-11-29T14:23:27.099Z"
   },
   {
    "duration": 75,
    "start_time": "2022-11-29T14:24:35.639Z"
   },
   {
    "duration": 16,
    "start_time": "2022-11-29T14:24:35.717Z"
   },
   {
    "duration": 20,
    "start_time": "2022-11-29T14:24:35.735Z"
   },
   {
    "duration": 42,
    "start_time": "2022-11-29T14:24:35.757Z"
   },
   {
    "duration": 36,
    "start_time": "2022-11-29T14:24:35.801Z"
   },
   {
    "duration": 4,
    "start_time": "2022-11-29T14:24:35.839Z"
   },
   {
    "duration": 19,
    "start_time": "2022-11-29T14:24:35.845Z"
   },
   {
    "duration": 5,
    "start_time": "2022-11-29T14:24:35.866Z"
   },
   {
    "duration": 28,
    "start_time": "2022-11-29T14:24:35.873Z"
   },
   {
    "duration": 6,
    "start_time": "2022-11-29T14:24:35.904Z"
   },
   {
    "duration": 54,
    "start_time": "2022-11-29T14:24:35.912Z"
   },
   {
    "duration": 11,
    "start_time": "2022-11-29T14:24:35.968Z"
   },
   {
    "duration": 5,
    "start_time": "2022-11-29T14:24:35.996Z"
   },
   {
    "duration": 12,
    "start_time": "2022-11-29T14:24:36.003Z"
   },
   {
    "duration": 23,
    "start_time": "2022-11-29T14:24:36.018Z"
   },
   {
    "duration": 21,
    "start_time": "2022-11-29T14:24:36.043Z"
   },
   {
    "duration": 32,
    "start_time": "2022-11-29T14:24:36.065Z"
   },
   {
    "duration": 10,
    "start_time": "2022-11-29T14:24:36.099Z"
   },
   {
    "duration": 14,
    "start_time": "2022-11-29T14:24:36.111Z"
   },
   {
    "duration": 4,
    "start_time": "2022-11-29T14:24:36.126Z"
   },
   {
    "duration": 21,
    "start_time": "2022-11-29T14:24:36.131Z"
   },
   {
    "duration": 23,
    "start_time": "2022-11-29T14:24:36.154Z"
   },
   {
    "duration": 13,
    "start_time": "2022-11-29T14:24:36.179Z"
   },
   {
    "duration": 12,
    "start_time": "2022-11-29T14:24:36.193Z"
   },
   {
    "duration": 8,
    "start_time": "2022-11-29T14:24:36.206Z"
   },
   {
    "duration": 7,
    "start_time": "2022-11-29T14:24:36.216Z"
   },
   {
    "duration": 11,
    "start_time": "2022-11-29T14:24:36.224Z"
   },
   {
    "duration": 19,
    "start_time": "2022-11-29T14:24:36.239Z"
   },
   {
    "duration": 13,
    "start_time": "2022-11-29T14:24:36.260Z"
   },
   {
    "duration": 22,
    "start_time": "2022-11-29T14:24:36.275Z"
   },
   {
    "duration": 11,
    "start_time": "2022-11-29T14:24:36.299Z"
   },
   {
    "duration": 18,
    "start_time": "2022-11-29T14:24:36.312Z"
   },
   {
    "duration": 11,
    "start_time": "2022-11-29T14:24:36.332Z"
   },
   {
    "duration": 11,
    "start_time": "2022-11-29T14:26:38.099Z"
   },
   {
    "duration": 69,
    "start_time": "2022-11-29T14:27:40.514Z"
   },
   {
    "duration": 15,
    "start_time": "2022-11-29T14:27:40.585Z"
   },
   {
    "duration": 21,
    "start_time": "2022-11-29T14:27:40.601Z"
   },
   {
    "duration": 8,
    "start_time": "2022-11-29T14:27:40.625Z"
   },
   {
    "duration": 34,
    "start_time": "2022-11-29T14:27:40.635Z"
   },
   {
    "duration": 3,
    "start_time": "2022-11-29T14:27:40.671Z"
   },
   {
    "duration": 27,
    "start_time": "2022-11-29T14:27:40.676Z"
   },
   {
    "duration": 12,
    "start_time": "2022-11-29T14:27:40.705Z"
   },
   {
    "duration": 13,
    "start_time": "2022-11-29T14:27:40.718Z"
   },
   {
    "duration": 10,
    "start_time": "2022-11-29T14:27:40.734Z"
   },
   {
    "duration": 72,
    "start_time": "2022-11-29T14:27:40.745Z"
   },
   {
    "duration": 9,
    "start_time": "2022-11-29T14:27:40.819Z"
   },
   {
    "duration": 5,
    "start_time": "2022-11-29T14:27:40.830Z"
   },
   {
    "duration": 14,
    "start_time": "2022-11-29T14:27:40.836Z"
   },
   {
    "duration": 27,
    "start_time": "2022-11-29T14:27:40.852Z"
   },
   {
    "duration": 34,
    "start_time": "2022-11-29T14:27:40.880Z"
   },
   {
    "duration": 4,
    "start_time": "2022-11-29T14:27:40.916Z"
   },
   {
    "duration": 15,
    "start_time": "2022-11-29T14:27:40.922Z"
   },
   {
    "duration": 6,
    "start_time": "2022-11-29T14:27:40.938Z"
   },
   {
    "duration": 7,
    "start_time": "2022-11-29T14:27:40.945Z"
   },
   {
    "duration": 17,
    "start_time": "2022-11-29T14:27:40.954Z"
   },
   {
    "duration": 24,
    "start_time": "2022-11-29T14:27:40.973Z"
   },
   {
    "duration": 11,
    "start_time": "2022-11-29T14:27:40.998Z"
   },
   {
    "duration": 8,
    "start_time": "2022-11-29T14:27:41.011Z"
   },
   {
    "duration": 7,
    "start_time": "2022-11-29T14:27:41.021Z"
   },
   {
    "duration": 7,
    "start_time": "2022-11-29T14:27:41.030Z"
   },
   {
    "duration": 10,
    "start_time": "2022-11-29T14:27:41.038Z"
   },
   {
    "duration": 9,
    "start_time": "2022-11-29T14:27:41.050Z"
   },
   {
    "duration": 8,
    "start_time": "2022-11-29T14:27:41.060Z"
   },
   {
    "duration": 29,
    "start_time": "2022-11-29T14:27:41.069Z"
   },
   {
    "duration": 3,
    "start_time": "2022-11-29T14:27:41.099Z"
   },
   {
    "duration": 15,
    "start_time": "2022-11-29T14:27:41.103Z"
   },
   {
    "duration": 953,
    "start_time": "2022-11-29T14:28:23.972Z"
   },
   {
    "duration": 4,
    "start_time": "2022-11-29T14:28:40.419Z"
   },
   {
    "duration": 5,
    "start_time": "2022-11-29T14:29:25.357Z"
   },
   {
    "duration": 7,
    "start_time": "2022-11-29T14:39:32.053Z"
   },
   {
    "duration": 11,
    "start_time": "2022-11-29T14:39:37.394Z"
   },
   {
    "duration": 11,
    "start_time": "2022-11-29T14:40:37.933Z"
   },
   {
    "duration": 72,
    "start_time": "2022-11-29T14:45:58.827Z"
   },
   {
    "duration": 16,
    "start_time": "2022-11-29T14:45:58.902Z"
   },
   {
    "duration": 16,
    "start_time": "2022-11-29T14:45:58.921Z"
   },
   {
    "duration": 9,
    "start_time": "2022-11-29T14:45:58.940Z"
   },
   {
    "duration": 69,
    "start_time": "2022-11-29T14:45:58.951Z"
   },
   {
    "duration": 4,
    "start_time": "2022-11-29T14:45:59.022Z"
   },
   {
    "duration": 12,
    "start_time": "2022-11-29T14:45:59.027Z"
   },
   {
    "duration": 4,
    "start_time": "2022-11-29T14:45:59.041Z"
   },
   {
    "duration": 7,
    "start_time": "2022-11-29T14:45:59.047Z"
   },
   {
    "duration": 4,
    "start_time": "2022-11-29T14:45:59.058Z"
   },
   {
    "duration": 66,
    "start_time": "2022-11-29T14:45:59.064Z"
   },
   {
    "duration": 11,
    "start_time": "2022-11-29T14:45:59.132Z"
   },
   {
    "duration": 5,
    "start_time": "2022-11-29T14:45:59.145Z"
   },
   {
    "duration": 25,
    "start_time": "2022-11-29T14:45:59.152Z"
   },
   {
    "duration": 32,
    "start_time": "2022-11-29T14:45:59.179Z"
   },
   {
    "duration": 20,
    "start_time": "2022-11-29T14:45:59.213Z"
   },
   {
    "duration": 4,
    "start_time": "2022-11-29T14:45:59.234Z"
   },
   {
    "duration": 12,
    "start_time": "2022-11-29T14:45:59.239Z"
   },
   {
    "duration": 9,
    "start_time": "2022-11-29T14:45:59.252Z"
   },
   {
    "duration": 12,
    "start_time": "2022-11-29T14:45:59.262Z"
   },
   {
    "duration": 24,
    "start_time": "2022-11-29T14:45:59.276Z"
   },
   {
    "duration": 10,
    "start_time": "2022-11-29T14:45:59.301Z"
   },
   {
    "duration": 11,
    "start_time": "2022-11-29T14:45:59.313Z"
   },
   {
    "duration": 9,
    "start_time": "2022-11-29T14:45:59.326Z"
   },
   {
    "duration": 9,
    "start_time": "2022-11-29T14:45:59.336Z"
   },
   {
    "duration": 8,
    "start_time": "2022-11-29T14:45:59.346Z"
   },
   {
    "duration": 10,
    "start_time": "2022-11-29T14:45:59.356Z"
   },
   {
    "duration": 7,
    "start_time": "2022-11-29T14:45:59.396Z"
   },
   {
    "duration": 8,
    "start_time": "2022-11-29T14:45:59.405Z"
   },
   {
    "duration": 3,
    "start_time": "2022-11-29T14:45:59.415Z"
   },
   {
    "duration": 5,
    "start_time": "2022-11-29T14:45:59.420Z"
   },
   {
    "duration": 71,
    "start_time": "2022-11-29T14:46:28.406Z"
   },
   {
    "duration": 16,
    "start_time": "2022-11-29T14:46:28.478Z"
   },
   {
    "duration": 15,
    "start_time": "2022-11-29T14:46:28.496Z"
   },
   {
    "duration": 13,
    "start_time": "2022-11-29T14:46:28.514Z"
   },
   {
    "duration": 32,
    "start_time": "2022-11-29T14:46:28.530Z"
   },
   {
    "duration": 4,
    "start_time": "2022-11-29T14:46:28.564Z"
   },
   {
    "duration": 9,
    "start_time": "2022-11-29T14:46:28.597Z"
   },
   {
    "duration": 7,
    "start_time": "2022-11-29T14:46:28.608Z"
   },
   {
    "duration": 10,
    "start_time": "2022-11-29T14:46:28.617Z"
   },
   {
    "duration": 18,
    "start_time": "2022-11-29T14:46:28.629Z"
   },
   {
    "duration": 39,
    "start_time": "2022-11-29T14:46:28.649Z"
   },
   {
    "duration": 10,
    "start_time": "2022-11-29T14:46:28.695Z"
   },
   {
    "duration": 5,
    "start_time": "2022-11-29T14:46:28.707Z"
   },
   {
    "duration": 11,
    "start_time": "2022-11-29T14:46:28.714Z"
   },
   {
    "duration": 17,
    "start_time": "2022-11-29T14:46:28.727Z"
   },
   {
    "duration": 19,
    "start_time": "2022-11-29T14:46:28.746Z"
   },
   {
    "duration": 31,
    "start_time": "2022-11-29T14:46:28.767Z"
   },
   {
    "duration": 17,
    "start_time": "2022-11-29T14:46:28.800Z"
   },
   {
    "duration": 10,
    "start_time": "2022-11-29T14:46:28.818Z"
   },
   {
    "duration": 9,
    "start_time": "2022-11-29T14:46:28.829Z"
   },
   {
    "duration": 11,
    "start_time": "2022-11-29T14:46:28.840Z"
   },
   {
    "duration": 7,
    "start_time": "2022-11-29T14:46:28.852Z"
   },
   {
    "duration": 10,
    "start_time": "2022-11-29T14:46:28.861Z"
   },
   {
    "duration": 24,
    "start_time": "2022-11-29T14:46:28.872Z"
   },
   {
    "duration": 16,
    "start_time": "2022-11-29T14:46:28.898Z"
   },
   {
    "duration": 18,
    "start_time": "2022-11-29T14:46:28.916Z"
   },
   {
    "duration": 16,
    "start_time": "2022-11-29T14:46:28.936Z"
   },
   {
    "duration": 12,
    "start_time": "2022-11-29T14:46:28.954Z"
   },
   {
    "duration": 15,
    "start_time": "2022-11-29T14:46:28.967Z"
   },
   {
    "duration": 72,
    "start_time": "2022-11-29T14:47:24.332Z"
   },
   {
    "duration": 17,
    "start_time": "2022-11-29T14:47:24.406Z"
   },
   {
    "duration": 18,
    "start_time": "2022-11-29T14:47:24.424Z"
   },
   {
    "duration": 17,
    "start_time": "2022-11-29T14:47:24.444Z"
   },
   {
    "duration": 54,
    "start_time": "2022-11-29T14:47:24.462Z"
   },
   {
    "duration": 4,
    "start_time": "2022-11-29T14:47:24.518Z"
   },
   {
    "duration": 13,
    "start_time": "2022-11-29T14:47:24.523Z"
   },
   {
    "duration": 10,
    "start_time": "2022-11-29T14:47:24.537Z"
   },
   {
    "duration": 14,
    "start_time": "2022-11-29T14:47:24.549Z"
   },
   {
    "duration": 6,
    "start_time": "2022-11-29T14:47:24.565Z"
   },
   {
    "duration": 48,
    "start_time": "2022-11-29T14:47:24.573Z"
   },
   {
    "duration": 11,
    "start_time": "2022-11-29T14:47:24.622Z"
   },
   {
    "duration": 6,
    "start_time": "2022-11-29T14:47:24.634Z"
   },
   {
    "duration": 12,
    "start_time": "2022-11-29T14:47:24.642Z"
   },
   {
    "duration": 24,
    "start_time": "2022-11-29T14:47:24.656Z"
   },
   {
    "duration": 32,
    "start_time": "2022-11-29T14:47:24.681Z"
   },
   {
    "duration": 3,
    "start_time": "2022-11-29T14:47:24.715Z"
   },
   {
    "duration": 13,
    "start_time": "2022-11-29T14:47:24.719Z"
   },
   {
    "duration": 8,
    "start_time": "2022-11-29T14:47:24.733Z"
   },
   {
    "duration": 9,
    "start_time": "2022-11-29T14:47:24.742Z"
   },
   {
    "duration": 12,
    "start_time": "2022-11-29T14:47:24.753Z"
   },
   {
    "duration": 7,
    "start_time": "2022-11-29T14:47:24.767Z"
   },
   {
    "duration": 11,
    "start_time": "2022-11-29T14:47:24.796Z"
   },
   {
    "duration": 11,
    "start_time": "2022-11-29T14:47:24.809Z"
   },
   {
    "duration": 11,
    "start_time": "2022-11-29T14:47:24.822Z"
   },
   {
    "duration": 8,
    "start_time": "2022-11-29T14:47:24.834Z"
   },
   {
    "duration": 7,
    "start_time": "2022-11-29T14:47:24.844Z"
   },
   {
    "duration": 3,
    "start_time": "2022-11-29T14:47:24.854Z"
   },
   {
    "duration": 6,
    "start_time": "2022-11-29T14:47:24.859Z"
   },
   {
    "duration": 7,
    "start_time": "2022-11-29T14:48:05.057Z"
   },
   {
    "duration": 11,
    "start_time": "2022-11-29T14:48:05.654Z"
   },
   {
    "duration": 8,
    "start_time": "2022-11-29T14:48:17.562Z"
   },
   {
    "duration": 5,
    "start_time": "2022-11-29T14:48:18.122Z"
   },
   {
    "duration": 73,
    "start_time": "2022-11-29T14:48:31.210Z"
   },
   {
    "duration": 16,
    "start_time": "2022-11-29T14:48:31.285Z"
   },
   {
    "duration": 33,
    "start_time": "2022-11-29T14:48:31.303Z"
   },
   {
    "duration": 19,
    "start_time": "2022-11-29T14:48:31.339Z"
   },
   {
    "duration": 54,
    "start_time": "2022-11-29T14:48:31.360Z"
   },
   {
    "duration": 4,
    "start_time": "2022-11-29T14:48:31.416Z"
   },
   {
    "duration": 27,
    "start_time": "2022-11-29T14:48:31.422Z"
   },
   {
    "duration": 36,
    "start_time": "2022-11-29T14:48:31.451Z"
   },
   {
    "duration": 20,
    "start_time": "2022-11-29T14:48:31.489Z"
   },
   {
    "duration": 16,
    "start_time": "2022-11-29T14:48:31.513Z"
   },
   {
    "duration": 41,
    "start_time": "2022-11-29T14:48:31.530Z"
   },
   {
    "duration": 10,
    "start_time": "2022-11-29T14:48:31.573Z"
   },
   {
    "duration": 15,
    "start_time": "2022-11-29T14:48:31.585Z"
   },
   {
    "duration": 27,
    "start_time": "2022-11-29T14:48:31.601Z"
   },
   {
    "duration": 45,
    "start_time": "2022-11-29T14:48:31.630Z"
   },
   {
    "duration": 30,
    "start_time": "2022-11-29T14:48:31.677Z"
   },
   {
    "duration": 14,
    "start_time": "2022-11-29T14:48:31.709Z"
   },
   {
    "duration": 23,
    "start_time": "2022-11-29T14:48:31.724Z"
   },
   {
    "duration": 12,
    "start_time": "2022-11-29T14:48:31.749Z"
   },
   {
    "duration": 12,
    "start_time": "2022-11-29T14:48:31.763Z"
   },
   {
    "duration": 18,
    "start_time": "2022-11-29T14:48:31.777Z"
   },
   {
    "duration": 18,
    "start_time": "2022-11-29T14:48:31.797Z"
   },
   {
    "duration": 26,
    "start_time": "2022-11-29T14:48:31.817Z"
   },
   {
    "duration": 12,
    "start_time": "2022-11-29T14:48:31.845Z"
   },
   {
    "duration": 14,
    "start_time": "2022-11-29T14:48:31.860Z"
   },
   {
    "duration": 15,
    "start_time": "2022-11-29T14:48:31.876Z"
   },
   {
    "duration": 9,
    "start_time": "2022-11-29T14:48:31.893Z"
   },
   {
    "duration": 71,
    "start_time": "2022-11-29T14:51:31.637Z"
   },
   {
    "duration": 16,
    "start_time": "2022-11-29T14:51:31.710Z"
   },
   {
    "duration": 23,
    "start_time": "2022-11-29T14:51:31.728Z"
   },
   {
    "duration": 9,
    "start_time": "2022-11-29T14:51:31.754Z"
   },
   {
    "duration": 57,
    "start_time": "2022-11-29T14:51:31.765Z"
   },
   {
    "duration": 4,
    "start_time": "2022-11-29T14:51:31.823Z"
   },
   {
    "duration": 13,
    "start_time": "2022-11-29T14:51:31.829Z"
   },
   {
    "duration": 7,
    "start_time": "2022-11-29T14:51:31.844Z"
   },
   {
    "duration": 25,
    "start_time": "2022-11-29T14:51:31.853Z"
   },
   {
    "duration": 10,
    "start_time": "2022-11-29T14:51:31.882Z"
   },
   {
    "duration": 45,
    "start_time": "2022-11-29T14:51:31.894Z"
   },
   {
    "duration": 9,
    "start_time": "2022-11-29T14:51:31.941Z"
   },
   {
    "duration": 4,
    "start_time": "2022-11-29T14:51:31.952Z"
   },
   {
    "duration": 13,
    "start_time": "2022-11-29T14:51:31.957Z"
   },
   {
    "duration": 46,
    "start_time": "2022-11-29T14:51:31.971Z"
   },
   {
    "duration": 21,
    "start_time": "2022-11-29T14:51:32.019Z"
   },
   {
    "duration": 4,
    "start_time": "2022-11-29T14:51:32.042Z"
   },
   {
    "duration": 14,
    "start_time": "2022-11-29T14:51:32.048Z"
   },
   {
    "duration": 6,
    "start_time": "2022-11-29T14:51:32.064Z"
   },
   {
    "duration": 26,
    "start_time": "2022-11-29T14:51:32.072Z"
   },
   {
    "duration": 20,
    "start_time": "2022-11-29T14:51:32.100Z"
   },
   {
    "duration": 12,
    "start_time": "2022-11-29T14:51:32.121Z"
   },
   {
    "duration": 11,
    "start_time": "2022-11-29T14:51:32.135Z"
   },
   {
    "duration": 10,
    "start_time": "2022-11-29T14:51:32.147Z"
   },
   {
    "duration": 12,
    "start_time": "2022-11-29T14:51:32.158Z"
   },
   {
    "duration": 47,
    "start_time": "2022-11-29T14:51:32.171Z"
   },
   {
    "duration": 0,
    "start_time": "2022-11-29T14:51:32.220Z"
   },
   {
    "duration": 0,
    "start_time": "2022-11-29T14:51:32.222Z"
   },
   {
    "duration": 9,
    "start_time": "2022-11-29T14:51:53.808Z"
   },
   {
    "duration": 13,
    "start_time": "2022-11-29T14:51:56.169Z"
   },
   {
    "duration": 72,
    "start_time": "2022-11-29T14:54:16.542Z"
   },
   {
    "duration": 16,
    "start_time": "2022-11-29T14:54:16.616Z"
   },
   {
    "duration": 18,
    "start_time": "2022-11-29T14:54:16.633Z"
   },
   {
    "duration": 9,
    "start_time": "2022-11-29T14:54:16.653Z"
   },
   {
    "duration": 63,
    "start_time": "2022-11-29T14:54:16.664Z"
   },
   {
    "duration": 3,
    "start_time": "2022-11-29T14:54:16.729Z"
   },
   {
    "duration": 12,
    "start_time": "2022-11-29T14:54:16.733Z"
   },
   {
    "duration": 7,
    "start_time": "2022-11-29T14:54:16.746Z"
   },
   {
    "duration": 13,
    "start_time": "2022-11-29T14:54:16.754Z"
   },
   {
    "duration": 11,
    "start_time": "2022-11-29T14:54:16.770Z"
   },
   {
    "duration": 36,
    "start_time": "2022-11-29T14:54:16.797Z"
   },
   {
    "duration": 10,
    "start_time": "2022-11-29T14:54:16.834Z"
   },
   {
    "duration": 4,
    "start_time": "2022-11-29T14:54:16.846Z"
   },
   {
    "duration": 16,
    "start_time": "2022-11-29T14:54:16.851Z"
   },
   {
    "duration": 36,
    "start_time": "2022-11-29T14:54:16.869Z"
   },
   {
    "duration": 20,
    "start_time": "2022-11-29T14:54:16.906Z"
   },
   {
    "duration": 4,
    "start_time": "2022-11-29T14:54:16.927Z"
   },
   {
    "duration": 15,
    "start_time": "2022-11-29T14:54:16.933Z"
   },
   {
    "duration": 8,
    "start_time": "2022-11-29T14:54:16.949Z"
   },
   {
    "duration": 5,
    "start_time": "2022-11-29T14:54:16.959Z"
   },
   {
    "duration": 33,
    "start_time": "2022-11-29T14:54:16.966Z"
   },
   {
    "duration": 10,
    "start_time": "2022-11-29T14:54:17.001Z"
   },
   {
    "duration": 12,
    "start_time": "2022-11-29T14:54:17.013Z"
   },
   {
    "duration": 9,
    "start_time": "2022-11-29T14:54:17.026Z"
   },
   {
    "duration": 12,
    "start_time": "2022-11-29T14:54:17.037Z"
   },
   {
    "duration": 14,
    "start_time": "2022-11-29T14:54:17.050Z"
   },
   {
    "duration": 37,
    "start_time": "2022-11-29T14:54:17.065Z"
   },
   {
    "duration": 13,
    "start_time": "2022-11-29T14:54:17.105Z"
   },
   {
    "duration": 11,
    "start_time": "2022-11-29T14:54:17.120Z"
   },
   {
    "duration": 45,
    "start_time": "2022-11-29T18:30:33.396Z"
   },
   {
    "duration": 9,
    "start_time": "2022-11-29T18:30:33.962Z"
   },
   {
    "duration": 6,
    "start_time": "2022-11-29T18:30:41.259Z"
   },
   {
    "duration": 6,
    "start_time": "2022-11-29T18:30:42.137Z"
   },
   {
    "duration": 493,
    "start_time": "2022-11-29T18:30:52.868Z"
   },
   {
    "duration": 22,
    "start_time": "2022-11-29T18:30:53.363Z"
   },
   {
    "duration": 16,
    "start_time": "2022-11-29T18:30:53.387Z"
   },
   {
    "duration": 11,
    "start_time": "2022-11-29T18:30:53.405Z"
   },
   {
    "duration": 36,
    "start_time": "2022-11-29T18:30:53.417Z"
   },
   {
    "duration": 3,
    "start_time": "2022-11-29T18:30:53.455Z"
   },
   {
    "duration": 11,
    "start_time": "2022-11-29T18:30:53.460Z"
   },
   {
    "duration": 4,
    "start_time": "2022-11-29T18:30:53.473Z"
   },
   {
    "duration": 9,
    "start_time": "2022-11-29T18:30:53.479Z"
   },
   {
    "duration": 25,
    "start_time": "2022-11-29T18:30:53.490Z"
   },
   {
    "duration": 32,
    "start_time": "2022-11-29T18:30:53.518Z"
   },
   {
    "duration": 10,
    "start_time": "2022-11-29T18:30:53.552Z"
   },
   {
    "duration": 5,
    "start_time": "2022-11-29T18:30:53.563Z"
   },
   {
    "duration": 43,
    "start_time": "2022-11-29T18:30:53.570Z"
   },
   {
    "duration": 28,
    "start_time": "2022-11-29T18:30:53.615Z"
   },
   {
    "duration": 19,
    "start_time": "2022-11-29T18:30:53.645Z"
   },
   {
    "duration": 4,
    "start_time": "2022-11-29T18:30:53.666Z"
   },
   {
    "duration": 17,
    "start_time": "2022-11-29T18:30:53.672Z"
   },
   {
    "duration": 22,
    "start_time": "2022-11-29T18:30:53.692Z"
   },
   {
    "duration": 3,
    "start_time": "2022-11-29T18:30:53.716Z"
   },
   {
    "duration": 13,
    "start_time": "2022-11-29T18:30:53.721Z"
   },
   {
    "duration": 16,
    "start_time": "2022-11-29T18:30:53.736Z"
   },
   {
    "duration": 16,
    "start_time": "2022-11-29T18:30:53.753Z"
   },
   {
    "duration": 10,
    "start_time": "2022-11-29T18:30:53.771Z"
   },
   {
    "duration": 31,
    "start_time": "2022-11-29T18:30:53.783Z"
   },
   {
    "duration": 8,
    "start_time": "2022-11-29T18:30:53.816Z"
   },
   {
    "duration": 10,
    "start_time": "2022-11-29T18:30:53.826Z"
   },
   {
    "duration": 9,
    "start_time": "2022-11-29T18:30:53.840Z"
   },
   {
    "duration": 11,
    "start_time": "2022-11-29T18:30:53.851Z"
   },
   {
    "duration": 8,
    "start_time": "2022-11-29T18:37:23.509Z"
   },
   {
    "duration": 10,
    "start_time": "2022-11-29T18:37:24.047Z"
   },
   {
    "duration": 35,
    "start_time": "2022-11-29T18:39:21.643Z"
   },
   {
    "duration": 13,
    "start_time": "2022-11-29T18:39:34.191Z"
   },
   {
    "duration": 11,
    "start_time": "2022-11-29T18:40:21.100Z"
   },
   {
    "duration": 16,
    "start_time": "2022-11-29T18:40:22.202Z"
   },
   {
    "duration": 7,
    "start_time": "2022-11-29T18:40:38.679Z"
   },
   {
    "duration": 10,
    "start_time": "2022-11-29T18:40:40.125Z"
   },
   {
    "duration": 7,
    "start_time": "2022-11-29T18:41:09.275Z"
   },
   {
    "duration": 84,
    "start_time": "2022-11-29T18:41:18.759Z"
   },
   {
    "duration": 5,
    "start_time": "2022-11-29T18:41:31.670Z"
   },
   {
    "duration": 961,
    "start_time": "2022-11-29T18:42:42.097Z"
   },
   {
    "duration": 66,
    "start_time": "2022-11-29T18:43:23.293Z"
   },
   {
    "duration": 18,
    "start_time": "2022-11-29T18:43:23.361Z"
   },
   {
    "duration": 32,
    "start_time": "2022-11-29T18:43:23.381Z"
   },
   {
    "duration": 9,
    "start_time": "2022-11-29T18:43:23.415Z"
   },
   {
    "duration": 32,
    "start_time": "2022-11-29T18:43:23.425Z"
   },
   {
    "duration": 3,
    "start_time": "2022-11-29T18:43:23.459Z"
   },
   {
    "duration": 11,
    "start_time": "2022-11-29T18:43:23.463Z"
   },
   {
    "duration": 4,
    "start_time": "2022-11-29T18:43:23.476Z"
   },
   {
    "duration": 32,
    "start_time": "2022-11-29T18:43:23.482Z"
   },
   {
    "duration": 8,
    "start_time": "2022-11-29T18:43:23.516Z"
   },
   {
    "duration": 35,
    "start_time": "2022-11-29T18:43:23.525Z"
   },
   {
    "duration": 9,
    "start_time": "2022-11-29T18:43:23.562Z"
   },
   {
    "duration": 4,
    "start_time": "2022-11-29T18:43:23.573Z"
   },
   {
    "duration": 37,
    "start_time": "2022-11-29T18:43:23.578Z"
   },
   {
    "duration": 22,
    "start_time": "2022-11-29T18:43:23.617Z"
   },
   {
    "duration": 16,
    "start_time": "2022-11-29T18:43:23.641Z"
   },
   {
    "duration": 3,
    "start_time": "2022-11-29T18:43:23.659Z"
   },
   {
    "duration": 14,
    "start_time": "2022-11-29T18:43:23.663Z"
   },
   {
    "duration": 5,
    "start_time": "2022-11-29T18:43:23.679Z"
   },
   {
    "duration": 28,
    "start_time": "2022-11-29T18:43:23.685Z"
   },
   {
    "duration": 13,
    "start_time": "2022-11-29T18:43:23.715Z"
   },
   {
    "duration": 9,
    "start_time": "2022-11-29T18:43:23.730Z"
   },
   {
    "duration": 10,
    "start_time": "2022-11-29T18:43:23.740Z"
   },
   {
    "duration": 11,
    "start_time": "2022-11-29T18:43:23.752Z"
   },
   {
    "duration": 10,
    "start_time": "2022-11-29T18:43:23.765Z"
   },
   {
    "duration": 12,
    "start_time": "2022-11-29T18:43:23.776Z"
   },
   {
    "duration": 31,
    "start_time": "2022-11-29T18:43:23.789Z"
   },
   {
    "duration": 8,
    "start_time": "2022-11-29T18:43:23.823Z"
   },
   {
    "duration": 10,
    "start_time": "2022-11-29T18:43:23.833Z"
   },
   {
    "duration": 66,
    "start_time": "2022-11-29T19:59:46.654Z"
   },
   {
    "duration": 15,
    "start_time": "2022-11-29T19:59:46.722Z"
   },
   {
    "duration": 17,
    "start_time": "2022-11-29T19:59:46.739Z"
   },
   {
    "duration": 9,
    "start_time": "2022-11-29T19:59:46.759Z"
   },
   {
    "duration": 52,
    "start_time": "2022-11-29T19:59:46.770Z"
   },
   {
    "duration": 4,
    "start_time": "2022-11-29T19:59:46.824Z"
   },
   {
    "duration": 13,
    "start_time": "2022-11-29T19:59:46.829Z"
   },
   {
    "duration": 11,
    "start_time": "2022-11-29T19:59:46.844Z"
   },
   {
    "duration": 9,
    "start_time": "2022-11-29T19:59:46.857Z"
   },
   {
    "duration": 7,
    "start_time": "2022-11-29T19:59:46.869Z"
   },
   {
    "duration": 51,
    "start_time": "2022-11-29T19:59:46.877Z"
   },
   {
    "duration": 15,
    "start_time": "2022-11-29T19:59:46.930Z"
   },
   {
    "duration": 7,
    "start_time": "2022-11-29T19:59:46.947Z"
   },
   {
    "duration": 13,
    "start_time": "2022-11-29T19:59:46.956Z"
   },
   {
    "duration": 43,
    "start_time": "2022-11-29T19:59:46.971Z"
   },
   {
    "duration": 19,
    "start_time": "2022-11-29T19:59:47.015Z"
   },
   {
    "duration": 4,
    "start_time": "2022-11-29T19:59:47.035Z"
   },
   {
    "duration": 12,
    "start_time": "2022-11-29T19:59:47.041Z"
   },
   {
    "duration": 7,
    "start_time": "2022-11-29T19:59:47.055Z"
   },
   {
    "duration": 9,
    "start_time": "2022-11-29T19:59:47.064Z"
   },
   {
    "duration": 38,
    "start_time": "2022-11-29T19:59:47.075Z"
   },
   {
    "duration": 14,
    "start_time": "2022-11-29T19:59:47.115Z"
   },
   {
    "duration": 13,
    "start_time": "2022-11-29T19:59:47.131Z"
   },
   {
    "duration": 10,
    "start_time": "2022-11-29T19:59:47.146Z"
   },
   {
    "duration": 11,
    "start_time": "2022-11-29T19:59:47.157Z"
   },
   {
    "duration": 11,
    "start_time": "2022-11-29T19:59:47.169Z"
   },
   {
    "duration": 37,
    "start_time": "2022-11-29T19:59:47.181Z"
   },
   {
    "duration": 14,
    "start_time": "2022-11-29T19:59:47.221Z"
   },
   {
    "duration": 12,
    "start_time": "2022-11-29T19:59:47.236Z"
   },
   {
    "duration": 5,
    "start_time": "2022-11-29T19:59:47.249Z"
   },
   {
    "duration": 98,
    "start_time": "2022-11-29T20:34:44.712Z"
   }
  ],
  "colab": {
   "name": "dpp_template_part2.ipynb",
   "provenance": []
  },
  "kernelspec": {
   "display_name": "Python 3 (ipykernel)",
   "language": "python",
   "name": "python3"
  },
  "language_info": {
   "codemirror_mode": {
    "name": "ipython",
    "version": 3
   },
   "file_extension": ".py",
   "mimetype": "text/x-python",
   "name": "python",
   "nbconvert_exporter": "python",
   "pygments_lexer": "ipython3",
   "version": "3.9.5"
  },
  "toc": {
   "base_numbering": 1,
   "nav_menu": {},
   "number_sections": true,
   "sideBar": true,
   "skip_h1_title": true,
   "title_cell": "Table of Contents",
   "title_sidebar": "Contents",
   "toc_cell": false,
   "toc_position": {},
   "toc_section_display": true,
   "toc_window_display": false
  }
 },
 "nbformat": 4,
 "nbformat_minor": 5
}
