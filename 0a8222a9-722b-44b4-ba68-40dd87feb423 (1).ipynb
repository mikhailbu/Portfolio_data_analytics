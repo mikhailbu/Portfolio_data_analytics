{
 "cells": [
  {
   "cell_type": "markdown",
   "metadata": {},
   "source": [
    "# Сборный проект - 2"
   ]
  },
  {
   "cell_type": "markdown",
   "metadata": {},
   "source": [
    "## Описание проекта"
   ]
  },
  {
   "cell_type": "markdown",
   "metadata": {},
   "source": [
    "Вы работаете в стартапе, который продаёт продукты питания. Нужно разобраться, как ведут себя пользователи вашего мобильного приложения. \n",
    "\n",
    "Изучите воронку продаж. Узнайте, как пользователи доходят до покупки. Сколько пользователей доходит до покупки, а сколько — «застревает» на предыдущих шагах? На каких именно?\n",
    "\n",
    "После этого исследуйте результаты A/A/B-эксперимента. Дизайнеры захотели поменять шрифты во всём приложении, а менеджеры испугались, что пользователям будет непривычно. Договорились принять решение по результатам A/A/B-теста. Пользователей разбили на 3 группы: 2 контрольные со старыми шрифтами и одну экспериментальную — с новыми. Выясните, какой шрифт лучше.\n",
    "\n",
    "Создание двух групп A вместо одной имеет определённые преимущества. Если две контрольные группы окажутся равны, вы можете быть уверены в точности проведенного тестирования. Если же между значениями A и A будут существенные различия, это поможет обнаружить факторы, которые привели к искажению результатов. Сравнение контрольных групп также помогает понять, сколько времени и данных потребуется для дальнейших тестов.\n",
    "\n",
    "В случае общей аналитики и A/A/B-эксперимента работайте с одними и теми же данными. В реальных проектах всегда идут эксперименты. Аналитики исследуют качество работы приложения по общим данным, не учитывая принадлежность пользователей к эксперимента"
   ]
  },
  {
   "cell_type": "markdown",
   "metadata": {},
   "source": [
    "## Описание данных"
   ]
  },
  {
   "cell_type": "markdown",
   "metadata": {},
   "source": [
    "Каждая запись в логе — это действие пользователя, или событие. \n",
    "\n",
    "EventName — название события;\n",
    "\n",
    "DeviceIDHash — уникальный идентификатор пользователя;\n",
    "\n",
    "EventTimestamp — время события;\n",
    "\n",
    "ExpId — номер эксперимента: 246 и 247 — контрольные группы, а 248 — экспериментальная."
   ]
  },
  {
   "cell_type": "markdown",
   "metadata": {},
   "source": [
    "## Решение аналитического кейса"
   ]
  },
  {
   "cell_type": "markdown",
   "metadata": {},
   "source": [
    "### Общая информация"
   ]
  },
  {
   "cell_type": "code",
   "execution_count": 1,
   "metadata": {},
   "outputs": [],
   "source": [
    "#импорт библиотек\n",
    "#import numpy as np\n",
    "#import matplotlib.pyplot as plt\n",
    "#import seaborn as sns\n",
    "#import datetime as dt\n",
    "#import os\n",
    "#import plotly\n",
    "#from scipy import stats as st\n",
    "#import math as mth"
   ]
  },
  {
   "cell_type": "code",
   "execution_count": 2,
   "metadata": {},
   "outputs": [],
   "source": [
    "import pandas as pd\n",
    "import numpy as np\n",
    "import matplotlib.pyplot as plt\n",
    "%matplotlib inline\n",
    "import seaborn as sns\n",
    "import datetime as dt\n",
    "import os\n",
    "import plotly\n",
    "import plotly.graph_objs as go\n",
    "from scipy import stats as st\n",
    "import math as mth"
   ]
  },
  {
   "cell_type": "code",
   "execution_count": 3,
   "metadata": {},
   "outputs": [],
   "source": [
    "logs = pd.read_csv('/datasets/logs_exp.csv', sep='\\t')"
   ]
  },
  {
   "cell_type": "code",
   "execution_count": 4,
   "metadata": {},
   "outputs": [
    {
     "data": {
      "text/html": [
       "<div>\n",
       "<style scoped>\n",
       "    .dataframe tbody tr th:only-of-type {\n",
       "        vertical-align: middle;\n",
       "    }\n",
       "\n",
       "    .dataframe tbody tr th {\n",
       "        vertical-align: top;\n",
       "    }\n",
       "\n",
       "    .dataframe thead th {\n",
       "        text-align: right;\n",
       "    }\n",
       "</style>\n",
       "<table border=\"1\" class=\"dataframe\">\n",
       "  <thead>\n",
       "    <tr style=\"text-align: right;\">\n",
       "      <th></th>\n",
       "      <th>EventName</th>\n",
       "      <th>DeviceIDHash</th>\n",
       "      <th>EventTimestamp</th>\n",
       "      <th>ExpId</th>\n",
       "    </tr>\n",
       "  </thead>\n",
       "  <tbody>\n",
       "    <tr>\n",
       "      <th>0</th>\n",
       "      <td>MainScreenAppear</td>\n",
       "      <td>4575588528974610257</td>\n",
       "      <td>1564029816</td>\n",
       "      <td>246</td>\n",
       "    </tr>\n",
       "    <tr>\n",
       "      <th>1</th>\n",
       "      <td>MainScreenAppear</td>\n",
       "      <td>7416695313311560658</td>\n",
       "      <td>1564053102</td>\n",
       "      <td>246</td>\n",
       "    </tr>\n",
       "    <tr>\n",
       "      <th>2</th>\n",
       "      <td>PaymentScreenSuccessful</td>\n",
       "      <td>3518123091307005509</td>\n",
       "      <td>1564054127</td>\n",
       "      <td>248</td>\n",
       "    </tr>\n",
       "    <tr>\n",
       "      <th>3</th>\n",
       "      <td>CartScreenAppear</td>\n",
       "      <td>3518123091307005509</td>\n",
       "      <td>1564054127</td>\n",
       "      <td>248</td>\n",
       "    </tr>\n",
       "    <tr>\n",
       "      <th>4</th>\n",
       "      <td>PaymentScreenSuccessful</td>\n",
       "      <td>6217807653094995999</td>\n",
       "      <td>1564055322</td>\n",
       "      <td>248</td>\n",
       "    </tr>\n",
       "  </tbody>\n",
       "</table>\n",
       "</div>"
      ],
      "text/plain": [
       "                 EventName         DeviceIDHash  EventTimestamp  ExpId\n",
       "0         MainScreenAppear  4575588528974610257      1564029816    246\n",
       "1         MainScreenAppear  7416695313311560658      1564053102    246\n",
       "2  PaymentScreenSuccessful  3518123091307005509      1564054127    248\n",
       "3         CartScreenAppear  3518123091307005509      1564054127    248\n",
       "4  PaymentScreenSuccessful  6217807653094995999      1564055322    248"
      ]
     },
     "execution_count": 4,
     "metadata": {},
     "output_type": "execute_result"
    }
   ],
   "source": [
    "logs.head()"
   ]
  },
  {
   "cell_type": "code",
   "execution_count": 5,
   "metadata": {},
   "outputs": [
    {
     "name": "stdout",
     "output_type": "stream",
     "text": [
      "<class 'pandas.core.frame.DataFrame'>\n",
      "RangeIndex: 244126 entries, 0 to 244125\n",
      "Data columns (total 4 columns):\n",
      " #   Column          Non-Null Count   Dtype \n",
      "---  ------          --------------   ----- \n",
      " 0   EventName       244126 non-null  object\n",
      " 1   DeviceIDHash    244126 non-null  int64 \n",
      " 2   EventTimestamp  244126 non-null  int64 \n",
      " 3   ExpId           244126 non-null  int64 \n",
      "dtypes: int64(3), object(1)\n",
      "memory usage: 7.5+ MB\n"
     ]
    }
   ],
   "source": [
    "logs.info()"
   ]
  },
  {
   "cell_type": "markdown",
   "metadata": {},
   "source": [
    "### Подготовка данных"
   ]
  },
  {
   "cell_type": "code",
   "execution_count": 6,
   "metadata": {},
   "outputs": [
    {
     "data": {
      "text/plain": [
       "EventName         0\n",
       "DeviceIDHash      0\n",
       "EventTimestamp    0\n",
       "ExpId             0\n",
       "dtype: int64"
      ]
     },
     "execution_count": 6,
     "metadata": {},
     "output_type": "execute_result"
    }
   ],
   "source": [
    "#проверка на пропуски в данных\n",
    "logs.isna().sum()"
   ]
  },
  {
   "cell_type": "code",
   "execution_count": 7,
   "metadata": {},
   "outputs": [
    {
     "data": {
      "text/plain": [
       "413"
      ]
     },
     "execution_count": 7,
     "metadata": {},
     "output_type": "execute_result"
    }
   ],
   "source": [
    "#проверка на дубликаты\n",
    "logs.duplicated().sum()"
   ]
  },
  {
   "cell_type": "code",
   "execution_count": 8,
   "metadata": {},
   "outputs": [],
   "source": [
    "#удаление дубликатов\n",
    "logs = logs.drop_duplicates()"
   ]
  },
  {
   "cell_type": "code",
   "execution_count": 9,
   "metadata": {},
   "outputs": [],
   "source": [
    "#переименование столбцов\n",
    "logs.rename(columns = {'EventName':'event_name',\n",
    "                       'DeviceIDHash':'user_id', \n",
    "                       'EventTimestamp':'event_timestamp',\n",
    "                       'ExpId':'exp_id'}, inplace = True)"
   ]
  },
  {
   "cell_type": "code",
   "execution_count": 10,
   "metadata": {},
   "outputs": [],
   "source": [
    "#изменение типа данных\n",
    "logs['event_timestamp'] = logs['event_timestamp'].astype('datetime64[s]')"
   ]
  },
  {
   "cell_type": "code",
   "execution_count": 11,
   "metadata": {},
   "outputs": [],
   "source": [
    "#добавление новых столбцов\n",
    "logs['date_time'] = pd.to_datetime(logs['event_timestamp'], unit='s')\n",
    "logs['date'] = logs['date_time'].astype('datetime64[D]')"
   ]
  },
  {
   "cell_type": "code",
   "execution_count": 12,
   "metadata": {},
   "outputs": [],
   "source": [
    "#добавление столбцов А1, А2 и В\n",
    "logs['group'] = logs['exp_id'].replace(246, 'A1')\n",
    "logs['group'] = logs['group'].replace(247, 'A2')\n",
    "logs['group'] = logs['group'].replace(248, 'B')"
   ]
  },
  {
   "cell_type": "code",
   "execution_count": 13,
   "metadata": {},
   "outputs": [
    {
     "data": {
      "text/html": [
       "<div>\n",
       "<style scoped>\n",
       "    .dataframe tbody tr th:only-of-type {\n",
       "        vertical-align: middle;\n",
       "    }\n",
       "\n",
       "    .dataframe tbody tr th {\n",
       "        vertical-align: top;\n",
       "    }\n",
       "\n",
       "    .dataframe thead th {\n",
       "        text-align: right;\n",
       "    }\n",
       "</style>\n",
       "<table border=\"1\" class=\"dataframe\">\n",
       "  <thead>\n",
       "    <tr style=\"text-align: right;\">\n",
       "      <th></th>\n",
       "      <th>event_name</th>\n",
       "      <th>user_id</th>\n",
       "      <th>event_timestamp</th>\n",
       "      <th>exp_id</th>\n",
       "      <th>date_time</th>\n",
       "      <th>date</th>\n",
       "      <th>group</th>\n",
       "    </tr>\n",
       "  </thead>\n",
       "  <tbody>\n",
       "    <tr>\n",
       "      <th>0</th>\n",
       "      <td>MainScreenAppear</td>\n",
       "      <td>4575588528974610257</td>\n",
       "      <td>2019-07-25 04:43:36</td>\n",
       "      <td>246</td>\n",
       "      <td>2019-07-25 04:43:36</td>\n",
       "      <td>2019-07-25</td>\n",
       "      <td>A1</td>\n",
       "    </tr>\n",
       "    <tr>\n",
       "      <th>1</th>\n",
       "      <td>MainScreenAppear</td>\n",
       "      <td>7416695313311560658</td>\n",
       "      <td>2019-07-25 11:11:42</td>\n",
       "      <td>246</td>\n",
       "      <td>2019-07-25 11:11:42</td>\n",
       "      <td>2019-07-25</td>\n",
       "      <td>A1</td>\n",
       "    </tr>\n",
       "    <tr>\n",
       "      <th>2</th>\n",
       "      <td>PaymentScreenSuccessful</td>\n",
       "      <td>3518123091307005509</td>\n",
       "      <td>2019-07-25 11:28:47</td>\n",
       "      <td>248</td>\n",
       "      <td>2019-07-25 11:28:47</td>\n",
       "      <td>2019-07-25</td>\n",
       "      <td>B</td>\n",
       "    </tr>\n",
       "    <tr>\n",
       "      <th>3</th>\n",
       "      <td>CartScreenAppear</td>\n",
       "      <td>3518123091307005509</td>\n",
       "      <td>2019-07-25 11:28:47</td>\n",
       "      <td>248</td>\n",
       "      <td>2019-07-25 11:28:47</td>\n",
       "      <td>2019-07-25</td>\n",
       "      <td>B</td>\n",
       "    </tr>\n",
       "    <tr>\n",
       "      <th>4</th>\n",
       "      <td>PaymentScreenSuccessful</td>\n",
       "      <td>6217807653094995999</td>\n",
       "      <td>2019-07-25 11:48:42</td>\n",
       "      <td>248</td>\n",
       "      <td>2019-07-25 11:48:42</td>\n",
       "      <td>2019-07-25</td>\n",
       "      <td>B</td>\n",
       "    </tr>\n",
       "  </tbody>\n",
       "</table>\n",
       "</div>"
      ],
      "text/plain": [
       "                event_name              user_id     event_timestamp  exp_id  \\\n",
       "0         MainScreenAppear  4575588528974610257 2019-07-25 04:43:36     246   \n",
       "1         MainScreenAppear  7416695313311560658 2019-07-25 11:11:42     246   \n",
       "2  PaymentScreenSuccessful  3518123091307005509 2019-07-25 11:28:47     248   \n",
       "3         CartScreenAppear  3518123091307005509 2019-07-25 11:28:47     248   \n",
       "4  PaymentScreenSuccessful  6217807653094995999 2019-07-25 11:48:42     248   \n",
       "\n",
       "            date_time       date group  \n",
       "0 2019-07-25 04:43:36 2019-07-25    A1  \n",
       "1 2019-07-25 11:11:42 2019-07-25    A1  \n",
       "2 2019-07-25 11:28:47 2019-07-25     B  \n",
       "3 2019-07-25 11:28:47 2019-07-25     B  \n",
       "4 2019-07-25 11:48:42 2019-07-25     B  "
      ]
     },
     "execution_count": 13,
     "metadata": {},
     "output_type": "execute_result"
    }
   ],
   "source": [
    "logs.head()"
   ]
  },
  {
   "cell_type": "code",
   "execution_count": 14,
   "metadata": {},
   "outputs": [
    {
     "name": "stdout",
     "output_type": "stream",
     "text": [
      "<class 'pandas.core.frame.DataFrame'>\n",
      "Int64Index: 243713 entries, 0 to 244125\n",
      "Data columns (total 7 columns):\n",
      " #   Column           Non-Null Count   Dtype         \n",
      "---  ------           --------------   -----         \n",
      " 0   event_name       243713 non-null  object        \n",
      " 1   user_id          243713 non-null  int64         \n",
      " 2   event_timestamp  243713 non-null  datetime64[ns]\n",
      " 3   exp_id           243713 non-null  int64         \n",
      " 4   date_time        243713 non-null  datetime64[ns]\n",
      " 5   date             243713 non-null  datetime64[ns]\n",
      " 6   group            243713 non-null  object        \n",
      "dtypes: datetime64[ns](3), int64(2), object(2)\n",
      "memory usage: 14.9+ MB\n"
     ]
    }
   ],
   "source": [
    "#проверка\n",
    "logs.info()"
   ]
  },
  {
   "cell_type": "markdown",
   "metadata": {},
   "source": [
    "#### Вывод\n",
    "\n",
    "Предобработка данных завершена. Дубликаты удалены, столбцы переименованы. Преобразованы типы данных в нужный формат и добавлены новые столбцы, в том числе столбец с обозначениями групп тестирования А1/А2/В."
   ]
  },
  {
   "cell_type": "markdown",
   "metadata": {},
   "source": [
    "### Изучение и проверка данных"
   ]
  },
  {
   "cell_type": "code",
   "execution_count": 15,
   "metadata": {},
   "outputs": [
    {
     "data": {
      "text/plain": [
       "array(['MainScreenAppear', 'PaymentScreenSuccessful', 'CartScreenAppear',\n",
       "       'OffersScreenAppear', 'Tutorial'], dtype=object)"
      ]
     },
     "execution_count": 15,
     "metadata": {},
     "output_type": "execute_result"
    }
   ],
   "source": [
    "#уникальные названия событий\n",
    "logs['event_name'].unique()"
   ]
  },
  {
   "cell_type": "code",
   "execution_count": 16,
   "metadata": {},
   "outputs": [
    {
     "name": "stdout",
     "output_type": "stream",
     "text": [
      "Количество уникальных событий в логе: 5\n"
     ]
    }
   ],
   "source": [
    "print('Количество уникальных событий в логе:', len(logs['event_name'].unique()))"
   ]
  },
  {
   "cell_type": "code",
   "execution_count": 17,
   "metadata": {},
   "outputs": [
    {
     "name": "stdout",
     "output_type": "stream",
     "text": [
      "Количество событий в логе: 243713\n"
     ]
    }
   ],
   "source": [
    "print('Количество событий в логе:', len(logs['event_name']))"
   ]
  },
  {
   "cell_type": "code",
   "execution_count": 18,
   "metadata": {},
   "outputs": [
    {
     "name": "stdout",
     "output_type": "stream",
     "text": [
      "Количество уникальных пользователей в логе: 7551\n"
     ]
    }
   ],
   "source": [
    "print('Количество уникальных пользователей в логе:', len(logs['user_id'].unique()))"
   ]
  },
  {
   "cell_type": "code",
   "execution_count": 19,
   "metadata": {},
   "outputs": [],
   "source": [
    "#logs1 = logs.groupby(['user_id']).agg({'user_id':['count']})\n",
    "#logs1 = logs1['user_id']['count']\n",
    "#logs1.plot.box(figsize=(5,10))\n",
    "#plt.title('Распределение событий')"
   ]
  },
  {
   "cell_type": "code",
   "execution_count": 20,
   "metadata": {},
   "outputs": [
    {
     "name": "stdout",
     "output_type": "stream",
     "text": [
      "На пользователя приходится 20 событий.\n"
     ]
    }
   ],
   "source": [
    "#### посчитала через медиану\n",
    "print('На пользователя приходится {} событий.'\n",
    "      .format(int(logs.groupby('user_id')['event_name'].agg('count').median())))"
   ]
  },
  {
   "cell_type": "code",
   "execution_count": 21,
   "metadata": {},
   "outputs": [
    {
     "name": "stdout",
     "output_type": "stream",
     "text": [
      "Минимальная дата 2019-07-25 04:43:36\n"
     ]
    }
   ],
   "source": [
    "first_date = logs['date_time'].min()\n",
    "print('Минимальная дата', first_date)"
   ]
  },
  {
   "cell_type": "code",
   "execution_count": 22,
   "metadata": {},
   "outputs": [
    {
     "name": "stdout",
     "output_type": "stream",
     "text": [
      "Максимальная дата 2019-08-07 21:15:17\n"
     ]
    }
   ],
   "source": [
    "last_date = logs['date_time'].max()\n",
    "print('Максимальная дата', last_date)"
   ]
  },
  {
   "cell_type": "code",
   "execution_count": 23,
   "metadata": {},
   "outputs": [
    {
     "name": "stdout",
     "output_type": "stream",
     "text": [
      "Мы располагаем данными за 13 days 16:31:41\n"
     ]
    }
   ],
   "source": [
    "duration = last_date - first_date\n",
    "print('Мы располагаем данными за', duration)"
   ]
  },
  {
   "cell_type": "code",
   "execution_count": 24,
   "metadata": {},
   "outputs": [
    {
     "data": {
      "image/png": "[encoded data removed]",
      "text/plain": [
       "<Figure size 1080x360 with 1 Axes>"
      ]
     },
     "metadata": {
      "needs_background": "light"
     },
     "output_type": "display_data"
    }
   ],
   "source": [
    "#гистограмма по дате и времени\n",
    "plt.figure(figsize =(15, 5))\n",
    "logs['date'].hist(bins=15, edgecolor='black')\n",
    "plt.title('Гистограмма по дате и времени')\n",
    "plt.xlabel('Значение')\n",
    "plt.xticks(rotation=40)\n",
    "plt.xlabel('Дата')\n",
    "plt.ylabel('Частота')\n",
    "plt.show()"
   ]
  },
  {
   "cell_type": "code",
   "execution_count": 25,
   "metadata": {},
   "outputs": [],
   "source": [
    "param = 'date'"
   ]
  },
  {
   "cell_type": "code",
   "execution_count": 26,
   "metadata": {},
   "outputs": [],
   "source": [
    "df_agg = logs.groupby(param, as_index=False).agg({'event_timestamp': 'count'})"
   ]
  },
  {
   "cell_type": "code",
   "execution_count": 27,
   "metadata": {},
   "outputs": [
    {
     "data": {
      "image/png": "[encoded data removed]",
      "text/plain": [
       "<Figure size 1200x600 with 1 Axes>"
      ]
     },
     "metadata": {
      "needs_background": "light"
     },
     "output_type": "display_data"
    }
   ],
   "source": [
    "_, ax = plt.subplots(figsize=(12, 6), dpi=100)\n",
    "sns.despine(ax=ax)\n",
    "ax.plot(df_agg[param], df_agg['event_timestamp'], marker='o', ms=3, lw=0.5)\n",
    "ax.grid(color='grey', lw=0.25)\n",
    "ax.set_title(f\"Кол-во событий по времени, агрегация по {param}\")\n",
    "ax.set_xlabel(\"Дата\")\n",
    "ax.set_ylabel(\"Количество\");"
   ]
  },
  {
   "cell_type": "markdown",
   "metadata": {},
   "source": [
    "Мы располагаем данными за 2 недели, но, как видим на графике, не все данные полные и позволяют производить корректный анализ. От неполных необходимо избавиться."
   ]
  },
  {
   "cell_type": "code",
   "execution_count": 28,
   "metadata": {},
   "outputs": [],
   "source": [
    "#в новом датафрейме оставляем только полные данные\n",
    "df = logs.loc[logs['date'] >= '2019-08-01']"
   ]
  },
  {
   "cell_type": "code",
   "execution_count": 29,
   "metadata": {},
   "outputs": [
    {
     "data": {
      "image/png": "[encoded data removed]",
      "text/plain": [
       "<Figure size 1080x360 with 1 Axes>"
      ]
     },
     "metadata": {
      "needs_background": "light"
     },
     "output_type": "display_data"
    }
   ],
   "source": [
    "#гистограмма по дате и времени (2)\n",
    "plt.figure(figsize =(15, 5))\n",
    "ax = df['date_time'].hist(bins=50, edgecolor='black')\n",
    "plt.title('Гистограмма по дате и времени')\n",
    "plt.xlabel('Дата')\n",
    "plt.ylabel('Частота')\n",
    "plt.xticks(rotation=40)\n",
    "plt.show()"
   ]
  },
  {
   "cell_type": "code",
   "execution_count": 30,
   "metadata": {},
   "outputs": [
    {
     "name": "stdout",
     "output_type": "stream",
     "text": [
      "Мы располагаем полными данными в период с 2019-08-01 00:07:28 по 2019-08-07 21:15:17\n"
     ]
    }
   ],
   "source": [
    "print('Мы располагаем полными данными в период с', df['date_time'].min(), 'по', df['date_time'].max())"
   ]
  },
  {
   "cell_type": "code",
   "execution_count": 31,
   "metadata": {},
   "outputs": [
    {
     "name": "stdout",
     "output_type": "stream",
     "text": [
      "Количество событий в логе до отчистки: 243713\n",
      "Количество событий в логе после отчистки: 240887\n",
      "1 % пользователей утерян при отбросе данных\n"
     ]
    }
   ],
   "source": [
    "print('Количество событий в логе до отчистки:', len(logs['event_name']))\n",
    "print('Количество событий в логе после отчистки:', len(df['event_name']))\n",
    "print(round(len(logs['event_name']) / len(df['event_name'])), '% пользователей утерян при отбросе данных')"
   ]
  },
  {
   "cell_type": "code",
   "execution_count": 32,
   "metadata": {},
   "outputs": [
    {
     "name": "stdout",
     "output_type": "stream",
     "text": [
      "Количество уникальных пользователей в логе до отчистки: 7551\n",
      "Количество уникальных пользователей в логе после отчистки: 7534\n",
      "1 % пользователей утерян при отбросе данных\n"
     ]
    }
   ],
   "source": [
    "print('Количество уникальных пользователей в логе до отчистки:', len(logs['user_id'].unique()))\n",
    "print('Количество уникальных пользователей в логе после отчистки:', len(df['user_id'].unique()))\n",
    "print(round(len(logs['user_id'].unique()) / len(df['user_id'].unique())), '% пользователей утерян при отбросе данных')"
   ]
  },
  {
   "cell_type": "code",
   "execution_count": 33,
   "metadata": {},
   "outputs": [
    {
     "data": {
      "text/html": [
       "<div>\n",
       "<style scoped>\n",
       "    .dataframe tbody tr th:only-of-type {\n",
       "        vertical-align: middle;\n",
       "    }\n",
       "\n",
       "    .dataframe tbody tr th {\n",
       "        vertical-align: top;\n",
       "    }\n",
       "\n",
       "    .dataframe thead th {\n",
       "        text-align: right;\n",
       "    }\n",
       "</style>\n",
       "<table border=\"1\" class=\"dataframe\">\n",
       "  <thead>\n",
       "    <tr style=\"text-align: right;\">\n",
       "      <th></th>\n",
       "      <th>user_id</th>\n",
       "    </tr>\n",
       "    <tr>\n",
       "      <th>group</th>\n",
       "      <th></th>\n",
       "    </tr>\n",
       "  </thead>\n",
       "  <tbody>\n",
       "    <tr>\n",
       "      <th>A1</th>\n",
       "      <td>2484</td>\n",
       "    </tr>\n",
       "    <tr>\n",
       "      <th>A2</th>\n",
       "      <td>2513</td>\n",
       "    </tr>\n",
       "    <tr>\n",
       "      <th>B</th>\n",
       "      <td>2537</td>\n",
       "    </tr>\n",
       "  </tbody>\n",
       "</table>\n",
       "</div>"
      ],
      "text/plain": [
       "       user_id\n",
       "group         \n",
       "A1        2484\n",
       "A2        2513\n",
       "B         2537"
      ]
     },
     "execution_count": 33,
     "metadata": {},
     "output_type": "execute_result"
    }
   ],
   "source": [
    "#проверяем, что есть пользователи из всех трёх экспериментальных групп\n",
    "df.groupby('group').agg({'user_id': 'nunique'})"
   ]
  },
  {
   "cell_type": "code",
   "execution_count": 34,
   "metadata": {},
   "outputs": [
    {
     "data": {
      "text/plain": [
       "0"
      ]
     },
     "execution_count": 34,
     "metadata": {},
     "output_type": "execute_result"
    }
   ],
   "source": [
    "#проверим, есть ли значения, которые встречаются в А1 и А2\n",
    "len(np.intersect1d(logs.query('exp_id == 246')['user_id'].unique(), logs.query('exp_id == \"247\"')['user_id'].unique()))"
   ]
  },
  {
   "cell_type": "code",
   "execution_count": 35,
   "metadata": {},
   "outputs": [
    {
     "data": {
      "text/plain": [
       "0"
      ]
     },
     "execution_count": 35,
     "metadata": {},
     "output_type": "execute_result"
    }
   ],
   "source": [
    "#проверим, есть ли значения, которые встречаются в А1 и в В\n",
    "len(np.intersect1d(logs.query('exp_id == 246')['user_id'].unique(), logs.query('exp_id == \"248\"')['user_id'].unique()))"
   ]
  },
  {
   "cell_type": "code",
   "execution_count": 36,
   "metadata": {},
   "outputs": [
    {
     "data": {
      "text/plain": [
       "0"
      ]
     },
     "execution_count": 36,
     "metadata": {},
     "output_type": "execute_result"
    }
   ],
   "source": [
    "#проверим, есть ли значения, которые встречаются в А2 и в В\n",
    "len(np.intersect1d(logs.query('exp_id == 247')['user_id'].unique(), logs.query('exp_id == \"248\"')['user_id'].unique()))\n"
   ]
  },
  {
   "cell_type": "markdown",
   "metadata": {},
   "source": [
    "#### Вывод\n",
    "Изучение и провека данных завершены. \n",
    "\n",
    "В логе: 5 уникальных событий, общее количество событий 243713;\n",
    "7551 уникальный пользователь, на каждого из которых приходятся 32 события.\n",
    "\n",
    "Получены данные за 13 дней, но не все они пригодны для анализа. Оставив только полные данные мы получили период с 2019-08-01 по 2019-08-07. \n",
    "\n",
    "В процессе очистки данных был утерян 1% уникальных пользователей и событий, что не критично.\n",
    "\n",
    "Во всех эксперементальных группах есть пользователи, примерное число которых 2500."
   ]
  },
  {
   "cell_type": "markdown",
   "metadata": {},
   "source": [
    "### Изучение воронки событий"
   ]
  },
  {
   "cell_type": "code",
   "execution_count": 37,
   "metadata": {},
   "outputs": [],
   "source": [
    "logs_events = df['event_name'].value_counts().reset_index()"
   ]
  },
  {
   "cell_type": "code",
   "execution_count": 38,
   "metadata": {},
   "outputs": [
    {
     "data": {
      "text/html": [
       "<div>\n",
       "<style scoped>\n",
       "    .dataframe tbody tr th:only-of-type {\n",
       "        vertical-align: middle;\n",
       "    }\n",
       "\n",
       "    .dataframe tbody tr th {\n",
       "        vertical-align: top;\n",
       "    }\n",
       "\n",
       "    .dataframe thead th {\n",
       "        text-align: right;\n",
       "    }\n",
       "</style>\n",
       "<table border=\"1\" class=\"dataframe\">\n",
       "  <thead>\n",
       "    <tr style=\"text-align: right;\">\n",
       "      <th></th>\n",
       "      <th>index</th>\n",
       "      <th>event_name</th>\n",
       "    </tr>\n",
       "  </thead>\n",
       "  <tbody>\n",
       "    <tr>\n",
       "      <th>0</th>\n",
       "      <td>MainScreenAppear</td>\n",
       "      <td>117328</td>\n",
       "    </tr>\n",
       "    <tr>\n",
       "      <th>1</th>\n",
       "      <td>OffersScreenAppear</td>\n",
       "      <td>46333</td>\n",
       "    </tr>\n",
       "    <tr>\n",
       "      <th>2</th>\n",
       "      <td>CartScreenAppear</td>\n",
       "      <td>42303</td>\n",
       "    </tr>\n",
       "    <tr>\n",
       "      <th>3</th>\n",
       "      <td>PaymentScreenSuccessful</td>\n",
       "      <td>33918</td>\n",
       "    </tr>\n",
       "    <tr>\n",
       "      <th>4</th>\n",
       "      <td>Tutorial</td>\n",
       "      <td>1005</td>\n",
       "    </tr>\n",
       "  </tbody>\n",
       "</table>\n",
       "</div>"
      ],
      "text/plain": [
       "                     index  event_name\n",
       "0         MainScreenAppear      117328\n",
       "1       OffersScreenAppear       46333\n",
       "2         CartScreenAppear       42303\n",
       "3  PaymentScreenSuccessful       33918\n",
       "4                 Tutorial        1005"
      ]
     },
     "execution_count": 38,
     "metadata": {},
     "output_type": "execute_result"
    }
   ],
   "source": [
    "#события в логах и их частота\n",
    "logs_events"
   ]
  },
  {
   "cell_type": "code",
   "execution_count": 39,
   "metadata": {},
   "outputs": [],
   "source": [
    "logs_events_users = df.groupby('event_name')['user_id'].nunique().sort_values(ascending=False).reset_index().rename(columns={'user_id': 'total_users'})"
   ]
  },
  {
   "cell_type": "code",
   "execution_count": 40,
   "metadata": {},
   "outputs": [
    {
     "data": {
      "text/html": [
       "<div>\n",
       "<style scoped>\n",
       "    .dataframe tbody tr th:only-of-type {\n",
       "        vertical-align: middle;\n",
       "    }\n",
       "\n",
       "    .dataframe tbody tr th {\n",
       "        vertical-align: top;\n",
       "    }\n",
       "\n",
       "    .dataframe thead th {\n",
       "        text-align: right;\n",
       "    }\n",
       "</style>\n",
       "<table border=\"1\" class=\"dataframe\">\n",
       "  <thead>\n",
       "    <tr style=\"text-align: right;\">\n",
       "      <th></th>\n",
       "      <th>event_name</th>\n",
       "      <th>total_users</th>\n",
       "    </tr>\n",
       "  </thead>\n",
       "  <tbody>\n",
       "    <tr>\n",
       "      <th>0</th>\n",
       "      <td>MainScreenAppear</td>\n",
       "      <td>7419</td>\n",
       "    </tr>\n",
       "    <tr>\n",
       "      <th>1</th>\n",
       "      <td>OffersScreenAppear</td>\n",
       "      <td>4593</td>\n",
       "    </tr>\n",
       "    <tr>\n",
       "      <th>2</th>\n",
       "      <td>CartScreenAppear</td>\n",
       "      <td>3734</td>\n",
       "    </tr>\n",
       "    <tr>\n",
       "      <th>3</th>\n",
       "      <td>PaymentScreenSuccessful</td>\n",
       "      <td>3539</td>\n",
       "    </tr>\n",
       "    <tr>\n",
       "      <th>4</th>\n",
       "      <td>Tutorial</td>\n",
       "      <td>840</td>\n",
       "    </tr>\n",
       "  </tbody>\n",
       "</table>\n",
       "</div>"
      ],
      "text/plain": [
       "                event_name  total_users\n",
       "0         MainScreenAppear         7419\n",
       "1       OffersScreenAppear         4593\n",
       "2         CartScreenAppear         3734\n",
       "3  PaymentScreenSuccessful         3539\n",
       "4                 Tutorial          840"
      ]
     },
     "execution_count": 40,
     "metadata": {},
     "output_type": "execute_result"
    }
   ],
   "source": [
    "#количество пользователей, совершивших событие\n",
    "logs_events_users"
   ]
  },
  {
   "cell_type": "code",
   "execution_count": 41,
   "metadata": {},
   "outputs": [
    {
     "data": {
      "text/html": [
       "<div>\n",
       "<style scoped>\n",
       "    .dataframe tbody tr th:only-of-type {\n",
       "        vertical-align: middle;\n",
       "    }\n",
       "\n",
       "    .dataframe tbody tr th {\n",
       "        vertical-align: top;\n",
       "    }\n",
       "\n",
       "    .dataframe thead th {\n",
       "        text-align: right;\n",
       "    }\n",
       "</style>\n",
       "<table border=\"1\" class=\"dataframe\">\n",
       "  <thead>\n",
       "    <tr style=\"text-align: right;\">\n",
       "      <th></th>\n",
       "      <th>event_name</th>\n",
       "      <th>total_users</th>\n",
       "      <th>percent</th>\n",
       "    </tr>\n",
       "  </thead>\n",
       "  <tbody>\n",
       "    <tr>\n",
       "      <th>0</th>\n",
       "      <td>MainScreenAppear</td>\n",
       "      <td>7419</td>\n",
       "      <td>98.47</td>\n",
       "    </tr>\n",
       "    <tr>\n",
       "      <th>1</th>\n",
       "      <td>OffersScreenAppear</td>\n",
       "      <td>4593</td>\n",
       "      <td>60.96</td>\n",
       "    </tr>\n",
       "    <tr>\n",
       "      <th>2</th>\n",
       "      <td>CartScreenAppear</td>\n",
       "      <td>3734</td>\n",
       "      <td>49.56</td>\n",
       "    </tr>\n",
       "    <tr>\n",
       "      <th>3</th>\n",
       "      <td>PaymentScreenSuccessful</td>\n",
       "      <td>3539</td>\n",
       "      <td>46.97</td>\n",
       "    </tr>\n",
       "    <tr>\n",
       "      <th>4</th>\n",
       "      <td>Tutorial</td>\n",
       "      <td>840</td>\n",
       "      <td>11.15</td>\n",
       "    </tr>\n",
       "  </tbody>\n",
       "</table>\n",
       "</div>"
      ],
      "text/plain": [
       "                event_name  total_users  percent\n",
       "0         MainScreenAppear         7419    98.47\n",
       "1       OffersScreenAppear         4593    60.96\n",
       "2         CartScreenAppear         3734    49.56\n",
       "3  PaymentScreenSuccessful         3539    46.97\n",
       "4                 Tutorial          840    11.15"
      ]
     },
     "execution_count": 41,
     "metadata": {},
     "output_type": "execute_result"
    }
   ],
   "source": [
    "#% пользователей совершивших действие\n",
    "logs_events_users['percent'] = round(logs_events_users['total_users'] / df['user_id'].nunique() * 100,2)\n",
    "logs_events_users"
   ]
  },
  {
   "cell_type": "markdown",
   "metadata": {},
   "source": [
    "Событие Tutorial самое редковстречающееся. Предположение почему оно оказалось внизу воронки: пользователи проходят руководство в начале пользования ресурсом и, вероятно, это нужно далеко не всем. Это может говорить о том, что большинство пользователей считают, что приложением можно пользоваться интуитивно, интерфейс довольно понятный и удобный, что является плюсом. Если оставим Tutorial в воронке, это испортит данные. Поэтому было принято решение отбросить данное событие, чтобы не нарушать цепочку. \n",
    "Просмотр главного экрана расположился на верхней ступени воронки. 98,5% пользователей посещают его. Далее идут предложения, окно оплаты картой и окно с уведомлением о удачной оплате. В целом, воронка идет с логичным распределением конверсии."
   ]
  },
  {
   "cell_type": "code",
   "execution_count": 42,
   "metadata": {},
   "outputs": [],
   "source": [
    "#удаляем событие Tutorial\n",
    "logs_events_users = logs_events_users[:4]"
   ]
  },
  {
   "cell_type": "code",
   "execution_count": 43,
   "metadata": {},
   "outputs": [
    {
     "name": "stderr",
     "output_type": "stream",
     "text": [
      "/tmp/ipykernel_79/2847306923.py:2: SettingWithCopyWarning: \n",
      "A value is trying to be set on a copy of a slice from a DataFrame.\n",
      "Try using .loc[row_indexer,col_indexer] = value instead\n",
      "\n",
      "See the caveats in the documentation: https://pandas.pydata.org/pandas-docs/stable/user_guide/indexing.html#returning-a-view-versus-a-copy\n",
      "  logs_events_users['step_share'] = round((logs_events_users['percent']/logs_events_users['percent'].shift(1, fill_value = 98.47))*100,2)\n"
     ]
    }
   ],
   "source": [
    "#создание столбца step_share с помощью shift\n",
    "logs_events_users['step_share'] = round((logs_events_users['percent']/logs_events_users['percent'].shift(1, fill_value = 98.47))*100,2)"
   ]
  },
  {
   "cell_type": "code",
   "execution_count": 44,
   "metadata": {},
   "outputs": [
    {
     "data": {
      "text/html": [
       "<div>\n",
       "<style scoped>\n",
       "    .dataframe tbody tr th:only-of-type {\n",
       "        vertical-align: middle;\n",
       "    }\n",
       "\n",
       "    .dataframe tbody tr th {\n",
       "        vertical-align: top;\n",
       "    }\n",
       "\n",
       "    .dataframe thead th {\n",
       "        text-align: right;\n",
       "    }\n",
       "</style>\n",
       "<table border=\"1\" class=\"dataframe\">\n",
       "  <thead>\n",
       "    <tr style=\"text-align: right;\">\n",
       "      <th></th>\n",
       "      <th>event_name</th>\n",
       "      <th>total_users</th>\n",
       "      <th>percent</th>\n",
       "      <th>step_share</th>\n",
       "    </tr>\n",
       "  </thead>\n",
       "  <tbody>\n",
       "    <tr>\n",
       "      <th>0</th>\n",
       "      <td>MainScreenAppear</td>\n",
       "      <td>7419</td>\n",
       "      <td>98.47</td>\n",
       "      <td>100.00</td>\n",
       "    </tr>\n",
       "    <tr>\n",
       "      <th>1</th>\n",
       "      <td>OffersScreenAppear</td>\n",
       "      <td>4593</td>\n",
       "      <td>60.96</td>\n",
       "      <td>61.91</td>\n",
       "    </tr>\n",
       "    <tr>\n",
       "      <th>2</th>\n",
       "      <td>CartScreenAppear</td>\n",
       "      <td>3734</td>\n",
       "      <td>49.56</td>\n",
       "      <td>81.30</td>\n",
       "    </tr>\n",
       "    <tr>\n",
       "      <th>3</th>\n",
       "      <td>PaymentScreenSuccessful</td>\n",
       "      <td>3539</td>\n",
       "      <td>46.97</td>\n",
       "      <td>94.77</td>\n",
       "    </tr>\n",
       "  </tbody>\n",
       "</table>\n",
       "</div>"
      ],
      "text/plain": [
       "                event_name  total_users  percent  step_share\n",
       "0         MainScreenAppear         7419    98.47      100.00\n",
       "1       OffersScreenAppear         4593    60.96       61.91\n",
       "2         CartScreenAppear         3734    49.56       81.30\n",
       "3  PaymentScreenSuccessful         3539    46.97       94.77"
      ]
     },
     "execution_count": 44,
     "metadata": {},
     "output_type": "execute_result"
    }
   ],
   "source": [
    "logs_events_users"
   ]
  },
  {
   "cell_type": "markdown",
   "metadata": {},
   "source": [
    "На первом шаге теряются больше всего пользователей. 38,09% пользователей уходят от нас посмотрев на главный экран(MainScreenAppear) и даже без перехода к каталогу товаров(OffersScreenAppear). Это может говорить о том что интерфейс основной страницы неудобен или некорректно отображается на части устройств. Далее конверсия увеличивается от шага к шагу."
   ]
  },
  {
   "cell_type": "code",
   "execution_count": 45,
   "metadata": {},
   "outputs": [],
   "source": [
    "#считаем долю пользователей\n",
    "share = round(logs_events_users['total_users'][3]/logs_events_users['total_users'][0] *100,2)"
   ]
  },
  {
   "cell_type": "code",
   "execution_count": 46,
   "metadata": {},
   "outputs": [
    {
     "name": "stdout",
     "output_type": "stream",
     "text": [
      "Доля пользователей доходящих от первого события до оплаты 47.7\n"
     ]
    }
   ],
   "source": [
    "print('Доля пользователей доходящих от первого события до оплаты', share)"
   ]
  },
  {
   "cell_type": "markdown",
   "metadata": {},
   "source": [
    "#### Вывод\n"
   ]
  },
  {
   "cell_type": "markdown",
   "metadata": {},
   "source": [
    "Были изучены события в логах: Tutorial, PaymentScreenSuccessful, CartScreenAppear, OffersScreenAppear, MainScreenAppear. \n",
    "\n",
    "Чаще всего встречается событие MainScreenAppear - появление главного экрана(7419). Меньше всего встречается событие Tutorial (840). Для успешного анализа воронки, событие Tutorial пришлось отбросить.\n",
    "\n",
    "По данным из воронки мы получили такие данные:\n",
    "61.9% переходят на шаг от MainScreenAppear до OffersScreenAppear\n",
    "81.3% переходят на шаг от OffersScreenAppear до CartScreenAppear\n",
    "94.7% переходят на шаг от CartScreenAppear до PaymentScreenSuccessful.\n",
    "\n",
    "Меньше половины пользоваателей проходят от первого события до оплаты товара, а именно 47.7% пользователей.\n",
    "\n"
   ]
  },
  {
   "cell_type": "markdown",
   "metadata": {},
   "source": [
    "### Изучение результатов эксперимента"
   ]
  },
  {
   "cell_type": "code",
   "execution_count": 47,
   "metadata": {},
   "outputs": [
    {
     "data": {
      "text/html": [
       "<div>\n",
       "<style scoped>\n",
       "    .dataframe tbody tr th:only-of-type {\n",
       "        vertical-align: middle;\n",
       "    }\n",
       "\n",
       "    .dataframe tbody tr th {\n",
       "        vertical-align: top;\n",
       "    }\n",
       "\n",
       "    .dataframe thead th {\n",
       "        text-align: right;\n",
       "    }\n",
       "</style>\n",
       "<table border=\"1\" class=\"dataframe\">\n",
       "  <thead>\n",
       "    <tr style=\"text-align: right;\">\n",
       "      <th></th>\n",
       "      <th>event_name</th>\n",
       "      <th>user_id</th>\n",
       "      <th>event_timestamp</th>\n",
       "      <th>exp_id</th>\n",
       "      <th>date_time</th>\n",
       "      <th>date</th>\n",
       "      <th>group</th>\n",
       "    </tr>\n",
       "  </thead>\n",
       "  <tbody>\n",
       "    <tr>\n",
       "      <th>2828</th>\n",
       "      <td>Tutorial</td>\n",
       "      <td>3737462046622621720</td>\n",
       "      <td>2019-08-01 00:07:28</td>\n",
       "      <td>246</td>\n",
       "      <td>2019-08-01 00:07:28</td>\n",
       "      <td>2019-08-01</td>\n",
       "      <td>A1</td>\n",
       "    </tr>\n",
       "    <tr>\n",
       "      <th>2829</th>\n",
       "      <td>MainScreenAppear</td>\n",
       "      <td>3737462046622621720</td>\n",
       "      <td>2019-08-01 00:08:00</td>\n",
       "      <td>246</td>\n",
       "      <td>2019-08-01 00:08:00</td>\n",
       "      <td>2019-08-01</td>\n",
       "      <td>A1</td>\n",
       "    </tr>\n",
       "    <tr>\n",
       "      <th>2830</th>\n",
       "      <td>MainScreenAppear</td>\n",
       "      <td>3737462046622621720</td>\n",
       "      <td>2019-08-01 00:08:55</td>\n",
       "      <td>246</td>\n",
       "      <td>2019-08-01 00:08:55</td>\n",
       "      <td>2019-08-01</td>\n",
       "      <td>A1</td>\n",
       "    </tr>\n",
       "    <tr>\n",
       "      <th>2831</th>\n",
       "      <td>OffersScreenAppear</td>\n",
       "      <td>3737462046622621720</td>\n",
       "      <td>2019-08-01 00:08:58</td>\n",
       "      <td>246</td>\n",
       "      <td>2019-08-01 00:08:58</td>\n",
       "      <td>2019-08-01</td>\n",
       "      <td>A1</td>\n",
       "    </tr>\n",
       "    <tr>\n",
       "      <th>2832</th>\n",
       "      <td>MainScreenAppear</td>\n",
       "      <td>1433840883824088890</td>\n",
       "      <td>2019-08-01 00:08:59</td>\n",
       "      <td>247</td>\n",
       "      <td>2019-08-01 00:08:59</td>\n",
       "      <td>2019-08-01</td>\n",
       "      <td>A2</td>\n",
       "    </tr>\n",
       "    <tr>\n",
       "      <th>...</th>\n",
       "      <td>...</td>\n",
       "      <td>...</td>\n",
       "      <td>...</td>\n",
       "      <td>...</td>\n",
       "      <td>...</td>\n",
       "      <td>...</td>\n",
       "      <td>...</td>\n",
       "    </tr>\n",
       "    <tr>\n",
       "      <th>244121</th>\n",
       "      <td>MainScreenAppear</td>\n",
       "      <td>4599628364049201812</td>\n",
       "      <td>2019-08-07 21:12:25</td>\n",
       "      <td>247</td>\n",
       "      <td>2019-08-07 21:12:25</td>\n",
       "      <td>2019-08-07</td>\n",
       "      <td>A2</td>\n",
       "    </tr>\n",
       "    <tr>\n",
       "      <th>244122</th>\n",
       "      <td>MainScreenAppear</td>\n",
       "      <td>5849806612437486590</td>\n",
       "      <td>2019-08-07 21:13:59</td>\n",
       "      <td>246</td>\n",
       "      <td>2019-08-07 21:13:59</td>\n",
       "      <td>2019-08-07</td>\n",
       "      <td>A1</td>\n",
       "    </tr>\n",
       "    <tr>\n",
       "      <th>244123</th>\n",
       "      <td>MainScreenAppear</td>\n",
       "      <td>5746969938801999050</td>\n",
       "      <td>2019-08-07 21:14:43</td>\n",
       "      <td>246</td>\n",
       "      <td>2019-08-07 21:14:43</td>\n",
       "      <td>2019-08-07</td>\n",
       "      <td>A1</td>\n",
       "    </tr>\n",
       "    <tr>\n",
       "      <th>244124</th>\n",
       "      <td>MainScreenAppear</td>\n",
       "      <td>5746969938801999050</td>\n",
       "      <td>2019-08-07 21:14:58</td>\n",
       "      <td>246</td>\n",
       "      <td>2019-08-07 21:14:58</td>\n",
       "      <td>2019-08-07</td>\n",
       "      <td>A1</td>\n",
       "    </tr>\n",
       "    <tr>\n",
       "      <th>244125</th>\n",
       "      <td>OffersScreenAppear</td>\n",
       "      <td>5746969938801999050</td>\n",
       "      <td>2019-08-07 21:15:17</td>\n",
       "      <td>246</td>\n",
       "      <td>2019-08-07 21:15:17</td>\n",
       "      <td>2019-08-07</td>\n",
       "      <td>A1</td>\n",
       "    </tr>\n",
       "  </tbody>\n",
       "</table>\n",
       "<p>240887 rows × 7 columns</p>\n",
       "</div>"
      ],
      "text/plain": [
       "                event_name              user_id     event_timestamp  exp_id  \\\n",
       "2828              Tutorial  3737462046622621720 2019-08-01 00:07:28     246   \n",
       "2829      MainScreenAppear  3737462046622621720 2019-08-01 00:08:00     246   \n",
       "2830      MainScreenAppear  3737462046622621720 2019-08-01 00:08:55     246   \n",
       "2831    OffersScreenAppear  3737462046622621720 2019-08-01 00:08:58     246   \n",
       "2832      MainScreenAppear  1433840883824088890 2019-08-01 00:08:59     247   \n",
       "...                    ...                  ...                 ...     ...   \n",
       "244121    MainScreenAppear  4599628364049201812 2019-08-07 21:12:25     247   \n",
       "244122    MainScreenAppear  5849806612437486590 2019-08-07 21:13:59     246   \n",
       "244123    MainScreenAppear  5746969938801999050 2019-08-07 21:14:43     246   \n",
       "244124    MainScreenAppear  5746969938801999050 2019-08-07 21:14:58     246   \n",
       "244125  OffersScreenAppear  5746969938801999050 2019-08-07 21:15:17     246   \n",
       "\n",
       "                 date_time       date group  \n",
       "2828   2019-08-01 00:07:28 2019-08-01    A1  \n",
       "2829   2019-08-01 00:08:00 2019-08-01    A1  \n",
       "2830   2019-08-01 00:08:55 2019-08-01    A1  \n",
       "2831   2019-08-01 00:08:58 2019-08-01    A1  \n",
       "2832   2019-08-01 00:08:59 2019-08-01    A2  \n",
       "...                    ...        ...   ...  \n",
       "244121 2019-08-07 21:12:25 2019-08-07    A2  \n",
       "244122 2019-08-07 21:13:59 2019-08-07    A1  \n",
       "244123 2019-08-07 21:14:43 2019-08-07    A1  \n",
       "244124 2019-08-07 21:14:58 2019-08-07    A1  \n",
       "244125 2019-08-07 21:15:17 2019-08-07    A1  \n",
       "\n",
       "[240887 rows x 7 columns]"
      ]
     },
     "execution_count": 47,
     "metadata": {},
     "output_type": "execute_result"
    }
   ],
   "source": [
    "df"
   ]
  },
  {
   "cell_type": "code",
   "execution_count": 48,
   "metadata": {},
   "outputs": [
    {
     "data": {
      "text/plain": [
       "group\n",
       "A1    2484\n",
       "A2    2513\n",
       "B     2537\n",
       "Name: user_id, dtype: int64"
      ]
     },
     "execution_count": 48,
     "metadata": {},
     "output_type": "execute_result"
    }
   ],
   "source": [
    "#число уникальных пользователей в каждой группе\n",
    "df.groupby('group')['user_id'].nunique() #вместо exp_id группируем по group, что соответствует A1, A2, B"
   ]
  },
  {
   "cell_type": "markdown",
   "metadata": {},
   "source": [
    "Мы получили удовлетворительное число пользоватей в каждой из групп для проведения тестирования."
   ]
  },
  {
   "cell_type": "code",
   "execution_count": 49,
   "metadata": {},
   "outputs": [],
   "source": [
    "logs_a1 = df.query('group == \"A1\"').groupby('group')['user_id'].nunique().reset_index()\n",
    "logs_a2 = df.query('group == \"A2\"').groupby('group')['user_id'].nunique().reset_index()"
   ]
  },
  {
   "cell_type": "code",
   "execution_count": 50,
   "metadata": {},
   "outputs": [
    {
     "name": "stdout",
     "output_type": "stream",
     "text": [
      "Число пользователей в группах А1 и А2 различается на 1.15%\n"
     ]
    }
   ],
   "source": [
    "#находим различие в группах\n",
    "difference = 1 - logs_a1.iloc[0]['user_id'] / logs_a2.iloc[0]['user_id']\n",
    "print('Число пользователей в группах А1 и А2 различается на {:.2%}'.format(difference))"
   ]
  },
  {
   "cell_type": "markdown",
   "metadata": {},
   "source": [
    "Различие не критично."
   ]
  },
  {
   "cell_type": "code",
   "execution_count": 51,
   "metadata": {},
   "outputs": [
    {
     "data": {
      "text/html": [
       "<div>\n",
       "<style scoped>\n",
       "    .dataframe tbody tr th:only-of-type {\n",
       "        vertical-align: middle;\n",
       "    }\n",
       "\n",
       "    .dataframe tbody tr th {\n",
       "        vertical-align: top;\n",
       "    }\n",
       "\n",
       "    .dataframe thead th {\n",
       "        text-align: right;\n",
       "    }\n",
       "</style>\n",
       "<table border=\"1\" class=\"dataframe\">\n",
       "  <thead>\n",
       "    <tr style=\"text-align: right;\">\n",
       "      <th>group</th>\n",
       "      <th>A1</th>\n",
       "      <th>A2</th>\n",
       "      <th>B</th>\n",
       "    </tr>\n",
       "    <tr>\n",
       "      <th>event_name</th>\n",
       "      <th></th>\n",
       "      <th></th>\n",
       "      <th></th>\n",
       "    </tr>\n",
       "  </thead>\n",
       "  <tbody>\n",
       "    <tr>\n",
       "      <th>MainScreenAppear</th>\n",
       "      <td>2450</td>\n",
       "      <td>2476</td>\n",
       "      <td>2493</td>\n",
       "    </tr>\n",
       "    <tr>\n",
       "      <th>OffersScreenAppear</th>\n",
       "      <td>1542</td>\n",
       "      <td>1520</td>\n",
       "      <td>1531</td>\n",
       "    </tr>\n",
       "    <tr>\n",
       "      <th>CartScreenAppear</th>\n",
       "      <td>1266</td>\n",
       "      <td>1238</td>\n",
       "      <td>1230</td>\n",
       "    </tr>\n",
       "    <tr>\n",
       "      <th>PaymentScreenSuccessful</th>\n",
       "      <td>1200</td>\n",
       "      <td>1158</td>\n",
       "      <td>1181</td>\n",
       "    </tr>\n",
       "    <tr>\n",
       "      <th>Tutorial</th>\n",
       "      <td>278</td>\n",
       "      <td>283</td>\n",
       "      <td>279</td>\n",
       "    </tr>\n",
       "  </tbody>\n",
       "</table>\n",
       "</div>"
      ],
      "text/plain": [
       "group                      A1    A2     B\n",
       "event_name                               \n",
       "MainScreenAppear         2450  2476  2493\n",
       "OffersScreenAppear       1542  1520  1531\n",
       "CartScreenAppear         1266  1238  1230\n",
       "PaymentScreenSuccessful  1200  1158  1181\n",
       "Tutorial                  278   283   279"
      ]
     },
     "execution_count": 51,
     "metadata": {},
     "output_type": "execute_result"
    }
   ],
   "source": [
    "df.pivot_table(index='event_name', columns='group', values='user_id', aggfunc='nunique').sort_values('A1',ascending=False)"
   ]
  },
  {
   "cell_type": "markdown",
   "metadata": {},
   "source": [
    "MainScreenAppear - наиболее популярное событие из лога."
   ]
  },
  {
   "cell_type": "markdown",
   "metadata": {},
   "source": [
    "####  А/А тест"
   ]
  },
  {
   "cell_type": "markdown",
   "metadata": {},
   "source": [
    "С помощью функции будем выявлять статистическую значимость между группами.\n",
    "\n",
    "\n",
    "Гипотезы:\n",
    "Н0 - различия между экспериментальными группами, совершившими указанное событие, статистически не значимы\n",
    "\n",
    "Н1 - различия между экспериментальными группами, совершившими указанное событие, статистически значимы\n",
    "\n",
    "Пороговое значение alpha примем за 5%."
   ]
  },
  {
   "cell_type": "code",
   "execution_count": 52,
   "metadata": {},
   "outputs": [],
   "source": [
    "def test(data, group_ids, alpha):\n",
    "    #ищем уникальных пользователей в каждой группе\n",
    "    users = [df.query('exp_id == @group_id')['user_id'].nunique() for group_id in group_ids]\n",
    "    #перебираем все экспериментальные группы для каждого события, считаем количество пользователей и долю\n",
    "    for event in df.event_name.unique():\n",
    "        events = [df.query('exp_id == %d and event_name == \"%s\"' % (group_id, event))['user_id'].nunique() for group_id in group_ids]\n",
    "        # сравниваем кол-во уникальных пользователей на каждом шаге группы к кол-ву уникальных пользователей в этой группе всего\n",
    "        p1 = events[0] / users[0] #считаем долю для 1 группы\n",
    "        p2 = events[1] / users[1] #считаем долю для 2 группы\n",
    "        \n",
    "        p_combined = sum(events) / sum(users) \n",
    "        \n",
    "        difference = p1 - p2 # разница\n",
    "        \n",
    "        z_value = difference / mth.sqrt(\n",
    "            p_combined * (1 - p_combined) * (1 / users[0] + 1 / users[1]) #считаем z-value, которая покажет, насколько она далека от среднего значения точки данных\n",
    "        )\n",
    "        \n",
    "        distr = st.norm(0, 1) #распределение\n",
    "        p_value = (1 - distr.cdf(abs(z_value))) * 2 #считаем p-value\n",
    "        \n",
    "        print(event)\n",
    "        print(p1, p2)\n",
    "        print('p-значение: ', p_value)\n",
    "        #сравниваем p-value и alpha\n",
    "        if p_value < alpha:\n",
    "            print('Отвергаем нулевую гипотезу по событию %s' % (event))\n",
    "        else:\n",
    "            print('Не получилось отвергнуть нулевую гипотезу по событию %s' % (event))\n",
    "            \n",
    "        print(' ')"
   ]
  },
  {
   "cell_type": "code",
   "execution_count": 53,
   "metadata": {},
   "outputs": [
    {
     "name": "stdout",
     "output_type": "stream",
     "text": [
      "Tutorial\n",
      "0.11191626409017713 0.11261440509351373\n",
      "p-значение:  0.9376996189257114\n",
      "Не получилось отвергнуть нулевую гипотезу по событию Tutorial\n",
      " \n",
      "MainScreenAppear\n",
      "0.9863123993558777 0.9852765618782332\n",
      "p-значение:  0.7570597232046099\n",
      "Не получилось отвергнуть нулевую гипотезу по событию MainScreenAppear\n",
      " \n",
      "OffersScreenAppear\n",
      "0.6207729468599034 0.6048547552725826\n",
      "p-значение:  0.2480954578522181\n",
      "Не получилось отвергнуть нулевую гипотезу по событию OffersScreenAppear\n",
      " \n",
      "CartScreenAppear\n",
      "0.5096618357487923 0.4926382809391166\n",
      "p-значение:  0.22883372237997213\n",
      "Не получилось отвергнуть нулевую гипотезу по событию CartScreenAppear\n",
      " \n",
      "PaymentScreenSuccessful\n",
      "0.4830917874396135 0.46080382013529647\n",
      "p-значение:  0.11456679313141849\n",
      "Не получилось отвергнуть нулевую гипотезу по событию PaymentScreenSuccessful\n",
      " \n"
     ]
    }
   ],
   "source": [
    "#результаты в группах A1 и A2 \n",
    "test(df, [246, 247], 0.05)"
   ]
  },
  {
   "cell_type": "markdown",
   "metadata": {},
   "source": [
    "Таким образом, мы получили результат, что все различия между событиями в группах А1 и А2 не являются статистически значимыми. Обе контрольные группы показали идентичные результаты. Можно приступать к А/B тестированию."
   ]
  },
  {
   "cell_type": "markdown",
   "metadata": {},
   "source": [
    "####  А/В тест"
   ]
  },
  {
   "cell_type": "markdown",
   "metadata": {},
   "source": [
    "Теперь можем проводить А/В тест и проверить есть ли в группах статистически значимые различия."
   ]
  },
  {
   "cell_type": "code",
   "execution_count": 54,
   "metadata": {},
   "outputs": [
    {
     "name": "stdout",
     "output_type": "stream",
     "text": [
      "Tutorial\n",
      "0.11191626409017713 0.10997240835632636\n",
      "p-значение:  0.8264294010087645\n",
      "Не получилось отвергнуть нулевую гипотезу по событию Tutorial\n",
      " \n",
      "MainScreenAppear\n",
      "0.9863123993558777 0.9826566811194324\n",
      "p-значение:  0.2949721933554552\n",
      "Не получилось отвергнуть нулевую гипотезу по событию MainScreenAppear\n",
      " \n",
      "OffersScreenAppear\n",
      "0.6207729468599034 0.6034686637761135\n",
      "p-значение:  0.20836205402738917\n",
      "Не получилось отвергнуть нулевую гипотезу по событию OffersScreenAppear\n",
      " \n",
      "CartScreenAppear\n",
      "0.5096618357487923 0.48482459597950334\n",
      "p-значение:  0.07842923237520116\n",
      "Не получилось отвергнуть нулевую гипотезу по событию CartScreenAppear\n",
      " \n",
      "PaymentScreenSuccessful\n",
      "0.4830917874396135 0.46551044540796216\n",
      "p-значение:  0.2122553275697796\n",
      "Не получилось отвергнуть нулевую гипотезу по событию PaymentScreenSuccessful\n",
      " \n"
     ]
    }
   ],
   "source": [
    "#проводим тест А1 и В\n",
    "test(df, [246, 248], 0.05)"
   ]
  },
  {
   "cell_type": "markdown",
   "metadata": {},
   "source": [
    "Различия между экспериментальными группами А1 и В статистически не значимы."
   ]
  },
  {
   "cell_type": "code",
   "execution_count": 55,
   "metadata": {},
   "outputs": [
    {
     "name": "stdout",
     "output_type": "stream",
     "text": [
      "Tutorial\n",
      "0.11261440509351373 0.10997240835632636\n",
      "p-значение:  0.765323922474501\n",
      "Не получилось отвергнуть нулевую гипотезу по событию Tutorial\n",
      " \n",
      "MainScreenAppear\n",
      "0.9852765618782332 0.9826566811194324\n",
      "p-значение:  0.4587053616621515\n",
      "Не получилось отвергнуть нулевую гипотезу по событию MainScreenAppear\n",
      " \n",
      "OffersScreenAppear\n",
      "0.6048547552725826 0.6034686637761135\n",
      "p-значение:  0.9197817830592261\n",
      "Не получилось отвергнуть нулевую гипотезу по событию OffersScreenAppear\n",
      " \n",
      "CartScreenAppear\n",
      "0.4926382809391166 0.48482459597950334\n",
      "p-значение:  0.5786197879539783\n",
      "Не получилось отвергнуть нулевую гипотезу по событию CartScreenAppear\n",
      " \n",
      "PaymentScreenSuccessful\n",
      "0.46080382013529647 0.46551044540796216\n",
      "p-значение:  0.7373415053803964\n",
      "Не получилось отвергнуть нулевую гипотезу по событию PaymentScreenSuccessful\n",
      " \n"
     ]
    }
   ],
   "source": [
    "#проводим тест А2 и В\n",
    "test(df, [247, 248], 0.05)"
   ]
  },
  {
   "cell_type": "markdown",
   "metadata": {},
   "source": [
    "Различия между экспериментальными группами А2 и В  тоже оказались статистически не значимы."
   ]
  },
  {
   "cell_type": "code",
   "execution_count": 56,
   "metadata": {},
   "outputs": [
    {
     "data": {
      "text/plain": [
       "247    156324\n",
       "248     84563\n",
       "Name: exp_id, dtype: int64"
      ]
     },
     "execution_count": 56,
     "metadata": {},
     "output_type": "execute_result"
    }
   ],
   "source": [
    "#соединим две группы в одну и оставим ее под номером 247\n",
    "a12 = df.copy()\n",
    "a12['exp_id'].replace({246: 247}, inplace=True)\n",
    "a12['exp_id'].value_counts()"
   ]
  },
  {
   "cell_type": "code",
   "execution_count": 57,
   "metadata": {},
   "outputs": [
    {
     "name": "stdout",
     "output_type": "stream",
     "text": [
      "Tutorial\n",
      "0.11261440509351373 0.10997240835632636\n",
      "p-значение:  0.765323922474501\n",
      "Не получилось отвергнуть нулевую гипотезу по событию Tutorial\n",
      " \n",
      "MainScreenAppear\n",
      "0.9852765618782332 0.9826566811194324\n",
      "p-значение:  0.4587053616621515\n",
      "Не получилось отвергнуть нулевую гипотезу по событию MainScreenAppear\n",
      " \n",
      "OffersScreenAppear\n",
      "0.6048547552725826 0.6034686637761135\n",
      "p-значение:  0.9197817830592261\n",
      "Не получилось отвергнуть нулевую гипотезу по событию OffersScreenAppear\n",
      " \n",
      "CartScreenAppear\n",
      "0.4926382809391166 0.48482459597950334\n",
      "p-значение:  0.5786197879539783\n",
      "Не получилось отвергнуть нулевую гипотезу по событию CartScreenAppear\n",
      " \n",
      "PaymentScreenSuccessful\n",
      "0.46080382013529647 0.46551044540796216\n",
      "p-значение:  0.7373415053803964\n",
      "Не получилось отвергнуть нулевую гипотезу по событию PaymentScreenSuccessful\n",
      " \n"
     ]
    }
   ],
   "source": [
    "#проводим тест соединенных групп А1+А2 и В\n",
    "test(a12, [247, 248], 0.05)"
   ]
  },
  {
   "cell_type": "markdown",
   "metadata": {},
   "source": [
    "Снова получаем статистически не значимые события. Оснований чтобы считать доли разными нет.\n",
    "\n",
    "Изменение шрифта никак не повлияло на пользователей."
   ]
  },
  {
   "cell_type": "markdown",
   "metadata": {},
   "source": [
    "При проверке мною был выбран уровень значимости alpha = 0.05, но нам известно, что при что при множественном тестировании вероятность ошибки первого рода, а именно ситуация, когда отвергнута верная нулевая гипотеза, возрастает.\n",
    "Поэтому для того чтобы снизить вероятность ошибки, нужно применить метод Бонферрони. \n",
    "\n",
    "4 А/А-теста и 12 А/В-тестов.\n",
    "\n",
    "0.05/16 = 0.003."
   ]
  },
  {
   "cell_type": "code",
   "execution_count": 58,
   "metadata": {},
   "outputs": [
    {
     "name": "stdout",
     "output_type": "stream",
     "text": [
      "Tutorial\n",
      "0.11191626409017713 0.10997240835632636\n",
      "p-значение:  0.8264294010087645\n",
      "Не получилось отвергнуть нулевую гипотезу по событию Tutorial\n",
      " \n",
      "MainScreenAppear\n",
      "0.9863123993558777 0.9826566811194324\n",
      "p-значение:  0.2949721933554552\n",
      "Не получилось отвергнуть нулевую гипотезу по событию MainScreenAppear\n",
      " \n",
      "OffersScreenAppear\n",
      "0.6207729468599034 0.6034686637761135\n",
      "p-значение:  0.20836205402738917\n",
      "Не получилось отвергнуть нулевую гипотезу по событию OffersScreenAppear\n",
      " \n",
      "CartScreenAppear\n",
      "0.5096618357487923 0.48482459597950334\n",
      "p-значение:  0.07842923237520116\n",
      "Не получилось отвергнуть нулевую гипотезу по событию CartScreenAppear\n",
      " \n",
      "PaymentScreenSuccessful\n",
      "0.4830917874396135 0.46551044540796216\n",
      "p-значение:  0.2122553275697796\n",
      "Не получилось отвергнуть нулевую гипотезу по событию PaymentScreenSuccessful\n",
      " \n"
     ]
    }
   ],
   "source": [
    "#тестирование групп с поправкой Бонферрони\n",
    "test(df, [246, 248], 0.003)"
   ]
  },
  {
   "cell_type": "code",
   "execution_count": 59,
   "metadata": {},
   "outputs": [
    {
     "name": "stdout",
     "output_type": "stream",
     "text": [
      "Tutorial\n",
      "0.11261440509351373 0.10997240835632636\n",
      "p-значение:  0.765323922474501\n",
      "Не получилось отвергнуть нулевую гипотезу по событию Tutorial\n",
      " \n",
      "MainScreenAppear\n",
      "0.9852765618782332 0.9826566811194324\n",
      "p-значение:  0.4587053616621515\n",
      "Не получилось отвергнуть нулевую гипотезу по событию MainScreenAppear\n",
      " \n",
      "OffersScreenAppear\n",
      "0.6048547552725826 0.6034686637761135\n",
      "p-значение:  0.9197817830592261\n",
      "Не получилось отвергнуть нулевую гипотезу по событию OffersScreenAppear\n",
      " \n",
      "CartScreenAppear\n",
      "0.4926382809391166 0.48482459597950334\n",
      "p-значение:  0.5786197879539783\n",
      "Не получилось отвергнуть нулевую гипотезу по событию CartScreenAppear\n",
      " \n",
      "PaymentScreenSuccessful\n",
      "0.46080382013529647 0.46551044540796216\n",
      "p-значение:  0.7373415053803964\n",
      "Не получилось отвергнуть нулевую гипотезу по событию PaymentScreenSuccessful\n",
      " \n"
     ]
    }
   ],
   "source": [
    "#тестирование групп с поправкой Бонферрони\n",
    "test(df, [247, 248], 0.003)"
   ]
  },
  {
   "cell_type": "code",
   "execution_count": 60,
   "metadata": {},
   "outputs": [
    {
     "name": "stdout",
     "output_type": "stream",
     "text": [
      "Tutorial\n",
      "0.11261440509351373 0.10997240835632636\n",
      "p-значение:  0.765323922474501\n",
      "Не получилось отвергнуть нулевую гипотезу по событию Tutorial\n",
      " \n",
      "MainScreenAppear\n",
      "0.9852765618782332 0.9826566811194324\n",
      "p-значение:  0.4587053616621515\n",
      "Не получилось отвергнуть нулевую гипотезу по событию MainScreenAppear\n",
      " \n",
      "OffersScreenAppear\n",
      "0.6048547552725826 0.6034686637761135\n",
      "p-значение:  0.9197817830592261\n",
      "Не получилось отвергнуть нулевую гипотезу по событию OffersScreenAppear\n",
      " \n",
      "CartScreenAppear\n",
      "0.4926382809391166 0.48482459597950334\n",
      "p-значение:  0.5786197879539783\n",
      "Не получилось отвергнуть нулевую гипотезу по событию CartScreenAppear\n",
      " \n",
      "PaymentScreenSuccessful\n",
      "0.46080382013529647 0.46551044540796216\n",
      "p-значение:  0.7373415053803964\n",
      "Не получилось отвергнуть нулевую гипотезу по событию PaymentScreenSuccessful\n",
      " \n"
     ]
    }
   ],
   "source": [
    "#тестирование групп с поправкой Бонферрони\n",
    "test(a12, [247, 248], 0.003)"
   ]
  },
  {
   "cell_type": "markdown",
   "metadata": {},
   "source": [
    "#### Вывод"
   ]
  },
  {
   "cell_type": "markdown",
   "metadata": {},
   "source": [
    "Исходя из результатов данного эксперимента, мы можем сделать вывод, что на поведение пользователей изменение шрифта значимого эффекта не оказало. \n"
   ]
  },
  {
   "cell_type": "markdown",
   "metadata": {},
   "source": [
    "###  ВЫВОД"
   ]
  },
  {
   "cell_type": "markdown",
   "metadata": {},
   "source": [
    "В ходе данной работы мы использовали данные с логами. Проведена предобработка данных. \n",
    "\n",
    "Анализируя гистиграмму, оставили только полные данные, благодаря которым совершили исследование. Полными данными мы располагали за период с 01.08.2019 по 08.08.2019. По окончанию обработки данных мы потеряли всего 1%, что не является критичным объемом. \n",
    "\n",
    "Изучая воронку мы выявили, что от главной страницы до оплаты доходят всего 47.7% пользователей. Это меньше половины и,на мой взгляд, нужно разрабатывать решение, чтобы увелисить конверсию. \n",
    "\n",
    "Группы для А/А/В-тестирования оказались равномерно сформированы. Было проведено 16 проверок статистических гипотез ни одна из которых не выявила значимой разницы. А это значит что замена шрифтов никак не повлияла на пользователей и выручка компании, в связи с этим событием, никак не изменилась."
   ]
  }
 ],
 "metadata": {
  "ExecuteTimeLog": [
   {
    "duration": 1399,
    "start_time": "2023-04-04T11:03:06.392Z"
   },
   {
    "duration": 962,
    "start_time": "2023-04-04T11:03:33.209Z"
   },
   {
    "duration": 11,
    "start_time": "2023-04-04T11:03:43.632Z"
   },
   {
    "duration": 24,
    "start_time": "2023-04-04T11:03:58.806Z"
   },
   {
    "duration": 53,
    "start_time": "2023-04-04T11:04:55.788Z"
   },
   {
    "duration": 26,
    "start_time": "2023-04-04T11:05:43.822Z"
   },
   {
    "duration": 86,
    "start_time": "2023-04-04T11:05:59.806Z"
   },
   {
    "duration": 86,
    "start_time": "2023-04-04T11:06:12.026Z"
   },
   {
    "duration": 4,
    "start_time": "2023-04-04T11:07:50.616Z"
   },
   {
    "duration": 23,
    "start_time": "2023-04-04T11:08:13.215Z"
   },
   {
    "duration": 26,
    "start_time": "2023-04-04T11:08:40.122Z"
   },
   {
    "duration": 41,
    "start_time": "2023-04-04T11:08:52.592Z"
   },
   {
    "duration": 22,
    "start_time": "2023-04-04T11:09:41.590Z"
   },
   {
    "duration": 13,
    "start_time": "2023-04-04T11:10:13.396Z"
   },
   {
    "duration": 31,
    "start_time": "2023-04-04T11:10:21.729Z"
   },
   {
    "duration": 60,
    "start_time": "2023-04-04T11:45:08.448Z"
   },
   {
    "duration": 29,
    "start_time": "2023-04-04T11:48:57.209Z"
   },
   {
    "duration": 101,
    "start_time": "2023-04-04T11:48:58.149Z"
   },
   {
    "duration": 137,
    "start_time": "2023-04-04T11:49:04.768Z"
   },
   {
    "duration": 6,
    "start_time": "2023-04-04T11:49:05.673Z"
   },
   {
    "duration": 25,
    "start_time": "2023-04-04T11:49:06.496Z"
   },
   {
    "duration": 24,
    "start_time": "2023-04-04T11:49:07.503Z"
   },
   {
    "duration": 32,
    "start_time": "2023-04-04T11:49:08.209Z"
   },
   {
    "duration": 1316,
    "start_time": "2023-04-04T11:49:33.200Z"
   },
   {
    "duration": 192,
    "start_time": "2023-04-04T11:49:34.519Z"
   },
   {
    "duration": 11,
    "start_time": "2023-04-04T11:49:34.713Z"
   },
   {
    "duration": 25,
    "start_time": "2023-04-04T11:49:34.725Z"
   },
   {
    "duration": 30,
    "start_time": "2023-04-04T11:49:34.774Z"
   },
   {
    "duration": 65,
    "start_time": "2023-04-04T11:49:34.805Z"
   },
   {
    "duration": 84,
    "start_time": "2023-04-04T11:49:34.872Z"
   },
   {
    "duration": 9,
    "start_time": "2023-04-04T11:49:34.958Z"
   },
   {
    "duration": 41,
    "start_time": "2023-04-04T11:49:34.969Z"
   },
   {
    "duration": 28,
    "start_time": "2023-04-04T11:49:35.011Z"
   },
   {
    "duration": 70,
    "start_time": "2023-04-04T11:49:35.041Z"
   },
   {
    "duration": 10,
    "start_time": "2023-04-04T11:49:35.113Z"
   },
   {
    "duration": 67,
    "start_time": "2023-04-04T11:49:35.125Z"
   },
   {
    "duration": 6,
    "start_time": "2023-04-04T11:51:05.993Z"
   },
   {
    "duration": 22,
    "start_time": "2023-04-04T11:51:09.003Z"
   },
   {
    "duration": 58,
    "start_time": "2023-04-04T11:52:29.683Z"
   },
   {
    "duration": 20,
    "start_time": "2023-04-04T11:52:30.497Z"
   },
   {
    "duration": 33,
    "start_time": "2023-04-04T12:31:40.104Z"
   },
   {
    "duration": 32,
    "start_time": "2023-04-04T12:39:13.600Z"
   },
   {
    "duration": 30,
    "start_time": "2023-04-04T12:39:41.076Z"
   },
   {
    "duration": 51,
    "start_time": "2023-04-04T12:40:32.511Z"
   },
   {
    "duration": 17,
    "start_time": "2023-04-04T12:40:37.942Z"
   },
   {
    "duration": 6,
    "start_time": "2023-04-04T12:41:18.158Z"
   },
   {
    "duration": 28,
    "start_time": "2023-04-04T12:41:39.703Z"
   },
   {
    "duration": 18,
    "start_time": "2023-04-04T12:42:06.394Z"
   },
   {
    "duration": 19,
    "start_time": "2023-04-04T12:42:13.820Z"
   },
   {
    "duration": 4,
    "start_time": "2023-04-04T12:42:14.993Z"
   },
   {
    "duration": 21,
    "start_time": "2023-04-04T12:42:57.121Z"
   },
   {
    "duration": 4,
    "start_time": "2023-04-04T12:42:58.195Z"
   },
   {
    "duration": 17,
    "start_time": "2023-04-04T12:46:57.890Z"
   },
   {
    "duration": 22,
    "start_time": "2023-04-04T12:47:16.686Z"
   },
   {
    "duration": 19,
    "start_time": "2023-04-04T12:47:26.289Z"
   },
   {
    "duration": 7,
    "start_time": "2023-04-04T12:48:07.238Z"
   },
   {
    "duration": 9,
    "start_time": "2023-04-04T12:49:29.504Z"
   },
   {
    "duration": 22,
    "start_time": "2023-04-04T12:50:39.460Z"
   },
   {
    "duration": 105,
    "start_time": "2023-04-04T12:51:42.648Z"
   },
   {
    "duration": 17,
    "start_time": "2023-04-04T12:52:12.419Z"
   },
   {
    "duration": 12,
    "start_time": "2023-04-04T12:52:31.254Z"
   },
   {
    "duration": 5,
    "start_time": "2023-04-04T12:55:51.522Z"
   },
   {
    "duration": 457,
    "start_time": "2023-04-04T13:00:18.335Z"
   },
   {
    "duration": 280,
    "start_time": "2023-04-04T13:00:54.739Z"
   },
   {
    "duration": 282,
    "start_time": "2023-04-04T13:01:09.691Z"
   },
   {
    "duration": 249,
    "start_time": "2023-04-04T13:01:23.806Z"
   },
   {
    "duration": 5,
    "start_time": "2023-04-04T13:02:37.452Z"
   },
   {
    "duration": 5,
    "start_time": "2023-04-04T13:02:57.620Z"
   },
   {
    "duration": 287,
    "start_time": "2023-04-04T13:03:32.528Z"
   },
   {
    "duration": 350,
    "start_time": "2023-04-04T13:03:48.990Z"
   },
   {
    "duration": 260,
    "start_time": "2023-04-04T13:03:56.120Z"
   },
   {
    "duration": 277,
    "start_time": "2023-04-04T13:04:07.440Z"
   },
   {
    "duration": 295,
    "start_time": "2023-04-04T13:04:23.940Z"
   },
   {
    "duration": 302,
    "start_time": "2023-04-04T13:04:34.379Z"
   },
   {
    "duration": 273,
    "start_time": "2023-04-04T13:04:53.749Z"
   },
   {
    "duration": 309,
    "start_time": "2023-04-04T13:05:01.320Z"
   },
   {
    "duration": 292,
    "start_time": "2023-04-04T13:05:10.538Z"
   },
   {
    "duration": 334,
    "start_time": "2023-04-04T13:05:39.506Z"
   },
   {
    "duration": 338,
    "start_time": "2023-04-04T13:05:49.452Z"
   },
   {
    "duration": 7,
    "start_time": "2023-04-04T13:08:04.089Z"
   },
   {
    "duration": 4,
    "start_time": "2023-04-04T13:08:20.028Z"
   },
   {
    "duration": 3,
    "start_time": "2023-04-04T13:09:37.705Z"
   },
   {
    "duration": 5,
    "start_time": "2023-04-04T13:11:58.960Z"
   },
   {
    "duration": 27,
    "start_time": "2023-04-04T13:15:35.093Z"
   },
   {
    "duration": 6,
    "start_time": "2023-04-04T13:16:29.827Z"
   },
   {
    "duration": 295,
    "start_time": "2023-04-04T13:16:30.447Z"
   },
   {
    "duration": 19,
    "start_time": "2023-04-04T13:16:43.917Z"
   },
   {
    "duration": 415,
    "start_time": "2023-04-04T13:16:44.602Z"
   },
   {
    "duration": 19,
    "start_time": "2023-04-04T13:18:38.394Z"
   },
   {
    "duration": 293,
    "start_time": "2023-04-04T13:18:39.546Z"
   },
   {
    "duration": 304,
    "start_time": "2023-04-04T13:19:26.623Z"
   },
   {
    "duration": 353,
    "start_time": "2023-04-04T13:19:58.323Z"
   },
   {
    "duration": 341,
    "start_time": "2023-04-04T13:20:16.205Z"
   },
   {
    "duration": 247,
    "start_time": "2023-04-04T13:20:23.910Z"
   },
   {
    "duration": 339,
    "start_time": "2023-04-04T13:20:50.085Z"
   },
   {
    "duration": 347,
    "start_time": "2023-04-04T13:21:09.804Z"
   },
   {
    "duration": 304,
    "start_time": "2023-04-04T13:21:19.303Z"
   },
   {
    "duration": 258,
    "start_time": "2023-04-04T13:21:28.091Z"
   },
   {
    "duration": 302,
    "start_time": "2023-04-04T13:22:01.710Z"
   },
   {
    "duration": 436,
    "start_time": "2023-04-04T13:22:35.856Z"
   },
   {
    "duration": 301,
    "start_time": "2023-04-04T13:22:42.283Z"
   },
   {
    "duration": 287,
    "start_time": "2023-04-04T13:22:50.308Z"
   },
   {
    "duration": 291,
    "start_time": "2023-04-04T13:23:39.006Z"
   },
   {
    "duration": 11,
    "start_time": "2023-04-04T13:27:00.096Z"
   },
   {
    "duration": 14,
    "start_time": "2023-04-04T13:28:15.485Z"
   },
   {
    "duration": 7,
    "start_time": "2023-04-04T13:28:51.362Z"
   },
   {
    "duration": 4,
    "start_time": "2023-04-04T13:29:17.442Z"
   },
   {
    "duration": 10,
    "start_time": "2023-04-04T13:30:20.317Z"
   },
   {
    "duration": 15,
    "start_time": "2023-04-04T13:30:35.395Z"
   },
   {
    "duration": 10,
    "start_time": "2023-04-04T13:30:56.221Z"
   },
   {
    "duration": 10,
    "start_time": "2023-04-04T13:31:05.687Z"
   },
   {
    "duration": 16,
    "start_time": "2023-04-04T13:31:48.085Z"
   },
   {
    "duration": 14,
    "start_time": "2023-04-04T13:31:56.608Z"
   },
   {
    "duration": 6,
    "start_time": "2023-04-04T13:34:23.660Z"
   },
   {
    "duration": 12,
    "start_time": "2023-04-04T13:35:11.091Z"
   },
   {
    "duration": 8,
    "start_time": "2023-04-04T13:36:06.580Z"
   },
   {
    "duration": 15,
    "start_time": "2023-04-04T13:36:08.700Z"
   },
   {
    "duration": 13,
    "start_time": "2023-04-04T13:36:43.594Z"
   },
   {
    "duration": 5,
    "start_time": "2023-04-04T13:36:48.288Z"
   },
   {
    "duration": 40,
    "start_time": "2023-04-04T13:37:48.340Z"
   },
   {
    "duration": 35,
    "start_time": "2023-04-04T13:40:12.295Z"
   },
   {
    "duration": 36,
    "start_time": "2023-04-04T13:40:24.534Z"
   },
   {
    "duration": 23,
    "start_time": "2023-04-04T13:56:34.005Z"
   },
   {
    "duration": 59,
    "start_time": "2023-04-04T13:56:53.862Z"
   },
   {
    "duration": 1217,
    "start_time": "2023-04-04T13:59:38.890Z"
   },
   {
    "duration": 181,
    "start_time": "2023-04-04T13:59:40.109Z"
   },
   {
    "duration": 11,
    "start_time": "2023-04-04T13:59:40.292Z"
   },
   {
    "duration": 23,
    "start_time": "2023-04-04T13:59:40.305Z"
   },
   {
    "duration": 36,
    "start_time": "2023-04-04T13:59:40.329Z"
   },
   {
    "duration": 79,
    "start_time": "2023-04-04T13:59:40.373Z"
   },
   {
    "duration": 86,
    "start_time": "2023-04-04T13:59:40.454Z"
   },
   {
    "duration": 3,
    "start_time": "2023-04-04T13:59:40.543Z"
   },
   {
    "duration": 47,
    "start_time": "2023-04-04T13:59:40.547Z"
   },
   {
    "duration": 28,
    "start_time": "2023-04-04T13:59:40.597Z"
   },
   {
    "duration": 65,
    "start_time": "2023-04-04T13:59:40.627Z"
   },
   {
    "duration": 12,
    "start_time": "2023-04-04T13:59:40.694Z"
   },
   {
    "duration": 36,
    "start_time": "2023-04-04T13:59:40.708Z"
   },
   {
    "duration": 33,
    "start_time": "2023-04-04T13:59:40.764Z"
   },
   {
    "duration": 19,
    "start_time": "2023-04-04T13:59:40.798Z"
   },
   {
    "duration": 3,
    "start_time": "2023-04-04T13:59:40.819Z"
   },
   {
    "duration": 16,
    "start_time": "2023-04-04T13:59:40.823Z"
   },
   {
    "duration": 27,
    "start_time": "2023-04-04T13:59:40.841Z"
   },
   {
    "duration": 7,
    "start_time": "2023-04-04T13:59:40.871Z"
   },
   {
    "duration": 15,
    "start_time": "2023-04-04T13:59:40.882Z"
   },
   {
    "duration": 9,
    "start_time": "2023-04-04T13:59:40.899Z"
   },
   {
    "duration": 347,
    "start_time": "2023-04-04T13:59:40.910Z"
   },
   {
    "duration": 32,
    "start_time": "2023-04-04T13:59:41.258Z"
   },
   {
    "duration": 281,
    "start_time": "2023-04-04T13:59:41.291Z"
   },
   {
    "duration": 10,
    "start_time": "2023-04-04T13:59:41.586Z"
   },
   {
    "duration": 5,
    "start_time": "2023-04-04T13:59:41.598Z"
   },
   {
    "duration": 12,
    "start_time": "2023-04-04T13:59:41.605Z"
   },
   {
    "duration": 69,
    "start_time": "2023-04-04T13:59:41.620Z"
   },
   {
    "duration": 5,
    "start_time": "2023-04-04T14:02:01.890Z"
   },
   {
    "duration": 1175,
    "start_time": "2023-04-04T14:02:08.407Z"
   },
   {
    "duration": 186,
    "start_time": "2023-04-04T14:02:09.590Z"
   },
   {
    "duration": 13,
    "start_time": "2023-04-04T14:02:09.786Z"
   },
   {
    "duration": 22,
    "start_time": "2023-04-04T14:02:09.801Z"
   },
   {
    "duration": 15,
    "start_time": "2023-04-04T14:02:09.825Z"
   },
   {
    "duration": 76,
    "start_time": "2023-04-04T14:02:09.841Z"
   },
   {
    "duration": 83,
    "start_time": "2023-04-04T14:02:09.918Z"
   },
   {
    "duration": 3,
    "start_time": "2023-04-04T14:02:10.003Z"
   },
   {
    "duration": 30,
    "start_time": "2023-04-04T14:02:10.008Z"
   },
   {
    "duration": 52,
    "start_time": "2023-04-04T14:02:10.040Z"
   },
   {
    "duration": 41,
    "start_time": "2023-04-04T14:02:10.094Z"
   },
   {
    "duration": 12,
    "start_time": "2023-04-04T14:02:10.137Z"
   },
   {
    "duration": 59,
    "start_time": "2023-04-04T14:02:10.151Z"
   },
   {
    "duration": 20,
    "start_time": "2023-04-04T14:02:10.212Z"
   },
   {
    "duration": 36,
    "start_time": "2023-04-04T14:02:10.234Z"
   },
   {
    "duration": 13,
    "start_time": "2023-04-04T14:02:10.273Z"
   },
   {
    "duration": 9,
    "start_time": "2023-04-04T14:02:10.288Z"
   },
   {
    "duration": 16,
    "start_time": "2023-04-04T14:02:10.299Z"
   },
   {
    "duration": 5,
    "start_time": "2023-04-04T14:02:10.316Z"
   },
   {
    "duration": 9,
    "start_time": "2023-04-04T14:02:10.322Z"
   },
   {
    "duration": 5,
    "start_time": "2023-04-04T14:02:10.333Z"
   },
   {
    "duration": 370,
    "start_time": "2023-04-04T14:02:10.340Z"
   },
   {
    "duration": 27,
    "start_time": "2023-04-04T14:02:10.712Z"
   },
   {
    "duration": 301,
    "start_time": "2023-04-04T14:02:10.741Z"
   },
   {
    "duration": 5,
    "start_time": "2023-04-04T14:02:11.044Z"
   },
   {
    "duration": 19,
    "start_time": "2023-04-04T14:02:11.050Z"
   },
   {
    "duration": 18,
    "start_time": "2023-04-04T14:02:11.076Z"
   },
   {
    "duration": 45,
    "start_time": "2023-04-04T14:02:11.097Z"
   },
   {
    "duration": 1305,
    "start_time": "2023-04-04T14:02:54.806Z"
   },
   {
    "duration": 200,
    "start_time": "2023-04-04T14:02:56.113Z"
   },
   {
    "duration": 11,
    "start_time": "2023-04-04T14:02:56.315Z"
   },
   {
    "duration": 38,
    "start_time": "2023-04-04T14:02:56.328Z"
   },
   {
    "duration": 29,
    "start_time": "2023-04-04T14:02:56.371Z"
   },
   {
    "duration": 85,
    "start_time": "2023-04-04T14:02:56.401Z"
   },
   {
    "duration": 83,
    "start_time": "2023-04-04T14:02:56.491Z"
   },
   {
    "duration": 5,
    "start_time": "2023-04-04T14:02:56.585Z"
   },
   {
    "duration": 34,
    "start_time": "2023-04-04T14:02:56.591Z"
   },
   {
    "duration": 25,
    "start_time": "2023-04-04T14:02:56.628Z"
   },
   {
    "duration": 51,
    "start_time": "2023-04-04T14:02:56.654Z"
   },
   {
    "duration": 10,
    "start_time": "2023-04-04T14:02:56.707Z"
   },
   {
    "duration": 35,
    "start_time": "2023-04-04T14:02:56.719Z"
   },
   {
    "duration": 32,
    "start_time": "2023-04-04T14:02:56.756Z"
   },
   {
    "duration": 16,
    "start_time": "2023-04-04T14:02:56.790Z"
   },
   {
    "duration": 4,
    "start_time": "2023-04-04T14:02:56.807Z"
   },
   {
    "duration": 11,
    "start_time": "2023-04-04T14:02:56.812Z"
   },
   {
    "duration": 9,
    "start_time": "2023-04-04T14:02:56.824Z"
   },
   {
    "duration": 34,
    "start_time": "2023-04-04T14:02:56.835Z"
   },
   {
    "duration": 15,
    "start_time": "2023-04-04T14:02:56.872Z"
   },
   {
    "duration": 7,
    "start_time": "2023-04-04T14:02:56.889Z"
   },
   {
    "duration": 345,
    "start_time": "2023-04-04T14:02:56.897Z"
   },
   {
    "duration": 42,
    "start_time": "2023-04-04T14:02:57.245Z"
   },
   {
    "duration": 298,
    "start_time": "2023-04-04T14:02:57.296Z"
   },
   {
    "duration": 6,
    "start_time": "2023-04-04T14:02:57.595Z"
   },
   {
    "duration": 5,
    "start_time": "2023-04-04T14:02:57.602Z"
   },
   {
    "duration": 21,
    "start_time": "2023-04-04T14:02:57.609Z"
   },
   {
    "duration": 71,
    "start_time": "2023-04-04T14:02:57.632Z"
   },
   {
    "duration": 115,
    "start_time": "2023-04-04T14:04:01.922Z"
   },
   {
    "duration": 25,
    "start_time": "2023-04-04T14:04:06.690Z"
   },
   {
    "duration": 25,
    "start_time": "2023-04-04T14:04:33.510Z"
   },
   {
    "duration": 44,
    "start_time": "2023-04-04T14:04:43.581Z"
   },
   {
    "duration": 24,
    "start_time": "2023-04-04T14:04:54.292Z"
   },
   {
    "duration": 21,
    "start_time": "2023-04-04T14:06:26.606Z"
   },
   {
    "duration": 10,
    "start_time": "2023-04-04T14:06:27.638Z"
   },
   {
    "duration": 4,
    "start_time": "2023-04-04T14:07:27.114Z"
   },
   {
    "duration": 1240,
    "start_time": "2023-04-04T14:07:27.120Z"
   },
   {
    "duration": 191,
    "start_time": "2023-04-04T14:07:28.363Z"
   },
   {
    "duration": 28,
    "start_time": "2023-04-04T14:07:28.557Z"
   },
   {
    "duration": 34,
    "start_time": "2023-04-04T14:07:28.587Z"
   },
   {
    "duration": 16,
    "start_time": "2023-04-04T14:07:28.622Z"
   },
   {
    "duration": 89,
    "start_time": "2023-04-04T14:07:28.640Z"
   },
   {
    "duration": 91,
    "start_time": "2023-04-04T14:07:28.731Z"
   },
   {
    "duration": 3,
    "start_time": "2023-04-04T14:07:28.825Z"
   },
   {
    "duration": 42,
    "start_time": "2023-04-04T14:07:28.830Z"
   },
   {
    "duration": 32,
    "start_time": "2023-04-04T14:07:28.876Z"
   },
   {
    "duration": 44,
    "start_time": "2023-04-04T14:07:28.909Z"
   },
   {
    "duration": 27,
    "start_time": "2023-04-04T14:07:28.954Z"
   },
   {
    "duration": 34,
    "start_time": "2023-04-04T14:07:28.982Z"
   },
   {
    "duration": 21,
    "start_time": "2023-04-04T14:07:29.018Z"
   },
   {
    "duration": 30,
    "start_time": "2023-04-04T14:07:29.040Z"
   },
   {
    "duration": 4,
    "start_time": "2023-04-04T14:07:29.072Z"
   },
   {
    "duration": 7,
    "start_time": "2023-04-04T14:07:29.082Z"
   },
   {
    "duration": 11,
    "start_time": "2023-04-04T14:07:29.091Z"
   },
   {
    "duration": 5,
    "start_time": "2023-04-04T14:07:29.104Z"
   },
   {
    "duration": 6,
    "start_time": "2023-04-04T14:07:29.110Z"
   },
   {
    "duration": 5,
    "start_time": "2023-04-04T14:07:29.117Z"
   },
   {
    "duration": 378,
    "start_time": "2023-04-04T14:07:29.124Z"
   },
   {
    "duration": 29,
    "start_time": "2023-04-04T14:07:29.504Z"
   },
   {
    "duration": 341,
    "start_time": "2023-04-04T14:07:29.535Z"
   },
   {
    "duration": 7,
    "start_time": "2023-04-04T14:07:29.878Z"
   },
   {
    "duration": 15,
    "start_time": "2023-04-04T14:07:29.886Z"
   },
   {
    "duration": 17,
    "start_time": "2023-04-04T14:07:29.902Z"
   },
   {
    "duration": 67,
    "start_time": "2023-04-04T14:07:29.921Z"
   },
   {
    "duration": 21,
    "start_time": "2023-04-04T14:07:29.990Z"
   },
   {
    "duration": 1213,
    "start_time": "2023-04-04T14:07:30.013Z"
   },
   {
    "duration": 45,
    "start_time": "2023-04-04T14:07:57.756Z"
   },
   {
    "duration": 146,
    "start_time": "2023-04-04T14:07:58.396Z"
   },
   {
    "duration": 8,
    "start_time": "2023-04-04T14:10:18.486Z"
   },
   {
    "duration": 40,
    "start_time": "2023-04-04T14:10:27.948Z"
   },
   {
    "duration": 6,
    "start_time": "2023-04-04T14:10:28.717Z"
   },
   {
    "duration": 15,
    "start_time": "2023-04-04T14:11:48.430Z"
   },
   {
    "duration": 73,
    "start_time": "2023-04-04T14:11:59.794Z"
   },
   {
    "duration": 7,
    "start_time": "2023-04-04T14:12:06.206Z"
   },
   {
    "duration": 74,
    "start_time": "2023-04-04T14:18:12.012Z"
   },
   {
    "duration": 5,
    "start_time": "2023-04-04T14:18:13.837Z"
   },
   {
    "duration": 78,
    "start_time": "2023-04-04T14:18:38.952Z"
   },
   {
    "duration": 71,
    "start_time": "2023-04-04T14:18:44.626Z"
   },
   {
    "duration": 32,
    "start_time": "2023-04-04T14:18:50.571Z"
   },
   {
    "duration": 23,
    "start_time": "2023-04-04T14:20:45.606Z"
   },
   {
    "duration": 10,
    "start_time": "2023-04-04T14:20:54.367Z"
   },
   {
    "duration": 48,
    "start_time": "2023-04-04T14:20:56.758Z"
   },
   {
    "duration": 13,
    "start_time": "2023-04-04T14:20:57.296Z"
   },
   {
    "duration": 57,
    "start_time": "2023-04-04T14:21:19.128Z"
   },
   {
    "duration": 6,
    "start_time": "2023-04-04T14:21:25.596Z"
   },
   {
    "duration": 66,
    "start_time": "2023-04-04T14:21:32.052Z"
   },
   {
    "duration": 7,
    "start_time": "2023-04-04T14:21:33.494Z"
   },
   {
    "duration": 71,
    "start_time": "2023-04-04T14:21:55.754Z"
   },
   {
    "duration": 9,
    "start_time": "2023-04-04T14:21:56.491Z"
   },
   {
    "duration": 57,
    "start_time": "2023-04-04T14:22:33.702Z"
   },
   {
    "duration": 7,
    "start_time": "2023-04-04T14:22:43.088Z"
   },
   {
    "duration": 7,
    "start_time": "2023-04-04T14:22:57.054Z"
   },
   {
    "duration": 51,
    "start_time": "2023-04-04T14:22:57.692Z"
   },
   {
    "duration": 8,
    "start_time": "2023-04-04T14:22:58.460Z"
   },
   {
    "duration": 56,
    "start_time": "2023-04-04T14:27:00.697Z"
   },
   {
    "duration": 70,
    "start_time": "2023-04-04T14:40:27.927Z"
   },
   {
    "duration": 3,
    "start_time": "2023-04-04T14:41:14.230Z"
   },
   {
    "duration": 889,
    "start_time": "2023-04-04T14:41:42.688Z"
   },
   {
    "duration": 1126,
    "start_time": "2023-04-04T14:42:23.757Z"
   },
   {
    "duration": 4,
    "start_time": "2023-04-04T14:42:39.454Z"
   },
   {
    "duration": 1252,
    "start_time": "2023-04-04T14:42:39.460Z"
   },
   {
    "duration": 187,
    "start_time": "2023-04-04T14:42:40.714Z"
   },
   {
    "duration": 12,
    "start_time": "2023-04-04T14:42:40.902Z"
   },
   {
    "duration": 24,
    "start_time": "2023-04-04T14:42:40.917Z"
   },
   {
    "duration": 47,
    "start_time": "2023-04-04T14:42:40.943Z"
   },
   {
    "duration": 90,
    "start_time": "2023-04-04T14:42:40.991Z"
   },
   {
    "duration": 73,
    "start_time": "2023-04-04T14:42:41.086Z"
   },
   {
    "duration": 8,
    "start_time": "2023-04-04T14:42:41.161Z"
   },
   {
    "duration": 37,
    "start_time": "2023-04-04T14:42:41.170Z"
   },
   {
    "duration": 27,
    "start_time": "2023-04-04T14:42:41.209Z"
   },
   {
    "duration": 67,
    "start_time": "2023-04-04T14:42:41.238Z"
   },
   {
    "duration": 10,
    "start_time": "2023-04-04T14:42:41.307Z"
   },
   {
    "duration": 42,
    "start_time": "2023-04-04T14:42:41.321Z"
   },
   {
    "duration": 33,
    "start_time": "2023-04-04T14:42:41.365Z"
   },
   {
    "duration": 21,
    "start_time": "2023-04-04T14:42:41.400Z"
   },
   {
    "duration": 4,
    "start_time": "2023-04-04T14:42:41.423Z"
   },
   {
    "duration": 43,
    "start_time": "2023-04-04T14:42:41.429Z"
   },
   {
    "duration": 22,
    "start_time": "2023-04-04T14:42:41.473Z"
   },
   {
    "duration": 6,
    "start_time": "2023-04-04T14:42:41.497Z"
   },
   {
    "duration": 20,
    "start_time": "2023-04-04T14:42:41.505Z"
   },
   {
    "duration": 20,
    "start_time": "2023-04-04T14:42:41.527Z"
   },
   {
    "duration": 342,
    "start_time": "2023-04-04T14:42:41.549Z"
   },
   {
    "duration": 27,
    "start_time": "2023-04-04T14:42:41.893Z"
   },
   {
    "duration": 290,
    "start_time": "2023-04-04T14:42:41.922Z"
   },
   {
    "duration": 5,
    "start_time": "2023-04-04T14:42:42.214Z"
   },
   {
    "duration": 8,
    "start_time": "2023-04-04T14:42:42.221Z"
   },
   {
    "duration": 21,
    "start_time": "2023-04-04T14:42:42.230Z"
   },
   {
    "duration": 73,
    "start_time": "2023-04-04T14:42:42.252Z"
   },
   {
    "duration": 23,
    "start_time": "2023-04-04T14:42:42.327Z"
   },
   {
    "duration": 24,
    "start_time": "2023-04-04T14:42:42.352Z"
   },
   {
    "duration": 61,
    "start_time": "2023-04-04T14:42:42.380Z"
   },
   {
    "duration": 3,
    "start_time": "2023-04-04T14:42:42.443Z"
   },
   {
    "duration": 1156,
    "start_time": "2023-04-04T14:42:42.448Z"
   },
   {
    "duration": 13,
    "start_time": "2023-04-04T14:43:49.064Z"
   },
   {
    "duration": 902,
    "start_time": "2023-04-04T14:43:49.690Z"
   },
   {
    "duration": 58,
    "start_time": "2023-04-04T14:44:13.600Z"
   },
   {
    "duration": 77,
    "start_time": "2023-04-04T14:44:19.363Z"
   },
   {
    "duration": 3,
    "start_time": "2023-04-04T14:44:32.103Z"
   },
   {
    "duration": 10,
    "start_time": "2023-04-04T14:44:39.586Z"
   },
   {
    "duration": 56,
    "start_time": "2023-04-04T14:45:05.879Z"
   },
   {
    "duration": 8,
    "start_time": "2023-04-04T14:45:07.528Z"
   },
   {
    "duration": 22,
    "start_time": "2023-04-04T14:45:08.460Z"
   },
   {
    "duration": 16,
    "start_time": "2023-04-04T14:46:33.755Z"
   },
   {
    "duration": 4,
    "start_time": "2023-04-04T14:46:46.834Z"
   },
   {
    "duration": 1274,
    "start_time": "2023-04-04T14:46:46.840Z"
   },
   {
    "duration": 200,
    "start_time": "2023-04-04T14:46:48.116Z"
   },
   {
    "duration": 11,
    "start_time": "2023-04-04T14:46:48.318Z"
   },
   {
    "duration": 20,
    "start_time": "2023-04-04T14:46:48.331Z"
   },
   {
    "duration": 37,
    "start_time": "2023-04-04T14:46:48.352Z"
   },
   {
    "duration": 93,
    "start_time": "2023-04-04T14:46:48.391Z"
   },
   {
    "duration": 80,
    "start_time": "2023-04-04T14:46:48.488Z"
   },
   {
    "duration": 3,
    "start_time": "2023-04-04T14:46:48.571Z"
   },
   {
    "duration": 37,
    "start_time": "2023-04-04T14:46:48.580Z"
   },
   {
    "duration": 26,
    "start_time": "2023-04-04T14:46:48.620Z"
   },
   {
    "duration": 50,
    "start_time": "2023-04-04T14:46:48.648Z"
   },
   {
    "duration": 11,
    "start_time": "2023-04-04T14:46:48.699Z"
   },
   {
    "duration": 32,
    "start_time": "2023-04-04T14:46:48.712Z"
   },
   {
    "duration": 31,
    "start_time": "2023-04-04T14:46:48.762Z"
   },
   {
    "duration": 18,
    "start_time": "2023-04-04T14:46:48.795Z"
   },
   {
    "duration": 4,
    "start_time": "2023-04-04T14:46:48.814Z"
   },
   {
    "duration": 7,
    "start_time": "2023-04-04T14:46:48.820Z"
   },
   {
    "duration": 49,
    "start_time": "2023-04-04T14:46:48.829Z"
   },
   {
    "duration": 6,
    "start_time": "2023-04-04T14:46:48.883Z"
   },
   {
    "duration": 6,
    "start_time": "2023-04-04T14:46:48.891Z"
   },
   {
    "duration": 3,
    "start_time": "2023-04-04T14:46:48.898Z"
   },
   {
    "duration": 327,
    "start_time": "2023-04-04T14:46:48.902Z"
   },
   {
    "duration": 36,
    "start_time": "2023-04-04T14:46:49.231Z"
   },
   {
    "duration": 298,
    "start_time": "2023-04-04T14:46:49.268Z"
   },
   {
    "duration": 11,
    "start_time": "2023-04-04T14:46:49.575Z"
   },
   {
    "duration": 5,
    "start_time": "2023-04-04T14:46:49.588Z"
   },
   {
    "duration": 14,
    "start_time": "2023-04-04T14:46:49.595Z"
   },
   {
    "duration": 62,
    "start_time": "2023-04-04T14:46:49.612Z"
   },
   {
    "duration": 25,
    "start_time": "2023-04-04T14:46:49.682Z"
   },
   {
    "duration": 8,
    "start_time": "2023-04-04T14:46:49.709Z"
   },
   {
    "duration": 62,
    "start_time": "2023-04-04T14:46:49.719Z"
   },
   {
    "duration": 8,
    "start_time": "2023-04-04T14:46:49.787Z"
   },
   {
    "duration": 9,
    "start_time": "2023-04-04T14:46:49.796Z"
   },
   {
    "duration": 14,
    "start_time": "2023-04-04T14:46:49.807Z"
   },
   {
    "duration": 14,
    "start_time": "2023-04-04T14:48:03.221Z"
   },
   {
    "duration": 21,
    "start_time": "2023-04-04T14:48:14.680Z"
   },
   {
    "duration": 12,
    "start_time": "2023-04-04T14:49:00.943Z"
   },
   {
    "duration": 125,
    "start_time": "2023-04-04T14:50:14.730Z"
   },
   {
    "duration": 152,
    "start_time": "2023-04-04T14:50:27.168Z"
   },
   {
    "duration": 8,
    "start_time": "2023-04-04T14:53:35.142Z"
   },
   {
    "duration": 3,
    "start_time": "2023-04-04T14:53:41.640Z"
   },
   {
    "duration": 1182,
    "start_time": "2023-04-04T14:53:41.645Z"
   },
   {
    "duration": 180,
    "start_time": "2023-04-04T14:53:42.829Z"
   },
   {
    "duration": 12,
    "start_time": "2023-04-04T14:53:43.011Z"
   },
   {
    "duration": 29,
    "start_time": "2023-04-04T14:53:43.024Z"
   },
   {
    "duration": 24,
    "start_time": "2023-04-04T14:53:43.061Z"
   },
   {
    "duration": 89,
    "start_time": "2023-04-04T14:53:43.086Z"
   },
   {
    "duration": 77,
    "start_time": "2023-04-04T14:53:43.177Z"
   },
   {
    "duration": 11,
    "start_time": "2023-04-04T14:53:43.256Z"
   },
   {
    "duration": 26,
    "start_time": "2023-04-04T14:53:43.269Z"
   },
   {
    "duration": 31,
    "start_time": "2023-04-04T14:53:43.297Z"
   },
   {
    "duration": 58,
    "start_time": "2023-04-04T14:53:43.330Z"
   },
   {
    "duration": 11,
    "start_time": "2023-04-04T14:53:43.389Z"
   },
   {
    "duration": 48,
    "start_time": "2023-04-04T14:53:43.402Z"
   },
   {
    "duration": 28,
    "start_time": "2023-04-04T14:53:43.462Z"
   },
   {
    "duration": 19,
    "start_time": "2023-04-04T14:53:43.492Z"
   },
   {
    "duration": 4,
    "start_time": "2023-04-04T14:53:43.512Z"
   },
   {
    "duration": 12,
    "start_time": "2023-04-04T14:53:43.517Z"
   },
   {
    "duration": 41,
    "start_time": "2023-04-04T14:53:43.531Z"
   },
   {
    "duration": 6,
    "start_time": "2023-04-04T14:53:43.576Z"
   },
   {
    "duration": 8,
    "start_time": "2023-04-04T14:53:43.583Z"
   },
   {
    "duration": 5,
    "start_time": "2023-04-04T14:53:43.593Z"
   },
   {
    "duration": 346,
    "start_time": "2023-04-04T14:53:43.599Z"
   },
   {
    "duration": 43,
    "start_time": "2023-04-04T14:53:43.946Z"
   },
   {
    "duration": 336,
    "start_time": "2023-04-04T14:53:43.991Z"
   },
   {
    "duration": 6,
    "start_time": "2023-04-04T14:53:44.328Z"
   },
   {
    "duration": 4,
    "start_time": "2023-04-04T14:53:44.336Z"
   },
   {
    "duration": 16,
    "start_time": "2023-04-04T14:53:44.369Z"
   },
   {
    "duration": 47,
    "start_time": "2023-04-04T14:53:44.386Z"
   },
   {
    "duration": 35,
    "start_time": "2023-04-04T14:53:44.435Z"
   },
   {
    "duration": 8,
    "start_time": "2023-04-04T14:53:44.473Z"
   },
   {
    "duration": 53,
    "start_time": "2023-04-04T14:53:44.482Z"
   },
   {
    "duration": 7,
    "start_time": "2023-04-04T14:53:44.537Z"
   },
   {
    "duration": 10,
    "start_time": "2023-04-04T14:53:44.562Z"
   },
   {
    "duration": 15,
    "start_time": "2023-04-04T14:53:44.575Z"
   },
   {
    "duration": 12,
    "start_time": "2023-04-04T14:54:46.820Z"
   },
   {
    "duration": 13,
    "start_time": "2023-04-04T14:55:10.754Z"
   },
   {
    "duration": 8,
    "start_time": "2023-04-04T14:56:02.938Z"
   },
   {
    "duration": 4,
    "start_time": "2023-04-04T15:05:51.126Z"
   },
   {
    "duration": 114,
    "start_time": "2023-04-04T17:08:06.104Z"
   },
   {
    "duration": 7,
    "start_time": "2023-04-04T17:09:18.519Z"
   },
   {
    "duration": 9,
    "start_time": "2023-04-04T17:09:33.089Z"
   },
   {
    "duration": 14,
    "start_time": "2023-04-04T17:10:19.015Z"
   },
   {
    "duration": 5,
    "start_time": "2023-04-04T17:10:40.138Z"
   },
   {
    "duration": 12,
    "start_time": "2023-04-04T17:10:48.796Z"
   },
   {
    "duration": 6,
    "start_time": "2023-04-04T17:15:18.825Z"
   },
   {
    "duration": 4,
    "start_time": "2023-04-04T17:15:36.157Z"
   },
   {
    "duration": 1252,
    "start_time": "2023-04-04T17:15:36.163Z"
   },
   {
    "duration": 192,
    "start_time": "2023-04-04T17:15:37.418Z"
   },
   {
    "duration": 10,
    "start_time": "2023-04-04T17:15:37.612Z"
   },
   {
    "duration": 22,
    "start_time": "2023-04-04T17:15:37.624Z"
   },
   {
    "duration": 28,
    "start_time": "2023-04-04T17:15:37.648Z"
   },
   {
    "duration": 65,
    "start_time": "2023-04-04T17:15:37.677Z"
   },
   {
    "duration": 87,
    "start_time": "2023-04-04T17:15:37.744Z"
   },
   {
    "duration": 3,
    "start_time": "2023-04-04T17:15:37.833Z"
   },
   {
    "duration": 42,
    "start_time": "2023-04-04T17:15:37.839Z"
   },
   {
    "duration": 26,
    "start_time": "2023-04-04T17:15:37.882Z"
   },
   {
    "duration": 62,
    "start_time": "2023-04-04T17:15:37.910Z"
   },
   {
    "duration": 11,
    "start_time": "2023-04-04T17:15:37.974Z"
   },
   {
    "duration": 45,
    "start_time": "2023-04-04T17:15:37.987Z"
   },
   {
    "duration": 20,
    "start_time": "2023-04-04T17:15:38.033Z"
   },
   {
    "duration": 18,
    "start_time": "2023-04-04T17:15:38.062Z"
   },
   {
    "duration": 5,
    "start_time": "2023-04-04T17:15:38.081Z"
   },
   {
    "duration": 7,
    "start_time": "2023-04-04T17:15:38.088Z"
   },
   {
    "duration": 17,
    "start_time": "2023-04-04T17:15:38.096Z"
   },
   {
    "duration": 4,
    "start_time": "2023-04-04T17:15:38.115Z"
   },
   {
    "duration": 41,
    "start_time": "2023-04-04T17:15:38.121Z"
   },
   {
    "duration": 4,
    "start_time": "2023-04-04T17:15:38.164Z"
   },
   {
    "duration": 342,
    "start_time": "2023-04-04T17:15:38.170Z"
   },
   {
    "duration": 26,
    "start_time": "2023-04-04T17:15:38.513Z"
   },
   {
    "duration": 277,
    "start_time": "2023-04-04T17:15:38.541Z"
   },
   {
    "duration": 6,
    "start_time": "2023-04-04T17:15:38.821Z"
   },
   {
    "duration": 5,
    "start_time": "2023-04-04T17:15:38.829Z"
   },
   {
    "duration": 35,
    "start_time": "2023-04-04T17:15:38.837Z"
   },
   {
    "duration": 47,
    "start_time": "2023-04-04T17:15:38.875Z"
   },
   {
    "duration": 57,
    "start_time": "2023-04-04T17:15:38.924Z"
   },
   {
    "duration": 7,
    "start_time": "2023-04-04T17:15:38.983Z"
   },
   {
    "duration": 70,
    "start_time": "2023-04-04T17:15:38.992Z"
   },
   {
    "duration": 6,
    "start_time": "2023-04-04T17:15:39.064Z"
   },
   {
    "duration": 17,
    "start_time": "2023-04-04T17:15:39.072Z"
   },
   {
    "duration": 2,
    "start_time": "2023-04-04T17:15:39.092Z"
   },
   {
    "duration": 9,
    "start_time": "2023-04-04T17:15:39.096Z"
   },
   {
    "duration": 12,
    "start_time": "2023-04-04T17:15:39.107Z"
   },
   {
    "duration": 12,
    "start_time": "2023-04-04T17:21:48.177Z"
   },
   {
    "duration": 72,
    "start_time": "2023-04-04T17:22:55.125Z"
   },
   {
    "duration": 10,
    "start_time": "2023-04-04T17:23:05.282Z"
   },
   {
    "duration": 62,
    "start_time": "2023-04-05T10:23:28.236Z"
   },
   {
    "duration": 9,
    "start_time": "2023-04-05T10:23:58.769Z"
   },
   {
    "duration": 7,
    "start_time": "2023-04-05T10:24:23.182Z"
   },
   {
    "duration": 4,
    "start_time": "2023-04-05T10:24:33.241Z"
   },
   {
    "duration": 1447,
    "start_time": "2023-04-05T10:24:33.247Z"
   },
   {
    "duration": 832,
    "start_time": "2023-04-05T10:24:34.696Z"
   },
   {
    "duration": 24,
    "start_time": "2023-04-05T10:24:35.530Z"
   },
   {
    "duration": 22,
    "start_time": "2023-04-05T10:24:35.557Z"
   },
   {
    "duration": 16,
    "start_time": "2023-04-05T10:24:35.580Z"
   },
   {
    "duration": 80,
    "start_time": "2023-04-05T10:24:35.598Z"
   },
   {
    "duration": 85,
    "start_time": "2023-04-05T10:24:35.679Z"
   },
   {
    "duration": 4,
    "start_time": "2023-04-05T10:24:35.765Z"
   },
   {
    "duration": 30,
    "start_time": "2023-04-05T10:24:35.770Z"
   },
   {
    "duration": 28,
    "start_time": "2023-04-05T10:24:35.803Z"
   },
   {
    "duration": 45,
    "start_time": "2023-04-05T10:24:35.843Z"
   },
   {
    "duration": 12,
    "start_time": "2023-04-05T10:24:35.890Z"
   },
   {
    "duration": 53,
    "start_time": "2023-04-05T10:24:35.903Z"
   },
   {
    "duration": 19,
    "start_time": "2023-04-05T10:24:35.958Z"
   },
   {
    "duration": 20,
    "start_time": "2023-04-05T10:24:35.978Z"
   },
   {
    "duration": 3,
    "start_time": "2023-04-05T10:24:36.000Z"
   },
   {
    "duration": 7,
    "start_time": "2023-04-05T10:24:36.005Z"
   },
   {
    "duration": 39,
    "start_time": "2023-04-05T10:24:36.014Z"
   },
   {
    "duration": 10,
    "start_time": "2023-04-05T10:24:36.055Z"
   },
   {
    "duration": 19,
    "start_time": "2023-04-05T10:24:36.066Z"
   },
   {
    "duration": 4,
    "start_time": "2023-04-05T10:24:36.087Z"
   },
   {
    "duration": 423,
    "start_time": "2023-04-05T10:24:36.093Z"
   },
   {
    "duration": 41,
    "start_time": "2023-04-05T10:24:36.518Z"
   },
   {
    "duration": 307,
    "start_time": "2023-04-05T10:24:36.562Z"
   },
   {
    "duration": 6,
    "start_time": "2023-04-05T10:24:36.870Z"
   },
   {
    "duration": 9,
    "start_time": "2023-04-05T10:24:36.877Z"
   },
   {
    "duration": 38,
    "start_time": "2023-04-05T10:24:36.888Z"
   },
   {
    "duration": 60,
    "start_time": "2023-04-05T10:24:36.929Z"
   },
   {
    "duration": 23,
    "start_time": "2023-04-05T10:24:36.991Z"
   },
   {
    "duration": 40,
    "start_time": "2023-04-05T10:24:37.016Z"
   },
   {
    "duration": 53,
    "start_time": "2023-04-05T10:24:37.058Z"
   },
   {
    "duration": 6,
    "start_time": "2023-04-05T10:24:37.113Z"
   },
   {
    "duration": 31,
    "start_time": "2023-04-05T10:24:37.121Z"
   },
   {
    "duration": 196,
    "start_time": "2023-04-05T10:24:37.154Z"
   },
   {
    "duration": 3,
    "start_time": "2023-04-05T10:24:37.352Z"
   },
   {
    "duration": 13,
    "start_time": "2023-04-05T10:24:37.357Z"
   },
   {
    "duration": 14,
    "start_time": "2023-04-05T10:24:37.372Z"
   },
   {
    "duration": 9,
    "start_time": "2023-04-05T10:24:37.388Z"
   },
   {
    "duration": 5,
    "start_time": "2023-04-05T10:24:37.399Z"
   },
   {
    "duration": 187,
    "start_time": "2023-04-05T10:33:20.780Z"
   },
   {
    "duration": 63,
    "start_time": "2023-04-05T10:33:33.461Z"
   },
   {
    "duration": 3,
    "start_time": "2023-04-05T10:43:39.527Z"
   },
   {
    "duration": 5,
    "start_time": "2023-04-05T10:43:44.951Z"
   },
   {
    "duration": 10,
    "start_time": "2023-04-05T10:43:50.751Z"
   },
   {
    "duration": 5,
    "start_time": "2023-04-05T10:44:01.571Z"
   },
   {
    "duration": 5,
    "start_time": "2023-04-05T10:44:13.050Z"
   },
   {
    "duration": 9,
    "start_time": "2023-04-05T10:44:23.085Z"
   },
   {
    "duration": 198,
    "start_time": "2023-04-05T10:46:33.739Z"
   },
   {
    "duration": 4,
    "start_time": "2023-04-05T11:33:59.402Z"
   },
   {
    "duration": 4,
    "start_time": "2023-04-05T11:34:00.330Z"
   },
   {
    "duration": 3,
    "start_time": "2023-04-05T11:34:05.312Z"
   },
   {
    "duration": 299,
    "start_time": "2023-04-05T11:34:06.295Z"
   },
   {
    "duration": 15,
    "start_time": "2023-04-05T11:34:15.963Z"
   },
   {
    "duration": 4,
    "start_time": "2023-04-05T11:43:23.011Z"
   },
   {
    "duration": 1229,
    "start_time": "2023-04-05T11:43:23.017Z"
   },
   {
    "duration": 169,
    "start_time": "2023-04-05T11:43:24.248Z"
   },
   {
    "duration": 12,
    "start_time": "2023-04-05T11:43:24.419Z"
   },
   {
    "duration": 27,
    "start_time": "2023-04-05T11:43:24.433Z"
   },
   {
    "duration": 15,
    "start_time": "2023-04-05T11:43:24.462Z"
   },
   {
    "duration": 80,
    "start_time": "2023-04-05T11:43:24.479Z"
   },
   {
    "duration": 81,
    "start_time": "2023-04-05T11:43:24.560Z"
   },
   {
    "duration": 3,
    "start_time": "2023-04-05T11:43:24.643Z"
   },
   {
    "duration": 41,
    "start_time": "2023-04-05T11:43:24.648Z"
   },
   {
    "duration": 27,
    "start_time": "2023-04-05T11:43:24.692Z"
   },
   {
    "duration": 42,
    "start_time": "2023-04-05T11:43:24.720Z"
   },
   {
    "duration": 11,
    "start_time": "2023-04-05T11:43:24.764Z"
   },
   {
    "duration": 35,
    "start_time": "2023-04-05T11:43:24.777Z"
   },
   {
    "duration": 31,
    "start_time": "2023-04-05T11:43:24.814Z"
   },
   {
    "duration": 18,
    "start_time": "2023-04-05T11:43:24.846Z"
   },
   {
    "duration": 4,
    "start_time": "2023-04-05T11:43:24.865Z"
   },
   {
    "duration": 13,
    "start_time": "2023-04-05T11:43:24.870Z"
   },
   {
    "duration": 14,
    "start_time": "2023-04-05T11:43:24.884Z"
   },
   {
    "duration": 120,
    "start_time": "2023-04-05T11:43:24.899Z"
   },
   {
    "duration": 0,
    "start_time": "2023-04-05T11:43:25.020Z"
   },
   {
    "duration": 0,
    "start_time": "2023-04-05T11:43:25.022Z"
   },
   {
    "duration": 0,
    "start_time": "2023-04-05T11:43:25.023Z"
   },
   {
    "duration": 0,
    "start_time": "2023-04-05T11:43:25.024Z"
   },
   {
    "duration": 0,
    "start_time": "2023-04-05T11:43:25.025Z"
   },
   {
    "duration": 0,
    "start_time": "2023-04-05T11:43:25.041Z"
   },
   {
    "duration": 0,
    "start_time": "2023-04-05T11:43:25.042Z"
   },
   {
    "duration": 0,
    "start_time": "2023-04-05T11:43:25.043Z"
   },
   {
    "duration": 0,
    "start_time": "2023-04-05T11:43:25.044Z"
   },
   {
    "duration": 0,
    "start_time": "2023-04-05T11:43:25.046Z"
   },
   {
    "duration": 0,
    "start_time": "2023-04-05T11:43:25.047Z"
   },
   {
    "duration": 0,
    "start_time": "2023-04-05T11:43:25.047Z"
   },
   {
    "duration": 0,
    "start_time": "2023-04-05T11:43:25.049Z"
   },
   {
    "duration": 0,
    "start_time": "2023-04-05T11:43:25.050Z"
   },
   {
    "duration": 0,
    "start_time": "2023-04-05T11:43:25.051Z"
   },
   {
    "duration": 0,
    "start_time": "2023-04-05T11:43:25.052Z"
   },
   {
    "duration": 0,
    "start_time": "2023-04-05T11:43:25.053Z"
   },
   {
    "duration": 0,
    "start_time": "2023-04-05T11:43:25.054Z"
   },
   {
    "duration": 0,
    "start_time": "2023-04-05T11:43:25.055Z"
   },
   {
    "duration": 0,
    "start_time": "2023-04-05T11:43:25.057Z"
   },
   {
    "duration": 0,
    "start_time": "2023-04-05T11:43:25.058Z"
   },
   {
    "duration": 4,
    "start_time": "2023-04-05T11:47:26.057Z"
   },
   {
    "duration": 4,
    "start_time": "2023-04-05T11:47:27.367Z"
   },
   {
    "duration": 13,
    "start_time": "2023-04-05T11:47:29.044Z"
   },
   {
    "duration": 3,
    "start_time": "2023-04-05T11:47:35.586Z"
   },
   {
    "duration": 313,
    "start_time": "2023-04-05T11:47:37.111Z"
   },
   {
    "duration": 30,
    "start_time": "2023-04-05T11:47:42.826Z"
   },
   {
    "duration": 258,
    "start_time": "2023-04-05T11:47:44.031Z"
   },
   {
    "duration": 7,
    "start_time": "2023-04-05T11:47:45.713Z"
   },
   {
    "duration": 4,
    "start_time": "2023-04-05T11:47:46.981Z"
   },
   {
    "duration": 12,
    "start_time": "2023-04-05T11:47:51.215Z"
   },
   {
    "duration": 51,
    "start_time": "2023-04-05T11:47:55.916Z"
   },
   {
    "duration": 53,
    "start_time": "2023-04-05T11:48:07.407Z"
   },
   {
    "duration": 25,
    "start_time": "2023-04-05T11:48:10.026Z"
   },
   {
    "duration": 9,
    "start_time": "2023-04-05T11:48:11.648Z"
   },
   {
    "duration": 61,
    "start_time": "2023-04-05T11:48:37.761Z"
   },
   {
    "duration": 7,
    "start_time": "2023-04-05T11:48:38.626Z"
   },
   {
    "duration": 13,
    "start_time": "2023-04-05T11:52:24.395Z"
   },
   {
    "duration": 3,
    "start_time": "2023-04-05T11:52:49.533Z"
   },
   {
    "duration": 5,
    "start_time": "2023-04-05T11:52:51.537Z"
   },
   {
    "duration": 9,
    "start_time": "2023-04-05T11:52:57.910Z"
   },
   {
    "duration": 189,
    "start_time": "2023-04-05T11:53:10.543Z"
   },
   {
    "duration": 4,
    "start_time": "2023-04-05T11:53:50.918Z"
   },
   {
    "duration": 1256,
    "start_time": "2023-04-05T11:53:50.931Z"
   },
   {
    "duration": 179,
    "start_time": "2023-04-05T11:53:52.190Z"
   },
   {
    "duration": 12,
    "start_time": "2023-04-05T11:53:52.371Z"
   },
   {
    "duration": 45,
    "start_time": "2023-04-05T11:53:52.385Z"
   },
   {
    "duration": 27,
    "start_time": "2023-04-05T11:53:52.433Z"
   },
   {
    "duration": 79,
    "start_time": "2023-04-05T11:53:52.462Z"
   },
   {
    "duration": 87,
    "start_time": "2023-04-05T11:53:52.542Z"
   },
   {
    "duration": 5,
    "start_time": "2023-04-05T11:53:52.641Z"
   },
   {
    "duration": 44,
    "start_time": "2023-04-05T11:53:52.648Z"
   },
   {
    "duration": 34,
    "start_time": "2023-04-05T11:53:52.694Z"
   },
   {
    "duration": 39,
    "start_time": "2023-04-05T11:53:52.730Z"
   },
   {
    "duration": 11,
    "start_time": "2023-04-05T11:53:52.771Z"
   },
   {
    "duration": 43,
    "start_time": "2023-04-05T11:53:52.783Z"
   },
   {
    "duration": 20,
    "start_time": "2023-04-05T11:53:52.829Z"
   },
   {
    "duration": 18,
    "start_time": "2023-04-05T11:53:52.851Z"
   },
   {
    "duration": 4,
    "start_time": "2023-04-05T11:53:52.871Z"
   },
   {
    "duration": 12,
    "start_time": "2023-04-05T11:53:52.877Z"
   },
   {
    "duration": 11,
    "start_time": "2023-04-05T11:53:52.891Z"
   },
   {
    "duration": 4,
    "start_time": "2023-04-05T11:53:52.904Z"
   },
   {
    "duration": 36,
    "start_time": "2023-04-05T11:53:52.910Z"
   },
   {
    "duration": 12,
    "start_time": "2023-04-05T11:53:52.947Z"
   },
   {
    "duration": 326,
    "start_time": "2023-04-05T11:53:52.961Z"
   },
   {
    "duration": 26,
    "start_time": "2023-04-05T11:53:53.289Z"
   },
   {
    "duration": 302,
    "start_time": "2023-04-05T11:53:53.317Z"
   },
   {
    "duration": 6,
    "start_time": "2023-04-05T11:53:53.621Z"
   },
   {
    "duration": 16,
    "start_time": "2023-04-05T11:53:53.628Z"
   },
   {
    "duration": 15,
    "start_time": "2023-04-05T11:53:53.646Z"
   },
   {
    "duration": 47,
    "start_time": "2023-04-05T11:53:53.662Z"
   },
   {
    "duration": 47,
    "start_time": "2023-04-05T11:53:53.710Z"
   },
   {
    "duration": 12,
    "start_time": "2023-04-05T11:53:53.759Z"
   },
   {
    "duration": 74,
    "start_time": "2023-04-05T11:53:53.773Z"
   },
   {
    "duration": 7,
    "start_time": "2023-04-05T11:53:53.848Z"
   },
   {
    "duration": 17,
    "start_time": "2023-04-05T11:53:53.857Z"
   },
   {
    "duration": 3,
    "start_time": "2023-04-05T11:53:53.875Z"
   },
   {
    "duration": 14,
    "start_time": "2023-04-05T11:53:53.879Z"
   },
   {
    "duration": 14,
    "start_time": "2023-04-05T11:53:53.895Z"
   },
   {
    "duration": 62,
    "start_time": "2023-04-05T11:53:53.911Z"
   },
   {
    "duration": 280,
    "start_time": "2023-04-05T11:53:53.975Z"
   },
   {
    "duration": 6,
    "start_time": "2023-04-05T11:53:54.256Z"
   },
   {
    "duration": 4,
    "start_time": "2023-04-05T11:53:54.264Z"
   },
   {
    "duration": 9,
    "start_time": "2023-04-05T11:53:54.273Z"
   },
   {
    "duration": 9,
    "start_time": "2023-04-05T11:54:11.732Z"
   },
   {
    "duration": 3,
    "start_time": "2023-04-05T11:54:27.735Z"
   },
   {
    "duration": 1228,
    "start_time": "2023-04-05T11:54:27.740Z"
   },
   {
    "duration": 165,
    "start_time": "2023-04-05T11:54:28.970Z"
   },
   {
    "duration": 11,
    "start_time": "2023-04-05T11:54:29.140Z"
   },
   {
    "duration": 30,
    "start_time": "2023-04-05T11:54:29.152Z"
   },
   {
    "duration": 17,
    "start_time": "2023-04-05T11:54:29.184Z"
   },
   {
    "duration": 83,
    "start_time": "2023-04-05T11:54:29.203Z"
   },
   {
    "duration": 97,
    "start_time": "2023-04-05T11:54:29.287Z"
   },
   {
    "duration": 5,
    "start_time": "2023-04-05T11:54:29.390Z"
   },
   {
    "duration": 54,
    "start_time": "2023-04-05T11:54:29.397Z"
   },
   {
    "duration": 33,
    "start_time": "2023-04-05T11:54:29.452Z"
   },
   {
    "duration": 67,
    "start_time": "2023-04-05T11:54:29.488Z"
   },
   {
    "duration": 14,
    "start_time": "2023-04-05T11:54:29.557Z"
   },
   {
    "duration": 59,
    "start_time": "2023-04-05T11:54:29.573Z"
   },
   {
    "duration": 28,
    "start_time": "2023-04-05T11:54:29.634Z"
   },
   {
    "duration": 23,
    "start_time": "2023-04-05T11:54:29.664Z"
   },
   {
    "duration": 4,
    "start_time": "2023-04-05T11:54:29.689Z"
   },
   {
    "duration": 17,
    "start_time": "2023-04-05T11:54:29.695Z"
   },
   {
    "duration": 30,
    "start_time": "2023-04-05T11:54:29.715Z"
   },
   {
    "duration": 6,
    "start_time": "2023-04-05T11:54:29.747Z"
   },
   {
    "duration": 16,
    "start_time": "2023-04-05T11:54:29.755Z"
   },
   {
    "duration": 15,
    "start_time": "2023-04-05T11:54:29.773Z"
   },
   {
    "duration": 351,
    "start_time": "2023-04-05T11:54:29.790Z"
   },
   {
    "duration": 31,
    "start_time": "2023-04-05T11:54:30.146Z"
   },
   {
    "duration": 294,
    "start_time": "2023-04-05T11:54:30.179Z"
   },
   {
    "duration": 6,
    "start_time": "2023-04-05T11:54:30.474Z"
   },
   {
    "duration": 30,
    "start_time": "2023-04-05T11:54:30.482Z"
   },
   {
    "duration": 56,
    "start_time": "2023-04-05T11:54:30.514Z"
   },
   {
    "duration": 62,
    "start_time": "2023-04-05T11:54:30.572Z"
   },
   {
    "duration": 28,
    "start_time": "2023-04-05T11:54:30.636Z"
   },
   {
    "duration": 35,
    "start_time": "2023-04-05T11:54:30.666Z"
   },
   {
    "duration": 91,
    "start_time": "2023-04-05T11:54:30.703Z"
   },
   {
    "duration": 8,
    "start_time": "2023-04-05T11:54:30.796Z"
   },
   {
    "duration": 71,
    "start_time": "2023-04-05T11:54:30.806Z"
   },
   {
    "duration": 79,
    "start_time": "2023-04-05T11:54:30.879Z"
   },
   {
    "duration": 46,
    "start_time": "2023-04-05T11:54:30.961Z"
   },
   {
    "duration": 81,
    "start_time": "2023-04-05T11:54:31.009Z"
   },
   {
    "duration": 104,
    "start_time": "2023-04-05T11:54:31.091Z"
   },
   {
    "duration": 8,
    "start_time": "2023-04-05T11:54:31.198Z"
   },
   {
    "duration": 269,
    "start_time": "2023-04-05T11:54:31.208Z"
   },
   {
    "duration": 6,
    "start_time": "2023-04-05T11:54:31.479Z"
   },
   {
    "duration": 34,
    "start_time": "2023-04-05T11:54:31.487Z"
   },
   {
    "duration": 57,
    "start_time": "2023-04-05T11:54:31.526Z"
   },
   {
    "duration": 5,
    "start_time": "2023-04-05T11:57:54.551Z"
   },
   {
    "duration": 9,
    "start_time": "2023-04-05T11:57:55.421Z"
   },
   {
    "duration": 62,
    "start_time": "2023-04-05T11:57:57.832Z"
   },
   {
    "duration": 7,
    "start_time": "2023-04-05T11:57:58.892Z"
   },
   {
    "duration": 198,
    "start_time": "2023-04-05T11:58:00.662Z"
   },
   {
    "duration": 4,
    "start_time": "2023-04-05T11:59:15.739Z"
   },
   {
    "duration": 9,
    "start_time": "2023-04-05T11:59:16.695Z"
   },
   {
    "duration": 5,
    "start_time": "2023-04-05T12:00:13.191Z"
   },
   {
    "duration": 3,
    "start_time": "2023-04-05T12:00:13.817Z"
   },
   {
    "duration": 9,
    "start_time": "2023-04-05T12:00:16.769Z"
   },
   {
    "duration": 40,
    "start_time": "2023-04-05T12:01:05.025Z"
   },
   {
    "duration": 4,
    "start_time": "2023-04-05T12:01:24.742Z"
   },
   {
    "duration": 1249,
    "start_time": "2023-04-05T12:01:24.749Z"
   },
   {
    "duration": 170,
    "start_time": "2023-04-05T12:01:26.000Z"
   },
   {
    "duration": 11,
    "start_time": "2023-04-05T12:01:26.172Z"
   },
   {
    "duration": 23,
    "start_time": "2023-04-05T12:01:26.185Z"
   },
   {
    "duration": 37,
    "start_time": "2023-04-05T12:01:26.210Z"
   },
   {
    "duration": 66,
    "start_time": "2023-04-05T12:01:26.248Z"
   },
   {
    "duration": 94,
    "start_time": "2023-04-05T12:01:26.316Z"
   },
   {
    "duration": 3,
    "start_time": "2023-04-05T12:01:26.413Z"
   },
   {
    "duration": 39,
    "start_time": "2023-04-05T12:01:26.417Z"
   },
   {
    "duration": 27,
    "start_time": "2023-04-05T12:01:26.458Z"
   },
   {
    "duration": 60,
    "start_time": "2023-04-05T12:01:26.486Z"
   },
   {
    "duration": 11,
    "start_time": "2023-04-05T12:01:26.548Z"
   },
   {
    "duration": 38,
    "start_time": "2023-04-05T12:01:26.561Z"
   },
   {
    "duration": 19,
    "start_time": "2023-04-05T12:01:26.601Z"
   },
   {
    "duration": 33,
    "start_time": "2023-04-05T12:01:26.622Z"
   },
   {
    "duration": 5,
    "start_time": "2023-04-05T12:01:26.657Z"
   },
   {
    "duration": 13,
    "start_time": "2023-04-05T12:01:26.664Z"
   },
   {
    "duration": 29,
    "start_time": "2023-04-05T12:01:26.679Z"
   },
   {
    "duration": 20,
    "start_time": "2023-04-05T12:01:26.710Z"
   },
   {
    "duration": 12,
    "start_time": "2023-04-05T12:01:26.732Z"
   },
   {
    "duration": 11,
    "start_time": "2023-04-05T12:01:26.746Z"
   },
   {
    "duration": 331,
    "start_time": "2023-04-05T12:01:26.759Z"
   },
   {
    "duration": 30,
    "start_time": "2023-04-05T12:01:27.094Z"
   },
   {
    "duration": 278,
    "start_time": "2023-04-05T12:01:27.126Z"
   },
   {
    "duration": 6,
    "start_time": "2023-04-05T12:01:27.406Z"
   },
   {
    "duration": 6,
    "start_time": "2023-04-05T12:01:27.413Z"
   },
   {
    "duration": 33,
    "start_time": "2023-04-05T12:01:27.420Z"
   },
   {
    "duration": 48,
    "start_time": "2023-04-05T12:01:27.454Z"
   },
   {
    "duration": 39,
    "start_time": "2023-04-05T12:01:27.504Z"
   },
   {
    "duration": 10,
    "start_time": "2023-04-05T12:01:27.545Z"
   },
   {
    "duration": 72,
    "start_time": "2023-04-05T12:01:27.557Z"
   },
   {
    "duration": 7,
    "start_time": "2023-04-05T12:01:27.630Z"
   },
   {
    "duration": 26,
    "start_time": "2023-04-05T12:01:27.639Z"
   },
   {
    "duration": 2,
    "start_time": "2023-04-05T12:01:27.667Z"
   },
   {
    "duration": 11,
    "start_time": "2023-04-05T12:01:27.671Z"
   },
   {
    "duration": 15,
    "start_time": "2023-04-05T12:01:27.684Z"
   },
   {
    "duration": 74,
    "start_time": "2023-04-05T12:01:27.701Z"
   },
   {
    "duration": 8,
    "start_time": "2023-04-05T12:01:27.777Z"
   },
   {
    "duration": 210,
    "start_time": "2023-04-05T12:01:27.786Z"
   },
   {
    "duration": 5,
    "start_time": "2023-04-05T12:01:27.998Z"
   },
   {
    "duration": 13,
    "start_time": "2023-04-05T12:01:28.006Z"
   },
   {
    "duration": 21,
    "start_time": "2023-04-05T12:01:28.021Z"
   },
   {
    "duration": 15,
    "start_time": "2023-04-05T12:02:40.743Z"
   },
   {
    "duration": 17,
    "start_time": "2023-04-05T12:02:58.079Z"
   },
   {
    "duration": 4,
    "start_time": "2023-04-05T12:03:38.725Z"
   },
   {
    "duration": 1238,
    "start_time": "2023-04-05T12:03:38.732Z"
   },
   {
    "duration": 182,
    "start_time": "2023-04-05T12:03:39.972Z"
   },
   {
    "duration": 13,
    "start_time": "2023-04-05T12:03:40.156Z"
   },
   {
    "duration": 24,
    "start_time": "2023-04-05T12:03:40.170Z"
   },
   {
    "duration": 16,
    "start_time": "2023-04-05T12:03:40.196Z"
   },
   {
    "duration": 100,
    "start_time": "2023-04-05T12:03:40.213Z"
   },
   {
    "duration": 88,
    "start_time": "2023-04-05T12:03:40.315Z"
   },
   {
    "duration": 4,
    "start_time": "2023-04-05T12:03:40.404Z"
   },
   {
    "duration": 38,
    "start_time": "2023-04-05T12:03:40.410Z"
   },
   {
    "duration": 27,
    "start_time": "2023-04-05T12:03:40.450Z"
   },
   {
    "duration": 41,
    "start_time": "2023-04-05T12:03:40.478Z"
   },
   {
    "duration": 29,
    "start_time": "2023-04-05T12:03:40.521Z"
   },
   {
    "duration": 34,
    "start_time": "2023-04-05T12:03:40.551Z"
   },
   {
    "duration": 20,
    "start_time": "2023-04-05T12:03:40.587Z"
   },
   {
    "duration": 38,
    "start_time": "2023-04-05T12:03:40.609Z"
   },
   {
    "duration": 12,
    "start_time": "2023-04-05T12:03:40.648Z"
   },
   {
    "duration": 7,
    "start_time": "2023-04-05T12:03:40.662Z"
   },
   {
    "duration": 32,
    "start_time": "2023-04-05T12:03:40.671Z"
   },
   {
    "duration": 5,
    "start_time": "2023-04-05T12:03:40.705Z"
   },
   {
    "duration": 21,
    "start_time": "2023-04-05T12:03:40.712Z"
   },
   {
    "duration": 18,
    "start_time": "2023-04-05T12:03:40.734Z"
   },
   {
    "duration": 322,
    "start_time": "2023-04-05T12:03:40.753Z"
   },
   {
    "duration": 30,
    "start_time": "2023-04-05T12:03:41.076Z"
   },
   {
    "duration": 275,
    "start_time": "2023-04-05T12:03:41.108Z"
   },
   {
    "duration": 5,
    "start_time": "2023-04-05T12:03:41.384Z"
   },
   {
    "duration": 6,
    "start_time": "2023-04-05T12:03:41.391Z"
   },
   {
    "duration": 39,
    "start_time": "2023-04-05T12:03:41.402Z"
   },
   {
    "duration": 52,
    "start_time": "2023-04-05T12:03:41.443Z"
   },
   {
    "duration": 23,
    "start_time": "2023-04-05T12:03:41.497Z"
   },
   {
    "duration": 14,
    "start_time": "2023-04-05T12:03:41.540Z"
   },
   {
    "duration": 54,
    "start_time": "2023-04-05T12:03:41.555Z"
   },
   {
    "duration": 9,
    "start_time": "2023-04-05T12:03:41.612Z"
   },
   {
    "duration": 33,
    "start_time": "2023-04-05T12:03:41.623Z"
   },
   {
    "duration": 3,
    "start_time": "2023-04-05T12:03:41.658Z"
   },
   {
    "duration": 9,
    "start_time": "2023-04-05T12:03:41.663Z"
   },
   {
    "duration": 11,
    "start_time": "2023-04-05T12:03:41.673Z"
   },
   {
    "duration": 5,
    "start_time": "2023-04-05T12:03:41.685Z"
   },
   {
    "duration": 4,
    "start_time": "2023-04-05T12:03:41.691Z"
   },
   {
    "duration": 218,
    "start_time": "2023-04-05T12:03:41.697Z"
   },
   {
    "duration": 3,
    "start_time": "2023-04-05T12:03:41.916Z"
   },
   {
    "duration": 8,
    "start_time": "2023-04-05T12:03:41.921Z"
   },
   {
    "duration": 5,
    "start_time": "2023-04-05T12:10:41.689Z"
   },
   {
    "duration": 10,
    "start_time": "2023-04-05T12:10:44.587Z"
   },
   {
    "duration": 4,
    "start_time": "2023-04-05T12:11:19.908Z"
   },
   {
    "duration": 1247,
    "start_time": "2023-04-05T12:11:19.914Z"
   },
   {
    "duration": 167,
    "start_time": "2023-04-05T12:11:21.163Z"
   },
   {
    "duration": 13,
    "start_time": "2023-04-05T12:11:21.332Z"
   },
   {
    "duration": 26,
    "start_time": "2023-04-05T12:11:21.347Z"
   },
   {
    "duration": 25,
    "start_time": "2023-04-05T12:11:21.375Z"
   },
   {
    "duration": 120,
    "start_time": "2023-04-05T12:11:21.402Z"
   },
   {
    "duration": 94,
    "start_time": "2023-04-05T12:11:21.524Z"
   },
   {
    "duration": 3,
    "start_time": "2023-04-05T12:11:21.622Z"
   },
   {
    "duration": 36,
    "start_time": "2023-04-05T12:11:21.648Z"
   },
   {
    "duration": 29,
    "start_time": "2023-04-05T12:11:21.686Z"
   },
   {
    "duration": 43,
    "start_time": "2023-04-05T12:11:21.717Z"
   },
   {
    "duration": 12,
    "start_time": "2023-04-05T12:11:21.762Z"
   },
   {
    "duration": 55,
    "start_time": "2023-04-05T12:11:21.776Z"
   },
   {
    "duration": 27,
    "start_time": "2023-04-05T12:11:21.833Z"
   },
   {
    "duration": 28,
    "start_time": "2023-04-05T12:11:21.862Z"
   },
   {
    "duration": 25,
    "start_time": "2023-04-05T12:11:21.891Z"
   },
   {
    "duration": 18,
    "start_time": "2023-04-05T12:11:21.917Z"
   },
   {
    "duration": 17,
    "start_time": "2023-04-05T12:11:21.937Z"
   },
   {
    "duration": 12,
    "start_time": "2023-04-05T12:11:21.956Z"
   },
   {
    "duration": 26,
    "start_time": "2023-04-05T12:11:21.969Z"
   },
   {
    "duration": 10,
    "start_time": "2023-04-05T12:11:21.997Z"
   },
   {
    "duration": 315,
    "start_time": "2023-04-05T12:11:22.009Z"
   },
   {
    "duration": 36,
    "start_time": "2023-04-05T12:11:22.327Z"
   },
   {
    "duration": 276,
    "start_time": "2023-04-05T12:11:22.365Z"
   },
   {
    "duration": 7,
    "start_time": "2023-04-05T12:11:22.643Z"
   },
   {
    "duration": 6,
    "start_time": "2023-04-05T12:11:22.651Z"
   },
   {
    "duration": 15,
    "start_time": "2023-04-05T12:11:22.658Z"
   },
   {
    "duration": 81,
    "start_time": "2023-04-05T12:11:22.674Z"
   },
   {
    "duration": 24,
    "start_time": "2023-04-05T12:11:22.757Z"
   },
   {
    "duration": 6,
    "start_time": "2023-04-05T12:11:22.783Z"
   },
   {
    "duration": 68,
    "start_time": "2023-04-05T12:11:22.791Z"
   },
   {
    "duration": 6,
    "start_time": "2023-04-05T12:11:22.861Z"
   },
   {
    "duration": 18,
    "start_time": "2023-04-05T12:11:22.869Z"
   },
   {
    "duration": 3,
    "start_time": "2023-04-05T12:11:22.889Z"
   },
   {
    "duration": 5,
    "start_time": "2023-04-05T12:11:22.894Z"
   },
   {
    "duration": 11,
    "start_time": "2023-04-05T12:11:22.901Z"
   },
   {
    "duration": 28,
    "start_time": "2023-04-05T12:11:22.914Z"
   },
   {
    "duration": 8,
    "start_time": "2023-04-05T12:11:22.944Z"
   },
   {
    "duration": 205,
    "start_time": "2023-04-05T12:11:22.954Z"
   },
   {
    "duration": 3,
    "start_time": "2023-04-05T12:11:23.161Z"
   },
   {
    "duration": 7,
    "start_time": "2023-04-05T12:11:23.166Z"
   },
   {
    "duration": 5,
    "start_time": "2023-04-05T12:12:00.111Z"
   },
   {
    "duration": 874,
    "start_time": "2023-04-05T12:22:55.791Z"
   },
   {
    "duration": 12,
    "start_time": "2023-04-05T12:23:05.082Z"
   },
   {
    "duration": 4,
    "start_time": "2023-04-05T12:23:17.529Z"
   },
   {
    "duration": 1317,
    "start_time": "2023-04-05T12:23:17.534Z"
   },
   {
    "duration": 172,
    "start_time": "2023-04-05T12:23:18.853Z"
   },
   {
    "duration": 21,
    "start_time": "2023-04-05T12:23:19.029Z"
   },
   {
    "duration": 31,
    "start_time": "2023-04-05T12:23:19.051Z"
   },
   {
    "duration": 27,
    "start_time": "2023-04-05T12:23:19.085Z"
   },
   {
    "duration": 96,
    "start_time": "2023-04-05T12:23:19.115Z"
   },
   {
    "duration": 93,
    "start_time": "2023-04-05T12:23:19.213Z"
   },
   {
    "duration": 4,
    "start_time": "2023-04-05T12:23:19.308Z"
   },
   {
    "duration": 38,
    "start_time": "2023-04-05T12:23:19.313Z"
   },
   {
    "duration": 27,
    "start_time": "2023-04-05T12:23:19.352Z"
   },
   {
    "duration": 74,
    "start_time": "2023-04-05T12:23:19.381Z"
   },
   {
    "duration": 15,
    "start_time": "2023-04-05T12:23:19.458Z"
   },
   {
    "duration": 52,
    "start_time": "2023-04-05T12:23:19.475Z"
   },
   {
    "duration": 33,
    "start_time": "2023-04-05T12:23:19.541Z"
   },
   {
    "duration": 21,
    "start_time": "2023-04-05T12:23:19.575Z"
   },
   {
    "duration": 4,
    "start_time": "2023-04-05T12:23:19.598Z"
   },
   {
    "duration": 39,
    "start_time": "2023-04-05T12:23:19.603Z"
   },
   {
    "duration": 10,
    "start_time": "2023-04-05T12:23:19.644Z"
   },
   {
    "duration": 5,
    "start_time": "2023-04-05T12:23:19.657Z"
   },
   {
    "duration": 5,
    "start_time": "2023-04-05T12:23:19.665Z"
   },
   {
    "duration": 5,
    "start_time": "2023-04-05T12:23:19.672Z"
   },
   {
    "duration": 392,
    "start_time": "2023-04-05T12:23:19.679Z"
   },
   {
    "duration": 31,
    "start_time": "2023-04-05T12:23:20.074Z"
   },
   {
    "duration": 305,
    "start_time": "2023-04-05T12:23:20.107Z"
   },
   {
    "duration": 6,
    "start_time": "2023-04-05T12:23:20.414Z"
   },
   {
    "duration": 21,
    "start_time": "2023-04-05T12:23:20.422Z"
   },
   {
    "duration": 29,
    "start_time": "2023-04-05T12:23:20.445Z"
   },
   {
    "duration": 50,
    "start_time": "2023-04-05T12:23:20.476Z"
   },
   {
    "duration": 43,
    "start_time": "2023-04-05T12:23:20.529Z"
   },
   {
    "duration": 47,
    "start_time": "2023-04-05T12:23:20.574Z"
   },
   {
    "duration": 158,
    "start_time": "2023-04-05T12:23:20.623Z"
   },
   {
    "duration": 8,
    "start_time": "2023-04-05T12:23:20.783Z"
   },
   {
    "duration": 26,
    "start_time": "2023-04-05T12:23:20.793Z"
   },
   {
    "duration": 4,
    "start_time": "2023-04-05T12:23:20.821Z"
   },
   {
    "duration": 21,
    "start_time": "2023-04-05T12:23:20.826Z"
   },
   {
    "duration": 37,
    "start_time": "2023-04-05T12:23:20.849Z"
   },
   {
    "duration": 35,
    "start_time": "2023-04-05T12:23:20.888Z"
   },
   {
    "duration": 42,
    "start_time": "2023-04-05T12:23:20.924Z"
   },
   {
    "duration": 214,
    "start_time": "2023-04-05T12:23:20.967Z"
   },
   {
    "duration": 3,
    "start_time": "2023-04-05T12:23:21.184Z"
   },
   {
    "duration": 12,
    "start_time": "2023-04-05T12:23:37.880Z"
   },
   {
    "duration": 4,
    "start_time": "2023-04-05T12:24:14.277Z"
   },
   {
    "duration": 1241,
    "start_time": "2023-04-05T12:24:14.283Z"
   },
   {
    "duration": 175,
    "start_time": "2023-04-05T12:24:15.526Z"
   },
   {
    "duration": 15,
    "start_time": "2023-04-05T12:24:15.703Z"
   },
   {
    "duration": 33,
    "start_time": "2023-04-05T12:24:15.720Z"
   },
   {
    "duration": 16,
    "start_time": "2023-04-05T12:24:15.754Z"
   },
   {
    "duration": 95,
    "start_time": "2023-04-05T12:24:15.771Z"
   },
   {
    "duration": 93,
    "start_time": "2023-04-05T12:24:15.868Z"
   },
   {
    "duration": 5,
    "start_time": "2023-04-05T12:24:15.964Z"
   },
   {
    "duration": 40,
    "start_time": "2023-04-05T12:24:15.971Z"
   },
   {
    "duration": 54,
    "start_time": "2023-04-05T12:24:16.013Z"
   },
   {
    "duration": 72,
    "start_time": "2023-04-05T12:24:16.069Z"
   },
   {
    "duration": 12,
    "start_time": "2023-04-05T12:24:16.142Z"
   },
   {
    "duration": 70,
    "start_time": "2023-04-05T12:24:16.156Z"
   },
   {
    "duration": 22,
    "start_time": "2023-04-05T12:24:16.240Z"
   },
   {
    "duration": 20,
    "start_time": "2023-04-05T12:24:16.263Z"
   },
   {
    "duration": 4,
    "start_time": "2023-04-05T12:24:16.285Z"
   },
   {
    "duration": 6,
    "start_time": "2023-04-05T12:24:16.293Z"
   },
   {
    "duration": 46,
    "start_time": "2023-04-05T12:24:16.301Z"
   },
   {
    "duration": 14,
    "start_time": "2023-04-05T12:24:16.350Z"
   },
   {
    "duration": 22,
    "start_time": "2023-04-05T12:24:16.366Z"
   },
   {
    "duration": 6,
    "start_time": "2023-04-05T12:24:16.390Z"
   },
   {
    "duration": 344,
    "start_time": "2023-04-05T12:24:16.397Z"
   },
   {
    "duration": 29,
    "start_time": "2023-04-05T12:24:16.746Z"
   },
   {
    "duration": 296,
    "start_time": "2023-04-05T12:24:16.777Z"
   },
   {
    "duration": 7,
    "start_time": "2023-04-05T12:24:17.074Z"
   },
   {
    "duration": 18,
    "start_time": "2023-04-05T12:24:17.082Z"
   },
   {
    "duration": 14,
    "start_time": "2023-04-05T12:24:17.102Z"
   },
   {
    "duration": 91,
    "start_time": "2023-04-05T12:24:17.118Z"
   },
   {
    "duration": 38,
    "start_time": "2023-04-05T12:24:17.211Z"
   },
   {
    "duration": 16,
    "start_time": "2023-04-05T12:24:17.251Z"
   },
   {
    "duration": 60,
    "start_time": "2023-04-05T12:24:17.268Z"
   },
   {
    "duration": 13,
    "start_time": "2023-04-05T12:24:17.330Z"
   },
   {
    "duration": 20,
    "start_time": "2023-04-05T12:24:17.345Z"
   },
   {
    "duration": 3,
    "start_time": "2023-04-05T12:24:17.367Z"
   },
   {
    "duration": 11,
    "start_time": "2023-04-05T12:24:17.372Z"
   },
   {
    "duration": 6,
    "start_time": "2023-04-05T12:24:17.385Z"
   },
   {
    "duration": 3,
    "start_time": "2023-04-05T12:24:17.393Z"
   },
   {
    "duration": 3,
    "start_time": "2023-04-05T12:24:17.398Z"
   },
   {
    "duration": 37,
    "start_time": "2023-04-05T12:24:17.404Z"
   },
   {
    "duration": 13,
    "start_time": "2023-04-05T12:24:17.443Z"
   },
   {
    "duration": 4,
    "start_time": "2023-04-05T12:24:50.597Z"
   },
   {
    "duration": 1306,
    "start_time": "2023-04-05T12:24:50.603Z"
   },
   {
    "duration": 177,
    "start_time": "2023-04-05T12:24:51.912Z"
   },
   {
    "duration": 13,
    "start_time": "2023-04-05T12:24:52.091Z"
   },
   {
    "duration": 118,
    "start_time": "2023-04-05T12:24:52.107Z"
   },
   {
    "duration": 32,
    "start_time": "2023-04-05T12:24:52.227Z"
   },
   {
    "duration": 139,
    "start_time": "2023-04-05T12:24:52.261Z"
   },
   {
    "duration": 97,
    "start_time": "2023-04-05T12:24:52.402Z"
   },
   {
    "duration": 4,
    "start_time": "2023-04-05T12:24:52.502Z"
   },
   {
    "duration": 78,
    "start_time": "2023-04-05T12:24:52.508Z"
   },
   {
    "duration": 86,
    "start_time": "2023-04-05T12:24:52.589Z"
   },
   {
    "duration": 89,
    "start_time": "2023-04-05T12:24:52.678Z"
   },
   {
    "duration": 12,
    "start_time": "2023-04-05T12:24:52.769Z"
   },
   {
    "duration": 44,
    "start_time": "2023-04-05T12:24:52.782Z"
   },
   {
    "duration": 39,
    "start_time": "2023-04-05T12:24:52.828Z"
   },
   {
    "duration": 20,
    "start_time": "2023-04-05T12:24:52.869Z"
   },
   {
    "duration": 13,
    "start_time": "2023-04-05T12:24:52.891Z"
   },
   {
    "duration": 15,
    "start_time": "2023-04-05T12:24:52.906Z"
   },
   {
    "duration": 27,
    "start_time": "2023-04-05T12:24:52.923Z"
   },
   {
    "duration": 26,
    "start_time": "2023-04-05T12:24:52.952Z"
   },
   {
    "duration": 21,
    "start_time": "2023-04-05T12:24:52.981Z"
   },
   {
    "duration": 17,
    "start_time": "2023-04-05T12:24:53.004Z"
   },
   {
    "duration": 389,
    "start_time": "2023-04-05T12:24:53.024Z"
   },
   {
    "duration": 54,
    "start_time": "2023-04-05T12:24:53.418Z"
   },
   {
    "duration": 291,
    "start_time": "2023-04-05T12:24:53.475Z"
   },
   {
    "duration": 7,
    "start_time": "2023-04-05T12:24:53.768Z"
   },
   {
    "duration": 18,
    "start_time": "2023-04-05T12:24:53.778Z"
   },
   {
    "duration": 21,
    "start_time": "2023-04-05T12:24:53.798Z"
   },
   {
    "duration": 86,
    "start_time": "2023-04-05T12:24:53.821Z"
   },
   {
    "duration": 24,
    "start_time": "2023-04-05T12:24:53.909Z"
   },
   {
    "duration": 20,
    "start_time": "2023-04-05T12:24:53.935Z"
   },
   {
    "duration": 72,
    "start_time": "2023-04-05T12:24:53.957Z"
   },
   {
    "duration": 9,
    "start_time": "2023-04-05T12:24:54.032Z"
   },
   {
    "duration": 29,
    "start_time": "2023-04-05T12:24:54.043Z"
   },
   {
    "duration": 11,
    "start_time": "2023-04-05T12:24:54.074Z"
   },
   {
    "duration": 7,
    "start_time": "2023-04-05T12:24:54.087Z"
   },
   {
    "duration": 13,
    "start_time": "2023-04-05T12:24:54.096Z"
   },
   {
    "duration": 11,
    "start_time": "2023-04-05T12:24:54.111Z"
   },
   {
    "duration": 25,
    "start_time": "2023-04-05T12:24:54.124Z"
   },
   {
    "duration": 24,
    "start_time": "2023-04-05T12:24:54.151Z"
   },
   {
    "duration": 5,
    "start_time": "2023-04-05T12:24:54.177Z"
   },
   {
    "duration": 3,
    "start_time": "2023-04-05T12:37:52.029Z"
   },
   {
    "duration": 6,
    "start_time": "2023-04-05T12:37:57.836Z"
   },
   {
    "duration": 9,
    "start_time": "2023-04-05T12:38:02.221Z"
   },
   {
    "duration": 5,
    "start_time": "2023-04-05T12:38:17.733Z"
   },
   {
    "duration": 5,
    "start_time": "2023-04-05T12:38:33.091Z"
   },
   {
    "duration": 9,
    "start_time": "2023-04-05T12:38:37.577Z"
   },
   {
    "duration": 6,
    "start_time": "2023-04-05T12:42:13.000Z"
   },
   {
    "duration": 9,
    "start_time": "2023-04-05T12:42:15.376Z"
   },
   {
    "duration": 15,
    "start_time": "2023-04-05T12:42:54.331Z"
   },
   {
    "duration": 3,
    "start_time": "2023-04-05T12:42:57.806Z"
   },
   {
    "duration": 5,
    "start_time": "2023-04-05T12:42:59.395Z"
   },
   {
    "duration": 10,
    "start_time": "2023-04-05T12:43:00.947Z"
   },
   {
    "duration": 14,
    "start_time": "2023-04-05T12:43:18.661Z"
   },
   {
    "duration": 3,
    "start_time": "2023-04-05T12:43:23.504Z"
   },
   {
    "duration": 5,
    "start_time": "2023-04-05T12:43:24.135Z"
   },
   {
    "duration": 8,
    "start_time": "2023-04-05T12:43:24.623Z"
   },
   {
    "duration": 14,
    "start_time": "2023-04-05T12:43:40.539Z"
   },
   {
    "duration": 4,
    "start_time": "2023-04-05T12:43:43.063Z"
   },
   {
    "duration": 6,
    "start_time": "2023-04-05T12:43:43.851Z"
   },
   {
    "duration": 9,
    "start_time": "2023-04-05T12:43:44.682Z"
   },
   {
    "duration": 9,
    "start_time": "2023-04-05T12:44:03.305Z"
   },
   {
    "duration": 10,
    "start_time": "2023-04-05T12:44:04.176Z"
   },
   {
    "duration": 5,
    "start_time": "2023-04-05T12:46:07.020Z"
   },
   {
    "duration": 1314,
    "start_time": "2023-04-05T12:46:07.030Z"
   },
   {
    "duration": 173,
    "start_time": "2023-04-05T12:46:08.346Z"
   },
   {
    "duration": 21,
    "start_time": "2023-04-05T12:46:08.521Z"
   },
   {
    "duration": 27,
    "start_time": "2023-04-05T12:46:08.544Z"
   },
   {
    "duration": 19,
    "start_time": "2023-04-05T12:46:08.573Z"
   },
   {
    "duration": 93,
    "start_time": "2023-04-05T12:46:08.593Z"
   },
   {
    "duration": 97,
    "start_time": "2023-04-05T12:46:08.688Z"
   },
   {
    "duration": 4,
    "start_time": "2023-04-05T12:46:08.788Z"
   },
   {
    "duration": 47,
    "start_time": "2023-04-05T12:46:08.794Z"
   },
   {
    "duration": 28,
    "start_time": "2023-04-05T12:46:08.843Z"
   },
   {
    "duration": 46,
    "start_time": "2023-04-05T12:46:08.873Z"
   },
   {
    "duration": 30,
    "start_time": "2023-04-05T12:46:08.921Z"
   },
   {
    "duration": 60,
    "start_time": "2023-04-05T12:46:08.953Z"
   },
   {
    "duration": 44,
    "start_time": "2023-04-05T12:46:09.016Z"
   },
   {
    "duration": 28,
    "start_time": "2023-04-05T12:46:09.063Z"
   },
   {
    "duration": 5,
    "start_time": "2023-04-05T12:46:09.092Z"
   },
   {
    "duration": 7,
    "start_time": "2023-04-05T12:46:09.098Z"
   },
   {
    "duration": 42,
    "start_time": "2023-04-05T12:46:09.107Z"
   },
   {
    "duration": 9,
    "start_time": "2023-04-05T12:46:09.151Z"
   },
   {
    "duration": 17,
    "start_time": "2023-04-05T12:46:09.162Z"
   },
   {
    "duration": 20,
    "start_time": "2023-04-05T12:46:09.182Z"
   },
   {
    "duration": 352,
    "start_time": "2023-04-05T12:46:09.204Z"
   },
   {
    "duration": 30,
    "start_time": "2023-04-05T12:46:09.561Z"
   },
   {
    "duration": 301,
    "start_time": "2023-04-05T12:46:09.593Z"
   },
   {
    "duration": 7,
    "start_time": "2023-04-05T12:46:09.896Z"
   },
   {
    "duration": 6,
    "start_time": "2023-04-05T12:46:09.904Z"
   },
   {
    "duration": 37,
    "start_time": "2023-04-05T12:46:09.911Z"
   },
   {
    "duration": 50,
    "start_time": "2023-04-05T12:46:09.949Z"
   },
   {
    "duration": 43,
    "start_time": "2023-04-05T12:46:10.001Z"
   },
   {
    "duration": 12,
    "start_time": "2023-04-05T12:46:10.046Z"
   },
   {
    "duration": 57,
    "start_time": "2023-04-05T12:46:10.060Z"
   },
   {
    "duration": 23,
    "start_time": "2023-04-05T12:46:10.119Z"
   },
   {
    "duration": 19,
    "start_time": "2023-04-05T12:46:10.143Z"
   },
   {
    "duration": 3,
    "start_time": "2023-04-05T12:46:10.163Z"
   },
   {
    "duration": 7,
    "start_time": "2023-04-05T12:46:10.168Z"
   },
   {
    "duration": 10,
    "start_time": "2023-04-05T12:46:10.177Z"
   },
   {
    "duration": 6,
    "start_time": "2023-04-05T12:46:10.189Z"
   },
   {
    "duration": 4,
    "start_time": "2023-04-05T12:46:10.197Z"
   },
   {
    "duration": 39,
    "start_time": "2023-04-05T12:46:10.202Z"
   },
   {
    "duration": 12,
    "start_time": "2023-04-05T12:46:10.244Z"
   },
   {
    "duration": 17,
    "start_time": "2023-04-05T12:48:09.903Z"
   },
   {
    "duration": 4,
    "start_time": "2023-04-05T12:48:17.883Z"
   },
   {
    "duration": 5,
    "start_time": "2023-04-05T12:48:18.919Z"
   },
   {
    "duration": 10,
    "start_time": "2023-04-05T12:48:25.855Z"
   },
   {
    "duration": 117,
    "start_time": "2023-04-05T12:56:03.645Z"
   },
   {
    "duration": 9,
    "start_time": "2023-04-05T13:00:35.570Z"
   },
   {
    "duration": 4,
    "start_time": "2023-04-05T13:00:42.516Z"
   },
   {
    "duration": 1302,
    "start_time": "2023-04-05T13:00:42.522Z"
   },
   {
    "duration": 171,
    "start_time": "2023-04-05T13:00:43.827Z"
   },
   {
    "duration": 14,
    "start_time": "2023-04-05T13:00:44.000Z"
   },
   {
    "duration": 36,
    "start_time": "2023-04-05T13:00:44.016Z"
   },
   {
    "duration": 18,
    "start_time": "2023-04-05T13:00:44.054Z"
   },
   {
    "duration": 90,
    "start_time": "2023-04-05T13:00:44.074Z"
   },
   {
    "duration": 96,
    "start_time": "2023-04-05T13:00:44.166Z"
   },
   {
    "duration": 5,
    "start_time": "2023-04-05T13:00:44.264Z"
   },
   {
    "duration": 39,
    "start_time": "2023-04-05T13:00:44.271Z"
   },
   {
    "duration": 41,
    "start_time": "2023-04-05T13:00:44.314Z"
   },
   {
    "duration": 48,
    "start_time": "2023-04-05T13:00:44.357Z"
   },
   {
    "duration": 13,
    "start_time": "2023-04-05T13:00:44.407Z"
   },
   {
    "duration": 35,
    "start_time": "2023-04-05T13:00:44.442Z"
   },
   {
    "duration": 23,
    "start_time": "2023-04-05T13:00:44.479Z"
   },
   {
    "duration": 57,
    "start_time": "2023-04-05T13:00:44.504Z"
   },
   {
    "duration": 16,
    "start_time": "2023-04-05T13:00:44.563Z"
   },
   {
    "duration": 17,
    "start_time": "2023-04-05T13:00:44.581Z"
   },
   {
    "duration": 11,
    "start_time": "2023-04-05T13:00:44.600Z"
   },
   {
    "duration": 10,
    "start_time": "2023-04-05T13:00:44.613Z"
   },
   {
    "duration": 7,
    "start_time": "2023-04-05T13:00:44.625Z"
   },
   {
    "duration": 7,
    "start_time": "2023-04-05T13:00:44.634Z"
   },
   {
    "duration": 334,
    "start_time": "2023-04-05T13:00:44.643Z"
   },
   {
    "duration": 31,
    "start_time": "2023-04-05T13:00:44.979Z"
   },
   {
    "duration": 293,
    "start_time": "2023-04-05T13:00:45.012Z"
   },
   {
    "duration": 6,
    "start_time": "2023-04-05T13:00:45.307Z"
   },
   {
    "duration": 36,
    "start_time": "2023-04-05T13:00:45.315Z"
   },
   {
    "duration": 60,
    "start_time": "2023-04-05T13:00:45.353Z"
   },
   {
    "duration": 57,
    "start_time": "2023-04-05T13:00:45.418Z"
   },
   {
    "duration": 25,
    "start_time": "2023-04-05T13:00:45.477Z"
   },
   {
    "duration": 18,
    "start_time": "2023-04-05T13:00:45.504Z"
   },
   {
    "duration": 80,
    "start_time": "2023-04-05T13:00:45.523Z"
   },
   {
    "duration": 7,
    "start_time": "2023-04-05T13:00:45.604Z"
   },
   {
    "duration": 39,
    "start_time": "2023-04-05T13:00:45.613Z"
   },
   {
    "duration": 3,
    "start_time": "2023-04-05T13:00:45.654Z"
   },
   {
    "duration": 18,
    "start_time": "2023-04-05T13:00:45.659Z"
   },
   {
    "duration": 18,
    "start_time": "2023-04-05T13:00:45.679Z"
   },
   {
    "duration": 122,
    "start_time": "2023-04-05T13:00:45.699Z"
   },
   {
    "duration": 12,
    "start_time": "2023-04-05T13:11:07.381Z"
   },
   {
    "duration": 802,
    "start_time": "2023-04-05T13:11:35.047Z"
   },
   {
    "duration": 1105,
    "start_time": "2023-04-05T13:11:49.606Z"
   },
   {
    "duration": 66,
    "start_time": "2023-04-05T13:12:07.317Z"
   },
   {
    "duration": 12,
    "start_time": "2023-04-05T13:17:00.820Z"
   },
   {
    "duration": 9,
    "start_time": "2023-04-05T13:17:28.317Z"
   },
   {
    "duration": 20,
    "start_time": "2023-04-05T13:17:43.250Z"
   },
   {
    "duration": 13,
    "start_time": "2023-04-05T13:17:58.068Z"
   },
   {
    "duration": 14,
    "start_time": "2023-04-05T13:18:06.784Z"
   },
   {
    "duration": 783,
    "start_time": "2023-04-05T13:18:10.022Z"
   },
   {
    "duration": 999,
    "start_time": "2023-04-05T13:18:16.772Z"
   },
   {
    "duration": 0,
    "start_time": "2023-04-05T13:18:32.160Z"
   },
   {
    "duration": 5,
    "start_time": "2023-04-05T13:18:38.738Z"
   },
   {
    "duration": 5,
    "start_time": "2023-04-05T13:18:51.671Z"
   },
   {
    "duration": 5,
    "start_time": "2023-04-05T13:19:04.702Z"
   },
   {
    "duration": 5,
    "start_time": "2023-04-05T13:19:21.616Z"
   },
   {
    "duration": 5,
    "start_time": "2023-04-05T13:19:37.495Z"
   },
   {
    "duration": 5,
    "start_time": "2023-04-05T13:19:50.531Z"
   },
   {
    "duration": 5,
    "start_time": "2023-04-05T13:20:11.418Z"
   },
   {
    "duration": 5,
    "start_time": "2023-04-05T13:20:25.172Z"
   },
   {
    "duration": 4,
    "start_time": "2023-04-05T13:20:26.058Z"
   },
   {
    "duration": 5,
    "start_time": "2023-04-05T13:20:27.562Z"
   },
   {
    "duration": 9,
    "start_time": "2023-04-05T13:20:51.308Z"
   },
   {
    "duration": 4,
    "start_time": "2023-04-05T13:22:36.516Z"
   },
   {
    "duration": 4,
    "start_time": "2023-04-05T13:23:34.917Z"
   },
   {
    "duration": 1259,
    "start_time": "2023-04-05T13:23:34.923Z"
   },
   {
    "duration": 179,
    "start_time": "2023-04-05T13:23:36.184Z"
   },
   {
    "duration": 14,
    "start_time": "2023-04-05T13:23:36.366Z"
   },
   {
    "duration": 50,
    "start_time": "2023-04-05T13:23:36.382Z"
   },
   {
    "duration": 27,
    "start_time": "2023-04-05T13:23:36.440Z"
   },
   {
    "duration": 94,
    "start_time": "2023-04-05T13:23:36.469Z"
   },
   {
    "duration": 98,
    "start_time": "2023-04-05T13:23:36.565Z"
   },
   {
    "duration": 5,
    "start_time": "2023-04-05T13:23:36.665Z"
   },
   {
    "duration": 28,
    "start_time": "2023-04-05T13:23:36.672Z"
   },
   {
    "duration": 50,
    "start_time": "2023-04-05T13:23:36.702Z"
   },
   {
    "duration": 44,
    "start_time": "2023-04-05T13:23:36.754Z"
   },
   {
    "duration": 13,
    "start_time": "2023-04-05T13:23:36.799Z"
   },
   {
    "duration": 66,
    "start_time": "2023-04-05T13:23:36.814Z"
   },
   {
    "duration": 22,
    "start_time": "2023-04-05T13:23:36.882Z"
   },
   {
    "duration": 40,
    "start_time": "2023-04-05T13:23:36.906Z"
   },
   {
    "duration": 4,
    "start_time": "2023-04-05T13:23:36.948Z"
   },
   {
    "duration": 17,
    "start_time": "2023-04-05T13:23:36.953Z"
   },
   {
    "duration": 12,
    "start_time": "2023-04-05T13:23:36.971Z"
   },
   {
    "duration": 6,
    "start_time": "2023-04-05T13:23:36.985Z"
   },
   {
    "duration": 20,
    "start_time": "2023-04-05T13:23:36.992Z"
   },
   {
    "duration": 8,
    "start_time": "2023-04-05T13:23:37.014Z"
   },
   {
    "duration": 334,
    "start_time": "2023-04-05T13:23:37.041Z"
   },
   {
    "duration": 31,
    "start_time": "2023-04-05T13:23:37.377Z"
   },
   {
    "duration": 295,
    "start_time": "2023-04-05T13:23:37.410Z"
   },
   {
    "duration": 6,
    "start_time": "2023-04-05T13:23:37.707Z"
   },
   {
    "duration": 7,
    "start_time": "2023-04-05T13:23:37.715Z"
   },
   {
    "duration": 15,
    "start_time": "2023-04-05T13:23:37.744Z"
   },
   {
    "duration": 53,
    "start_time": "2023-04-05T13:23:37.761Z"
   },
   {
    "duration": 48,
    "start_time": "2023-04-05T13:23:37.816Z"
   },
   {
    "duration": 14,
    "start_time": "2023-04-05T13:23:37.866Z"
   },
   {
    "duration": 99,
    "start_time": "2023-04-05T13:23:37.883Z"
   },
   {
    "duration": 8,
    "start_time": "2023-04-05T13:23:37.984Z"
   },
   {
    "duration": 20,
    "start_time": "2023-04-05T13:23:37.994Z"
   },
   {
    "duration": 3,
    "start_time": "2023-04-05T13:23:38.016Z"
   },
   {
    "duration": 7,
    "start_time": "2023-04-05T13:23:38.041Z"
   },
   {
    "duration": 28,
    "start_time": "2023-04-05T13:23:38.049Z"
   },
   {
    "duration": 5,
    "start_time": "2023-04-05T13:23:38.079Z"
   },
   {
    "duration": 12,
    "start_time": "2023-04-05T13:23:38.086Z"
   },
   {
    "duration": 72,
    "start_time": "2023-04-05T13:48:23.334Z"
   },
   {
    "duration": 64,
    "start_time": "2023-04-05T13:48:36.809Z"
   },
   {
    "duration": 11,
    "start_time": "2023-04-05T13:48:39.391Z"
   },
   {
    "duration": 5,
    "start_time": "2023-04-05T13:50:48.057Z"
   },
   {
    "duration": 4,
    "start_time": "2023-04-05T13:51:26.777Z"
   },
   {
    "duration": 5,
    "start_time": "2023-04-05T13:51:31.607Z"
   },
   {
    "duration": 4,
    "start_time": "2023-04-05T13:51:39.464Z"
   },
   {
    "duration": 4,
    "start_time": "2023-04-05T13:52:52.625Z"
   },
   {
    "duration": 4,
    "start_time": "2023-04-05T13:53:26.798Z"
   },
   {
    "duration": 7,
    "start_time": "2023-04-05T13:55:48.178Z"
   },
   {
    "duration": 4,
    "start_time": "2023-04-05T13:55:49.720Z"
   },
   {
    "duration": 144,
    "start_time": "2023-04-05T14:25:12.925Z"
   },
   {
    "duration": 53,
    "start_time": "2023-04-05T14:32:20.225Z"
   },
   {
    "duration": 16,
    "start_time": "2023-04-05T14:32:25.631Z"
   },
   {
    "duration": 52,
    "start_time": "2023-04-05T14:33:00.077Z"
   },
   {
    "duration": 7,
    "start_time": "2023-04-05T14:56:24.966Z"
   },
   {
    "duration": 8,
    "start_time": "2023-04-05T14:56:29.830Z"
   },
   {
    "duration": 7,
    "start_time": "2023-04-05T14:57:04.440Z"
   },
   {
    "duration": 8,
    "start_time": "2023-04-05T14:57:06.728Z"
   },
   {
    "duration": 5,
    "start_time": "2023-04-05T14:57:15.194Z"
   },
   {
    "duration": 5,
    "start_time": "2023-04-05T14:58:30.020Z"
   },
   {
    "duration": 4,
    "start_time": "2023-04-05T14:58:34.926Z"
   },
   {
    "duration": 4,
    "start_time": "2023-04-05T14:59:09.424Z"
   },
   {
    "duration": 4,
    "start_time": "2023-04-05T14:59:18.432Z"
   },
   {
    "duration": 10,
    "start_time": "2023-04-05T14:59:19.151Z"
   },
   {
    "duration": 3,
    "start_time": "2023-04-05T14:59:30.849Z"
   },
   {
    "duration": 49,
    "start_time": "2023-04-05T14:59:31.378Z"
   },
   {
    "duration": 4,
    "start_time": "2023-04-05T14:59:32.903Z"
   },
   {
    "duration": 8,
    "start_time": "2023-04-05T14:59:33.592Z"
   },
   {
    "duration": 5,
    "start_time": "2023-04-05T15:01:16.238Z"
   },
   {
    "duration": 10,
    "start_time": "2023-04-05T15:01:42.950Z"
   },
   {
    "duration": 107,
    "start_time": "2023-04-05T15:01:55.896Z"
   },
   {
    "duration": 576,
    "start_time": "2023-04-05T15:02:35.400Z"
   },
   {
    "duration": 8,
    "start_time": "2023-04-05T15:04:35.456Z"
   },
   {
    "duration": 114,
    "start_time": "2023-04-05T15:04:36.381Z"
   },
   {
    "duration": 564,
    "start_time": "2023-04-05T15:04:38.077Z"
   },
   {
    "duration": 5,
    "start_time": "2023-04-05T15:05:06.120Z"
   },
   {
    "duration": 1357,
    "start_time": "2023-04-05T15:05:06.127Z"
   },
   {
    "duration": 177,
    "start_time": "2023-04-05T15:05:07.486Z"
   },
   {
    "duration": 12,
    "start_time": "2023-04-05T15:05:07.664Z"
   },
   {
    "duration": 22,
    "start_time": "2023-04-05T15:05:07.678Z"
   },
   {
    "duration": 41,
    "start_time": "2023-04-05T15:05:07.702Z"
   },
   {
    "duration": 75,
    "start_time": "2023-04-05T15:05:07.745Z"
   },
   {
    "duration": 100,
    "start_time": "2023-04-05T15:05:07.822Z"
   },
   {
    "duration": 4,
    "start_time": "2023-04-05T15:05:07.924Z"
   },
   {
    "duration": 70,
    "start_time": "2023-04-05T15:05:07.930Z"
   },
   {
    "duration": 30,
    "start_time": "2023-04-05T15:05:08.003Z"
   },
   {
    "duration": 56,
    "start_time": "2023-04-05T15:05:08.035Z"
   },
   {
    "duration": 12,
    "start_time": "2023-04-05T15:05:08.092Z"
   },
   {
    "duration": 49,
    "start_time": "2023-04-05T15:05:08.106Z"
   },
   {
    "duration": 21,
    "start_time": "2023-04-05T15:05:08.158Z"
   },
   {
    "duration": 27,
    "start_time": "2023-04-05T15:05:08.181Z"
   },
   {
    "duration": 6,
    "start_time": "2023-04-05T15:05:08.210Z"
   },
   {
    "duration": 7,
    "start_time": "2023-04-05T15:05:08.242Z"
   },
   {
    "duration": 18,
    "start_time": "2023-04-05T15:05:08.251Z"
   },
   {
    "duration": 5,
    "start_time": "2023-04-05T15:05:08.271Z"
   },
   {
    "duration": 20,
    "start_time": "2023-04-05T15:05:08.278Z"
   },
   {
    "duration": 5,
    "start_time": "2023-04-05T15:05:08.300Z"
   },
   {
    "duration": 363,
    "start_time": "2023-04-05T15:05:08.307Z"
   },
   {
    "duration": 29,
    "start_time": "2023-04-05T15:05:08.672Z"
   },
   {
    "duration": 298,
    "start_time": "2023-04-05T15:05:08.703Z"
   },
   {
    "duration": 6,
    "start_time": "2023-04-05T15:05:09.003Z"
   },
   {
    "duration": 6,
    "start_time": "2023-04-05T15:05:09.010Z"
   },
   {
    "duration": 33,
    "start_time": "2023-04-05T15:05:09.017Z"
   },
   {
    "duration": 57,
    "start_time": "2023-04-05T15:05:09.054Z"
   },
   {
    "duration": 40,
    "start_time": "2023-04-05T15:05:09.113Z"
   },
   {
    "duration": 9,
    "start_time": "2023-04-05T15:05:09.155Z"
   },
   {
    "duration": 75,
    "start_time": "2023-04-05T15:05:09.166Z"
   },
   {
    "duration": 7,
    "start_time": "2023-04-05T15:05:09.243Z"
   },
   {
    "duration": 18,
    "start_time": "2023-04-05T15:05:09.252Z"
   },
   {
    "duration": 4,
    "start_time": "2023-04-05T15:05:09.272Z"
   },
   {
    "duration": 9,
    "start_time": "2023-04-05T15:05:09.278Z"
   },
   {
    "duration": 11,
    "start_time": "2023-04-05T15:05:09.289Z"
   },
   {
    "duration": 7,
    "start_time": "2023-04-05T15:05:09.301Z"
   },
   {
    "duration": 32,
    "start_time": "2023-04-05T15:05:09.310Z"
   },
   {
    "duration": 51,
    "start_time": "2023-04-05T15:05:09.344Z"
   },
   {
    "duration": 6,
    "start_time": "2023-04-05T15:05:09.398Z"
   },
   {
    "duration": 6,
    "start_time": "2023-04-05T15:05:09.406Z"
   },
   {
    "duration": 28,
    "start_time": "2023-04-05T15:05:09.414Z"
   },
   {
    "duration": 10,
    "start_time": "2023-04-05T15:05:09.444Z"
   },
   {
    "duration": 9,
    "start_time": "2023-04-05T15:05:09.456Z"
   },
   {
    "duration": 7,
    "start_time": "2023-04-05T15:05:09.467Z"
   },
   {
    "duration": 151,
    "start_time": "2023-04-05T15:05:09.476Z"
   },
   {
    "duration": 664,
    "start_time": "2023-04-05T15:05:09.629Z"
   },
   {
    "duration": 99,
    "start_time": "2023-04-05T15:07:54.213Z"
   },
   {
    "duration": 6,
    "start_time": "2023-04-05T15:07:55.168Z"
   },
   {
    "duration": 587,
    "start_time": "2023-04-05T15:07:57.934Z"
   },
   {
    "duration": 4,
    "start_time": "2023-04-05T15:08:54.048Z"
   },
   {
    "duration": 6,
    "start_time": "2023-04-05T15:08:54.572Z"
   },
   {
    "duration": 7,
    "start_time": "2023-04-05T15:08:56.472Z"
   },
   {
    "duration": 654,
    "start_time": "2023-04-05T15:10:19.496Z"
   },
   {
    "duration": 96,
    "start_time": "2023-04-05T15:11:10.314Z"
   },
   {
    "duration": 11,
    "start_time": "2023-04-05T15:11:18.223Z"
   },
   {
    "duration": 613,
    "start_time": "2023-04-05T15:11:26.364Z"
   },
   {
    "duration": 671,
    "start_time": "2023-04-05T15:15:43.188Z"
   },
   {
    "duration": 587,
    "start_time": "2023-04-05T15:16:07.906Z"
   },
   {
    "duration": 13,
    "start_time": "2023-04-05T15:17:33.602Z"
   },
   {
    "duration": 4,
    "start_time": "2023-04-05T15:17:42.077Z"
   },
   {
    "duration": 1193,
    "start_time": "2023-04-05T15:17:42.084Z"
   },
   {
    "duration": 178,
    "start_time": "2023-04-05T15:17:43.279Z"
   },
   {
    "duration": 14,
    "start_time": "2023-04-05T15:17:43.459Z"
   },
   {
    "duration": 23,
    "start_time": "2023-04-05T15:17:43.475Z"
   },
   {
    "duration": 43,
    "start_time": "2023-04-05T15:17:43.499Z"
   },
   {
    "duration": 75,
    "start_time": "2023-04-05T15:17:43.543Z"
   },
   {
    "duration": 98,
    "start_time": "2023-04-05T15:17:43.620Z"
   },
   {
    "duration": 5,
    "start_time": "2023-04-05T15:17:43.720Z"
   },
   {
    "duration": 36,
    "start_time": "2023-04-05T15:17:43.743Z"
   },
   {
    "duration": 32,
    "start_time": "2023-04-05T15:17:43.796Z"
   },
   {
    "duration": 56,
    "start_time": "2023-04-05T15:17:43.830Z"
   },
   {
    "duration": 12,
    "start_time": "2023-04-05T15:17:43.888Z"
   },
   {
    "duration": 79,
    "start_time": "2023-04-05T15:17:43.903Z"
   },
   {
    "duration": 22,
    "start_time": "2023-04-05T15:17:43.983Z"
   },
   {
    "duration": 18,
    "start_time": "2023-04-05T15:17:44.007Z"
   },
   {
    "duration": 16,
    "start_time": "2023-04-05T15:17:44.027Z"
   },
   {
    "duration": 12,
    "start_time": "2023-04-05T15:17:44.046Z"
   },
   {
    "duration": 10,
    "start_time": "2023-04-05T15:17:44.060Z"
   },
   {
    "duration": 5,
    "start_time": "2023-04-05T15:17:44.072Z"
   },
   {
    "duration": 5,
    "start_time": "2023-04-05T15:17:44.079Z"
   },
   {
    "duration": 3,
    "start_time": "2023-04-05T15:17:44.086Z"
   },
   {
    "duration": 377,
    "start_time": "2023-04-05T15:17:44.091Z"
   },
   {
    "duration": 30,
    "start_time": "2023-04-05T15:17:44.470Z"
   },
   {
    "duration": 292,
    "start_time": "2023-04-05T15:17:44.502Z"
   },
   {
    "duration": 6,
    "start_time": "2023-04-05T15:17:44.796Z"
   },
   {
    "duration": 14,
    "start_time": "2023-04-05T15:17:44.803Z"
   },
   {
    "duration": 16,
    "start_time": "2023-04-05T15:17:44.840Z"
   },
   {
    "duration": 61,
    "start_time": "2023-04-05T15:17:44.858Z"
   },
   {
    "duration": 47,
    "start_time": "2023-04-05T15:17:44.921Z"
   },
   {
    "duration": 16,
    "start_time": "2023-04-05T15:17:44.970Z"
   },
   {
    "duration": 72,
    "start_time": "2023-04-05T15:17:44.988Z"
   },
   {
    "duration": 8,
    "start_time": "2023-04-05T15:17:45.062Z"
   },
   {
    "duration": 39,
    "start_time": "2023-04-05T15:17:45.073Z"
   },
   {
    "duration": 3,
    "start_time": "2023-04-05T15:17:45.114Z"
   },
   {
    "duration": 8,
    "start_time": "2023-04-05T15:17:45.120Z"
   },
   {
    "duration": 31,
    "start_time": "2023-04-05T15:17:45.130Z"
   },
   {
    "duration": 11,
    "start_time": "2023-04-05T15:17:45.163Z"
   },
   {
    "duration": 8,
    "start_time": "2023-04-05T15:17:45.176Z"
   },
   {
    "duration": 57,
    "start_time": "2023-04-05T15:17:45.185Z"
   },
   {
    "duration": 7,
    "start_time": "2023-04-05T15:17:45.245Z"
   },
   {
    "duration": 12,
    "start_time": "2023-04-05T15:17:45.254Z"
   },
   {
    "duration": 11,
    "start_time": "2023-04-05T15:17:45.268Z"
   },
   {
    "duration": 26,
    "start_time": "2023-04-05T15:17:45.282Z"
   },
   {
    "duration": 30,
    "start_time": "2023-04-05T15:17:45.311Z"
   },
   {
    "duration": 39,
    "start_time": "2023-04-05T15:17:45.343Z"
   },
   {
    "duration": 167,
    "start_time": "2023-04-05T15:17:45.383Z"
   },
   {
    "duration": 8,
    "start_time": "2023-04-05T15:17:45.552Z"
   },
   {
    "duration": 927,
    "start_time": "2023-04-05T15:17:45.562Z"
   },
   {
    "duration": 6,
    "start_time": "2023-04-05T16:12:28.052Z"
   },
   {
    "duration": 92,
    "start_time": "2023-04-05T16:12:30.035Z"
   },
   {
    "duration": 7,
    "start_time": "2023-04-05T16:12:31.098Z"
   },
   {
    "duration": 762,
    "start_time": "2023-04-05T16:12:33.076Z"
   },
   {
    "duration": 9,
    "start_time": "2023-04-05T16:12:58.529Z"
   },
   {
    "duration": 9,
    "start_time": "2023-04-05T16:13:14.854Z"
   },
   {
    "duration": 5,
    "start_time": "2023-04-05T16:19:56.585Z"
   },
   {
    "duration": 97,
    "start_time": "2023-04-05T16:19:57.834Z"
   },
   {
    "duration": 8,
    "start_time": "2023-04-05T16:19:58.362Z"
   },
   {
    "duration": 9,
    "start_time": "2023-04-05T16:20:18.782Z"
   },
   {
    "duration": 9,
    "start_time": "2023-04-05T16:28:19.012Z"
   },
   {
    "duration": 9,
    "start_time": "2023-04-05T16:28:51.458Z"
   },
   {
    "duration": 612,
    "start_time": "2023-04-05T16:29:10.492Z"
   },
   {
    "duration": 92,
    "start_time": "2023-04-05T16:30:12.314Z"
   },
   {
    "duration": 8,
    "start_time": "2023-04-05T16:30:13.016Z"
   },
   {
    "duration": 615,
    "start_time": "2023-04-05T16:30:14.516Z"
   },
   {
    "duration": 623,
    "start_time": "2023-04-05T16:31:35.188Z"
   },
   {
    "duration": 9,
    "start_time": "2023-04-05T16:32:13.042Z"
   },
   {
    "duration": 742,
    "start_time": "2023-04-05T16:32:27.810Z"
   },
   {
    "duration": 626,
    "start_time": "2023-04-05T16:32:34.466Z"
   },
   {
    "duration": 92,
    "start_time": "2023-04-05T16:33:18.073Z"
   },
   {
    "duration": 7,
    "start_time": "2023-04-05T16:33:18.760Z"
   },
   {
    "duration": 94,
    "start_time": "2023-04-05T16:33:26.426Z"
   },
   {
    "duration": 8,
    "start_time": "2023-04-05T16:33:27.765Z"
   },
   {
    "duration": 100,
    "start_time": "2023-04-05T16:33:35.436Z"
   },
   {
    "duration": 8,
    "start_time": "2023-04-05T16:33:36.356Z"
   },
   {
    "duration": 570,
    "start_time": "2023-04-05T16:33:43.576Z"
   },
   {
    "duration": 610,
    "start_time": "2023-04-05T16:33:44.502Z"
   },
   {
    "duration": 9,
    "start_time": "2023-04-05T16:33:45.160Z"
   },
   {
    "duration": 9,
    "start_time": "2023-04-05T16:36:11.166Z"
   },
   {
    "duration": 4,
    "start_time": "2023-04-05T16:36:17.570Z"
   },
   {
    "duration": 1195,
    "start_time": "2023-04-05T16:36:17.576Z"
   },
   {
    "duration": 175,
    "start_time": "2023-04-05T16:36:18.773Z"
   },
   {
    "duration": 16,
    "start_time": "2023-04-05T16:36:18.951Z"
   },
   {
    "duration": 29,
    "start_time": "2023-04-05T16:36:18.969Z"
   },
   {
    "duration": 43,
    "start_time": "2023-04-05T16:36:19.001Z"
   },
   {
    "duration": 110,
    "start_time": "2023-04-05T16:36:19.047Z"
   },
   {
    "duration": 89,
    "start_time": "2023-04-05T16:36:19.159Z"
   },
   {
    "duration": 4,
    "start_time": "2023-04-05T16:36:19.251Z"
   },
   {
    "duration": 30,
    "start_time": "2023-04-05T16:36:19.256Z"
   },
   {
    "duration": 28,
    "start_time": "2023-04-05T16:36:19.288Z"
   },
   {
    "duration": 58,
    "start_time": "2023-04-05T16:36:19.318Z"
   },
   {
    "duration": 12,
    "start_time": "2023-04-05T16:36:19.378Z"
   },
   {
    "duration": 60,
    "start_time": "2023-04-05T16:36:19.391Z"
   },
   {
    "duration": 19,
    "start_time": "2023-04-05T16:36:19.452Z"
   },
   {
    "duration": 18,
    "start_time": "2023-04-05T16:36:19.473Z"
   },
   {
    "duration": 3,
    "start_time": "2023-04-05T16:36:19.493Z"
   },
   {
    "duration": 6,
    "start_time": "2023-04-05T16:36:19.498Z"
   },
   {
    "duration": 38,
    "start_time": "2023-04-05T16:36:19.505Z"
   },
   {
    "duration": 4,
    "start_time": "2023-04-05T16:36:19.545Z"
   },
   {
    "duration": 14,
    "start_time": "2023-04-05T16:36:19.550Z"
   },
   {
    "duration": 29,
    "start_time": "2023-04-05T16:36:19.566Z"
   },
   {
    "duration": 314,
    "start_time": "2023-04-05T16:36:19.598Z"
   },
   {
    "duration": 41,
    "start_time": "2023-04-05T16:36:19.917Z"
   },
   {
    "duration": 267,
    "start_time": "2023-04-05T16:36:19.960Z"
   },
   {
    "duration": 10,
    "start_time": "2023-04-05T16:36:20.230Z"
   },
   {
    "duration": 5,
    "start_time": "2023-04-05T16:36:20.243Z"
   },
   {
    "duration": 18,
    "start_time": "2023-04-05T16:36:20.249Z"
   },
   {
    "duration": 73,
    "start_time": "2023-04-05T16:36:20.269Z"
   },
   {
    "duration": 23,
    "start_time": "2023-04-05T16:36:20.343Z"
   },
   {
    "duration": 7,
    "start_time": "2023-04-05T16:36:20.368Z"
   },
   {
    "duration": 75,
    "start_time": "2023-04-05T16:36:20.377Z"
   },
   {
    "duration": 7,
    "start_time": "2023-04-05T16:36:20.453Z"
   },
   {
    "duration": 16,
    "start_time": "2023-04-05T16:36:20.461Z"
   },
   {
    "duration": 3,
    "start_time": "2023-04-05T16:36:20.479Z"
   },
   {
    "duration": 9,
    "start_time": "2023-04-05T16:36:20.483Z"
   },
   {
    "duration": 9,
    "start_time": "2023-04-05T16:36:20.494Z"
   },
   {
    "duration": 10,
    "start_time": "2023-04-05T16:36:20.505Z"
   },
   {
    "duration": 26,
    "start_time": "2023-04-05T16:36:20.516Z"
   },
   {
    "duration": 59,
    "start_time": "2023-04-05T16:36:20.544Z"
   },
   {
    "duration": 5,
    "start_time": "2023-04-05T16:36:20.605Z"
   },
   {
    "duration": 16,
    "start_time": "2023-04-05T16:36:20.611Z"
   },
   {
    "duration": 11,
    "start_time": "2023-04-05T16:36:20.629Z"
   },
   {
    "duration": 28,
    "start_time": "2023-04-05T16:36:20.642Z"
   },
   {
    "duration": 15,
    "start_time": "2023-04-05T16:36:20.672Z"
   },
   {
    "duration": 13,
    "start_time": "2023-04-05T16:36:20.689Z"
   },
   {
    "duration": 108,
    "start_time": "2023-04-05T16:36:20.704Z"
   },
   {
    "duration": 7,
    "start_time": "2023-04-05T16:36:20.814Z"
   },
   {
    "duration": 1000,
    "start_time": "2023-04-05T16:36:20.823Z"
   },
   {
    "duration": 0,
    "start_time": "2023-04-05T16:36:21.825Z"
   },
   {
    "duration": 0,
    "start_time": "2023-04-05T16:36:21.827Z"
   },
   {
    "duration": 96,
    "start_time": "2023-04-05T16:37:14.915Z"
   },
   {
    "duration": 8,
    "start_time": "2023-04-05T16:37:15.738Z"
   },
   {
    "duration": 757,
    "start_time": "2023-04-05T16:37:30.182Z"
   },
   {
    "duration": 82,
    "start_time": "2023-04-05T16:38:01.379Z"
   },
   {
    "duration": 78,
    "start_time": "2023-04-05T16:38:06.658Z"
   },
   {
    "duration": 7,
    "start_time": "2023-04-05T16:38:07.588Z"
   },
   {
    "duration": 587,
    "start_time": "2023-04-05T16:38:08.768Z"
   },
   {
    "duration": 0,
    "start_time": "2023-04-05T16:38:09.356Z"
   },
   {
    "duration": 529,
    "start_time": "2023-04-05T16:38:10.162Z"
   },
   {
    "duration": 3,
    "start_time": "2023-04-05T16:38:23.931Z"
   },
   {
    "duration": 1254,
    "start_time": "2023-04-05T16:38:23.936Z"
   },
   {
    "duration": 166,
    "start_time": "2023-04-05T16:38:25.192Z"
   },
   {
    "duration": 12,
    "start_time": "2023-04-05T16:38:25.360Z"
   },
   {
    "duration": 22,
    "start_time": "2023-04-05T16:38:25.374Z"
   },
   {
    "duration": 43,
    "start_time": "2023-04-05T16:38:25.398Z"
   },
   {
    "duration": 70,
    "start_time": "2023-04-05T16:38:25.443Z"
   },
   {
    "duration": 91,
    "start_time": "2023-04-05T16:38:25.515Z"
   },
   {
    "duration": 4,
    "start_time": "2023-04-05T16:38:25.607Z"
   },
   {
    "duration": 39,
    "start_time": "2023-04-05T16:38:25.613Z"
   },
   {
    "duration": 26,
    "start_time": "2023-04-05T16:38:25.654Z"
   },
   {
    "duration": 56,
    "start_time": "2023-04-05T16:38:25.682Z"
   },
   {
    "duration": 11,
    "start_time": "2023-04-05T16:38:25.741Z"
   },
   {
    "duration": 46,
    "start_time": "2023-04-05T16:38:25.753Z"
   },
   {
    "duration": 20,
    "start_time": "2023-04-05T16:38:25.800Z"
   },
   {
    "duration": 29,
    "start_time": "2023-04-05T16:38:25.821Z"
   },
   {
    "duration": 10,
    "start_time": "2023-04-05T16:38:25.852Z"
   },
   {
    "duration": 9,
    "start_time": "2023-04-05T16:38:25.864Z"
   },
   {
    "duration": 11,
    "start_time": "2023-04-05T16:38:25.874Z"
   },
   {
    "duration": 5,
    "start_time": "2023-04-05T16:38:25.887Z"
   },
   {
    "duration": 18,
    "start_time": "2023-04-05T16:38:25.894Z"
   },
   {
    "duration": 29,
    "start_time": "2023-04-05T16:38:25.914Z"
   },
   {
    "duration": 326,
    "start_time": "2023-04-05T16:38:25.945Z"
   },
   {
    "duration": 30,
    "start_time": "2023-04-05T16:38:26.272Z"
   },
   {
    "duration": 278,
    "start_time": "2023-04-05T16:38:26.304Z"
   },
   {
    "duration": 5,
    "start_time": "2023-04-05T16:38:26.585Z"
   },
   {
    "duration": 7,
    "start_time": "2023-04-05T16:38:26.592Z"
   },
   {
    "duration": 17,
    "start_time": "2023-04-05T16:38:26.601Z"
   },
   {
    "duration": 56,
    "start_time": "2023-04-05T16:38:26.642Z"
   },
   {
    "duration": 24,
    "start_time": "2023-04-05T16:38:26.699Z"
   },
   {
    "duration": 8,
    "start_time": "2023-04-05T16:38:26.740Z"
   },
   {
    "duration": 66,
    "start_time": "2023-04-05T16:38:26.750Z"
   },
   {
    "duration": 7,
    "start_time": "2023-04-05T16:38:26.817Z"
   },
   {
    "duration": 24,
    "start_time": "2023-04-05T16:38:26.826Z"
   },
   {
    "duration": 3,
    "start_time": "2023-04-05T16:38:26.851Z"
   },
   {
    "duration": 27,
    "start_time": "2023-04-05T16:38:26.856Z"
   },
   {
    "duration": 19,
    "start_time": "2023-04-05T16:38:26.888Z"
   },
   {
    "duration": 12,
    "start_time": "2023-04-05T16:38:26.910Z"
   },
   {
    "duration": 12,
    "start_time": "2023-04-05T16:38:26.924Z"
   },
   {
    "duration": 47,
    "start_time": "2023-04-05T16:38:26.937Z"
   },
   {
    "duration": 4,
    "start_time": "2023-04-05T16:38:26.986Z"
   },
   {
    "duration": 9,
    "start_time": "2023-04-05T16:38:26.992Z"
   },
   {
    "duration": 21,
    "start_time": "2023-04-05T16:38:27.003Z"
   },
   {
    "duration": 6,
    "start_time": "2023-04-05T16:38:27.026Z"
   },
   {
    "duration": 17,
    "start_time": "2023-04-05T16:38:27.033Z"
   },
   {
    "duration": 12,
    "start_time": "2023-04-05T16:38:27.052Z"
   },
   {
    "duration": 181,
    "start_time": "2023-04-05T16:38:27.065Z"
   },
   {
    "duration": 0,
    "start_time": "2023-04-05T16:38:27.247Z"
   },
   {
    "duration": 0,
    "start_time": "2023-04-05T16:38:27.248Z"
   },
   {
    "duration": 1,
    "start_time": "2023-04-05T16:38:27.249Z"
   },
   {
    "duration": 0,
    "start_time": "2023-04-05T16:38:27.251Z"
   },
   {
    "duration": 108,
    "start_time": "2023-04-05T16:39:23.316Z"
   },
   {
    "duration": 10,
    "start_time": "2023-04-05T16:39:24.632Z"
   },
   {
    "duration": 7,
    "start_time": "2023-04-05T16:39:30.606Z"
   },
   {
    "duration": 93,
    "start_time": "2023-04-05T16:39:40.904Z"
   },
   {
    "duration": 7,
    "start_time": "2023-04-05T16:39:41.844Z"
   },
   {
    "duration": 13,
    "start_time": "2023-04-05T16:39:43.198Z"
   },
   {
    "duration": 14,
    "start_time": "2023-04-05T16:39:52.052Z"
   },
   {
    "duration": 5,
    "start_time": "2023-04-05T16:40:14.565Z"
   },
   {
    "duration": 91,
    "start_time": "2023-04-05T16:40:15.398Z"
   },
   {
    "duration": 8,
    "start_time": "2023-04-05T16:40:16.008Z"
   },
   {
    "duration": 1728,
    "start_time": "2023-04-05T16:40:17.218Z"
   },
   {
    "duration": 99,
    "start_time": "2023-04-05T17:48:15.935Z"
   },
   {
    "duration": 4,
    "start_time": "2023-04-05T17:48:25.414Z"
   },
   {
    "duration": 1248,
    "start_time": "2023-04-05T17:48:25.419Z"
   },
   {
    "duration": 168,
    "start_time": "2023-04-05T17:48:26.669Z"
   },
   {
    "duration": 11,
    "start_time": "2023-04-05T17:48:26.841Z"
   },
   {
    "duration": 21,
    "start_time": "2023-04-05T17:48:26.854Z"
   },
   {
    "duration": 16,
    "start_time": "2023-04-05T17:48:26.876Z"
   },
   {
    "duration": 93,
    "start_time": "2023-04-05T17:48:26.894Z"
   },
   {
    "duration": 88,
    "start_time": "2023-04-05T17:48:26.988Z"
   },
   {
    "duration": 3,
    "start_time": "2023-04-05T17:48:27.078Z"
   },
   {
    "duration": 53,
    "start_time": "2023-04-05T17:48:27.083Z"
   },
   {
    "duration": 28,
    "start_time": "2023-04-05T17:48:27.139Z"
   },
   {
    "duration": 41,
    "start_time": "2023-04-05T17:48:27.169Z"
   },
   {
    "duration": 29,
    "start_time": "2023-04-05T17:48:27.212Z"
   },
   {
    "duration": 34,
    "start_time": "2023-04-05T17:48:27.242Z"
   },
   {
    "duration": 20,
    "start_time": "2023-04-05T17:48:27.278Z"
   },
   {
    "duration": 43,
    "start_time": "2023-04-05T17:48:27.300Z"
   },
   {
    "duration": 4,
    "start_time": "2023-04-05T17:48:27.345Z"
   },
   {
    "duration": 7,
    "start_time": "2023-04-05T17:48:27.351Z"
   },
   {
    "duration": 9,
    "start_time": "2023-04-05T17:48:27.360Z"
   },
   {
    "duration": 4,
    "start_time": "2023-04-05T17:48:27.371Z"
   },
   {
    "duration": 16,
    "start_time": "2023-04-05T17:48:27.376Z"
   },
   {
    "duration": 8,
    "start_time": "2023-04-05T17:48:27.394Z"
   },
   {
    "duration": 371,
    "start_time": "2023-04-05T17:48:27.403Z"
   },
   {
    "duration": 29,
    "start_time": "2023-04-05T17:48:27.776Z"
   },
   {
    "duration": 290,
    "start_time": "2023-04-05T17:48:27.807Z"
   },
   {
    "duration": 5,
    "start_time": "2023-04-05T17:48:28.099Z"
   },
   {
    "duration": 10,
    "start_time": "2023-04-05T17:48:28.106Z"
   },
   {
    "duration": 34,
    "start_time": "2023-04-05T17:48:28.117Z"
   },
   {
    "duration": 52,
    "start_time": "2023-04-05T17:48:28.156Z"
   },
   {
    "duration": 37,
    "start_time": "2023-04-05T17:48:28.210Z"
   },
   {
    "duration": 8,
    "start_time": "2023-04-05T17:48:28.249Z"
   },
   {
    "duration": 56,
    "start_time": "2023-04-05T17:48:28.258Z"
   },
   {
    "duration": 27,
    "start_time": "2023-04-05T17:48:28.316Z"
   },
   {
    "duration": 21,
    "start_time": "2023-04-05T17:48:28.345Z"
   },
   {
    "duration": 4,
    "start_time": "2023-04-05T17:48:28.368Z"
   },
   {
    "duration": 8,
    "start_time": "2023-04-05T17:48:28.373Z"
   },
   {
    "duration": 23,
    "start_time": "2023-04-05T17:48:28.383Z"
   },
   {
    "duration": 13,
    "start_time": "2023-04-05T17:48:28.407Z"
   },
   {
    "duration": 7,
    "start_time": "2023-04-05T17:48:28.422Z"
   },
   {
    "duration": 51,
    "start_time": "2023-04-05T17:48:28.431Z"
   },
   {
    "duration": 4,
    "start_time": "2023-04-05T17:48:28.484Z"
   },
   {
    "duration": 21,
    "start_time": "2023-04-05T17:48:28.490Z"
   },
   {
    "duration": 19,
    "start_time": "2023-04-05T17:48:28.514Z"
   },
   {
    "duration": 24,
    "start_time": "2023-04-05T17:48:28.535Z"
   },
   {
    "duration": 22,
    "start_time": "2023-04-05T17:48:28.560Z"
   },
   {
    "duration": 14,
    "start_time": "2023-04-05T17:48:28.583Z"
   },
   {
    "duration": 117,
    "start_time": "2023-04-05T17:48:28.598Z"
   },
   {
    "duration": 8,
    "start_time": "2023-04-05T17:48:28.716Z"
   },
   {
    "duration": 775,
    "start_time": "2023-04-05T17:48:28.725Z"
   },
   {
    "duration": 0,
    "start_time": "2023-04-05T17:48:29.501Z"
   },
   {
    "duration": 0,
    "start_time": "2023-04-05T17:48:29.503Z"
   },
   {
    "duration": 44,
    "start_time": "2023-04-05T17:53:57.728Z"
   },
   {
    "duration": 848,
    "start_time": "2023-04-05T17:53:58.722Z"
   },
   {
    "duration": 0,
    "start_time": "2023-04-05T17:53:59.572Z"
   },
   {
    "duration": 3,
    "start_time": "2023-04-05T17:54:13.961Z"
   },
   {
    "duration": 1304,
    "start_time": "2023-04-05T17:54:13.967Z"
   },
   {
    "duration": 177,
    "start_time": "2023-04-05T17:54:15.273Z"
   },
   {
    "duration": 12,
    "start_time": "2023-04-05T17:54:15.453Z"
   },
   {
    "duration": 23,
    "start_time": "2023-04-05T17:54:15.466Z"
   },
   {
    "duration": 16,
    "start_time": "2023-04-05T17:54:15.490Z"
   },
   {
    "duration": 94,
    "start_time": "2023-04-05T17:54:15.508Z"
   },
   {
    "duration": 91,
    "start_time": "2023-04-05T17:54:15.604Z"
   },
   {
    "duration": 4,
    "start_time": "2023-04-05T17:54:15.698Z"
   },
   {
    "duration": 37,
    "start_time": "2023-04-05T17:54:15.703Z"
   },
   {
    "duration": 27,
    "start_time": "2023-04-05T17:54:15.742Z"
   },
   {
    "duration": 43,
    "start_time": "2023-04-05T17:54:15.771Z"
   },
   {
    "duration": 25,
    "start_time": "2023-04-05T17:54:15.816Z"
   },
   {
    "duration": 34,
    "start_time": "2023-04-05T17:54:15.843Z"
   },
   {
    "duration": 26,
    "start_time": "2023-04-05T17:54:15.879Z"
   },
   {
    "duration": 47,
    "start_time": "2023-04-05T17:54:15.907Z"
   },
   {
    "duration": 4,
    "start_time": "2023-04-05T17:54:15.956Z"
   },
   {
    "duration": 21,
    "start_time": "2023-04-05T17:54:15.961Z"
   },
   {
    "duration": 10,
    "start_time": "2023-04-05T17:54:15.984Z"
   },
   {
    "duration": 4,
    "start_time": "2023-04-05T17:54:15.996Z"
   },
   {
    "duration": 11,
    "start_time": "2023-04-05T17:54:16.001Z"
   },
   {
    "duration": 39,
    "start_time": "2023-04-05T17:54:16.014Z"
   },
   {
    "duration": 333,
    "start_time": "2023-04-05T17:54:16.055Z"
   },
   {
    "duration": 34,
    "start_time": "2023-04-05T17:54:16.392Z"
   },
   {
    "duration": 292,
    "start_time": "2023-04-05T17:54:16.428Z"
   },
   {
    "duration": 6,
    "start_time": "2023-04-05T17:54:16.722Z"
   },
   {
    "duration": 5,
    "start_time": "2023-04-05T17:54:16.741Z"
   },
   {
    "duration": 14,
    "start_time": "2023-04-05T17:54:16.747Z"
   },
   {
    "duration": 50,
    "start_time": "2023-04-05T17:54:16.762Z"
   },
   {
    "duration": 48,
    "start_time": "2023-04-05T17:54:16.814Z"
   },
   {
    "duration": 14,
    "start_time": "2023-04-05T17:54:16.864Z"
   },
   {
    "duration": 61,
    "start_time": "2023-04-05T17:54:16.881Z"
   },
   {
    "duration": 7,
    "start_time": "2023-04-05T17:54:16.944Z"
   },
   {
    "duration": 15,
    "start_time": "2023-04-05T17:54:16.953Z"
   },
   {
    "duration": 2,
    "start_time": "2023-04-05T17:54:16.970Z"
   },
   {
    "duration": 11,
    "start_time": "2023-04-05T17:54:16.974Z"
   },
   {
    "duration": 11,
    "start_time": "2023-04-05T17:54:16.987Z"
   },
   {
    "duration": 4,
    "start_time": "2023-04-05T17:54:17.000Z"
   },
   {
    "duration": 36,
    "start_time": "2023-04-05T17:54:17.006Z"
   },
   {
    "duration": 52,
    "start_time": "2023-04-05T17:54:17.044Z"
   },
   {
    "duration": 965,
    "start_time": "2023-04-05T17:54:17.098Z"
   },
   {
    "duration": 0,
    "start_time": "2023-04-05T17:54:18.065Z"
   },
   {
    "duration": 0,
    "start_time": "2023-04-05T17:54:18.066Z"
   },
   {
    "duration": 0,
    "start_time": "2023-04-05T17:54:18.068Z"
   },
   {
    "duration": 0,
    "start_time": "2023-04-05T17:54:18.069Z"
   },
   {
    "duration": 0,
    "start_time": "2023-04-05T17:54:18.071Z"
   },
   {
    "duration": 0,
    "start_time": "2023-04-05T17:54:18.071Z"
   },
   {
    "duration": 0,
    "start_time": "2023-04-05T17:54:18.073Z"
   },
   {
    "duration": 0,
    "start_time": "2023-04-05T17:54:18.074Z"
   },
   {
    "duration": 0,
    "start_time": "2023-04-05T17:54:18.075Z"
   },
   {
    "duration": 0,
    "start_time": "2023-04-05T17:54:18.076Z"
   },
   {
    "duration": 43,
    "start_time": "2023-04-05T17:54:28.265Z"
   },
   {
    "duration": 5,
    "start_time": "2023-04-05T17:54:29.518Z"
   },
   {
    "duration": 4,
    "start_time": "2023-04-05T17:54:30.441Z"
   },
   {
    "duration": 3,
    "start_time": "2023-04-05T17:55:29.352Z"
   },
   {
    "duration": 6,
    "start_time": "2023-04-05T17:55:30.838Z"
   },
   {
    "duration": 6,
    "start_time": "2023-04-05T17:55:34.102Z"
   },
   {
    "duration": 5,
    "start_time": "2023-04-05T17:55:40.188Z"
   },
   {
    "duration": 212,
    "start_time": "2023-04-05T17:55:48.171Z"
   },
   {
    "duration": 12,
    "start_time": "2023-04-05T17:55:57.298Z"
   },
   {
    "duration": 5,
    "start_time": "2023-04-05T17:56:10.434Z"
   },
   {
    "duration": 128,
    "start_time": "2023-04-05T17:57:05.394Z"
   },
   {
    "duration": 8,
    "start_time": "2023-04-05T17:57:07.348Z"
   },
   {
    "duration": 1884,
    "start_time": "2023-04-05T17:57:11.296Z"
   },
   {
    "duration": 2870,
    "start_time": "2023-04-05T17:57:13.824Z"
   },
   {
    "duration": 3071,
    "start_time": "2023-04-05T17:57:17.534Z"
   },
   {
    "duration": 50,
    "start_time": "2023-04-05T21:00:44.371Z"
   },
   {
    "duration": 3,
    "start_time": "2023-04-05T21:00:52.519Z"
   },
   {
    "duration": 1295,
    "start_time": "2023-04-05T21:00:52.524Z"
   },
   {
    "duration": 508,
    "start_time": "2023-04-05T21:00:53.821Z"
   },
   {
    "duration": 10,
    "start_time": "2023-04-05T21:00:54.330Z"
   },
   {
    "duration": 19,
    "start_time": "2023-04-05T21:00:54.342Z"
   },
   {
    "duration": 13,
    "start_time": "2023-04-05T21:00:54.362Z"
   },
   {
    "duration": 74,
    "start_time": "2023-04-05T21:00:54.376Z"
   },
   {
    "duration": 67,
    "start_time": "2023-04-05T21:00:54.452Z"
   },
   {
    "duration": 14,
    "start_time": "2023-04-05T21:00:54.521Z"
   },
   {
    "duration": 24,
    "start_time": "2023-04-05T21:00:54.536Z"
   },
   {
    "duration": 25,
    "start_time": "2023-04-05T21:00:54.563Z"
   },
   {
    "duration": 48,
    "start_time": "2023-04-05T21:00:54.589Z"
   },
   {
    "duration": 12,
    "start_time": "2023-04-05T21:00:54.639Z"
   },
   {
    "duration": 53,
    "start_time": "2023-04-05T21:00:54.653Z"
   },
   {
    "duration": 35,
    "start_time": "2023-04-05T21:00:54.708Z"
   },
   {
    "duration": 25,
    "start_time": "2023-04-05T21:00:54.746Z"
   },
   {
    "duration": 12,
    "start_time": "2023-04-05T21:00:54.773Z"
   },
   {
    "duration": 20,
    "start_time": "2023-04-05T21:00:54.788Z"
   },
   {
    "duration": 18,
    "start_time": "2023-04-05T21:00:54.810Z"
   },
   {
    "duration": 24,
    "start_time": "2023-04-05T21:00:54.830Z"
   },
   {
    "duration": 7,
    "start_time": "2023-04-05T21:00:54.856Z"
   },
   {
    "duration": 18,
    "start_time": "2023-04-05T21:00:54.864Z"
   },
   {
    "duration": 280,
    "start_time": "2023-04-05T21:00:54.884Z"
   },
   {
    "duration": 25,
    "start_time": "2023-04-05T21:00:55.166Z"
   },
   {
    "duration": 259,
    "start_time": "2023-04-05T21:00:55.192Z"
   },
   {
    "duration": 6,
    "start_time": "2023-04-05T21:00:55.452Z"
   },
   {
    "duration": 8,
    "start_time": "2023-04-05T21:00:55.459Z"
   },
   {
    "duration": 18,
    "start_time": "2023-04-05T21:00:55.468Z"
   },
   {
    "duration": 60,
    "start_time": "2023-04-05T21:00:55.489Z"
   },
   {
    "duration": 24,
    "start_time": "2023-04-05T21:00:55.550Z"
   },
   {
    "duration": 15,
    "start_time": "2023-04-05T21:00:55.575Z"
   },
   {
    "duration": 59,
    "start_time": "2023-04-05T21:00:55.591Z"
   },
   {
    "duration": 7,
    "start_time": "2023-04-05T21:00:55.651Z"
   },
   {
    "duration": 15,
    "start_time": "2023-04-05T21:00:55.660Z"
   },
   {
    "duration": 2,
    "start_time": "2023-04-05T21:00:55.677Z"
   },
   {
    "duration": 7,
    "start_time": "2023-04-05T21:00:55.680Z"
   },
   {
    "duration": 9,
    "start_time": "2023-04-05T21:00:55.688Z"
   },
   {
    "duration": 25,
    "start_time": "2023-04-05T21:00:55.699Z"
   },
   {
    "duration": 10,
    "start_time": "2023-04-05T21:00:55.725Z"
   },
   {
    "duration": 52,
    "start_time": "2023-04-05T21:00:55.736Z"
   },
   {
    "duration": 4,
    "start_time": "2023-04-05T21:00:55.789Z"
   },
   {
    "duration": 56,
    "start_time": "2023-04-05T21:00:55.795Z"
   },
   {
    "duration": 32,
    "start_time": "2023-04-05T21:00:55.853Z"
   },
   {
    "duration": 13,
    "start_time": "2023-04-05T21:00:55.886Z"
   },
   {
    "duration": 7,
    "start_time": "2023-04-05T21:00:55.901Z"
   },
   {
    "duration": 6,
    "start_time": "2023-04-05T21:00:55.909Z"
   },
   {
    "duration": 6,
    "start_time": "2023-04-05T21:00:55.917Z"
   },
   {
    "duration": 17,
    "start_time": "2023-04-05T21:00:55.925Z"
   },
   {
    "duration": 30,
    "start_time": "2023-04-05T21:02:05.602Z"
   },
   {
    "duration": 41,
    "start_time": "2023-04-05T21:02:30.224Z"
   },
   {
    "duration": 35,
    "start_time": "2023-04-05T21:02:39.927Z"
   },
   {
    "duration": 28,
    "start_time": "2023-04-05T21:02:53.503Z"
   },
   {
    "duration": 38,
    "start_time": "2023-04-05T21:04:18.687Z"
   },
   {
    "duration": 112,
    "start_time": "2023-04-05T21:06:58.719Z"
   },
   {
    "duration": 26,
    "start_time": "2023-04-05T21:07:17.653Z"
   },
   {
    "duration": 20,
    "start_time": "2023-04-05T21:08:07.767Z"
   },
   {
    "duration": 6,
    "start_time": "2023-04-05T21:08:23.835Z"
   },
   {
    "duration": 31,
    "start_time": "2023-04-05T21:09:02.665Z"
   },
   {
    "duration": 5,
    "start_time": "2023-04-05T21:09:04.205Z"
   },
   {
    "duration": 19,
    "start_time": "2023-04-05T21:09:21.429Z"
   },
   {
    "duration": 6,
    "start_time": "2023-04-05T21:09:22.136Z"
   },
   {
    "duration": 30,
    "start_time": "2023-04-05T21:09:51.403Z"
   },
   {
    "duration": 6,
    "start_time": "2023-04-05T21:09:52.251Z"
   },
   {
    "duration": 32,
    "start_time": "2023-04-05T21:10:11.019Z"
   },
   {
    "duration": 6,
    "start_time": "2023-04-05T21:10:11.969Z"
   },
   {
    "duration": 6,
    "start_time": "2023-04-05T21:10:18.737Z"
   },
   {
    "duration": 43,
    "start_time": "2023-04-05T21:11:07.379Z"
   },
   {
    "duration": 9,
    "start_time": "2023-04-05T21:12:54.170Z"
   },
   {
    "duration": 3,
    "start_time": "2023-04-05T21:13:12.905Z"
   },
   {
    "duration": 1119,
    "start_time": "2023-04-05T21:13:12.910Z"
   },
   {
    "duration": 153,
    "start_time": "2023-04-05T21:13:14.030Z"
   },
   {
    "duration": 10,
    "start_time": "2023-04-05T21:13:14.185Z"
   },
   {
    "duration": 23,
    "start_time": "2023-04-05T21:13:14.196Z"
   },
   {
    "duration": 26,
    "start_time": "2023-04-05T21:13:14.221Z"
   },
   {
    "duration": 59,
    "start_time": "2023-04-05T21:13:14.249Z"
   },
   {
    "duration": 87,
    "start_time": "2023-04-05T21:13:14.309Z"
   },
   {
    "duration": 3,
    "start_time": "2023-04-05T21:13:14.398Z"
   },
   {
    "duration": 36,
    "start_time": "2023-04-05T21:13:14.403Z"
   },
   {
    "duration": 23,
    "start_time": "2023-04-05T21:13:14.440Z"
   },
   {
    "duration": 35,
    "start_time": "2023-04-05T21:13:14.464Z"
   },
   {
    "duration": 10,
    "start_time": "2023-04-05T21:13:14.500Z"
   },
   {
    "duration": 28,
    "start_time": "2023-04-05T21:13:14.535Z"
   },
   {
    "duration": 19,
    "start_time": "2023-04-05T21:13:14.564Z"
   },
   {
    "duration": 23,
    "start_time": "2023-04-05T21:13:14.586Z"
   },
   {
    "duration": 4,
    "start_time": "2023-04-05T21:13:14.636Z"
   },
   {
    "duration": 17,
    "start_time": "2023-04-05T21:13:14.642Z"
   },
   {
    "duration": 33,
    "start_time": "2023-04-05T21:13:14.660Z"
   },
   {
    "duration": 8,
    "start_time": "2023-04-05T21:13:14.695Z"
   },
   {
    "duration": 16,
    "start_time": "2023-04-05T21:13:14.706Z"
   },
   {
    "duration": 6,
    "start_time": "2023-04-05T21:13:14.724Z"
   },
   {
    "duration": 306,
    "start_time": "2023-04-05T21:13:14.732Z"
   },
   {
    "duration": 26,
    "start_time": "2023-04-05T21:13:15.041Z"
   },
   {
    "duration": 266,
    "start_time": "2023-04-05T21:13:15.068Z"
   },
   {
    "duration": 6,
    "start_time": "2023-04-05T21:13:15.336Z"
   },
   {
    "duration": 11,
    "start_time": "2023-04-05T21:13:15.344Z"
   },
   {
    "duration": 18,
    "start_time": "2023-04-05T21:13:15.357Z"
   },
   {
    "duration": 66,
    "start_time": "2023-04-05T21:13:15.377Z"
   },
   {
    "duration": 25,
    "start_time": "2023-04-05T21:13:15.445Z"
   },
   {
    "duration": 8,
    "start_time": "2023-04-05T21:13:15.472Z"
   },
   {
    "duration": 69,
    "start_time": "2023-04-05T21:13:15.482Z"
   },
   {
    "duration": 8,
    "start_time": "2023-04-05T21:13:15.553Z"
   },
   {
    "duration": 14,
    "start_time": "2023-04-05T21:13:15.563Z"
   },
   {
    "duration": 4,
    "start_time": "2023-04-05T21:13:15.578Z"
   },
   {
    "duration": 7,
    "start_time": "2023-04-05T21:13:15.583Z"
   },
   {
    "duration": 12,
    "start_time": "2023-04-05T21:13:15.591Z"
   },
   {
    "duration": 32,
    "start_time": "2023-04-05T21:13:15.604Z"
   },
   {
    "duration": 5,
    "start_time": "2023-04-05T21:13:15.638Z"
   },
   {
    "duration": 17,
    "start_time": "2023-04-05T21:13:15.644Z"
   },
   {
    "duration": 45,
    "start_time": "2023-04-05T21:13:15.663Z"
   },
   {
    "duration": 55,
    "start_time": "2023-04-05T21:13:15.710Z"
   },
   {
    "duration": 8,
    "start_time": "2023-04-05T21:13:15.767Z"
   },
   {
    "duration": 17,
    "start_time": "2023-04-05T21:13:15.777Z"
   },
   {
    "duration": 11,
    "start_time": "2023-04-05T21:13:15.795Z"
   },
   {
    "duration": 6,
    "start_time": "2023-04-05T21:13:15.809Z"
   },
   {
    "duration": 6,
    "start_time": "2023-04-05T21:13:15.816Z"
   },
   {
    "duration": 11,
    "start_time": "2023-04-05T21:13:15.823Z"
   },
   {
    "duration": 3,
    "start_time": "2023-04-05T21:13:15.835Z"
   },
   {
    "duration": 8,
    "start_time": "2023-04-05T21:14:42.827Z"
   },
   {
    "duration": 7,
    "start_time": "2023-04-05T21:15:07.082Z"
   },
   {
    "duration": 94,
    "start_time": "2023-04-05T21:16:23.392Z"
   },
   {
    "duration": 4,
    "start_time": "2023-04-05T21:16:31.106Z"
   },
   {
    "duration": 4,
    "start_time": "2023-04-05T21:17:24.016Z"
   },
   {
    "duration": 4,
    "start_time": "2023-04-05T21:17:59.217Z"
   },
   {
    "duration": 4,
    "start_time": "2023-04-05T21:18:10.285Z"
   },
   {
    "duration": 34,
    "start_time": "2023-04-05T21:18:14.668Z"
   },
   {
    "duration": 4,
    "start_time": "2023-04-05T21:18:15.163Z"
   },
   {
    "duration": 73,
    "start_time": "2023-04-05T21:19:28.502Z"
   },
   {
    "duration": 4,
    "start_time": "2023-04-05T21:21:49.555Z"
   },
   {
    "duration": 5,
    "start_time": "2023-04-05T21:21:55.273Z"
   },
   {
    "duration": 29,
    "start_time": "2023-04-05T21:22:07.655Z"
   },
   {
    "duration": 3,
    "start_time": "2023-04-05T21:22:08.640Z"
   },
   {
    "duration": 46,
    "start_time": "2023-04-05T21:23:53.291Z"
   },
   {
    "duration": 4,
    "start_time": "2023-04-05T21:23:55.225Z"
   },
   {
    "duration": 8,
    "start_time": "2023-04-05T21:25:06.394Z"
   },
   {
    "duration": 9,
    "start_time": "2023-04-05T21:25:22.631Z"
   },
   {
    "duration": 3,
    "start_time": "2023-04-05T21:25:31.613Z"
   },
   {
    "duration": 1099,
    "start_time": "2023-04-05T21:25:31.618Z"
   },
   {
    "duration": 154,
    "start_time": "2023-04-05T21:25:32.719Z"
   },
   {
    "duration": 10,
    "start_time": "2023-04-05T21:25:32.875Z"
   },
   {
    "duration": 20,
    "start_time": "2023-04-05T21:25:32.886Z"
   },
   {
    "duration": 29,
    "start_time": "2023-04-05T21:25:32.907Z"
   },
   {
    "duration": 57,
    "start_time": "2023-04-05T21:25:32.938Z"
   },
   {
    "duration": 78,
    "start_time": "2023-04-05T21:25:32.997Z"
   },
   {
    "duration": 3,
    "start_time": "2023-04-05T21:25:33.077Z"
   },
   {
    "duration": 24,
    "start_time": "2023-04-05T21:25:33.082Z"
   },
   {
    "duration": 38,
    "start_time": "2023-04-05T21:25:33.108Z"
   },
   {
    "duration": 33,
    "start_time": "2023-04-05T21:25:33.148Z"
   },
   {
    "duration": 9,
    "start_time": "2023-04-05T21:25:33.182Z"
   },
   {
    "duration": 42,
    "start_time": "2023-04-05T21:25:33.192Z"
   },
   {
    "duration": 17,
    "start_time": "2023-04-05T21:25:33.236Z"
   },
   {
    "duration": 19,
    "start_time": "2023-04-05T21:25:33.254Z"
   },
   {
    "duration": 3,
    "start_time": "2023-04-05T21:25:33.275Z"
   },
   {
    "duration": 7,
    "start_time": "2023-04-05T21:25:33.280Z"
   },
   {
    "duration": 24,
    "start_time": "2023-04-05T21:25:33.289Z"
   },
   {
    "duration": 19,
    "start_time": "2023-04-05T21:25:33.315Z"
   },
   {
    "duration": 3,
    "start_time": "2023-04-05T21:25:33.336Z"
   },
   {
    "duration": 9,
    "start_time": "2023-04-05T21:25:33.341Z"
   },
   {
    "duration": 283,
    "start_time": "2023-04-05T21:25:33.351Z"
   },
   {
    "duration": 24,
    "start_time": "2023-04-05T21:25:33.638Z"
   },
   {
    "duration": 234,
    "start_time": "2023-04-05T21:25:33.664Z"
   },
   {
    "duration": 5,
    "start_time": "2023-04-05T21:25:33.899Z"
   },
   {
    "duration": 10,
    "start_time": "2023-04-05T21:25:33.905Z"
   },
   {
    "duration": 18,
    "start_time": "2023-04-05T21:25:33.916Z"
   },
   {
    "duration": 41,
    "start_time": "2023-04-05T21:25:33.935Z"
   },
   {
    "duration": 21,
    "start_time": "2023-04-05T21:25:33.978Z"
   },
   {
    "duration": 31,
    "start_time": "2023-04-05T21:25:34.000Z"
   },
   {
    "duration": 52,
    "start_time": "2023-04-05T21:25:34.033Z"
   },
   {
    "duration": 6,
    "start_time": "2023-04-05T21:25:34.087Z"
   },
   {
    "duration": 29,
    "start_time": "2023-04-05T21:25:34.094Z"
   },
   {
    "duration": 15,
    "start_time": "2023-04-05T21:25:34.124Z"
   },
   {
    "duration": 13,
    "start_time": "2023-04-05T21:25:34.140Z"
   },
   {
    "duration": 32,
    "start_time": "2023-04-05T21:25:34.155Z"
   },
   {
    "duration": 9,
    "start_time": "2023-04-05T21:25:34.188Z"
   },
   {
    "duration": 7,
    "start_time": "2023-04-05T21:25:34.199Z"
   },
   {
    "duration": 32,
    "start_time": "2023-04-05T21:25:34.207Z"
   },
   {
    "duration": 101,
    "start_time": "2023-04-05T21:25:34.241Z"
   },
   {
    "duration": 0,
    "start_time": "2023-04-05T21:25:34.344Z"
   },
   {
    "duration": 0,
    "start_time": "2023-04-05T21:25:34.345Z"
   },
   {
    "duration": 0,
    "start_time": "2023-04-05T21:25:34.346Z"
   },
   {
    "duration": 0,
    "start_time": "2023-04-05T21:25:34.347Z"
   },
   {
    "duration": 0,
    "start_time": "2023-04-05T21:25:34.348Z"
   },
   {
    "duration": 0,
    "start_time": "2023-04-05T21:25:34.349Z"
   },
   {
    "duration": 0,
    "start_time": "2023-04-05T21:25:34.349Z"
   },
   {
    "duration": 0,
    "start_time": "2023-04-05T21:25:34.350Z"
   },
   {
    "duration": 0,
    "start_time": "2023-04-05T21:25:34.351Z"
   },
   {
    "duration": 0,
    "start_time": "2023-04-05T21:25:34.352Z"
   },
   {
    "duration": 0,
    "start_time": "2023-04-05T21:25:34.354Z"
   },
   {
    "duration": 0,
    "start_time": "2023-04-05T21:25:34.355Z"
   },
   {
    "duration": 15,
    "start_time": "2023-04-05T21:25:52.761Z"
   },
   {
    "duration": 39,
    "start_time": "2023-04-05T21:26:27.196Z"
   },
   {
    "duration": 3,
    "start_time": "2023-04-05T21:26:54.362Z"
   },
   {
    "duration": 8,
    "start_time": "2023-04-05T21:26:55.112Z"
   },
   {
    "duration": 30,
    "start_time": "2023-04-05T21:27:01.595Z"
   },
   {
    "duration": 2,
    "start_time": "2023-04-05T21:27:03.580Z"
   },
   {
    "duration": 4,
    "start_time": "2023-04-05T21:27:04.028Z"
   },
   {
    "duration": 43,
    "start_time": "2023-04-05T21:27:30.910Z"
   },
   {
    "duration": 4,
    "start_time": "2023-04-05T21:27:31.936Z"
   },
   {
    "duration": 3,
    "start_time": "2023-04-05T21:27:32.884Z"
   },
   {
    "duration": 19,
    "start_time": "2023-04-05T21:27:33.419Z"
   },
   {
    "duration": 43,
    "start_time": "2023-04-05T21:27:57.414Z"
   },
   {
    "duration": 5,
    "start_time": "2023-04-05T21:28:12.149Z"
   },
   {
    "duration": 4,
    "start_time": "2023-04-05T21:29:24.932Z"
   },
   {
    "duration": 3,
    "start_time": "2023-04-05T21:29:36.070Z"
   },
   {
    "duration": 4,
    "start_time": "2023-04-05T21:30:16.610Z"
   },
   {
    "duration": 1104,
    "start_time": "2023-04-05T21:30:16.616Z"
   },
   {
    "duration": 162,
    "start_time": "2023-04-05T21:30:17.721Z"
   },
   {
    "duration": 10,
    "start_time": "2023-04-05T21:30:17.885Z"
   },
   {
    "duration": 33,
    "start_time": "2023-04-05T21:30:17.897Z"
   },
   {
    "duration": 14,
    "start_time": "2023-04-05T21:30:17.932Z"
   },
   {
    "duration": 66,
    "start_time": "2023-04-05T21:30:17.947Z"
   },
   {
    "duration": 80,
    "start_time": "2023-04-05T21:30:18.014Z"
   },
   {
    "duration": 3,
    "start_time": "2023-04-05T21:30:18.096Z"
   },
   {
    "duration": 35,
    "start_time": "2023-04-05T21:30:18.100Z"
   },
   {
    "duration": 24,
    "start_time": "2023-04-05T21:30:18.138Z"
   },
   {
    "duration": 36,
    "start_time": "2023-04-05T21:30:18.164Z"
   },
   {
    "duration": 10,
    "start_time": "2023-04-05T21:30:18.201Z"
   },
   {
    "duration": 48,
    "start_time": "2023-04-05T21:30:18.213Z"
   },
   {
    "duration": 19,
    "start_time": "2023-04-05T21:30:18.263Z"
   },
   {
    "duration": 17,
    "start_time": "2023-04-05T21:30:18.283Z"
   },
   {
    "duration": 3,
    "start_time": "2023-04-05T21:30:18.302Z"
   },
   {
    "duration": 6,
    "start_time": "2023-04-05T21:30:18.337Z"
   },
   {
    "duration": 10,
    "start_time": "2023-04-05T21:30:18.344Z"
   },
   {
    "duration": 4,
    "start_time": "2023-04-05T21:30:18.356Z"
   },
   {
    "duration": 9,
    "start_time": "2023-04-05T21:30:18.362Z"
   },
   {
    "duration": 10,
    "start_time": "2023-04-05T21:30:18.373Z"
   },
   {
    "duration": 280,
    "start_time": "2023-04-05T21:30:18.384Z"
   },
   {
    "duration": 26,
    "start_time": "2023-04-05T21:30:18.666Z"
   },
   {
    "duration": 269,
    "start_time": "2023-04-05T21:30:18.694Z"
   },
   {
    "duration": 5,
    "start_time": "2023-04-05T21:30:18.966Z"
   },
   {
    "duration": 8,
    "start_time": "2023-04-05T21:30:18.972Z"
   },
   {
    "duration": 17,
    "start_time": "2023-04-05T21:30:18.981Z"
   },
   {
    "duration": 69,
    "start_time": "2023-04-05T21:30:19.001Z"
   },
   {
    "duration": 23,
    "start_time": "2023-04-05T21:30:19.071Z"
   },
   {
    "duration": 11,
    "start_time": "2023-04-05T21:30:19.096Z"
   },
   {
    "duration": 65,
    "start_time": "2023-04-05T21:30:19.109Z"
   },
   {
    "duration": 7,
    "start_time": "2023-04-05T21:30:19.175Z"
   },
   {
    "duration": 24,
    "start_time": "2023-04-05T21:30:19.183Z"
   },
   {
    "duration": 2,
    "start_time": "2023-04-05T21:30:19.209Z"
   },
   {
    "duration": 10,
    "start_time": "2023-04-05T21:30:19.213Z"
   },
   {
    "duration": 17,
    "start_time": "2023-04-05T21:30:19.224Z"
   },
   {
    "duration": 4,
    "start_time": "2023-04-05T21:30:19.243Z"
   },
   {
    "duration": 8,
    "start_time": "2023-04-05T21:30:19.249Z"
   },
   {
    "duration": 23,
    "start_time": "2023-04-05T21:30:19.258Z"
   },
   {
    "duration": 20,
    "start_time": "2023-04-05T21:30:19.283Z"
   },
   {
    "duration": 64,
    "start_time": "2023-04-05T21:30:19.305Z"
   },
   {
    "duration": 46,
    "start_time": "2023-04-05T21:30:19.370Z"
   },
   {
    "duration": 17,
    "start_time": "2023-04-05T21:30:19.418Z"
   },
   {
    "duration": 5,
    "start_time": "2023-04-05T21:31:33.092Z"
   },
   {
    "duration": 104,
    "start_time": "2023-04-05T21:32:32.864Z"
   },
   {
    "duration": 85,
    "start_time": "2023-04-05T21:32:42.288Z"
   },
   {
    "duration": 88,
    "start_time": "2023-04-05T21:33:10.090Z"
   },
   {
    "duration": 108,
    "start_time": "2023-04-05T21:33:24.662Z"
   },
   {
    "duration": 84,
    "start_time": "2023-04-05T21:34:03.724Z"
   },
   {
    "duration": 82,
    "start_time": "2023-04-05T21:34:09.488Z"
   },
   {
    "duration": 97,
    "start_time": "2023-04-05T21:35:23.041Z"
   },
   {
    "duration": 6,
    "start_time": "2023-04-05T21:37:57.090Z"
   },
   {
    "duration": 7,
    "start_time": "2023-04-05T21:38:10.220Z"
   },
   {
    "duration": 32,
    "start_time": "2023-04-05T21:38:20.062Z"
   },
   {
    "duration": 9,
    "start_time": "2023-04-05T21:40:29.498Z"
   },
   {
    "duration": 6,
    "start_time": "2023-04-05T21:40:43.812Z"
   },
   {
    "duration": 8,
    "start_time": "2023-04-05T21:40:44.379Z"
   },
   {
    "duration": 118,
    "start_time": "2023-04-05T21:40:50.521Z"
   },
   {
    "duration": 10,
    "start_time": "2023-04-05T21:42:18.650Z"
   },
   {
    "duration": 137,
    "start_time": "2023-04-05T21:42:19.076Z"
   },
   {
    "duration": 5,
    "start_time": "2023-04-05T21:43:16.324Z"
   },
   {
    "duration": 117,
    "start_time": "2023-04-05T21:43:16.934Z"
   },
   {
    "duration": 6,
    "start_time": "2023-04-05T21:43:45.686Z"
   },
   {
    "duration": 125,
    "start_time": "2023-04-05T21:43:46.210Z"
   },
   {
    "duration": 3,
    "start_time": "2023-04-05T21:49:46.588Z"
   },
   {
    "duration": 1027,
    "start_time": "2023-04-05T21:49:46.593Z"
   },
   {
    "duration": 156,
    "start_time": "2023-04-05T21:49:47.622Z"
   },
   {
    "duration": 11,
    "start_time": "2023-04-05T21:49:47.780Z"
   },
   {
    "duration": 23,
    "start_time": "2023-04-05T21:49:47.793Z"
   },
   {
    "duration": 30,
    "start_time": "2023-04-05T21:49:47.818Z"
   },
   {
    "duration": 61,
    "start_time": "2023-04-05T21:49:47.850Z"
   },
   {
    "duration": 81,
    "start_time": "2023-04-05T21:49:47.913Z"
   },
   {
    "duration": 3,
    "start_time": "2023-04-05T21:49:47.996Z"
   },
   {
    "duration": 38,
    "start_time": "2023-04-05T21:49:48.001Z"
   },
   {
    "duration": 24,
    "start_time": "2023-04-05T21:49:48.040Z"
   },
   {
    "duration": 35,
    "start_time": "2023-04-05T21:49:48.065Z"
   },
   {
    "duration": 10,
    "start_time": "2023-04-05T21:49:48.102Z"
   },
   {
    "duration": 51,
    "start_time": "2023-04-05T21:49:48.113Z"
   },
   {
    "duration": 18,
    "start_time": "2023-04-05T21:49:48.166Z"
   },
   {
    "duration": 18,
    "start_time": "2023-04-05T21:49:48.185Z"
   },
   {
    "duration": 3,
    "start_time": "2023-04-05T21:49:48.205Z"
   },
   {
    "duration": 7,
    "start_time": "2023-04-05T21:49:48.234Z"
   },
   {
    "duration": 27,
    "start_time": "2023-04-05T21:49:48.243Z"
   },
   {
    "duration": 9,
    "start_time": "2023-04-05T21:49:48.272Z"
   },
   {
    "duration": 9,
    "start_time": "2023-04-05T21:49:48.282Z"
   },
   {
    "duration": 9,
    "start_time": "2023-04-05T21:49:48.293Z"
   },
   {
    "duration": 312,
    "start_time": "2023-04-05T21:49:48.304Z"
   },
   {
    "duration": 33,
    "start_time": "2023-04-05T21:49:48.618Z"
   },
   {
    "duration": 242,
    "start_time": "2023-04-05T21:49:48.653Z"
   },
   {
    "duration": 5,
    "start_time": "2023-04-05T21:49:48.896Z"
   },
   {
    "duration": 5,
    "start_time": "2023-04-05T21:49:48.903Z"
   },
   {
    "duration": 23,
    "start_time": "2023-04-05T21:49:48.911Z"
   },
   {
    "duration": 41,
    "start_time": "2023-04-05T21:49:48.936Z"
   },
   {
    "duration": 21,
    "start_time": "2023-04-05T21:49:48.978Z"
   },
   {
    "duration": 8,
    "start_time": "2023-04-05T21:49:49.000Z"
   },
   {
    "duration": 67,
    "start_time": "2023-04-05T21:49:49.010Z"
   },
   {
    "duration": 6,
    "start_time": "2023-04-05T21:49:49.079Z"
   },
   {
    "duration": 13,
    "start_time": "2023-04-05T21:49:49.086Z"
   },
   {
    "duration": 2,
    "start_time": "2023-04-05T21:49:49.101Z"
   },
   {
    "duration": 32,
    "start_time": "2023-04-05T21:49:49.105Z"
   },
   {
    "duration": 9,
    "start_time": "2023-04-05T21:49:49.139Z"
   },
   {
    "duration": 5,
    "start_time": "2023-04-05T21:49:49.150Z"
   },
   {
    "duration": 5,
    "start_time": "2023-04-05T21:49:49.156Z"
   },
   {
    "duration": 15,
    "start_time": "2023-04-05T21:49:49.163Z"
   },
   {
    "duration": 57,
    "start_time": "2023-04-05T21:49:49.180Z"
   },
   {
    "duration": 47,
    "start_time": "2023-04-05T21:49:49.239Z"
   },
   {
    "duration": 4,
    "start_time": "2023-04-05T21:49:49.287Z"
   },
   {
    "duration": 104,
    "start_time": "2023-04-05T21:49:49.293Z"
   },
   {
    "duration": 6,
    "start_time": "2023-04-05T21:49:49.398Z"
   },
   {
    "duration": 134,
    "start_time": "2023-04-05T21:49:49.405Z"
   },
   {
    "duration": 124,
    "start_time": "2023-04-05T21:52:56.724Z"
   },
   {
    "duration": 124,
    "start_time": "2023-04-05T21:55:48.005Z"
   },
   {
    "duration": 119,
    "start_time": "2023-04-05T21:56:29.318Z"
   },
   {
    "duration": 71,
    "start_time": "2023-04-05T21:57:39.524Z"
   },
   {
    "duration": 96,
    "start_time": "2023-04-05T21:59:50.045Z"
   },
   {
    "duration": 18,
    "start_time": "2023-04-05T22:00:20.229Z"
   },
   {
    "duration": 23,
    "start_time": "2023-04-05T22:02:19.303Z"
   },
   {
    "duration": 22,
    "start_time": "2023-04-05T22:03:00.003Z"
   },
   {
    "duration": 122,
    "start_time": "2023-04-05T22:03:38.017Z"
   },
   {
    "duration": 117,
    "start_time": "2023-04-05T22:04:27.006Z"
   },
   {
    "duration": 6,
    "start_time": "2023-04-05T22:06:30.629Z"
   },
   {
    "duration": 123,
    "start_time": "2023-04-05T22:06:31.679Z"
   },
   {
    "duration": 121,
    "start_time": "2023-04-05T22:06:45.428Z"
   },
   {
    "duration": 129,
    "start_time": "2023-04-05T22:06:48.697Z"
   },
   {
    "duration": 17,
    "start_time": "2023-04-05T22:06:50.748Z"
   },
   {
    "duration": 131,
    "start_time": "2023-04-05T22:06:51.385Z"
   },
   {
    "duration": 121,
    "start_time": "2023-04-05T22:20:34.849Z"
   },
   {
    "duration": 137,
    "start_time": "2023-04-05T22:20:45.695Z"
   },
   {
    "duration": 132,
    "start_time": "2023-04-05T22:21:02.019Z"
   },
   {
    "duration": 141,
    "start_time": "2023-04-05T22:22:02.942Z"
   },
   {
    "duration": 129,
    "start_time": "2023-04-05T22:22:04.820Z"
   },
   {
    "duration": 128,
    "start_time": "2023-04-05T22:22:08.676Z"
   },
   {
    "duration": 125,
    "start_time": "2023-04-05T22:22:13.208Z"
   },
   {
    "duration": 120,
    "start_time": "2023-04-05T22:22:36.859Z"
   },
   {
    "duration": 3,
    "start_time": "2023-04-05T22:38:03.775Z"
   },
   {
    "duration": 1096,
    "start_time": "2023-04-05T22:38:03.783Z"
   },
   {
    "duration": 157,
    "start_time": "2023-04-05T22:38:04.881Z"
   },
   {
    "duration": 10,
    "start_time": "2023-04-05T22:38:05.040Z"
   },
   {
    "duration": 35,
    "start_time": "2023-04-05T22:38:05.052Z"
   },
   {
    "duration": 15,
    "start_time": "2023-04-05T22:38:05.089Z"
   },
   {
    "duration": 83,
    "start_time": "2023-04-05T22:38:05.106Z"
   },
   {
    "duration": 77,
    "start_time": "2023-04-05T22:38:05.190Z"
   },
   {
    "duration": 3,
    "start_time": "2023-04-05T22:38:05.269Z"
   },
   {
    "duration": 63,
    "start_time": "2023-04-05T22:38:05.274Z"
   },
   {
    "duration": 33,
    "start_time": "2023-04-05T22:38:05.339Z"
   },
   {
    "duration": 53,
    "start_time": "2023-04-05T22:38:05.374Z"
   },
   {
    "duration": 11,
    "start_time": "2023-04-05T22:38:05.428Z"
   },
   {
    "duration": 54,
    "start_time": "2023-04-05T22:38:05.440Z"
   },
   {
    "duration": 28,
    "start_time": "2023-04-05T22:38:05.496Z"
   },
   {
    "duration": 18,
    "start_time": "2023-04-05T22:38:05.525Z"
   },
   {
    "duration": 13,
    "start_time": "2023-04-05T22:38:05.545Z"
   },
   {
    "duration": 23,
    "start_time": "2023-04-05T22:38:05.559Z"
   },
   {
    "duration": 26,
    "start_time": "2023-04-05T22:38:05.584Z"
   },
   {
    "duration": 24,
    "start_time": "2023-04-05T22:38:05.611Z"
   },
   {
    "duration": 20,
    "start_time": "2023-04-05T22:38:05.636Z"
   },
   {
    "duration": 32,
    "start_time": "2023-04-05T22:38:05.658Z"
   },
   {
    "duration": 294,
    "start_time": "2023-04-05T22:38:05.692Z"
   },
   {
    "duration": 27,
    "start_time": "2023-04-05T22:38:05.988Z"
   },
   {
    "duration": 264,
    "start_time": "2023-04-05T22:38:06.016Z"
   },
   {
    "duration": 5,
    "start_time": "2023-04-05T22:38:06.282Z"
   },
   {
    "duration": 10,
    "start_time": "2023-04-05T22:38:06.289Z"
   },
   {
    "duration": 22,
    "start_time": "2023-04-05T22:38:06.300Z"
   },
   {
    "duration": 43,
    "start_time": "2023-04-05T22:38:06.334Z"
   },
   {
    "duration": 21,
    "start_time": "2023-04-05T22:38:06.379Z"
   },
   {
    "duration": 25,
    "start_time": "2023-04-05T22:38:06.402Z"
   },
   {
    "duration": 67,
    "start_time": "2023-04-05T22:38:06.429Z"
   },
   {
    "duration": 6,
    "start_time": "2023-04-05T22:38:06.497Z"
   },
   {
    "duration": 35,
    "start_time": "2023-04-05T22:38:06.504Z"
   },
   {
    "duration": 24,
    "start_time": "2023-04-05T22:38:06.540Z"
   },
   {
    "duration": 33,
    "start_time": "2023-04-05T22:38:06.565Z"
   },
   {
    "duration": 18,
    "start_time": "2023-04-05T22:38:06.599Z"
   },
   {
    "duration": 16,
    "start_time": "2023-04-05T22:38:06.618Z"
   },
   {
    "duration": 16,
    "start_time": "2023-04-05T22:38:06.635Z"
   },
   {
    "duration": 25,
    "start_time": "2023-04-05T22:38:06.652Z"
   },
   {
    "duration": 58,
    "start_time": "2023-04-05T22:38:06.679Z"
   },
   {
    "duration": 48,
    "start_time": "2023-04-05T22:38:06.739Z"
   },
   {
    "duration": 5,
    "start_time": "2023-04-05T22:38:06.789Z"
   },
   {
    "duration": 102,
    "start_time": "2023-04-05T22:38:06.796Z"
   },
   {
    "duration": 6,
    "start_time": "2023-04-05T22:38:06.900Z"
   },
   {
    "duration": 133,
    "start_time": "2023-04-05T22:38:06.908Z"
   },
   {
    "duration": 132,
    "start_time": "2023-04-05T22:38:07.043Z"
   },
   {
    "duration": 132,
    "start_time": "2023-04-05T22:38:07.176Z"
   },
   {
    "duration": 28,
    "start_time": "2023-04-05T22:38:07.309Z"
   },
   {
    "duration": 128,
    "start_time": "2023-04-05T22:38:07.339Z"
   },
   {
    "duration": 126,
    "start_time": "2023-04-05T22:38:07.469Z"
   },
   {
    "duration": 129,
    "start_time": "2023-04-05T22:38:07.596Z"
   },
   {
    "duration": 130,
    "start_time": "2023-04-05T22:38:07.734Z"
   },
   {
    "duration": 3,
    "start_time": "2023-04-06T04:51:46.587Z"
   },
   {
    "duration": 7479,
    "start_time": "2023-04-06T04:51:46.592Z"
   },
   {
    "duration": 1604,
    "start_time": "2023-04-06T04:51:54.078Z"
   },
   {
    "duration": 93,
    "start_time": "2023-04-06T04:51:55.695Z"
   },
   {
    "duration": 396,
    "start_time": "2023-04-06T04:51:55.893Z"
   },
   {
    "duration": 210,
    "start_time": "2023-04-06T04:51:56.373Z"
   },
   {
    "duration": 690,
    "start_time": "2023-04-06T04:51:56.587Z"
   },
   {
    "duration": 693,
    "start_time": "2023-04-06T04:51:57.279Z"
   },
   {
    "duration": 18,
    "start_time": "2023-04-06T04:51:57.975Z"
   },
   {
    "duration": 519,
    "start_time": "2023-04-06T04:51:58.072Z"
   },
   {
    "duration": 504,
    "start_time": "2023-04-06T04:51:58.677Z"
   },
   {
    "duration": 589,
    "start_time": "2023-04-06T04:51:59.192Z"
   },
   {
    "duration": 106,
    "start_time": "2023-04-06T04:51:59.783Z"
   },
   {
    "duration": 414,
    "start_time": "2023-04-06T04:51:59.974Z"
   },
   {
    "duration": 575,
    "start_time": "2023-04-06T04:52:00.396Z"
   },
   {
    "duration": 319,
    "start_time": "2023-04-06T04:52:00.977Z"
   },
   {
    "duration": 208,
    "start_time": "2023-04-06T04:52:01.381Z"
   },
   {
    "duration": 187,
    "start_time": "2023-04-06T04:52:01.590Z"
   },
   {
    "duration": 198,
    "start_time": "2023-04-06T04:52:01.782Z"
   },
   {
    "duration": 193,
    "start_time": "2023-04-06T04:52:01.984Z"
   },
   {
    "duration": 497,
    "start_time": "2023-04-06T04:52:02.178Z"
   },
   {
    "duration": 506,
    "start_time": "2023-04-06T04:52:02.676Z"
   },
   {
    "duration": 2798,
    "start_time": "2023-04-06T04:52:03.183Z"
   },
   {
    "duration": 207,
    "start_time": "2023-04-06T04:52:05.987Z"
   },
   {
    "duration": 1989,
    "start_time": "2023-04-06T04:52:06.196Z"
   },
   {
    "duration": 101,
    "start_time": "2023-04-06T04:52:08.187Z"
   },
   {
    "duration": 294,
    "start_time": "2023-04-06T04:52:08.290Z"
   },
   {
    "duration": 502,
    "start_time": "2023-04-06T04:52:08.586Z"
   },
   {
    "duration": 496,
    "start_time": "2023-04-06T04:52:09.093Z"
   },
   {
    "duration": 308,
    "start_time": "2023-04-06T04:52:09.673Z"
   },
   {
    "duration": 285,
    "start_time": "2023-04-06T04:52:09.990Z"
   },
   {
    "duration": 799,
    "start_time": "2023-04-06T04:52:10.279Z"
   },
   {
    "duration": 104,
    "start_time": "2023-04-06T04:52:11.083Z"
   },
   {
    "duration": 597,
    "start_time": "2023-04-06T04:52:11.188Z"
   },
   {
    "duration": 287,
    "start_time": "2023-04-06T04:52:11.787Z"
   },
   {
    "duration": 400,
    "start_time": "2023-04-06T04:52:12.075Z"
   },
   {
    "duration": 208,
    "start_time": "2023-04-06T04:52:12.477Z"
   },
   {
    "duration": 310,
    "start_time": "2023-04-06T04:52:12.772Z"
   },
   {
    "duration": 96,
    "start_time": "2023-04-06T04:52:13.083Z"
   },
   {
    "duration": 408,
    "start_time": "2023-04-06T04:52:13.180Z"
   },
   {
    "duration": 696,
    "start_time": "2023-04-06T04:52:13.675Z"
   },
   {
    "duration": 608,
    "start_time": "2023-04-06T04:52:14.373Z"
   },
   {
    "duration": 101,
    "start_time": "2023-04-06T04:52:14.989Z"
   },
   {
    "duration": 919,
    "start_time": "2023-04-06T04:52:15.174Z"
   },
   {
    "duration": 106,
    "start_time": "2023-04-06T04:52:16.172Z"
   },
   {
    "duration": 1602,
    "start_time": "2023-04-06T04:52:16.283Z"
   },
   {
    "duration": 1394,
    "start_time": "2023-04-06T04:52:17.890Z"
   },
   {
    "duration": 1392,
    "start_time": "2023-04-06T04:52:19.289Z"
   },
   {
    "duration": 181,
    "start_time": "2023-04-06T04:52:20.690Z"
   },
   {
    "duration": 1612,
    "start_time": "2023-04-06T04:52:20.881Z"
   },
   {
    "duration": 1195,
    "start_time": "2023-04-06T04:52:22.582Z"
   },
   {
    "duration": 1220,
    "start_time": "2023-04-06T04:52:23.871Z"
   },
   {
    "duration": 1697,
    "start_time": "2023-04-06T04:52:25.178Z"
   },
   {
    "duration": 106,
    "start_time": "2023-04-06T09:22:48.538Z"
   },
   {
    "duration": 8,
    "start_time": "2023-04-06T09:22:59.623Z"
   },
   {
    "duration": 4,
    "start_time": "2023-04-06T09:23:08.200Z"
   },
   {
    "duration": 1740,
    "start_time": "2023-04-06T09:23:08.206Z"
   },
   {
    "duration": 1155,
    "start_time": "2023-04-06T09:23:09.948Z"
   },
   {
    "duration": 10,
    "start_time": "2023-04-06T09:23:11.105Z"
   },
   {
    "duration": 20,
    "start_time": "2023-04-06T09:23:11.117Z"
   },
   {
    "duration": 37,
    "start_time": "2023-04-06T09:23:11.138Z"
   },
   {
    "duration": 92,
    "start_time": "2023-04-06T09:23:11.177Z"
   },
   {
    "duration": 103,
    "start_time": "2023-04-06T09:23:11.273Z"
   },
   {
    "duration": 5,
    "start_time": "2023-04-06T09:23:11.384Z"
   },
   {
    "duration": 32,
    "start_time": "2023-04-06T09:23:11.393Z"
   },
   {
    "duration": 47,
    "start_time": "2023-04-06T09:23:11.428Z"
   },
   {
    "duration": 58,
    "start_time": "2023-04-06T09:23:11.477Z"
   },
   {
    "duration": 19,
    "start_time": "2023-04-06T09:23:11.537Z"
   },
   {
    "duration": 56,
    "start_time": "2023-04-06T09:23:11.558Z"
   },
   {
    "duration": 20,
    "start_time": "2023-04-06T09:23:11.616Z"
   },
   {
    "duration": 42,
    "start_time": "2023-04-06T09:23:11.649Z"
   },
   {
    "duration": 3,
    "start_time": "2023-04-06T09:23:11.692Z"
   },
   {
    "duration": 13,
    "start_time": "2023-04-06T09:23:11.701Z"
   },
   {
    "duration": 13,
    "start_time": "2023-04-06T09:23:11.719Z"
   },
   {
    "duration": 31,
    "start_time": "2023-04-06T09:23:11.734Z"
   },
   {
    "duration": 5,
    "start_time": "2023-04-06T09:23:11.767Z"
   },
   {
    "duration": 9,
    "start_time": "2023-04-06T09:23:11.774Z"
   },
   {
    "duration": 8,
    "start_time": "2023-04-06T09:23:11.785Z"
   },
   {
    "duration": 440,
    "start_time": "2023-04-06T09:23:11.795Z"
   },
   {
    "duration": 42,
    "start_time": "2023-04-06T09:23:12.248Z"
   },
   {
    "duration": 328,
    "start_time": "2023-04-06T09:23:12.293Z"
   },
   {
    "duration": 6,
    "start_time": "2023-04-06T09:23:12.623Z"
   },
   {
    "duration": 31,
    "start_time": "2023-04-06T09:23:12.631Z"
   },
   {
    "duration": 36,
    "start_time": "2023-04-06T09:23:12.676Z"
   },
   {
    "duration": 70,
    "start_time": "2023-04-06T09:23:12.714Z"
   },
   {
    "duration": 32,
    "start_time": "2023-04-06T09:23:12.786Z"
   },
   {
    "duration": 6,
    "start_time": "2023-04-06T09:23:12.820Z"
   },
   {
    "duration": 88,
    "start_time": "2023-04-06T09:23:12.828Z"
   },
   {
    "duration": 7,
    "start_time": "2023-04-06T09:23:12.919Z"
   },
   {
    "duration": 55,
    "start_time": "2023-04-06T09:23:12.927Z"
   },
   {
    "duration": 10,
    "start_time": "2023-04-06T09:23:12.995Z"
   },
   {
    "duration": 8,
    "start_time": "2023-04-06T09:23:13.007Z"
   },
   {
    "duration": 15,
    "start_time": "2023-04-06T09:23:13.016Z"
   },
   {
    "duration": 4,
    "start_time": "2023-04-06T09:23:13.032Z"
   },
   {
    "duration": 15,
    "start_time": "2023-04-06T09:23:13.037Z"
   },
   {
    "duration": 30,
    "start_time": "2023-04-06T09:23:13.053Z"
   },
   {
    "duration": 52,
    "start_time": "2023-04-06T09:23:13.085Z"
   },
   {
    "duration": 77,
    "start_time": "2023-04-06T09:23:13.138Z"
   },
   {
    "duration": 4,
    "start_time": "2023-04-06T09:23:13.217Z"
   },
   {
    "duration": 126,
    "start_time": "2023-04-06T09:23:13.222Z"
   },
   {
    "duration": 8,
    "start_time": "2023-04-06T09:23:13.350Z"
   },
   {
    "duration": 221,
    "start_time": "2023-04-06T09:23:13.360Z"
   },
   {
    "duration": 213,
    "start_time": "2023-04-06T09:23:13.583Z"
   },
   {
    "duration": 168,
    "start_time": "2023-04-06T09:23:13.800Z"
   },
   {
    "duration": 29,
    "start_time": "2023-04-06T09:23:13.971Z"
   },
   {
    "duration": 188,
    "start_time": "2023-04-06T09:23:14.002Z"
   },
   {
    "duration": 172,
    "start_time": "2023-04-06T09:23:14.192Z"
   },
   {
    "duration": 170,
    "start_time": "2023-04-06T09:23:14.372Z"
   },
   {
    "duration": 177,
    "start_time": "2023-04-06T09:23:14.544Z"
   },
   {
    "duration": 36,
    "start_time": "2023-04-06T09:28:54.297Z"
   },
   {
    "duration": 34,
    "start_time": "2023-04-06T09:29:32.286Z"
   },
   {
    "duration": 38,
    "start_time": "2023-04-06T09:29:38.086Z"
   },
   {
    "duration": 45,
    "start_time": "2023-04-06T09:30:22.086Z"
   },
   {
    "duration": 28,
    "start_time": "2023-04-06T09:31:29.810Z"
   },
   {
    "duration": 28,
    "start_time": "2023-04-06T09:31:47.611Z"
   },
   {
    "duration": 48,
    "start_time": "2023-04-06T11:43:25.800Z"
   },
   {
    "duration": 4,
    "start_time": "2023-04-06T11:43:40.531Z"
   },
   {
    "duration": 1380,
    "start_time": "2023-04-06T11:43:40.537Z"
   },
   {
    "duration": 708,
    "start_time": "2023-04-06T11:43:41.920Z"
   },
   {
    "duration": 9,
    "start_time": "2023-04-06T11:43:42.630Z"
   },
   {
    "duration": 18,
    "start_time": "2023-04-06T11:43:42.640Z"
   },
   {
    "duration": 12,
    "start_time": "2023-04-06T11:43:42.659Z"
   },
   {
    "duration": 69,
    "start_time": "2023-04-06T11:43:42.672Z"
   },
   {
    "duration": 61,
    "start_time": "2023-04-06T11:43:42.742Z"
   },
   {
    "duration": 3,
    "start_time": "2023-04-06T11:43:42.806Z"
   },
   {
    "duration": 32,
    "start_time": "2023-04-06T11:43:42.810Z"
   },
   {
    "duration": 21,
    "start_time": "2023-04-06T11:43:42.843Z"
   },
   {
    "duration": 34,
    "start_time": "2023-04-06T11:43:42.865Z"
   },
   {
    "duration": 8,
    "start_time": "2023-04-06T11:43:42.901Z"
   },
   {
    "duration": 39,
    "start_time": "2023-04-06T11:43:42.910Z"
   },
   {
    "duration": 17,
    "start_time": "2023-04-06T11:43:42.950Z"
   },
   {
    "duration": 16,
    "start_time": "2023-04-06T11:43:42.969Z"
   },
   {
    "duration": 3,
    "start_time": "2023-04-06T11:43:42.986Z"
   },
   {
    "duration": 6,
    "start_time": "2023-04-06T11:43:42.990Z"
   },
   {
    "duration": 7,
    "start_time": "2023-04-06T11:43:42.997Z"
   },
   {
    "duration": 45,
    "start_time": "2023-04-06T11:43:43.005Z"
   },
   {
    "duration": 3,
    "start_time": "2023-04-06T11:43:43.052Z"
   },
   {
    "duration": 9,
    "start_time": "2023-04-06T11:43:43.057Z"
   },
   {
    "duration": 11,
    "start_time": "2023-04-06T11:43:43.068Z"
   },
   {
    "duration": 274,
    "start_time": "2023-04-06T11:43:43.083Z"
   },
   {
    "duration": 24,
    "start_time": "2023-04-06T11:43:43.358Z"
   },
   {
    "duration": 226,
    "start_time": "2023-04-06T11:43:43.384Z"
   },
   {
    "duration": 5,
    "start_time": "2023-04-06T11:43:43.611Z"
   },
   {
    "duration": 4,
    "start_time": "2023-04-06T11:43:43.617Z"
   },
   {
    "duration": 23,
    "start_time": "2023-04-06T11:43:43.622Z"
   },
   {
    "duration": 40,
    "start_time": "2023-04-06T11:43:43.647Z"
   },
   {
    "duration": 19,
    "start_time": "2023-04-06T11:43:43.689Z"
   },
   {
    "duration": 33,
    "start_time": "2023-04-06T11:43:43.710Z"
   },
   {
    "duration": 15,
    "start_time": "2023-04-06T11:43:43.744Z"
   },
   {
    "duration": 17,
    "start_time": "2023-04-06T11:43:43.761Z"
   },
   {
    "duration": 6,
    "start_time": "2023-04-06T11:43:43.780Z"
   },
   {
    "duration": 81,
    "start_time": "2023-04-06T11:43:43.788Z"
   },
   {
    "duration": 7,
    "start_time": "2023-04-06T11:43:43.870Z"
   },
   {
    "duration": 14,
    "start_time": "2023-04-06T11:43:43.878Z"
   },
   {
    "duration": 2,
    "start_time": "2023-04-06T11:43:43.893Z"
   },
   {
    "duration": 8,
    "start_time": "2023-04-06T11:43:43.896Z"
   },
   {
    "duration": 18,
    "start_time": "2023-04-06T11:43:43.905Z"
   },
   {
    "duration": 3,
    "start_time": "2023-04-06T11:43:43.925Z"
   },
   {
    "duration": 4,
    "start_time": "2023-04-06T11:43:43.929Z"
   },
   {
    "duration": 15,
    "start_time": "2023-04-06T11:43:43.934Z"
   },
   {
    "duration": 36,
    "start_time": "2023-04-06T11:43:43.951Z"
   },
   {
    "duration": 57,
    "start_time": "2023-04-06T11:43:43.988Z"
   },
   {
    "duration": 4,
    "start_time": "2023-04-06T11:43:44.046Z"
   },
   {
    "duration": 90,
    "start_time": "2023-04-06T11:43:44.052Z"
   },
   {
    "duration": 6,
    "start_time": "2023-04-06T11:43:44.144Z"
   },
   {
    "duration": 140,
    "start_time": "2023-04-06T11:43:44.152Z"
   },
   {
    "duration": 128,
    "start_time": "2023-04-06T11:43:44.294Z"
   },
   {
    "duration": 137,
    "start_time": "2023-04-06T11:43:44.424Z"
   },
   {
    "duration": 14,
    "start_time": "2023-04-06T11:43:44.563Z"
   },
   {
    "duration": 150,
    "start_time": "2023-04-06T11:43:44.578Z"
   },
   {
    "duration": 132,
    "start_time": "2023-04-06T11:43:44.730Z"
   },
   {
    "duration": 132,
    "start_time": "2023-04-06T11:43:44.863Z"
   },
   {
    "duration": 142,
    "start_time": "2023-04-06T11:43:44.997Z"
   },
   {
    "duration": 20,
    "start_time": "2023-04-06T14:32:32.587Z"
   },
   {
    "duration": 128,
    "start_time": "2023-04-06T14:46:16.654Z"
   },
   {
    "duration": 251,
    "start_time": "2023-04-06T14:47:36.840Z"
   },
   {
    "duration": 111,
    "start_time": "2023-04-06T14:47:45.937Z"
   },
   {
    "duration": 155,
    "start_time": "2023-04-06T14:47:56.588Z"
   },
   {
    "duration": 124,
    "start_time": "2023-04-06T14:48:10.490Z"
   },
   {
    "duration": 119,
    "start_time": "2023-04-06T14:48:10.881Z"
   },
   {
    "duration": 128,
    "start_time": "2023-04-06T14:48:21.178Z"
   },
   {
    "duration": 20,
    "start_time": "2023-04-06T14:48:51.878Z"
   },
   {
    "duration": 160,
    "start_time": "2023-04-06T14:48:59.688Z"
   },
   {
    "duration": 122,
    "start_time": "2023-04-06T14:49:16.846Z"
   },
   {
    "duration": 23,
    "start_time": "2023-04-06T14:49:26.856Z"
   },
   {
    "duration": 124,
    "start_time": "2023-04-06T14:49:34.632Z"
   },
   {
    "duration": 2,
    "start_time": "2023-04-06T14:49:56.193Z"
   },
   {
    "duration": 2,
    "start_time": "2023-04-06T15:02:00.197Z"
   },
   {
    "duration": 5,
    "start_time": "2023-04-06T15:02:09.249Z"
   },
   {
    "duration": 22,
    "start_time": "2023-04-06T15:02:53.151Z"
   },
   {
    "duration": 1688,
    "start_time": "2023-04-06T15:03:17.595Z"
   },
   {
    "duration": 3,
    "start_time": "2023-04-06T15:05:26.805Z"
   },
   {
    "duration": 13,
    "start_time": "2023-04-06T15:05:27.715Z"
   },
   {
    "duration": 201,
    "start_time": "2023-04-06T15:05:28.755Z"
   },
   {
    "duration": 3,
    "start_time": "2023-04-06T15:13:36.954Z"
   },
   {
    "duration": 1131,
    "start_time": "2023-04-06T15:13:36.959Z"
   },
   {
    "duration": 147,
    "start_time": "2023-04-06T15:13:38.091Z"
   },
   {
    "duration": 12,
    "start_time": "2023-04-06T15:13:38.240Z"
   },
   {
    "duration": 19,
    "start_time": "2023-04-06T15:13:38.254Z"
   },
   {
    "duration": 14,
    "start_time": "2023-04-06T15:13:38.274Z"
   },
   {
    "duration": 88,
    "start_time": "2023-04-06T15:13:38.289Z"
   },
   {
    "duration": 79,
    "start_time": "2023-04-06T15:13:38.379Z"
   },
   {
    "duration": 4,
    "start_time": "2023-04-06T15:13:38.459Z"
   },
   {
    "duration": 19,
    "start_time": "2023-04-06T15:13:38.464Z"
   },
   {
    "duration": 21,
    "start_time": "2023-04-06T15:13:38.485Z"
   },
   {
    "duration": 58,
    "start_time": "2023-04-06T15:13:38.508Z"
   },
   {
    "duration": 11,
    "start_time": "2023-04-06T15:13:38.568Z"
   },
   {
    "duration": 24,
    "start_time": "2023-04-06T15:13:38.582Z"
   },
   {
    "duration": 38,
    "start_time": "2023-04-06T15:13:38.608Z"
   },
   {
    "duration": 20,
    "start_time": "2023-04-06T15:13:38.648Z"
   },
   {
    "duration": 5,
    "start_time": "2023-04-06T15:13:38.669Z"
   },
   {
    "duration": 5,
    "start_time": "2023-04-06T15:13:38.675Z"
   },
   {
    "duration": 2,
    "start_time": "2023-04-06T15:13:38.681Z"
   },
   {
    "duration": 17,
    "start_time": "2023-04-06T15:13:38.684Z"
   },
   {
    "duration": 3,
    "start_time": "2023-04-06T15:13:38.703Z"
   },
   {
    "duration": 40,
    "start_time": "2023-04-06T15:13:38.707Z"
   },
   {
    "duration": 5,
    "start_time": "2023-04-06T15:13:38.748Z"
   },
   {
    "duration": 291,
    "start_time": "2023-04-06T15:13:38.755Z"
   },
   {
    "duration": 2,
    "start_time": "2023-04-06T15:13:39.048Z"
   },
   {
    "duration": 112,
    "start_time": "2023-04-06T15:13:39.052Z"
   },
   {
    "duration": 0,
    "start_time": "2023-04-06T15:13:39.166Z"
   },
   {
    "duration": 0,
    "start_time": "2023-04-06T15:13:39.167Z"
   },
   {
    "duration": 0,
    "start_time": "2023-04-06T15:13:39.169Z"
   },
   {
    "duration": 0,
    "start_time": "2023-04-06T15:13:39.170Z"
   },
   {
    "duration": 0,
    "start_time": "2023-04-06T15:13:39.171Z"
   },
   {
    "duration": 0,
    "start_time": "2023-04-06T15:13:39.172Z"
   },
   {
    "duration": 0,
    "start_time": "2023-04-06T15:13:39.174Z"
   },
   {
    "duration": 0,
    "start_time": "2023-04-06T15:13:39.175Z"
   },
   {
    "duration": 0,
    "start_time": "2023-04-06T15:13:39.177Z"
   },
   {
    "duration": 0,
    "start_time": "2023-04-06T15:13:39.178Z"
   },
   {
    "duration": 0,
    "start_time": "2023-04-06T15:13:39.179Z"
   },
   {
    "duration": 0,
    "start_time": "2023-04-06T15:13:39.180Z"
   },
   {
    "duration": 0,
    "start_time": "2023-04-06T15:13:39.182Z"
   },
   {
    "duration": 0,
    "start_time": "2023-04-06T15:13:39.183Z"
   },
   {
    "duration": 0,
    "start_time": "2023-04-06T15:13:39.184Z"
   },
   {
    "duration": 1,
    "start_time": "2023-04-06T15:13:39.185Z"
   },
   {
    "duration": 0,
    "start_time": "2023-04-06T15:13:39.187Z"
   },
   {
    "duration": 0,
    "start_time": "2023-04-06T15:13:39.188Z"
   },
   {
    "duration": 0,
    "start_time": "2023-04-06T15:13:39.190Z"
   },
   {
    "duration": 0,
    "start_time": "2023-04-06T15:13:39.191Z"
   },
   {
    "duration": 0,
    "start_time": "2023-04-06T15:13:39.192Z"
   },
   {
    "duration": 0,
    "start_time": "2023-04-06T15:13:39.193Z"
   },
   {
    "duration": 0,
    "start_time": "2023-04-06T15:13:39.195Z"
   },
   {
    "duration": 0,
    "start_time": "2023-04-06T15:13:39.196Z"
   },
   {
    "duration": 0,
    "start_time": "2023-04-06T15:13:39.241Z"
   },
   {
    "duration": 0,
    "start_time": "2023-04-06T15:13:39.242Z"
   },
   {
    "duration": 0,
    "start_time": "2023-04-06T15:13:39.243Z"
   },
   {
    "duration": 0,
    "start_time": "2023-04-06T15:13:39.245Z"
   },
   {
    "duration": 0,
    "start_time": "2023-04-06T15:13:39.246Z"
   },
   {
    "duration": 0,
    "start_time": "2023-04-06T15:13:39.247Z"
   },
   {
    "duration": 0,
    "start_time": "2023-04-06T15:13:39.249Z"
   },
   {
    "duration": 0,
    "start_time": "2023-04-06T15:13:39.250Z"
   },
   {
    "duration": 0,
    "start_time": "2023-04-06T15:13:39.252Z"
   },
   {
    "duration": 0,
    "start_time": "2023-04-06T15:13:39.253Z"
   },
   {
    "duration": 10,
    "start_time": "2023-04-06T15:14:30.320Z"
   },
   {
    "duration": 232,
    "start_time": "2023-04-06T15:14:31.616Z"
   },
   {
    "duration": 3,
    "start_time": "2023-04-06T15:14:50.289Z"
   },
   {
    "duration": 1057,
    "start_time": "2023-04-06T15:14:50.294Z"
   },
   {
    "duration": 154,
    "start_time": "2023-04-06T15:14:51.354Z"
   },
   {
    "duration": 11,
    "start_time": "2023-04-06T15:14:51.510Z"
   },
   {
    "duration": 30,
    "start_time": "2023-04-06T15:14:51.523Z"
   },
   {
    "duration": 13,
    "start_time": "2023-04-06T15:14:51.555Z"
   },
   {
    "duration": 72,
    "start_time": "2023-04-06T15:14:51.569Z"
   },
   {
    "duration": 68,
    "start_time": "2023-04-06T15:14:51.644Z"
   },
   {
    "duration": 4,
    "start_time": "2023-04-06T15:14:51.713Z"
   },
   {
    "duration": 46,
    "start_time": "2023-04-06T15:14:51.718Z"
   },
   {
    "duration": 22,
    "start_time": "2023-04-06T15:14:51.766Z"
   },
   {
    "duration": 44,
    "start_time": "2023-04-06T15:14:51.790Z"
   },
   {
    "duration": 9,
    "start_time": "2023-04-06T15:14:51.835Z"
   },
   {
    "duration": 46,
    "start_time": "2023-04-06T15:14:51.846Z"
   },
   {
    "duration": 29,
    "start_time": "2023-04-06T15:14:51.894Z"
   },
   {
    "duration": 31,
    "start_time": "2023-04-06T15:14:51.925Z"
   },
   {
    "duration": 5,
    "start_time": "2023-04-06T15:14:51.958Z"
   },
   {
    "duration": 22,
    "start_time": "2023-04-06T15:14:51.965Z"
   },
   {
    "duration": 24,
    "start_time": "2023-04-06T15:14:51.989Z"
   },
   {
    "duration": 42,
    "start_time": "2023-04-06T15:14:52.015Z"
   },
   {
    "duration": 15,
    "start_time": "2023-04-06T15:14:52.059Z"
   },
   {
    "duration": 18,
    "start_time": "2023-04-06T15:14:52.076Z"
   },
   {
    "duration": 8,
    "start_time": "2023-04-06T15:14:52.096Z"
   },
   {
    "duration": 282,
    "start_time": "2023-04-06T15:14:52.105Z"
   },
   {
    "duration": 2,
    "start_time": "2023-04-06T15:14:52.389Z"
   },
   {
    "duration": 38,
    "start_time": "2023-04-06T15:14:52.393Z"
   },
   {
    "duration": 210,
    "start_time": "2023-04-06T15:14:52.433Z"
   },
   {
    "duration": 28,
    "start_time": "2023-04-06T15:14:52.645Z"
   },
   {
    "duration": 243,
    "start_time": "2023-04-06T15:14:52.677Z"
   },
   {
    "duration": 4,
    "start_time": "2023-04-06T15:14:52.922Z"
   },
   {
    "duration": 27,
    "start_time": "2023-04-06T15:14:52.927Z"
   },
   {
    "duration": 22,
    "start_time": "2023-04-06T15:14:52.956Z"
   },
   {
    "duration": 51,
    "start_time": "2023-04-06T15:14:52.980Z"
   },
   {
    "duration": 21,
    "start_time": "2023-04-06T15:14:53.032Z"
   },
   {
    "duration": 18,
    "start_time": "2023-04-06T15:14:53.055Z"
   },
   {
    "duration": 16,
    "start_time": "2023-04-06T15:14:53.075Z"
   },
   {
    "duration": 34,
    "start_time": "2023-04-06T15:14:53.092Z"
   },
   {
    "duration": 19,
    "start_time": "2023-04-06T15:14:53.128Z"
   },
   {
    "duration": 61,
    "start_time": "2023-04-06T15:14:53.149Z"
   },
   {
    "duration": 6,
    "start_time": "2023-04-06T15:14:53.212Z"
   },
   {
    "duration": 30,
    "start_time": "2023-04-06T15:14:53.219Z"
   },
   {
    "duration": 3,
    "start_time": "2023-04-06T15:14:53.256Z"
   },
   {
    "duration": 26,
    "start_time": "2023-04-06T15:14:53.260Z"
   },
   {
    "duration": 11,
    "start_time": "2023-04-06T15:14:53.288Z"
   },
   {
    "duration": 17,
    "start_time": "2023-04-06T15:14:53.300Z"
   },
   {
    "duration": 26,
    "start_time": "2023-04-06T15:14:53.319Z"
   },
   {
    "duration": 29,
    "start_time": "2023-04-06T15:14:53.349Z"
   },
   {
    "duration": 56,
    "start_time": "2023-04-06T15:14:53.380Z"
   },
   {
    "duration": 54,
    "start_time": "2023-04-06T15:14:53.438Z"
   },
   {
    "duration": 4,
    "start_time": "2023-04-06T15:14:53.495Z"
   },
   {
    "duration": 109,
    "start_time": "2023-04-06T15:14:53.500Z"
   },
   {
    "duration": 5,
    "start_time": "2023-04-06T15:14:53.611Z"
   },
   {
    "duration": 142,
    "start_time": "2023-04-06T15:14:53.617Z"
   },
   {
    "duration": 130,
    "start_time": "2023-04-06T15:14:53.760Z"
   },
   {
    "duration": 131,
    "start_time": "2023-04-06T15:14:53.892Z"
   },
   {
    "duration": 31,
    "start_time": "2023-04-06T15:14:54.025Z"
   },
   {
    "duration": 143,
    "start_time": "2023-04-06T15:14:54.058Z"
   },
   {
    "duration": 141,
    "start_time": "2023-04-06T15:14:54.203Z"
   },
   {
    "duration": 134,
    "start_time": "2023-04-06T15:14:54.346Z"
   },
   {
    "duration": 136,
    "start_time": "2023-04-06T15:14:54.482Z"
   },
   {
    "duration": 210,
    "start_time": "2023-04-06T15:16:57.869Z"
   },
   {
    "duration": 77,
    "start_time": "2023-04-06T15:18:45.689Z"
   },
   {
    "duration": 3,
    "start_time": "2023-04-06T15:19:44.017Z"
   },
   {
    "duration": 1192,
    "start_time": "2023-04-06T15:19:44.022Z"
   },
   {
    "duration": 167,
    "start_time": "2023-04-06T15:19:45.216Z"
   },
   {
    "duration": 12,
    "start_time": "2023-04-06T15:19:45.384Z"
   },
   {
    "duration": 18,
    "start_time": "2023-04-06T15:19:45.399Z"
   },
   {
    "duration": 39,
    "start_time": "2023-04-06T15:19:45.419Z"
   },
   {
    "duration": 59,
    "start_time": "2023-04-06T15:19:45.460Z"
   },
   {
    "duration": 86,
    "start_time": "2023-04-06T15:19:45.520Z"
   },
   {
    "duration": 3,
    "start_time": "2023-04-06T15:19:45.608Z"
   },
   {
    "duration": 34,
    "start_time": "2023-04-06T15:19:45.613Z"
   },
   {
    "duration": 24,
    "start_time": "2023-04-06T15:19:45.650Z"
   },
   {
    "duration": 37,
    "start_time": "2023-04-06T15:19:45.675Z"
   },
   {
    "duration": 29,
    "start_time": "2023-04-06T15:19:45.713Z"
   },
   {
    "duration": 36,
    "start_time": "2023-04-06T15:19:45.743Z"
   },
   {
    "duration": 20,
    "start_time": "2023-04-06T15:19:45.780Z"
   },
   {
    "duration": 41,
    "start_time": "2023-04-06T15:19:45.802Z"
   },
   {
    "duration": 4,
    "start_time": "2023-04-06T15:19:45.845Z"
   },
   {
    "duration": 7,
    "start_time": "2023-04-06T15:19:45.853Z"
   },
   {
    "duration": 2,
    "start_time": "2023-04-06T15:19:45.862Z"
   },
   {
    "duration": 18,
    "start_time": "2023-04-06T15:19:45.866Z"
   },
   {
    "duration": 5,
    "start_time": "2023-04-06T15:19:45.885Z"
   },
   {
    "duration": 26,
    "start_time": "2023-04-06T15:19:45.891Z"
   },
   {
    "duration": 22,
    "start_time": "2023-04-06T15:19:45.918Z"
   },
   {
    "duration": 330,
    "start_time": "2023-04-06T15:19:45.942Z"
   },
   {
    "duration": 3,
    "start_time": "2023-04-06T15:19:46.274Z"
   },
   {
    "duration": 16,
    "start_time": "2023-04-06T15:19:46.278Z"
   },
   {
    "duration": 232,
    "start_time": "2023-04-06T15:19:46.295Z"
   },
   {
    "duration": 34,
    "start_time": "2023-04-06T15:19:46.529Z"
   },
   {
    "duration": 252,
    "start_time": "2023-04-06T15:19:46.568Z"
   },
   {
    "duration": 5,
    "start_time": "2023-04-06T15:19:46.822Z"
   },
   {
    "duration": 4,
    "start_time": "2023-04-06T15:19:46.840Z"
   },
   {
    "duration": 21,
    "start_time": "2023-04-06T15:19:46.846Z"
   },
   {
    "duration": 45,
    "start_time": "2023-04-06T15:19:46.870Z"
   },
   {
    "duration": 46,
    "start_time": "2023-04-06T15:19:46.916Z"
   },
   {
    "duration": 29,
    "start_time": "2023-04-06T15:19:46.964Z"
   },
   {
    "duration": 17,
    "start_time": "2023-04-06T15:19:46.994Z"
   },
   {
    "duration": 33,
    "start_time": "2023-04-06T15:19:47.012Z"
   },
   {
    "duration": 14,
    "start_time": "2023-04-06T15:19:47.047Z"
   },
   {
    "duration": 48,
    "start_time": "2023-04-06T15:19:47.069Z"
   },
   {
    "duration": 6,
    "start_time": "2023-04-06T15:19:47.119Z"
   },
   {
    "duration": 32,
    "start_time": "2023-04-06T15:19:47.127Z"
   },
   {
    "duration": 3,
    "start_time": "2023-04-06T15:19:47.161Z"
   },
   {
    "duration": 6,
    "start_time": "2023-04-06T15:19:47.166Z"
   },
   {
    "duration": 7,
    "start_time": "2023-04-06T15:19:47.173Z"
   },
   {
    "duration": 3,
    "start_time": "2023-04-06T15:19:47.182Z"
   },
   {
    "duration": 5,
    "start_time": "2023-04-06T15:19:47.186Z"
   },
   {
    "duration": 16,
    "start_time": "2023-04-06T15:19:47.192Z"
   },
   {
    "duration": 81,
    "start_time": "2023-04-06T15:19:47.210Z"
   },
   {
    "duration": 53,
    "start_time": "2023-04-06T15:19:47.292Z"
   },
   {
    "duration": 5,
    "start_time": "2023-04-06T15:19:47.348Z"
   },
   {
    "duration": 102,
    "start_time": "2023-04-06T15:19:47.355Z"
   },
   {
    "duration": 6,
    "start_time": "2023-04-06T15:19:47.459Z"
   },
   {
    "duration": 138,
    "start_time": "2023-04-06T15:19:47.466Z"
   },
   {
    "duration": 154,
    "start_time": "2023-04-06T15:19:47.605Z"
   },
   {
    "duration": 137,
    "start_time": "2023-04-06T15:19:47.760Z"
   },
   {
    "duration": 15,
    "start_time": "2023-04-06T15:19:47.899Z"
   },
   {
    "duration": 163,
    "start_time": "2023-04-06T15:19:47.916Z"
   },
   {
    "duration": 176,
    "start_time": "2023-04-06T15:19:48.081Z"
   },
   {
    "duration": 156,
    "start_time": "2023-04-06T15:19:48.259Z"
   },
   {
    "duration": 158,
    "start_time": "2023-04-06T15:19:48.416Z"
   },
   {
    "duration": 4,
    "start_time": "2023-04-07T03:58:02.186Z"
   },
   {
    "duration": 1374,
    "start_time": "2023-04-07T03:58:02.192Z"
   },
   {
    "duration": 525,
    "start_time": "2023-04-07T03:58:03.568Z"
   },
   {
    "duration": 11,
    "start_time": "2023-04-07T03:58:04.094Z"
   },
   {
    "duration": 27,
    "start_time": "2023-04-07T03:58:04.107Z"
   },
   {
    "duration": 16,
    "start_time": "2023-04-07T03:58:04.135Z"
   },
   {
    "duration": 75,
    "start_time": "2023-04-07T03:58:04.153Z"
   },
   {
    "duration": 77,
    "start_time": "2023-04-07T03:58:04.230Z"
   },
   {
    "duration": 4,
    "start_time": "2023-04-07T03:58:04.308Z"
   },
   {
    "duration": 29,
    "start_time": "2023-04-07T03:58:04.313Z"
   },
   {
    "duration": 26,
    "start_time": "2023-04-07T03:58:04.343Z"
   },
   {
    "duration": 39,
    "start_time": "2023-04-07T03:58:04.387Z"
   },
   {
    "duration": 11,
    "start_time": "2023-04-07T03:58:04.428Z"
   },
   {
    "duration": 49,
    "start_time": "2023-04-07T03:58:04.443Z"
   },
   {
    "duration": 20,
    "start_time": "2023-04-07T03:58:04.494Z"
   },
   {
    "duration": 20,
    "start_time": "2023-04-07T03:58:04.516Z"
   },
   {
    "duration": 4,
    "start_time": "2023-04-07T03:58:04.538Z"
   },
   {
    "duration": 22,
    "start_time": "2023-04-07T03:58:04.544Z"
   },
   {
    "duration": 19,
    "start_time": "2023-04-07T03:58:04.568Z"
   },
   {
    "duration": 23,
    "start_time": "2023-04-07T03:58:04.589Z"
   },
   {
    "duration": 5,
    "start_time": "2023-04-07T03:58:04.613Z"
   },
   {
    "duration": 9,
    "start_time": "2023-04-07T03:58:04.619Z"
   },
   {
    "duration": 6,
    "start_time": "2023-04-07T03:58:04.629Z"
   },
   {
    "duration": 343,
    "start_time": "2023-04-07T03:58:04.636Z"
   },
   {
    "duration": 7,
    "start_time": "2023-04-07T03:58:04.980Z"
   },
   {
    "duration": 18,
    "start_time": "2023-04-07T03:58:04.989Z"
   },
   {
    "duration": 241,
    "start_time": "2023-04-07T03:58:05.008Z"
   },
   {
    "duration": 26,
    "start_time": "2023-04-07T03:58:05.250Z"
   },
   {
    "duration": 278,
    "start_time": "2023-04-07T03:58:05.278Z"
   },
   {
    "duration": 5,
    "start_time": "2023-04-07T03:58:05.558Z"
   },
   {
    "duration": 17,
    "start_time": "2023-04-07T03:58:05.565Z"
   },
   {
    "duration": 24,
    "start_time": "2023-04-07T03:58:05.583Z"
   },
   {
    "duration": 53,
    "start_time": "2023-04-07T03:58:05.609Z"
   },
   {
    "duration": 26,
    "start_time": "2023-04-07T03:58:05.664Z"
   },
   {
    "duration": 21,
    "start_time": "2023-04-07T03:58:05.692Z"
   },
   {
    "duration": 21,
    "start_time": "2023-04-07T03:58:05.715Z"
   },
   {
    "duration": 30,
    "start_time": "2023-04-07T03:58:05.737Z"
   },
   {
    "duration": 26,
    "start_time": "2023-04-07T03:58:05.769Z"
   },
   {
    "duration": 64,
    "start_time": "2023-04-07T03:58:05.797Z"
   },
   {
    "duration": 6,
    "start_time": "2023-04-07T03:58:05.863Z"
   },
   {
    "duration": 34,
    "start_time": "2023-04-07T03:58:05.873Z"
   },
   {
    "duration": 3,
    "start_time": "2023-04-07T03:58:05.908Z"
   },
   {
    "duration": 30,
    "start_time": "2023-04-07T03:58:05.913Z"
   },
   {
    "duration": 36,
    "start_time": "2023-04-07T03:58:05.944Z"
   },
   {
    "duration": 14,
    "start_time": "2023-04-07T03:58:05.981Z"
   },
   {
    "duration": 18,
    "start_time": "2023-04-07T03:58:05.997Z"
   },
   {
    "duration": 27,
    "start_time": "2023-04-07T03:58:06.017Z"
   },
   {
    "duration": 53,
    "start_time": "2023-04-07T03:58:06.045Z"
   },
   {
    "duration": 56,
    "start_time": "2023-04-07T03:58:06.100Z"
   },
   {
    "duration": 4,
    "start_time": "2023-04-07T03:58:06.158Z"
   },
   {
    "duration": 110,
    "start_time": "2023-04-07T03:58:06.163Z"
   },
   {
    "duration": 7,
    "start_time": "2023-04-07T03:58:06.274Z"
   },
   {
    "duration": 155,
    "start_time": "2023-04-07T03:58:06.287Z"
   },
   {
    "duration": 157,
    "start_time": "2023-04-07T03:58:06.443Z"
   },
   {
    "duration": 144,
    "start_time": "2023-04-07T03:58:06.602Z"
   },
   {
    "duration": 18,
    "start_time": "2023-04-07T03:58:06.747Z"
   },
   {
    "duration": 167,
    "start_time": "2023-04-07T03:58:06.767Z"
   },
   {
    "duration": 152,
    "start_time": "2023-04-07T03:58:06.936Z"
   },
   {
    "duration": 149,
    "start_time": "2023-04-07T03:58:07.090Z"
   },
   {
    "duration": 152,
    "start_time": "2023-04-07T03:58:07.241Z"
   },
   {
    "duration": 52,
    "start_time": "2023-04-07T08:55:52.213Z"
   },
   {
    "duration": 3,
    "start_time": "2023-04-07T08:56:00.367Z"
   },
   {
    "duration": 1363,
    "start_time": "2023-04-07T08:56:00.372Z"
   },
   {
    "duration": 717,
    "start_time": "2023-04-07T08:56:01.737Z"
   },
   {
    "duration": 11,
    "start_time": "2023-04-07T08:56:02.455Z"
   },
   {
    "duration": 30,
    "start_time": "2023-04-07T08:56:02.468Z"
   },
   {
    "duration": 16,
    "start_time": "2023-04-07T08:56:02.499Z"
   },
   {
    "duration": 66,
    "start_time": "2023-04-07T08:56:02.516Z"
   },
   {
    "duration": 70,
    "start_time": "2023-04-07T08:56:02.583Z"
   },
   {
    "duration": 3,
    "start_time": "2023-04-07T08:56:02.655Z"
   },
   {
    "duration": 38,
    "start_time": "2023-04-07T08:56:02.659Z"
   },
   {
    "duration": 22,
    "start_time": "2023-04-07T08:56:02.700Z"
   },
   {
    "duration": 37,
    "start_time": "2023-04-07T08:56:02.724Z"
   },
   {
    "duration": 9,
    "start_time": "2023-04-07T08:56:02.763Z"
   },
   {
    "duration": 39,
    "start_time": "2023-04-07T08:56:02.773Z"
   },
   {
    "duration": 18,
    "start_time": "2023-04-07T08:56:02.814Z"
   },
   {
    "duration": 20,
    "start_time": "2023-04-07T08:56:02.839Z"
   },
   {
    "duration": 5,
    "start_time": "2023-04-07T08:56:02.861Z"
   },
   {
    "duration": 12,
    "start_time": "2023-04-07T08:56:02.868Z"
   },
   {
    "duration": 4,
    "start_time": "2023-04-07T08:56:02.881Z"
   },
   {
    "duration": 18,
    "start_time": "2023-04-07T08:56:02.886Z"
   },
   {
    "duration": 4,
    "start_time": "2023-04-07T08:56:02.906Z"
   },
   {
    "duration": 7,
    "start_time": "2023-04-07T08:56:02.911Z"
   },
   {
    "duration": 4,
    "start_time": "2023-04-07T08:56:02.940Z"
   },
   {
    "duration": 301,
    "start_time": "2023-04-07T08:56:02.945Z"
   },
   {
    "duration": 2,
    "start_time": "2023-04-07T08:56:03.248Z"
   },
   {
    "duration": 13,
    "start_time": "2023-04-07T08:56:03.251Z"
   },
   {
    "duration": 222,
    "start_time": "2023-04-07T08:56:03.266Z"
   },
   {
    "duration": 25,
    "start_time": "2023-04-07T08:56:03.490Z"
   },
   {
    "duration": 240,
    "start_time": "2023-04-07T08:56:03.519Z"
   },
   {
    "duration": 10,
    "start_time": "2023-04-07T08:56:03.760Z"
   },
   {
    "duration": 218,
    "start_time": "2023-04-07T08:56:03.771Z"
   },
   {
    "duration": 5,
    "start_time": "2023-04-07T08:56:03.990Z"
   },
   {
    "duration": 17,
    "start_time": "2023-04-07T08:56:03.996Z"
   },
   {
    "duration": 11,
    "start_time": "2023-04-07T08:56:04.014Z"
   },
   {
    "duration": 56,
    "start_time": "2023-04-07T08:56:04.027Z"
   },
   {
    "duration": 21,
    "start_time": "2023-04-07T08:56:04.084Z"
   },
   {
    "duration": 34,
    "start_time": "2023-04-07T08:56:04.107Z"
   },
   {
    "duration": 20,
    "start_time": "2023-04-07T08:56:04.142Z"
   },
   {
    "duration": 21,
    "start_time": "2023-04-07T08:56:04.163Z"
   },
   {
    "duration": 7,
    "start_time": "2023-04-07T08:56:04.185Z"
   },
   {
    "duration": 78,
    "start_time": "2023-04-07T08:56:04.193Z"
   },
   {
    "duration": 7,
    "start_time": "2023-04-07T08:56:04.273Z"
   },
   {
    "duration": 20,
    "start_time": "2023-04-07T08:56:04.281Z"
   },
   {
    "duration": 2,
    "start_time": "2023-04-07T08:56:04.303Z"
   },
   {
    "duration": 6,
    "start_time": "2023-04-07T08:56:04.307Z"
   },
   {
    "duration": 17,
    "start_time": "2023-04-07T08:56:04.315Z"
   },
   {
    "duration": 4,
    "start_time": "2023-04-07T08:56:04.340Z"
   },
   {
    "duration": 11,
    "start_time": "2023-04-07T08:56:04.345Z"
   },
   {
    "duration": 23,
    "start_time": "2023-04-07T08:56:04.357Z"
   },
   {
    "duration": 53,
    "start_time": "2023-04-07T08:56:04.382Z"
   },
   {
    "duration": 49,
    "start_time": "2023-04-07T08:56:04.436Z"
   },
   {
    "duration": 5,
    "start_time": "2023-04-07T08:56:04.486Z"
   },
   {
    "duration": 109,
    "start_time": "2023-04-07T08:56:04.493Z"
   },
   {
    "duration": 6,
    "start_time": "2023-04-07T08:56:04.604Z"
   },
   {
    "duration": 147,
    "start_time": "2023-04-07T08:56:04.612Z"
   },
   {
    "duration": 142,
    "start_time": "2023-04-07T08:56:04.761Z"
   },
   {
    "duration": 151,
    "start_time": "2023-04-07T08:56:04.905Z"
   },
   {
    "duration": 18,
    "start_time": "2023-04-07T08:56:05.058Z"
   },
   {
    "duration": 163,
    "start_time": "2023-04-07T08:56:05.078Z"
   },
   {
    "duration": 140,
    "start_time": "2023-04-07T08:56:05.243Z"
   },
   {
    "duration": 155,
    "start_time": "2023-04-07T08:56:05.385Z"
   },
   {
    "duration": 138,
    "start_time": "2023-04-07T08:56:05.542Z"
   },
   {
    "duration": 239,
    "start_time": "2023-04-07T09:00:08.498Z"
   },
   {
    "duration": 15,
    "start_time": "2023-04-07T09:00:14.947Z"
   },
   {
    "duration": 654,
    "start_time": "2023-04-07T09:00:15.788Z"
   },
   {
    "duration": 9,
    "start_time": "2023-04-07T09:01:06.438Z"
   },
   {
    "duration": 576,
    "start_time": "2023-04-07T09:01:07.326Z"
   },
   {
    "duration": 10,
    "start_time": "2023-04-07T09:02:34.558Z"
   },
   {
    "duration": 203,
    "start_time": "2023-04-07T09:02:35.202Z"
   },
   {
    "duration": 3,
    "start_time": "2023-04-07T09:03:42.004Z"
   },
   {
    "duration": 9,
    "start_time": "2023-04-07T09:03:53.706Z"
   },
   {
    "duration": 911,
    "start_time": "2023-04-07T09:03:54.394Z"
   },
   {
    "duration": 2,
    "start_time": "2023-04-07T09:04:39.388Z"
   },
   {
    "duration": 9,
    "start_time": "2023-04-07T09:04:41.830Z"
   },
   {
    "duration": 889,
    "start_time": "2023-04-07T09:04:42.592Z"
   },
   {
    "duration": 3,
    "start_time": "2023-04-07T09:05:14.195Z"
   },
   {
    "duration": 1124,
    "start_time": "2023-04-07T09:05:14.200Z"
   },
   {
    "duration": 145,
    "start_time": "2023-04-07T09:05:15.326Z"
   },
   {
    "duration": 10,
    "start_time": "2023-04-07T09:05:15.474Z"
   },
   {
    "duration": 24,
    "start_time": "2023-04-07T09:05:15.486Z"
   },
   {
    "duration": 13,
    "start_time": "2023-04-07T09:05:15.512Z"
   },
   {
    "duration": 73,
    "start_time": "2023-04-07T09:05:15.526Z"
   },
   {
    "duration": 69,
    "start_time": "2023-04-07T09:05:15.601Z"
   },
   {
    "duration": 3,
    "start_time": "2023-04-07T09:05:15.672Z"
   },
   {
    "duration": 32,
    "start_time": "2023-04-07T09:05:15.676Z"
   },
   {
    "duration": 22,
    "start_time": "2023-04-07T09:05:15.709Z"
   },
   {
    "duration": 41,
    "start_time": "2023-04-07T09:05:15.733Z"
   },
   {
    "duration": 9,
    "start_time": "2023-04-07T09:05:15.777Z"
   },
   {
    "duration": 41,
    "start_time": "2023-04-07T09:05:15.787Z"
   },
   {
    "duration": 19,
    "start_time": "2023-04-07T09:05:15.830Z"
   },
   {
    "duration": 17,
    "start_time": "2023-04-07T09:05:15.851Z"
   },
   {
    "duration": 14,
    "start_time": "2023-04-07T09:05:15.870Z"
   },
   {
    "duration": 21,
    "start_time": "2023-04-07T09:05:15.885Z"
   },
   {
    "duration": 11,
    "start_time": "2023-04-07T09:05:15.907Z"
   },
   {
    "duration": 43,
    "start_time": "2023-04-07T09:05:15.919Z"
   },
   {
    "duration": 7,
    "start_time": "2023-04-07T09:05:15.964Z"
   },
   {
    "duration": 8,
    "start_time": "2023-04-07T09:05:15.972Z"
   },
   {
    "duration": 9,
    "start_time": "2023-04-07T09:05:15.981Z"
   },
   {
    "duration": 312,
    "start_time": "2023-04-07T09:05:15.991Z"
   },
   {
    "duration": 2,
    "start_time": "2023-04-07T09:05:16.305Z"
   },
   {
    "duration": 14,
    "start_time": "2023-04-07T09:05:16.308Z"
   },
   {
    "duration": 217,
    "start_time": "2023-04-07T09:05:16.323Z"
   },
   {
    "duration": 24,
    "start_time": "2023-04-07T09:05:16.542Z"
   },
   {
    "duration": 256,
    "start_time": "2023-04-07T09:05:16.568Z"
   },
   {
    "duration": 17,
    "start_time": "2023-04-07T09:05:16.826Z"
   },
   {
    "duration": 6,
    "start_time": "2023-04-07T09:05:16.845Z"
   },
   {
    "duration": 33,
    "start_time": "2023-04-07T09:05:16.853Z"
   },
   {
    "duration": 50,
    "start_time": "2023-04-07T09:05:16.888Z"
   },
   {
    "duration": 22,
    "start_time": "2023-04-07T09:05:16.940Z"
   },
   {
    "duration": 20,
    "start_time": "2023-04-07T09:05:16.964Z"
   },
   {
    "duration": 20,
    "start_time": "2023-04-07T09:05:16.986Z"
   },
   {
    "duration": 39,
    "start_time": "2023-04-07T09:05:17.010Z"
   },
   {
    "duration": 6,
    "start_time": "2023-04-07T09:05:17.051Z"
   },
   {
    "duration": 53,
    "start_time": "2023-04-07T09:05:17.059Z"
   },
   {
    "duration": 6,
    "start_time": "2023-04-07T09:05:17.114Z"
   },
   {
    "duration": 13,
    "start_time": "2023-04-07T09:05:17.139Z"
   },
   {
    "duration": 4,
    "start_time": "2023-04-07T09:05:17.153Z"
   },
   {
    "duration": 11,
    "start_time": "2023-04-07T09:05:17.158Z"
   },
   {
    "duration": 8,
    "start_time": "2023-04-07T09:05:17.171Z"
   },
   {
    "duration": 4,
    "start_time": "2023-04-07T09:05:17.181Z"
   },
   {
    "duration": 3,
    "start_time": "2023-04-07T09:05:17.187Z"
   },
   {
    "duration": 16,
    "start_time": "2023-04-07T09:05:17.192Z"
   },
   {
    "duration": 68,
    "start_time": "2023-04-07T09:05:17.210Z"
   },
   {
    "duration": 47,
    "start_time": "2023-04-07T09:05:17.280Z"
   },
   {
    "duration": 15,
    "start_time": "2023-04-07T09:05:17.328Z"
   },
   {
    "duration": 97,
    "start_time": "2023-04-07T09:05:17.344Z"
   },
   {
    "duration": 6,
    "start_time": "2023-04-07T09:05:17.442Z"
   },
   {
    "duration": 158,
    "start_time": "2023-04-07T09:05:17.449Z"
   },
   {
    "duration": 148,
    "start_time": "2023-04-07T09:05:17.609Z"
   },
   {
    "duration": 139,
    "start_time": "2023-04-07T09:05:17.759Z"
   },
   {
    "duration": 17,
    "start_time": "2023-04-07T09:05:17.899Z"
   },
   {
    "duration": 156,
    "start_time": "2023-04-07T09:05:17.917Z"
   },
   {
    "duration": 144,
    "start_time": "2023-04-07T09:05:18.075Z"
   },
   {
    "duration": 152,
    "start_time": "2023-04-07T09:05:18.221Z"
   },
   {
    "duration": 148,
    "start_time": "2023-04-07T09:05:18.375Z"
   }
  ],
  "kernelspec": {
   "display_name": "Python 3 (ipykernel)",
   "language": "python",
   "name": "python3"
  },
  "language_info": {
   "codemirror_mode": {
    "name": "ipython",
    "version": 3
   },
   "file_extension": ".py",
   "mimetype": "text/x-python",
   "name": "python",
   "nbconvert_exporter": "python",
   "pygments_lexer": "ipython3",
   "version": "3.9.13"
  },
  "toc": {
   "base_numbering": 1,
   "nav_menu": {},
   "number_sections": true,
   "sideBar": true,
   "skip_h1_title": true,
   "title_cell": "Table of Contents",
   "title_sidebar": "Contents",
   "toc_cell": false,
   "toc_position": {
    "height": "calc(100% - 180px)",
    "left": "10px",
    "top": "150px",
    "width": "255.391px"
   },
   "toc_section_display": true,
   "toc_window_display": false
  }
 },
 "nbformat": 4,
 "nbformat_minor": 2
}
